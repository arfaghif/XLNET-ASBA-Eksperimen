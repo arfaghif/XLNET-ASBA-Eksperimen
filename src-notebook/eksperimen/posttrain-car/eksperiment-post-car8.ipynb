{
 "cells": [
  {
   "cell_type": "code",
   "execution_count": 1,
   "id": "93b454c9",
   "metadata": {
    "execution": {
     "iopub.execute_input": "2023-02-11T12:17:14.906387Z",
     "iopub.status.busy": "2023-02-11T12:17:14.905368Z",
     "iopub.status.idle": "2023-02-11T12:17:15.010353Z",
     "shell.execute_reply": "2023-02-11T12:17:15.008328Z"
    },
    "executionInfo": {
     "elapsed": 982,
     "status": "ok",
     "timestamp": 1580107791261,
     "user": {
      "displayName": "Shivam Panwar",
      "photoUrl": "",
      "userId": "00811775879175788799"
     },
     "user_tz": -330
    },
    "id": "kbPkR88PRcAI",
    "outputId": "568a85d1-af8a-44f4-d62a-614ef41a0be1",
    "papermill": {
     "duration": 0.117088,
     "end_time": "2023-02-11T12:17:15.014015",
     "exception": false,
     "start_time": "2023-02-11T12:17:14.896927",
     "status": "completed"
    },
    "tags": []
   },
   "outputs": [
    {
     "name": "stdout",
     "output_type": "stream",
     "text": [
      "/kaggle/input/finetune-model-any/c_experimenttfrecords/corpus_info.json\n",
      "/kaggle/input/finetune-model-any/c_experimenttfrecords/model/config.json\n",
      "/kaggle/input/finetune-model-any/c_experimenttfrecords/model/model.ckpt.meta\n",
      "/kaggle/input/finetune-model-any/c_experimenttfrecords/model/model.ckpt.index\n",
      "/kaggle/input/finetune-model-any/c_experimenttfrecords/model/model.ckpt.data-00000-of-00001\n",
      "/kaggle/input/finetune-model-any/c_experimenttfrecords/model/checkpoint\n",
      "/kaggle/input/finetune-model-any/c_experimenttfrecords/model/c_pytorch_model/config.json\n",
      "/kaggle/input/finetune-model-any/c_experimenttfrecords/model/c_pytorch_model/pytorch_model.bin\n",
      "/kaggle/input/finetune-model-any/c_experimenttfrecords/tfrecords/record_info-train-0-0.bsz-8.seqlen-128.reuse-64.uni.alpha-6.beta-1.fnp-50.json\n",
      "/kaggle/input/finetune-model-any/c_experimenttfrecords/tfrecords/train-0-0.bsz-8.seqlen-128.reuse-64.uni.alpha-6.beta-1.fnp-50.tfrecords\n",
      "/kaggle/input/finetune-model-airy-corpus/experimenttfrecords/corpus_info.json\n",
      "/kaggle/input/finetune-model-airy-corpus/experimenttfrecords/model/config.json\n",
      "/kaggle/input/finetune-model-airy-corpus/experimenttfrecords/model/model.ckpt.meta\n",
      "/kaggle/input/finetune-model-airy-corpus/experimenttfrecords/model/model.ckpt.index\n",
      "/kaggle/input/finetune-model-airy-corpus/experimenttfrecords/model/model.ckpt.data-00000-of-00001\n",
      "/kaggle/input/finetune-model-airy-corpus/experimenttfrecords/model/checkpoint\n",
      "/kaggle/input/finetune-model-airy-corpus/experimenttfrecords/model/pytorch_model/config.json\n",
      "/kaggle/input/finetune-model-airy-corpus/experimenttfrecords/model/pytorch_model/pytorch_model.bin\n",
      "/kaggle/input/finetune-model-airy-corpus/experimenttfrecords/tfrecords/record_info-train-0-0.bsz-8.seqlen-128.reuse-64.uni.alpha-6.beta-1.fnp-50.json\n",
      "/kaggle/input/finetune-model-airy-corpus/experimenttfrecords/tfrecords/train-0-0.bsz-8.seqlen-128.reuse-64.uni.alpha-6.beta-1.fnp-50.tfrecords\n",
      "/kaggle/input/asba-nlim/airy_test_nlim.csv\n",
      "/kaggle/input/asba-nlim/airy_test_nlim2.csv\n",
      "/kaggle/input/asba-nlim/rest_test_nlim.csv\n",
      "/kaggle/input/asba-nlim/car_train_nlim.csv\n",
      "/kaggle/input/asba-nlim/rest_train_nlim.csv\n",
      "/kaggle/input/asba-nlim/airy_train_nlim.csv\n",
      "/kaggle/input/asba-nlim/car_test_nlim.csv\n"
     ]
    }
   ],
   "source": [
    "import os\n",
    "for dirname, _, filenames in os.walk('/kaggle/input'):\n",
    "    for filename in filenames:\n",
    "        print(os.path.join(dirname, filename))"
   ]
  },
  {
   "cell_type": "code",
   "execution_count": 2,
   "id": "aeaf3a73",
   "metadata": {
    "execution": {
     "iopub.execute_input": "2023-02-11T12:17:15.028126Z",
     "iopub.status.busy": "2023-02-11T12:17:15.027848Z",
     "iopub.status.idle": "2023-02-11T12:17:20.795403Z",
     "shell.execute_reply": "2023-02-11T12:17:20.794273Z"
    },
    "papermill": {
     "duration": 5.776836,
     "end_time": "2023-02-11T12:17:20.797599",
     "exception": false,
     "start_time": "2023-02-11T12:17:15.020763",
     "status": "completed"
    },
    "tags": []
   },
   "outputs": [
    {
     "name": "stdout",
     "output_type": "stream",
     "text": [
      "Found GPU at: /device:GPU:0\n"
     ]
    },
    {
     "name": "stderr",
     "output_type": "stream",
     "text": [
      "2023-02-11 12:17:18.763076: I tensorflow/core/platform/cpu_feature_guard.cc:142] This TensorFlow binary is optimized with oneAPI Deep Neural Network Library (oneDNN) to use the following CPU instructions in performance-critical operations:  AVX2 AVX512F FMA\n",
      "To enable them in other operations, rebuild TensorFlow with the appropriate compiler flags.\n",
      "2023-02-11 12:17:18.824342: I tensorflow/stream_executor/cuda/cuda_gpu_executor.cc:937] successful NUMA node read from SysFS had negative value (-1), but there must be at least one NUMA node, so returning NUMA node zero\n",
      "2023-02-11 12:17:18.907509: I tensorflow/stream_executor/cuda/cuda_gpu_executor.cc:937] successful NUMA node read from SysFS had negative value (-1), but there must be at least one NUMA node, so returning NUMA node zero\n",
      "2023-02-11 12:17:18.908340: I tensorflow/stream_executor/cuda/cuda_gpu_executor.cc:937] successful NUMA node read from SysFS had negative value (-1), but there must be at least one NUMA node, so returning NUMA node zero\n",
      "2023-02-11 12:17:20.782418: I tensorflow/stream_executor/cuda/cuda_gpu_executor.cc:937] successful NUMA node read from SysFS had negative value (-1), but there must be at least one NUMA node, so returning NUMA node zero\n",
      "2023-02-11 12:17:20.783237: I tensorflow/stream_executor/cuda/cuda_gpu_executor.cc:937] successful NUMA node read from SysFS had negative value (-1), but there must be at least one NUMA node, so returning NUMA node zero\n",
      "2023-02-11 12:17:20.783925: I tensorflow/stream_executor/cuda/cuda_gpu_executor.cc:937] successful NUMA node read from SysFS had negative value (-1), but there must be at least one NUMA node, so returning NUMA node zero\n",
      "2023-02-11 12:17:20.784539: I tensorflow/core/common_runtime/gpu/gpu_device.cc:1510] Created device /device:GPU:0 with 15401 MB memory:  -> device: 0, name: Tesla P100-PCIE-16GB, pci bus id: 0000:00:04.0, compute capability: 6.0\n"
     ]
    }
   ],
   "source": [
    "import tensorflow as tf\n",
    "\n",
    "device_name = tf.test.gpu_device_name()\n",
    "if device_name != '/device:GPU:0':\n",
    "  raise SystemError('GPU device not found')\n",
    "print('Found GPU at: {}'.format(device_name))"
   ]
  },
  {
   "cell_type": "code",
   "execution_count": 3,
   "id": "3b3a5845",
   "metadata": {
    "execution": {
     "iopub.execute_input": "2023-02-11T12:17:20.811757Z",
     "iopub.status.busy": "2023-02-11T12:17:20.811233Z",
     "iopub.status.idle": "2023-02-11T12:17:52.263913Z",
     "shell.execute_reply": "2023-02-11T12:17:52.262703Z"
    },
    "executionInfo": {
     "elapsed": 15259,
     "status": "ok",
     "timestamp": 1579507775275,
     "user": {
      "displayName": "Shivam Panwar",
      "photoUrl": "",
      "userId": "00811775879175788799"
     },
     "user_tz": -330
    },
    "id": "iT7RB9yvRn0j",
    "outputId": "90a65303-12cb-4a73-9edc-66b35ed022d5",
    "papermill": {
     "duration": 31.462439,
     "end_time": "2023-02-11T12:17:52.266411",
     "exception": false,
     "start_time": "2023-02-11T12:17:20.803972",
     "status": "completed"
    },
    "tags": []
   },
   "outputs": [
    {
     "name": "stdout",
     "output_type": "stream",
     "text": [
      "Requirement already satisfied: sentencepiece in /opt/conda/lib/python3.7/site-packages (0.1.97)\r\n",
      "\u001b[33mWARNING: Running pip as the 'root' user can result in broken permissions and conflicting behaviour with the system package manager. It is recommended to use a virtual environment instead: https://pip.pypa.io/warnings/venv\u001b[0m\u001b[33m\r\n",
      "\u001b[0mCollecting pytorch-transformers\r\n",
      "  Downloading pytorch_transformers-1.2.0-py3-none-any.whl (176 kB)\r\n",
      "\u001b[2K     \u001b[90m━━━━━━━━━━━━━━━━━━━━━━━━━━━━━━━━━━━━━\u001b[0m \u001b[32m176.4/176.4 kB\u001b[0m \u001b[31m371.4 kB/s\u001b[0m eta \u001b[36m0:00:00\u001b[0m\r\n",
      "\u001b[?25hRequirement already satisfied: sentencepiece in /opt/conda/lib/python3.7/site-packages (from pytorch-transformers) (0.1.97)\r\n",
      "Requirement already satisfied: requests in /opt/conda/lib/python3.7/site-packages (from pytorch-transformers) (2.28.1)\r\n",
      "Requirement already satisfied: torch>=1.0.0 in /opt/conda/lib/python3.7/site-packages (from pytorch-transformers) (1.11.0)\r\n",
      "Requirement already satisfied: regex in /opt/conda/lib/python3.7/site-packages (from pytorch-transformers) (2021.11.10)\r\n",
      "Requirement already satisfied: sacremoses in /opt/conda/lib/python3.7/site-packages (from pytorch-transformers) (0.0.53)\r\n",
      "Requirement already satisfied: numpy in /opt/conda/lib/python3.7/site-packages (from pytorch-transformers) (1.21.6)\r\n",
      "Requirement already satisfied: tqdm in /opt/conda/lib/python3.7/site-packages (from pytorch-transformers) (4.64.0)\r\n",
      "Requirement already satisfied: boto3 in /opt/conda/lib/python3.7/site-packages (from pytorch-transformers) (1.26.54)\r\n",
      "Requirement already satisfied: typing-extensions in /opt/conda/lib/python3.7/site-packages (from torch>=1.0.0->pytorch-transformers) (4.1.1)\r\n",
      "Requirement already satisfied: s3transfer<0.7.0,>=0.6.0 in /opt/conda/lib/python3.7/site-packages (from boto3->pytorch-transformers) (0.6.0)\r\n",
      "Requirement already satisfied: botocore<1.30.0,>=1.29.54 in /opt/conda/lib/python3.7/site-packages (from boto3->pytorch-transformers) (1.29.54)\r\n",
      "Requirement already satisfied: jmespath<2.0.0,>=0.7.1 in /opt/conda/lib/python3.7/site-packages (from boto3->pytorch-transformers) (1.0.1)\r\n",
      "Requirement already satisfied: certifi>=2017.4.17 in /opt/conda/lib/python3.7/site-packages (from requests->pytorch-transformers) (2022.12.7)\r\n",
      "Requirement already satisfied: charset-normalizer<3,>=2 in /opt/conda/lib/python3.7/site-packages (from requests->pytorch-transformers) (2.1.0)\r\n",
      "Requirement already satisfied: idna<4,>=2.5 in /opt/conda/lib/python3.7/site-packages (from requests->pytorch-transformers) (3.3)\r\n",
      "Requirement already satisfied: urllib3<1.27,>=1.21.1 in /opt/conda/lib/python3.7/site-packages (from requests->pytorch-transformers) (1.26.14)\r\n",
      "Requirement already satisfied: six in /opt/conda/lib/python3.7/site-packages (from sacremoses->pytorch-transformers) (1.15.0)\r\n",
      "Requirement already satisfied: click in /opt/conda/lib/python3.7/site-packages (from sacremoses->pytorch-transformers) (8.1.3)\r\n",
      "Requirement already satisfied: joblib in /opt/conda/lib/python3.7/site-packages (from sacremoses->pytorch-transformers) (1.0.1)\r\n",
      "Requirement already satisfied: python-dateutil<3.0.0,>=2.1 in /opt/conda/lib/python3.7/site-packages (from botocore<1.30.0,>=1.29.54->boto3->pytorch-transformers) (2.8.2)\r\n",
      "Requirement already satisfied: importlib-metadata in /opt/conda/lib/python3.7/site-packages (from click->sacremoses->pytorch-transformers) (6.0.0)\r\n",
      "Requirement already satisfied: zipp>=0.5 in /opt/conda/lib/python3.7/site-packages (from importlib-metadata->click->sacremoses->pytorch-transformers) (3.8.0)\r\n",
      "Installing collected packages: pytorch-transformers\r\n",
      "Successfully installed pytorch-transformers-1.2.0\r\n",
      "\u001b[33mWARNING: Running pip as the 'root' user can result in broken permissions and conflicting behaviour with the system package manager. It is recommended to use a virtual environment instead: https://pip.pypa.io/warnings/venv\u001b[0m\u001b[33m\r\n",
      "\u001b[0mRequirement already satisfied: transformers in /opt/conda/lib/python3.7/site-packages (4.20.1)\r\n",
      "Requirement already satisfied: tokenizers!=0.11.3,<0.13,>=0.11.1 in /opt/conda/lib/python3.7/site-packages (from transformers) (0.12.1)\r\n",
      "Requirement already satisfied: pyyaml>=5.1 in /opt/conda/lib/python3.7/site-packages (from transformers) (6.0)\r\n",
      "Requirement already satisfied: filelock in /opt/conda/lib/python3.7/site-packages (from transformers) (3.7.1)\r\n",
      "Requirement already satisfied: requests in /opt/conda/lib/python3.7/site-packages (from transformers) (2.28.1)\r\n",
      "Requirement already satisfied: tqdm>=4.27 in /opt/conda/lib/python3.7/site-packages (from transformers) (4.64.0)\r\n",
      "Requirement already satisfied: huggingface-hub<1.0,>=0.1.0 in /opt/conda/lib/python3.7/site-packages (from transformers) (0.10.1)\r\n",
      "Requirement already satisfied: importlib-metadata in /opt/conda/lib/python3.7/site-packages (from transformers) (6.0.0)\r\n",
      "Requirement already satisfied: regex!=2019.12.17 in /opt/conda/lib/python3.7/site-packages (from transformers) (2021.11.10)\r\n",
      "Requirement already satisfied: packaging>=20.0 in /opt/conda/lib/python3.7/site-packages (from transformers) (23.0)\r\n",
      "Requirement already satisfied: numpy>=1.17 in /opt/conda/lib/python3.7/site-packages (from transformers) (1.21.6)\r\n",
      "Requirement already satisfied: typing-extensions>=3.7.4.3 in /opt/conda/lib/python3.7/site-packages (from huggingface-hub<1.0,>=0.1.0->transformers) (4.1.1)\r\n",
      "Requirement already satisfied: zipp>=0.5 in /opt/conda/lib/python3.7/site-packages (from importlib-metadata->transformers) (3.8.0)\r\n",
      "Requirement already satisfied: certifi>=2017.4.17 in /opt/conda/lib/python3.7/site-packages (from requests->transformers) (2022.12.7)\r\n",
      "Requirement already satisfied: idna<4,>=2.5 in /opt/conda/lib/python3.7/site-packages (from requests->transformers) (3.3)\r\n",
      "Requirement already satisfied: urllib3<1.27,>=1.21.1 in /opt/conda/lib/python3.7/site-packages (from requests->transformers) (1.26.14)\r\n",
      "Requirement already satisfied: charset-normalizer<3,>=2 in /opt/conda/lib/python3.7/site-packages (from requests->transformers) (2.1.0)\r\n",
      "\u001b[33mWARNING: Running pip as the 'root' user can result in broken permissions and conflicting behaviour with the system package manager. It is recommended to use a virtual environment instead: https://pip.pypa.io/warnings/venv\u001b[0m\u001b[33m\r\n",
      "\u001b[0m"
     ]
    }
   ],
   "source": [
    "!pip install sentencepiece\n",
    "!pip install pytorch-transformers\n",
    "!pip install transformers\n"
   ]
  },
  {
   "cell_type": "code",
   "execution_count": 4,
   "id": "9a85b672",
   "metadata": {
    "execution": {
     "iopub.execute_input": "2023-02-11T12:17:52.284551Z",
     "iopub.status.busy": "2023-02-11T12:17:52.282888Z",
     "iopub.status.idle": "2023-02-11T12:17:56.013518Z",
     "shell.execute_reply": "2023-02-11T12:17:56.012366Z"
    },
    "executionInfo": {
     "elapsed": 48122,
     "status": "ok",
     "timestamp": 1579507808200,
     "user": {
      "displayName": "Shivam Panwar",
      "photoUrl": "",
      "userId": "00811775879175788799"
     },
     "user_tz": -330
    },
    "id": "emJNiU7IS_QM",
    "outputId": "fb3d1ffd-b293-4114-d765-14b1da489e02",
    "papermill": {
     "duration": 3.741919,
     "end_time": "2023-02-11T12:17:56.016019",
     "exception": false,
     "start_time": "2023-02-11T12:17:52.274100",
     "status": "completed"
    },
    "tags": []
   },
   "outputs": [],
   "source": [
    "import torch\n",
    "from torch.utils.data import TensorDataset, DataLoader, RandomSampler, SequentialSampler\n",
    "from keras.preprocessing.sequence import pad_sequences\n",
    "from sklearn.model_selection import train_test_split\n",
    "from sklearn.metrics import f1_score\n",
    "\n",
    "from pytorch_transformers import XLNetModel\n",
    "from transformers import XLNetForSequenceClassification, XLNetTokenizer, get_linear_schedule_with_warmup, AdamW\n",
    "\n",
    "from tqdm import tqdm, trange\n",
    "import pandas as pd\n",
    "import io\n",
    "import numpy as np\n",
    "from random import random\n",
    "import matplotlib.pyplot as plt\n",
    "%matplotlib inline"
   ]
  },
  {
   "cell_type": "code",
   "execution_count": 5,
   "id": "ed1494f4",
   "metadata": {
    "execution": {
     "iopub.execute_input": "2023-02-11T12:17:56.032859Z",
     "iopub.status.busy": "2023-02-11T12:17:56.032293Z",
     "iopub.status.idle": "2023-02-11T12:17:58.302651Z",
     "shell.execute_reply": "2023-02-11T12:17:58.301748Z"
    },
    "executionInfo": {
     "elapsed": 48101,
     "status": "ok",
     "timestamp": 1579507808203,
     "user": {
      "displayName": "Shivam Panwar",
      "photoUrl": "",
      "userId": "00811775879175788799"
     },
     "user_tz": -330
    },
    "id": "SZaBvr9lTKwT",
    "outputId": "b41377ed-378c-49df-e683-daf8d7db015a",
    "papermill": {
     "duration": 2.281187,
     "end_time": "2023-02-11T12:17:58.304806",
     "exception": false,
     "start_time": "2023-02-11T12:17:56.023619",
     "status": "completed"
    },
    "tags": []
   },
   "outputs": [
    {
     "data": {
      "text/plain": [
       "'Tesla P100-PCIE-16GB'"
      ]
     },
     "execution_count": 5,
     "metadata": {},
     "output_type": "execute_result"
    }
   ],
   "source": [
    "device = torch.device(\"cuda\" if torch.cuda.is_available() else \"cpu\")\n",
    "n_gpu = torch.cuda.device_count()\n",
    "torch.cuda.get_device_name(0)"
   ]
  },
  {
   "cell_type": "code",
   "execution_count": 6,
   "id": "2d5b8315",
   "metadata": {
    "execution": {
     "iopub.execute_input": "2023-02-11T12:17:58.321143Z",
     "iopub.status.busy": "2023-02-11T12:17:58.320854Z",
     "iopub.status.idle": "2023-02-11T12:17:58.328094Z",
     "shell.execute_reply": "2023-02-11T12:17:58.327234Z"
    },
    "papermill": {
     "duration": 0.017445,
     "end_time": "2023-02-11T12:17:58.329885",
     "exception": false,
     "start_time": "2023-02-11T12:17:58.312440",
     "status": "completed"
    },
    "tags": []
   },
   "outputs": [],
   "source": [
    "def truncate_seq_pair(tokens_a, tokens_b, max_num_tokens):\n",
    "    \"\"\"Truncates a pair of sequences to a maximum sequence length. Lifted from Google's BERT repo.\"\"\"\n",
    "    while True:\n",
    "        total_length = len(tokens_a) + len(tokens_b)\n",
    "        if total_length <= max_num_tokens:\n",
    "            break\n",
    "\n",
    "        trunc_tokens = tokens_a if len(tokens_a) > len(tokens_b) else tokens_b\n",
    "        assert len(trunc_tokens) >= 1\n",
    "\n",
    "        # We want to sometimes truncate from the front and sometimes from the\n",
    "        # back to add more randomness and avoid biases.\n",
    "        if random() < 0.5:\n",
    "            del trunc_tokens[0]\n",
    "        else:\n",
    "            trunc_tokens.pop()"
   ]
  },
  {
   "cell_type": "code",
   "execution_count": 7,
   "id": "57cc6138",
   "metadata": {
    "execution": {
     "iopub.execute_input": "2023-02-11T12:17:58.347515Z",
     "iopub.status.busy": "2023-02-11T12:17:58.347210Z",
     "iopub.status.idle": "2023-02-11T12:17:58.353376Z",
     "shell.execute_reply": "2023-02-11T12:17:58.352319Z"
    },
    "papermill": {
     "duration": 0.018005,
     "end_time": "2023-02-11T12:17:58.355644",
     "exception": false,
     "start_time": "2023-02-11T12:17:58.337639",
     "status": "completed"
    },
    "tags": []
   },
   "outputs": [],
   "source": [
    "def get_tokenized_texts_from(tokenizer, sentences_a, sentences_b, max_len):\n",
    "    tokenized_texts_a = [tokenizer.tokenize(sent) for sent in sentences_a]\n",
    "    tokenized_texts_b = [tokenizer.tokenize(sent) for sent in sentences_b]\n",
    "    tokenized_texts = []\n",
    "    for i in range (len(tokenized_texts_a)):\n",
    "        truncate_seq_pair(tokenized_texts_a[i], tokenized_texts_b[i], max_len-3)\n",
    "        tokens = tokenized_texts_a[i] + [\"<sep>\"] + tokenized_texts_b[i] + [\"<sep>\"] + [\"<cls>\"]\n",
    "        tokenized_texts.append(tokens)\n",
    "    return tokenized_texts"
   ]
  },
  {
   "cell_type": "code",
   "execution_count": 8,
   "id": "711232df",
   "metadata": {
    "execution": {
     "iopub.execute_input": "2023-02-11T12:17:58.371461Z",
     "iopub.status.busy": "2023-02-11T12:17:58.371175Z",
     "iopub.status.idle": "2023-02-11T12:17:58.406116Z",
     "shell.execute_reply": "2023-02-11T12:17:58.405204Z"
    },
    "id": "sy9__UqtTRzp",
    "papermill": {
     "duration": 0.045093,
     "end_time": "2023-02-11T12:17:58.408085",
     "exception": false,
     "start_time": "2023-02-11T12:17:58.362992",
     "status": "completed"
    },
    "tags": []
   },
   "outputs": [],
   "source": [
    "df = pd.read_csv(\"/kaggle/input/asba-nlim/car_train_nlim.csv\")\n",
    "df_test = pd.read_csv(\"/kaggle/input/asba-nlim/car_test_nlim.csv\")"
   ]
  },
  {
   "cell_type": "code",
   "execution_count": 9,
   "id": "cee2078d",
   "metadata": {
    "execution": {
     "iopub.execute_input": "2023-02-11T12:17:58.424868Z",
     "iopub.status.busy": "2023-02-11T12:17:58.424604Z",
     "iopub.status.idle": "2023-02-11T12:17:58.430415Z",
     "shell.execute_reply": "2023-02-11T12:17:58.429515Z"
    },
    "executionInfo": {
     "elapsed": 49600,
     "status": "ok",
     "timestamp": 1579507809746,
     "user": {
      "displayName": "Shivam Panwar",
      "photoUrl": "",
      "userId": "00811775879175788799"
     },
     "user_tz": -330
    },
    "id": "L-76tmHxThz2",
    "outputId": "05e4deb0-a864-4685-8433-ec80bcd45ebb",
    "papermill": {
     "duration": 0.016532,
     "end_time": "2023-02-11T12:17:58.432330",
     "exception": false,
     "start_time": "2023-02-11T12:17:58.415798",
     "status": "completed"
    },
    "tags": []
   },
   "outputs": [
    {
     "data": {
      "text/plain": [
       "(1075, 3)"
      ]
     },
     "execution_count": 9,
     "metadata": {},
     "output_type": "execute_result"
    }
   ],
   "source": [
    "df.shape"
   ]
  },
  {
   "cell_type": "code",
   "execution_count": 10,
   "id": "b2893b0a",
   "metadata": {
    "execution": {
     "iopub.execute_input": "2023-02-11T12:17:58.449075Z",
     "iopub.status.busy": "2023-02-11T12:17:58.448313Z",
     "iopub.status.idle": "2023-02-11T12:17:58.462788Z",
     "shell.execute_reply": "2023-02-11T12:17:58.461799Z"
    },
    "executionInfo": {
     "elapsed": 49581,
     "status": "ok",
     "timestamp": 1579507809747,
     "user": {
      "displayName": "Shivam Panwar",
      "photoUrl": "",
      "userId": "00811775879175788799"
     },
     "user_tz": -330
    },
    "id": "gnfnNijqTjDN",
    "outputId": "a321188c-6a3b-47ac-e1f5-87529e8ba977",
    "papermill": {
     "duration": 0.024947,
     "end_time": "2023-02-11T12:17:58.464846",
     "exception": false,
     "start_time": "2023-02-11T12:17:58.439899",
     "status": "completed"
    },
    "tags": []
   },
   "outputs": [
    {
     "data": {
      "text/html": [
       "<div>\n",
       "<style scoped>\n",
       "    .dataframe tbody tr th:only-of-type {\n",
       "        vertical-align: middle;\n",
       "    }\n",
       "\n",
       "    .dataframe tbody tr th {\n",
       "        vertical-align: top;\n",
       "    }\n",
       "\n",
       "    .dataframe thead th {\n",
       "        text-align: right;\n",
       "    }\n",
       "</style>\n",
       "<table border=\"1\" class=\"dataframe\">\n",
       "  <thead>\n",
       "    <tr style=\"text-align: right;\">\n",
       "      <th></th>\n",
       "      <th>text_a</th>\n",
       "      <th>text_b</th>\n",
       "      <th>label</th>\n",
       "    </tr>\n",
       "  </thead>\n",
       "  <tbody>\n",
       "    <tr>\n",
       "      <th>0</th>\n",
       "      <td>Saya memakai Honda Jazz GK5 tahun 2014 ( perta...</td>\n",
       "      <td>others</td>\n",
       "      <td>1</td>\n",
       "    </tr>\n",
       "    <tr>\n",
       "      <th>1</th>\n",
       "      <td>Avanza kenapa jadi boros bensin begini dah ah....</td>\n",
       "      <td>fuel</td>\n",
       "      <td>0</td>\n",
       "    </tr>\n",
       "    <tr>\n",
       "      <th>2</th>\n",
       "      <td>saran ku dan pengalaman ku , mending beli mobi...</td>\n",
       "      <td>fuel</td>\n",
       "      <td>1</td>\n",
       "    </tr>\n",
       "    <tr>\n",
       "      <th>3</th>\n",
       "      <td>saran ku dan pengalaman ku , mending beli mobi...</td>\n",
       "      <td>machine</td>\n",
       "      <td>1</td>\n",
       "    </tr>\n",
       "    <tr>\n",
       "      <th>4</th>\n",
       "      <td>Dari segi harga juga pajero lebih mahal 30 jut...</td>\n",
       "      <td>price</td>\n",
       "      <td>1</td>\n",
       "    </tr>\n",
       "  </tbody>\n",
       "</table>\n",
       "</div>"
      ],
      "text/plain": [
       "                                              text_a   text_b  label\n",
       "0  Saya memakai Honda Jazz GK5 tahun 2014 ( perta...   others      1\n",
       "1  Avanza kenapa jadi boros bensin begini dah ah....     fuel      0\n",
       "2  saran ku dan pengalaman ku , mending beli mobi...     fuel      1\n",
       "3  saran ku dan pengalaman ku , mending beli mobi...  machine      1\n",
       "4  Dari segi harga juga pajero lebih mahal 30 jut...    price      1"
      ]
     },
     "execution_count": 10,
     "metadata": {},
     "output_type": "execute_result"
    }
   ],
   "source": [
    "df.head()"
   ]
  },
  {
   "cell_type": "code",
   "execution_count": 11,
   "id": "05e060cd",
   "metadata": {
    "execution": {
     "iopub.execute_input": "2023-02-11T12:17:58.482149Z",
     "iopub.status.busy": "2023-02-11T12:17:58.481241Z",
     "iopub.status.idle": "2023-02-11T12:17:58.490813Z",
     "shell.execute_reply": "2023-02-11T12:17:58.489348Z"
    },
    "papermill": {
     "duration": 0.020739,
     "end_time": "2023-02-11T12:17:58.493386",
     "exception": false,
     "start_time": "2023-02-11T12:17:58.472647",
     "status": "completed"
    },
    "tags": []
   },
   "outputs": [
    {
     "name": "stdout",
     "output_type": "stream",
     "text": [
      "Number of training sentences: 860\n",
      "\n",
      "Number of testing sentences: 215\n",
      "\n"
     ]
    }
   ],
   "source": [
    "df_train ,df_val = train_test_split(df, random_state=2018, test_size=0.2)\n",
    "\n",
    "print('Number of training sentences: {:,}\\n'.format(df_train.shape[0]))\n",
    "print('Number of testing sentences: {:,}\\n'.format(df_val.shape[0]))"
   ]
  },
  {
   "cell_type": "code",
   "execution_count": null,
   "id": "ae1fedc3",
   "metadata": {
    "papermill": {
     "duration": 0.008051,
     "end_time": "2023-02-11T12:17:58.510181",
     "exception": false,
     "start_time": "2023-02-11T12:17:58.502130",
     "status": "completed"
    },
    "tags": []
   },
   "outputs": [],
   "source": []
  },
  {
   "cell_type": "code",
   "execution_count": 12,
   "id": "ac5f7762",
   "metadata": {
    "execution": {
     "iopub.execute_input": "2023-02-11T12:17:58.528313Z",
     "iopub.status.busy": "2023-02-11T12:17:58.527383Z",
     "iopub.status.idle": "2023-02-11T12:17:58.532090Z",
     "shell.execute_reply": "2023-02-11T12:17:58.531201Z"
    },
    "id": "3RaQMymhUaO3",
    "papermill": {
     "duration": 0.01572,
     "end_time": "2023-02-11T12:17:58.534131",
     "exception": false,
     "start_time": "2023-02-11T12:17:58.518411",
     "status": "completed"
    },
    "tags": []
   },
   "outputs": [],
   "source": [
    "MAX_LEN = 128\n",
    "\n"
   ]
  },
  {
   "cell_type": "code",
   "execution_count": 13,
   "id": "ef104f60",
   "metadata": {
    "execution": {
     "iopub.execute_input": "2023-02-11T12:17:58.553030Z",
     "iopub.status.busy": "2023-02-11T12:17:58.552076Z",
     "iopub.status.idle": "2023-02-11T12:17:58.560020Z",
     "shell.execute_reply": "2023-02-11T12:17:58.559158Z"
    },
    "papermill": {
     "duration": 0.01927,
     "end_time": "2023-02-11T12:17:58.562051",
     "exception": false,
     "start_time": "2023-02-11T12:17:58.542781",
     "status": "completed"
    },
    "tags": []
   },
   "outputs": [],
   "source": [
    "sentences_a_train = df_train.text_a.values\n",
    "sentences_b_train = df_train.text_b.values\n",
    "labels_train = df_train.label.values"
   ]
  },
  {
   "cell_type": "code",
   "execution_count": 14,
   "id": "737843cc",
   "metadata": {
    "execution": {
     "iopub.execute_input": "2023-02-11T12:17:58.580546Z",
     "iopub.status.busy": "2023-02-11T12:17:58.579106Z",
     "iopub.status.idle": "2023-02-11T12:17:58.584532Z",
     "shell.execute_reply": "2023-02-11T12:17:58.583659Z"
    },
    "id": "-SrIkmJmUl1_",
    "papermill": {
     "duration": 0.01639,
     "end_time": "2023-02-11T12:17:58.586509",
     "exception": false,
     "start_time": "2023-02-11T12:17:58.570119",
     "status": "completed"
    },
    "tags": []
   },
   "outputs": [],
   "source": [
    "sentences_a_val = df_val.text_a.values\n",
    "sentences_b_val = df_val.text_b.values\n",
    "labels_val = df_val.label.values"
   ]
  },
  {
   "cell_type": "code",
   "execution_count": 15,
   "id": "430a92bc",
   "metadata": {
    "execution": {
     "iopub.execute_input": "2023-02-11T12:17:58.604455Z",
     "iopub.status.busy": "2023-02-11T12:17:58.604170Z",
     "iopub.status.idle": "2023-02-11T12:17:58.609244Z",
     "shell.execute_reply": "2023-02-11T12:17:58.608317Z"
    },
    "papermill": {
     "duration": 0.016291,
     "end_time": "2023-02-11T12:17:58.611277",
     "exception": false,
     "start_time": "2023-02-11T12:17:58.594986",
     "status": "completed"
    },
    "tags": []
   },
   "outputs": [],
   "source": [
    "sentences_a_test = df_test.text_a.values\n",
    "sentences_b_test = df_test.text_b.values\n",
    "labels_test = df_test.label.values"
   ]
  },
  {
   "cell_type": "code",
   "execution_count": 16,
   "id": "0bb4d2db",
   "metadata": {
    "execution": {
     "iopub.execute_input": "2023-02-11T12:17:58.630416Z",
     "iopub.status.busy": "2023-02-11T12:17:58.629548Z",
     "iopub.status.idle": "2023-02-11T12:17:58.634167Z",
     "shell.execute_reply": "2023-02-11T12:17:58.633279Z"
    },
    "executionInfo": {
     "elapsed": 49527,
     "status": "ok",
     "timestamp": 1579507809750,
     "user": {
      "displayName": "Shivam Panwar",
      "photoUrl": "",
      "userId": "00811775879175788799"
     },
     "user_tz": -330
    },
    "id": "ndD9LjVxUqw9",
    "outputId": "7012554a-2fa3-4153-9fca-454dd151d7d3",
    "papermill": {
     "duration": 0.016353,
     "end_time": "2023-02-11T12:17:58.636063",
     "exception": false,
     "start_time": "2023-02-11T12:17:58.619710",
     "status": "completed"
    },
    "tags": []
   },
   "outputs": [],
   "source": [
    "# sentences[0]"
   ]
  },
  {
   "cell_type": "code",
   "execution_count": 17,
   "id": "e0a25925",
   "metadata": {
    "execution": {
     "iopub.execute_input": "2023-02-11T12:17:58.655387Z",
     "iopub.status.busy": "2023-02-11T12:17:58.654439Z",
     "iopub.status.idle": "2023-02-11T12:18:07.838567Z",
     "shell.execute_reply": "2023-02-11T12:18:07.837266Z"
    },
    "executionInfo": {
     "elapsed": 72729,
     "status": "ok",
     "timestamp": 1579507832981,
     "user": {
      "displayName": "Shivam Panwar",
      "photoUrl": "",
      "userId": "00811775879175788799"
     },
     "user_tz": -330
    },
    "id": "9w5oDR3gUuBQ",
    "outputId": "56517de2-ef2d-44b4-a4b0-382f2bdcf361",
    "papermill": {
     "duration": 9.195745,
     "end_time": "2023-02-11T12:18:07.840612",
     "exception": false,
     "start_time": "2023-02-11T12:17:58.644867",
     "status": "completed"
    },
    "tags": []
   },
   "outputs": [
    {
     "data": {
      "application/vnd.jupyter.widget-view+json": {
       "model_id": "4b48928b0ef94e8590ab4b85a64471c9",
       "version_major": 2,
       "version_minor": 0
      },
      "text/plain": [
       "Downloading:   0%|          | 0.00/760k [00:00<?, ?B/s]"
      ]
     },
     "metadata": {},
     "output_type": "display_data"
    },
    {
     "data": {
      "application/vnd.jupyter.widget-view+json": {
       "model_id": "78a03d1c14e04eda8609d1a89d0cd177",
       "version_major": 2,
       "version_minor": 0
      },
      "text/plain": [
       "Downloading:   0%|          | 0.00/290 [00:00<?, ?B/s]"
      ]
     },
     "metadata": {},
     "output_type": "display_data"
    },
    {
     "data": {
      "application/vnd.jupyter.widget-view+json": {
       "model_id": "b61d5332cbf94c88a837b66f0a6461d8",
       "version_major": 2,
       "version_minor": 0
      },
      "text/plain": [
       "Downloading:   0%|          | 0.00/443 [00:00<?, ?B/s]"
      ]
     },
     "metadata": {},
     "output_type": "display_data"
    },
    {
     "name": "stdout",
     "output_type": "stream",
     "text": [
      "Tokenize the first sentence:\n",
      "['▁mobil', '▁ku', '▁', 'dai', 'hat', 'su', '▁x', 'e', 'nia', '▁ku', '▁i', 'rit', '▁,', '▁cocok', '▁banget', '▁buat', '▁keluarga', '▁indonesia', '▁dengan', '▁kursi', '▁7', '▁tambah', '▁lagi', '▁mesin', '▁handal', '▁', '(', '▁1', '.', '300', '▁cc', '▁', ')', '▁walau', '▁sudah', '▁sejak', '▁2009', '<sep>', '▁part', '<sep>', '<cls>']\n"
     ]
    }
   ],
   "source": [
    "tokenizer = XLNetTokenizer.from_pretrained('malay-huggingface/xlnet-base-bahasa-cased', do_lower_case=True)\n",
    "tokenized_texts_train = get_tokenized_texts_from(tokenizer, sentences_a_train, sentences_b_train, MAX_LEN)\n",
    "tokenized_texts_val = get_tokenized_texts_from(tokenizer, sentences_a_val, sentences_b_val, MAX_LEN)\n",
    "tokenized_texts_test = get_tokenized_texts_from(tokenizer, sentences_a_test, sentences_b_test, MAX_LEN)\n",
    "\n",
    "print (\"Tokenize the first sentence:\")\n",
    "print (tokenized_texts_train[0])"
   ]
  },
  {
   "cell_type": "code",
   "execution_count": 18,
   "id": "06107580",
   "metadata": {
    "execution": {
     "iopub.execute_input": "2023-02-11T12:18:07.859666Z",
     "iopub.status.busy": "2023-02-11T12:18:07.859386Z",
     "iopub.status.idle": "2023-02-11T12:18:07.912781Z",
     "shell.execute_reply": "2023-02-11T12:18:07.911903Z"
    },
    "papermill": {
     "duration": 0.064916,
     "end_time": "2023-02-11T12:18:07.914739",
     "exception": false,
     "start_time": "2023-02-11T12:18:07.849823",
     "status": "completed"
    },
    "tags": []
   },
   "outputs": [],
   "source": [
    "input_ids_train = [tokenizer.convert_tokens_to_ids(x) for x in tokenized_texts_train]\n",
    "input_ids_val = [tokenizer.convert_tokens_to_ids(x) for x in tokenized_texts_val]\n",
    "input_ids_test = [tokenizer.convert_tokens_to_ids(x) for x in tokenized_texts_test]"
   ]
  },
  {
   "cell_type": "code",
   "execution_count": 19,
   "id": "c0f7e80c",
   "metadata": {
    "execution": {
     "iopub.execute_input": "2023-02-11T12:18:07.944366Z",
     "iopub.status.busy": "2023-02-11T12:18:07.943922Z",
     "iopub.status.idle": "2023-02-11T12:18:07.957819Z",
     "shell.execute_reply": "2023-02-11T12:18:07.956949Z"
    },
    "id": "5bR1ejqCU6hp",
    "papermill": {
     "duration": 0.03023,
     "end_time": "2023-02-11T12:18:07.959926",
     "exception": false,
     "start_time": "2023-02-11T12:18:07.929696",
     "status": "completed"
    },
    "tags": []
   },
   "outputs": [],
   "source": [
    "input_ids_train = pad_sequences(input_ids_train, maxlen=MAX_LEN, dtype=\"long\", truncating=\"post\", padding=\"post\")\n",
    "input_ids_val = pad_sequences(input_ids_val, maxlen=MAX_LEN, dtype=\"long\", truncating=\"post\", padding=\"post\")\n",
    "input_ids_test = pad_sequences(input_ids_test, maxlen=MAX_LEN, dtype=\"long\", truncating=\"post\", padding=\"post\")\n"
   ]
  },
  {
   "cell_type": "code",
   "execution_count": 20,
   "id": "66fd9ecb",
   "metadata": {
    "execution": {
     "iopub.execute_input": "2023-02-11T12:18:07.978871Z",
     "iopub.status.busy": "2023-02-11T12:18:07.978582Z",
     "iopub.status.idle": "2023-02-11T12:18:07.985770Z",
     "shell.execute_reply": "2023-02-11T12:18:07.984799Z"
    },
    "id": "WlVIq2q5VILC",
    "papermill": {
     "duration": 0.01879,
     "end_time": "2023-02-11T12:18:07.987735",
     "exception": false,
     "start_time": "2023-02-11T12:18:07.968945",
     "status": "completed"
    },
    "tags": []
   },
   "outputs": [],
   "source": [
    "tokenized_texts_test =pad_sequences(tokenized_texts_test, maxlen=MAX_LEN, dtype=object, truncating=\"post\", padding=\"post\")\n",
    "\n",
    "df_test['tokens'] = tokenized_texts_test.tolist()"
   ]
  },
  {
   "cell_type": "code",
   "execution_count": 21,
   "id": "7a4dc95e",
   "metadata": {
    "execution": {
     "iopub.execute_input": "2023-02-11T12:18:08.007453Z",
     "iopub.status.busy": "2023-02-11T12:18:08.006619Z",
     "iopub.status.idle": "2023-02-11T12:18:08.077022Z",
     "shell.execute_reply": "2023-02-11T12:18:08.076151Z"
    },
    "id": "7OpPXkQvVP4K",
    "papermill": {
     "duration": 0.082324,
     "end_time": "2023-02-11T12:18:08.079061",
     "exception": false,
     "start_time": "2023-02-11T12:18:07.996737",
     "status": "completed"
    },
    "tags": []
   },
   "outputs": [],
   "source": [
    "# Create attention masks\n",
    "attention_masks_train = []\n",
    "\n",
    "# Create a mask of 1s for each token followed by 0s for padding\n",
    "for seq in input_ids_train:\n",
    "  seq_mask_train = [float(i>0) for i in seq]\n",
    "  attention_masks_train.append(seq_mask_train)\n",
    "\n",
    "# Create attention masks\n",
    "attention_masks_val = []\n",
    "\n",
    "# Create a mask of 1s for each token followed by 0s for padding\n",
    "for seq in input_ids_val:\n",
    "  seq_mask_val = [float(i>0) for i in seq]\n",
    "  attention_masks_val.append(seq_mask_val)\n",
    "    \n",
    "attention_masks_test = []\n",
    "for seq in input_ids_test:\n",
    "  seq_mask_test = [float(i>0) for i in seq]\n",
    "  attention_masks_test.append(seq_mask_test)"
   ]
  },
  {
   "cell_type": "code",
   "execution_count": 22,
   "id": "305d9bc5",
   "metadata": {
    "execution": {
     "iopub.execute_input": "2023-02-11T12:18:08.098527Z",
     "iopub.status.busy": "2023-02-11T12:18:08.098216Z",
     "iopub.status.idle": "2023-02-11T12:18:08.110968Z",
     "shell.execute_reply": "2023-02-11T12:18:08.110109Z"
    },
    "id": "nn3hPYmYViHO",
    "papermill": {
     "duration": 0.024437,
     "end_time": "2023-02-11T12:18:08.112867",
     "exception": false,
     "start_time": "2023-02-11T12:18:08.088430",
     "status": "completed"
    },
    "tags": []
   },
   "outputs": [],
   "source": [
    "train_inputs = torch.tensor(input_ids_train)\n",
    "train_labels = torch.tensor(labels_train)\n",
    "train_masks = torch.tensor(attention_masks_train)\n",
    "\n",
    "val_inputs = torch.tensor(input_ids_val)\n",
    "val_labels = torch.tensor(labels_val)\n",
    "val_masks = torch.tensor(attention_masks_val)\n",
    "\n",
    "test_inputs = torch.tensor(input_ids_test)\n",
    "test_labels = torch.tensor(labels_test)\n",
    "test_masks = torch.tensor(attention_masks_test)"
   ]
  },
  {
   "cell_type": "code",
   "execution_count": 23,
   "id": "0534bb6c",
   "metadata": {
    "execution": {
     "iopub.execute_input": "2023-02-11T12:18:08.132682Z",
     "iopub.status.busy": "2023-02-11T12:18:08.131793Z",
     "iopub.status.idle": "2023-02-11T12:18:08.139057Z",
     "shell.execute_reply": "2023-02-11T12:18:08.138264Z"
    },
    "id": "wXDDYe7dVlCx",
    "papermill": {
     "duration": 0.019081,
     "end_time": "2023-02-11T12:18:08.141154",
     "exception": false,
     "start_time": "2023-02-11T12:18:08.122073",
     "status": "completed"
    },
    "tags": []
   },
   "outputs": [],
   "source": [
    "batch_size = 32\n",
    "train_data = TensorDataset(train_inputs, train_masks, train_labels)\n",
    "train_sampler = RandomSampler(train_data)\n",
    "train_dataloader = DataLoader(train_data, sampler=train_sampler, batch_size=batch_size)\n",
    "\n",
    "val_data = TensorDataset(val_inputs, val_masks, val_labels)\n",
    "val_sampler = SequentialSampler(val_data)\n",
    "val_dataloader = DataLoader(val_data, sampler=val_sampler, batch_size=batch_size)\n",
    "\n",
    "test_data = TensorDataset(test_inputs, test_masks, test_labels)\n",
    "test_sampler = SequentialSampler(test_data)\n",
    "test_dataloader = DataLoader(test_data, sampler=test_sampler, batch_size=batch_size)"
   ]
  },
  {
   "cell_type": "markdown",
   "id": "d5187665",
   "metadata": {
    "id": "1zvvTbR8h66j",
    "papermill": {
     "duration": 0.008661,
     "end_time": "2023-02-11T12:18:08.158928",
     "exception": false,
     "start_time": "2023-02-11T12:18:08.150267",
     "status": "completed"
    },
    "tags": []
   },
   "source": [
    "Using **finetuned language model**"
   ]
  },
  {
   "cell_type": "code",
   "execution_count": 24,
   "id": "82f7f7e6",
   "metadata": {
    "execution": {
     "iopub.execute_input": "2023-02-11T12:18:08.178169Z",
     "iopub.status.busy": "2023-02-11T12:18:08.177866Z",
     "iopub.status.idle": "2023-02-11T12:18:13.352894Z",
     "shell.execute_reply": "2023-02-11T12:18:13.351780Z"
    },
    "executionInfo": {
     "elapsed": 11108,
     "status": "ok",
     "timestamp": 1579510821941,
     "user": {
      "displayName": "Shivam Panwar",
      "photoUrl": "",
      "userId": "00811775879175788799"
     },
     "user_tz": -330
    },
    "id": "cVAGfSD5ojia",
    "outputId": "0685088f-ae9f-4654-9b58-029b531ac625",
    "papermill": {
     "duration": 5.187481,
     "end_time": "2023-02-11T12:18:13.355627",
     "exception": false,
     "start_time": "2023-02-11T12:18:08.168146",
     "status": "completed"
    },
    "tags": []
   },
   "outputs": [
    {
     "name": "stderr",
     "output_type": "stream",
     "text": [
      "Some weights of the model checkpoint at /kaggle/input/finetune-model-any/c_experimenttfrecords/model/c_pytorch_model were not used when initializing XLNetForSequenceClassification: ['lm_loss.weight', 'lm_loss.bias']\n",
      "- This IS expected if you are initializing XLNetForSequenceClassification from the checkpoint of a model trained on another task or with another architecture (e.g. initializing a BertForSequenceClassification model from a BertForPreTraining model).\n",
      "- This IS NOT expected if you are initializing XLNetForSequenceClassification from the checkpoint of a model that you expect to be exactly identical (initializing a BertForSequenceClassification model from a BertForSequenceClassification model).\n",
      "Some weights of XLNetForSequenceClassification were not initialized from the model checkpoint at /kaggle/input/finetune-model-any/c_experimenttfrecords/model/c_pytorch_model and are newly initialized: ['sequence_summary.summary.weight', 'sequence_summary.summary.bias', 'logits_proj.bias', 'logits_proj.weight']\n",
      "You should probably TRAIN this model on a down-stream task to be able to use it for predictions and inference.\n"
     ]
    },
    {
     "data": {
      "text/plain": [
       "XLNetForSequenceClassification(\n",
       "  (transformer): XLNetModel(\n",
       "    (word_embedding): Embedding(32000, 768)\n",
       "    (layer): ModuleList(\n",
       "      (0): XLNetLayer(\n",
       "        (rel_attn): XLNetRelativeAttention(\n",
       "          (layer_norm): LayerNorm((768,), eps=1e-12, elementwise_affine=True)\n",
       "          (dropout): Dropout(p=0.1, inplace=False)\n",
       "        )\n",
       "        (ff): XLNetFeedForward(\n",
       "          (layer_norm): LayerNorm((768,), eps=1e-12, elementwise_affine=True)\n",
       "          (layer_1): Linear(in_features=768, out_features=3072, bias=True)\n",
       "          (layer_2): Linear(in_features=3072, out_features=768, bias=True)\n",
       "          (dropout): Dropout(p=0.1, inplace=False)\n",
       "          (activation_function): GELUActivation()\n",
       "        )\n",
       "        (dropout): Dropout(p=0.1, inplace=False)\n",
       "      )\n",
       "      (1): XLNetLayer(\n",
       "        (rel_attn): XLNetRelativeAttention(\n",
       "          (layer_norm): LayerNorm((768,), eps=1e-12, elementwise_affine=True)\n",
       "          (dropout): Dropout(p=0.1, inplace=False)\n",
       "        )\n",
       "        (ff): XLNetFeedForward(\n",
       "          (layer_norm): LayerNorm((768,), eps=1e-12, elementwise_affine=True)\n",
       "          (layer_1): Linear(in_features=768, out_features=3072, bias=True)\n",
       "          (layer_2): Linear(in_features=3072, out_features=768, bias=True)\n",
       "          (dropout): Dropout(p=0.1, inplace=False)\n",
       "          (activation_function): GELUActivation()\n",
       "        )\n",
       "        (dropout): Dropout(p=0.1, inplace=False)\n",
       "      )\n",
       "      (2): XLNetLayer(\n",
       "        (rel_attn): XLNetRelativeAttention(\n",
       "          (layer_norm): LayerNorm((768,), eps=1e-12, elementwise_affine=True)\n",
       "          (dropout): Dropout(p=0.1, inplace=False)\n",
       "        )\n",
       "        (ff): XLNetFeedForward(\n",
       "          (layer_norm): LayerNorm((768,), eps=1e-12, elementwise_affine=True)\n",
       "          (layer_1): Linear(in_features=768, out_features=3072, bias=True)\n",
       "          (layer_2): Linear(in_features=3072, out_features=768, bias=True)\n",
       "          (dropout): Dropout(p=0.1, inplace=False)\n",
       "          (activation_function): GELUActivation()\n",
       "        )\n",
       "        (dropout): Dropout(p=0.1, inplace=False)\n",
       "      )\n",
       "      (3): XLNetLayer(\n",
       "        (rel_attn): XLNetRelativeAttention(\n",
       "          (layer_norm): LayerNorm((768,), eps=1e-12, elementwise_affine=True)\n",
       "          (dropout): Dropout(p=0.1, inplace=False)\n",
       "        )\n",
       "        (ff): XLNetFeedForward(\n",
       "          (layer_norm): LayerNorm((768,), eps=1e-12, elementwise_affine=True)\n",
       "          (layer_1): Linear(in_features=768, out_features=3072, bias=True)\n",
       "          (layer_2): Linear(in_features=3072, out_features=768, bias=True)\n",
       "          (dropout): Dropout(p=0.1, inplace=False)\n",
       "          (activation_function): GELUActivation()\n",
       "        )\n",
       "        (dropout): Dropout(p=0.1, inplace=False)\n",
       "      )\n",
       "      (4): XLNetLayer(\n",
       "        (rel_attn): XLNetRelativeAttention(\n",
       "          (layer_norm): LayerNorm((768,), eps=1e-12, elementwise_affine=True)\n",
       "          (dropout): Dropout(p=0.1, inplace=False)\n",
       "        )\n",
       "        (ff): XLNetFeedForward(\n",
       "          (layer_norm): LayerNorm((768,), eps=1e-12, elementwise_affine=True)\n",
       "          (layer_1): Linear(in_features=768, out_features=3072, bias=True)\n",
       "          (layer_2): Linear(in_features=3072, out_features=768, bias=True)\n",
       "          (dropout): Dropout(p=0.1, inplace=False)\n",
       "          (activation_function): GELUActivation()\n",
       "        )\n",
       "        (dropout): Dropout(p=0.1, inplace=False)\n",
       "      )\n",
       "      (5): XLNetLayer(\n",
       "        (rel_attn): XLNetRelativeAttention(\n",
       "          (layer_norm): LayerNorm((768,), eps=1e-12, elementwise_affine=True)\n",
       "          (dropout): Dropout(p=0.1, inplace=False)\n",
       "        )\n",
       "        (ff): XLNetFeedForward(\n",
       "          (layer_norm): LayerNorm((768,), eps=1e-12, elementwise_affine=True)\n",
       "          (layer_1): Linear(in_features=768, out_features=3072, bias=True)\n",
       "          (layer_2): Linear(in_features=3072, out_features=768, bias=True)\n",
       "          (dropout): Dropout(p=0.1, inplace=False)\n",
       "          (activation_function): GELUActivation()\n",
       "        )\n",
       "        (dropout): Dropout(p=0.1, inplace=False)\n",
       "      )\n",
       "      (6): XLNetLayer(\n",
       "        (rel_attn): XLNetRelativeAttention(\n",
       "          (layer_norm): LayerNorm((768,), eps=1e-12, elementwise_affine=True)\n",
       "          (dropout): Dropout(p=0.1, inplace=False)\n",
       "        )\n",
       "        (ff): XLNetFeedForward(\n",
       "          (layer_norm): LayerNorm((768,), eps=1e-12, elementwise_affine=True)\n",
       "          (layer_1): Linear(in_features=768, out_features=3072, bias=True)\n",
       "          (layer_2): Linear(in_features=3072, out_features=768, bias=True)\n",
       "          (dropout): Dropout(p=0.1, inplace=False)\n",
       "          (activation_function): GELUActivation()\n",
       "        )\n",
       "        (dropout): Dropout(p=0.1, inplace=False)\n",
       "      )\n",
       "      (7): XLNetLayer(\n",
       "        (rel_attn): XLNetRelativeAttention(\n",
       "          (layer_norm): LayerNorm((768,), eps=1e-12, elementwise_affine=True)\n",
       "          (dropout): Dropout(p=0.1, inplace=False)\n",
       "        )\n",
       "        (ff): XLNetFeedForward(\n",
       "          (layer_norm): LayerNorm((768,), eps=1e-12, elementwise_affine=True)\n",
       "          (layer_1): Linear(in_features=768, out_features=3072, bias=True)\n",
       "          (layer_2): Linear(in_features=3072, out_features=768, bias=True)\n",
       "          (dropout): Dropout(p=0.1, inplace=False)\n",
       "          (activation_function): GELUActivation()\n",
       "        )\n",
       "        (dropout): Dropout(p=0.1, inplace=False)\n",
       "      )\n",
       "      (8): XLNetLayer(\n",
       "        (rel_attn): XLNetRelativeAttention(\n",
       "          (layer_norm): LayerNorm((768,), eps=1e-12, elementwise_affine=True)\n",
       "          (dropout): Dropout(p=0.1, inplace=False)\n",
       "        )\n",
       "        (ff): XLNetFeedForward(\n",
       "          (layer_norm): LayerNorm((768,), eps=1e-12, elementwise_affine=True)\n",
       "          (layer_1): Linear(in_features=768, out_features=3072, bias=True)\n",
       "          (layer_2): Linear(in_features=3072, out_features=768, bias=True)\n",
       "          (dropout): Dropout(p=0.1, inplace=False)\n",
       "          (activation_function): GELUActivation()\n",
       "        )\n",
       "        (dropout): Dropout(p=0.1, inplace=False)\n",
       "      )\n",
       "      (9): XLNetLayer(\n",
       "        (rel_attn): XLNetRelativeAttention(\n",
       "          (layer_norm): LayerNorm((768,), eps=1e-12, elementwise_affine=True)\n",
       "          (dropout): Dropout(p=0.1, inplace=False)\n",
       "        )\n",
       "        (ff): XLNetFeedForward(\n",
       "          (layer_norm): LayerNorm((768,), eps=1e-12, elementwise_affine=True)\n",
       "          (layer_1): Linear(in_features=768, out_features=3072, bias=True)\n",
       "          (layer_2): Linear(in_features=3072, out_features=768, bias=True)\n",
       "          (dropout): Dropout(p=0.1, inplace=False)\n",
       "          (activation_function): GELUActivation()\n",
       "        )\n",
       "        (dropout): Dropout(p=0.1, inplace=False)\n",
       "      )\n",
       "      (10): XLNetLayer(\n",
       "        (rel_attn): XLNetRelativeAttention(\n",
       "          (layer_norm): LayerNorm((768,), eps=1e-12, elementwise_affine=True)\n",
       "          (dropout): Dropout(p=0.1, inplace=False)\n",
       "        )\n",
       "        (ff): XLNetFeedForward(\n",
       "          (layer_norm): LayerNorm((768,), eps=1e-12, elementwise_affine=True)\n",
       "          (layer_1): Linear(in_features=768, out_features=3072, bias=True)\n",
       "          (layer_2): Linear(in_features=3072, out_features=768, bias=True)\n",
       "          (dropout): Dropout(p=0.1, inplace=False)\n",
       "          (activation_function): GELUActivation()\n",
       "        )\n",
       "        (dropout): Dropout(p=0.1, inplace=False)\n",
       "      )\n",
       "      (11): XLNetLayer(\n",
       "        (rel_attn): XLNetRelativeAttention(\n",
       "          (layer_norm): LayerNorm((768,), eps=1e-12, elementwise_affine=True)\n",
       "          (dropout): Dropout(p=0.1, inplace=False)\n",
       "        )\n",
       "        (ff): XLNetFeedForward(\n",
       "          (layer_norm): LayerNorm((768,), eps=1e-12, elementwise_affine=True)\n",
       "          (layer_1): Linear(in_features=768, out_features=3072, bias=True)\n",
       "          (layer_2): Linear(in_features=3072, out_features=768, bias=True)\n",
       "          (dropout): Dropout(p=0.1, inplace=False)\n",
       "          (activation_function): GELUActivation()\n",
       "        )\n",
       "        (dropout): Dropout(p=0.1, inplace=False)\n",
       "      )\n",
       "    )\n",
       "    (dropout): Dropout(p=0.1, inplace=False)\n",
       "  )\n",
       "  (sequence_summary): SequenceSummary(\n",
       "    (summary): Linear(in_features=768, out_features=768, bias=True)\n",
       "    (activation): Tanh()\n",
       "    (first_dropout): Identity()\n",
       "    (last_dropout): Dropout(p=0.1, inplace=False)\n",
       "  )\n",
       "  (logits_proj): Linear(in_features=768, out_features=2, bias=True)\n",
       ")"
      ]
     },
     "execution_count": 24,
     "metadata": {},
     "output_type": "execute_result"
    }
   ],
   "source": [
    "# Load XLNEtForSequenceClassification, the pretrained XLNet model with a single linear classification layer on top. \n",
    "model = XLNetForSequenceClassification.from_pretrained('/kaggle/input/finetune-model-any/c_experimenttfrecords/model/c_pytorch_model', num_labels=2)\n",
    "model.cuda()"
   ]
  },
  {
   "cell_type": "code",
   "execution_count": 25,
   "id": "66bf015b",
   "metadata": {
    "execution": {
     "iopub.execute_input": "2023-02-11T12:18:13.376929Z",
     "iopub.status.busy": "2023-02-11T12:18:13.376638Z",
     "iopub.status.idle": "2023-02-11T12:18:13.389456Z",
     "shell.execute_reply": "2023-02-11T12:18:13.388400Z"
    },
    "id": "ZJnZs3XXop-l",
    "papermill": {
     "duration": 0.026576,
     "end_time": "2023-02-11T12:18:13.392230",
     "exception": false,
     "start_time": "2023-02-11T12:18:13.365654",
     "status": "completed"
    },
    "tags": []
   },
   "outputs": [
    {
     "name": "stderr",
     "output_type": "stream",
     "text": [
      "/opt/conda/lib/python3.7/site-packages/transformers/optimization.py:310: FutureWarning: This implementation of AdamW is deprecated and will be removed in a future version. Use the PyTorch implementation torch.optim.AdamW instead, or set `no_deprecation_warning=True` to disable this warning\n",
      "  FutureWarning,\n"
     ]
    }
   ],
   "source": [
    "epochs = 8\n",
    "\n",
    "param_optimizer = list(model.named_parameters())\n",
    "no_decay = ['bias', 'gamma', 'beta']\n",
    "optimizer_grouped_parameters = [\n",
    "    {'params': [p for n, p in param_optimizer if not any(nd in n for nd in no_decay)],\n",
    "     'weight_decay_rate': 0.01},\n",
    "    {'params': [p for n, p in param_optimizer if any(nd in n for nd in no_decay)],\n",
    "     'weight_decay_rate': 0.0}\n",
    "]\n",
    "\n",
    "optimizer = AdamW(optimizer_grouped_parameters, lr=2e-5)\n",
    "total_steps = len(train_dataloader) * epochs\n",
    "scheduler = get_linear_schedule_with_warmup(\n",
    "  optimizer,\n",
    "  num_warmup_steps=0,\n",
    "  num_training_steps=total_steps\n",
    ")"
   ]
  },
  {
   "cell_type": "code",
   "execution_count": null,
   "id": "91c03b8f",
   "metadata": {
    "papermill": {
     "duration": 0.009149,
     "end_time": "2023-02-11T12:18:13.411755",
     "exception": false,
     "start_time": "2023-02-11T12:18:13.402606",
     "status": "completed"
    },
    "tags": []
   },
   "outputs": [],
   "source": []
  },
  {
   "cell_type": "markdown",
   "id": "b09ddaaf",
   "metadata": {
    "papermill": {
     "duration": 0.009674,
     "end_time": "2023-02-11T12:18:13.430907",
     "exception": false,
     "start_time": "2023-02-11T12:18:13.421233",
     "status": "completed"
    },
    "tags": []
   },
   "source": []
  },
  {
   "cell_type": "code",
   "execution_count": 26,
   "id": "7a9ab064",
   "metadata": {
    "execution": {
     "iopub.execute_input": "2023-02-11T12:18:13.451461Z",
     "iopub.status.busy": "2023-02-11T12:18:13.450646Z",
     "iopub.status.idle": "2023-02-11T12:18:13.464054Z",
     "shell.execute_reply": "2023-02-11T12:18:13.463144Z"
    },
    "executionInfo": {
     "elapsed": 2813457,
     "status": "ok",
     "timestamp": 1579513635379,
     "user": {
      "displayName": "Shivam Panwar",
      "photoUrl": "",
      "userId": "00811775879175788799"
     },
     "user_tz": -330
    },
    "id": "kAxSwesjpLvZ",
    "outputId": "4af04c7c-fa3d-4d09-98d6-643cb5c91a55",
    "papermill": {
     "duration": 0.025819,
     "end_time": "2023-02-11T12:18:13.466043",
     "exception": false,
     "start_time": "2023-02-11T12:18:13.440224",
     "status": "completed"
    },
    "tags": []
   },
   "outputs": [],
   "source": [
    "# Store our loss and accuracy for plotting\n",
    "def train_epoch(model, data_loader, optimizer, device, scheduler):\n",
    "  # Set our model to training mode (as opposed to evaluation mode)\n",
    "  model.train()\n",
    "  \n",
    "  # Tracking variables\n",
    "  tr_loss = 0\n",
    "  nb_tr_examples, nb_tr_steps = 0, 0\n",
    "  \n",
    "  # Train the data for one epoch\n",
    "  for step, batch in enumerate(train_dataloader):\n",
    "    # Add batch to GPU\n",
    "    batch = tuple(t.to(device) for t in batch)\n",
    "    # Unpack the inputs from our dataloader\n",
    "    b_input_ids, b_input_mask, b_labels = batch\n",
    "    # Clear out the gradients (by default they accumulate)\n",
    "    optimizer.zero_grad()\n",
    "    # Forward pass\n",
    "    outputs = model(b_input_ids, token_type_ids=None, attention_mask=b_input_mask, labels=b_labels)\n",
    "    loss = outputs[0]\n",
    "    logits = outputs[1]   \n",
    "    # Backward pass\n",
    "    loss.backward()\n",
    "    # Update parameters and take a step using the computed gradient\n",
    "    optimizer.step()\n",
    "    \n",
    "    \n",
    "    # Update tracking variables\n",
    "    tr_loss += loss.item()\n",
    "    nb_tr_examples += b_input_ids.size(0)\n",
    "    nb_tr_steps += 1\n",
    "  print(\"Train loss: {}\".format(tr_loss/nb_tr_steps))\n",
    "\n",
    "\n",
    "    "
   ]
  },
  {
   "cell_type": "code",
   "execution_count": 27,
   "id": "b06501b7",
   "metadata": {
    "execution": {
     "iopub.execute_input": "2023-02-11T12:18:13.485843Z",
     "iopub.status.busy": "2023-02-11T12:18:13.485578Z",
     "iopub.status.idle": "2023-02-11T12:18:13.492446Z",
     "shell.execute_reply": "2023-02-11T12:18:13.491468Z"
    },
    "papermill": {
     "duration": 0.019216,
     "end_time": "2023-02-11T12:18:13.494502",
     "exception": false,
     "start_time": "2023-02-11T12:18:13.475286",
     "status": "completed"
    },
    "tags": []
   },
   "outputs": [],
   "source": [
    "def eval_model(model, data_loader, device):\n",
    "    model = model.eval()\n",
    "    correct = 0\n",
    "    total = 0\n",
    "    predictions =[]\n",
    "    with torch.no_grad():\n",
    "        for i, batch in enumerate(data_loader):\n",
    "          batch = tuple(t.to(device) for t in batch)\n",
    "          # Unpack the inputs from our dataloader\n",
    "          b_input_ids, b_input_mask, b_labels = batch\n",
    "          # Forward pass\n",
    "          outputs = model(b_input_ids, token_type_ids=None, attention_mask=b_input_mask)\n",
    "          # print (outputs)\n",
    "          prediction = torch.argmax(outputs[0],dim=1)\n",
    "          predictions = predictions + prediction.tolist()\n",
    "          total += b_labels.size(0)\n",
    "          correct+=(prediction==b_labels).sum().item()\n",
    "    return correct / total, f1_score(labels_val, predictions, average='macro')"
   ]
  },
  {
   "cell_type": "code",
   "execution_count": 28,
   "id": "df8b6d6c",
   "metadata": {
    "execution": {
     "iopub.execute_input": "2023-02-11T12:18:13.514401Z",
     "iopub.status.busy": "2023-02-11T12:18:13.514132Z",
     "iopub.status.idle": "2023-02-11T12:20:10.192112Z",
     "shell.execute_reply": "2023-02-11T12:20:10.191100Z"
    },
    "papermill": {
     "duration": 116.690818,
     "end_time": "2023-02-11T12:20:10.194832",
     "exception": false,
     "start_time": "2023-02-11T12:18:13.504014",
     "status": "completed"
    },
    "tags": []
   },
   "outputs": [
    {
     "name": "stdout",
     "output_type": "stream",
     "text": [
      "Epoch 1/8\n",
      "----------\n",
      "Train loss: 0.5683107486477604\n",
      " Val accuracy 0.7441860465116279\n",
      " Val f1 0.5967604433077579\n",
      "\n",
      "Epoch 2/8\n",
      "----------\n",
      "Train loss: 0.4543252565242626\n",
      " Val accuracy 0.8930232558139535\n",
      " Val f1 0.8619524859719159\n",
      "\n",
      "Epoch 3/8\n",
      "----------\n",
      "Train loss: 0.2949126155840026\n",
      " Val accuracy 0.9395348837209302\n",
      " Val f1 0.9280177187153932\n",
      "\n",
      "Epoch 4/8\n",
      "----------\n",
      "Train loss: 0.2293914379896941\n",
      " Val accuracy 0.9302325581395349\n",
      " Val f1 0.9169435215946843\n",
      "\n",
      "Epoch 5/8\n",
      "----------\n",
      "Train loss: 0.12604798921556384\n",
      " Val accuracy 0.9302325581395349\n",
      " Val f1 0.9137446842654257\n",
      "\n",
      "Epoch 6/8\n",
      "----------\n",
      "Train loss: 0.10205720868651513\n",
      " Val accuracy 0.9209302325581395\n",
      " Val f1 0.9041311475409837\n",
      "\n",
      "Epoch 7/8\n",
      "----------\n",
      "Train loss: 0.09565910324454308\n",
      " Val accuracy 0.9255813953488372\n",
      " Val f1 0.9084522035341708\n",
      "\n",
      "Epoch 8/8\n",
      "----------\n",
      "Train loss: 0.09712090667475153\n",
      " Val accuracy 0.9162790697674419\n",
      " Val f1 0.894882659713168\n",
      "\n",
      " F1 Validation 0.894882659713168\n"
     ]
    }
   ],
   "source": [
    "best_accuracy = 0\n",
    "best_f1 = 0\n",
    "\n",
    "# trange is a tqdm wrapper around the normal python range\n",
    "for epoch in range(epochs):\n",
    "    print(f'Epoch {epoch + 1}/{epochs}')\n",
    "    print('-' * 10)\n",
    "    \n",
    "    train_epoch(\n",
    "        model,\n",
    "        train_dataloader,     \n",
    "        optimizer, \n",
    "        device, \n",
    "        scheduler\n",
    "    )\n",
    "    \n",
    "    val_acc, val_f1 = eval_model(\n",
    "        model,\n",
    "        val_dataloader, \n",
    "        device\n",
    "    )\n",
    "    \n",
    "    print(f' Val accuracy {val_acc}')\n",
    "    print(f' Val f1 {val_f1}')\n",
    "    print()\n",
    "    if val_f1 > best_f1:\n",
    "        torch.save(model.state_dict(), '/kaggle/working/best_car_post_car8.ckpt')\n",
    "        best_f1 = val_f1\n",
    "\n",
    "print(f' F1 Validation {val_f1}')\n",
    "  \n",
    "torch.save(model.state_dict(), '/kaggle/working/last_car_post_car8.ckpt')\n",
    "  "
   ]
  }
 ],
 "metadata": {
  "kernelspec": {
   "display_name": "Python 3",
   "language": "python",
   "name": "python3"
  },
  "language_info": {
   "codemirror_mode": {
    "name": "ipython",
    "version": 3
   },
   "file_extension": ".py",
   "mimetype": "text/x-python",
   "name": "python",
   "nbconvert_exporter": "python",
   "pygments_lexer": "ipython3",
   "version": "3.7.12"
  },
  "papermill": {
   "default_parameters": {},
   "duration": 186.352555,
   "end_time": "2023-02-11T12:20:13.886303",
   "environment_variables": {},
   "exception": null,
   "input_path": "__notebook__.ipynb",
   "output_path": "__notebook__.ipynb",
   "parameters": {},
   "start_time": "2023-02-11T12:17:07.533748",
   "version": "2.3.4"
  },
  "widgets": {
   "application/vnd.jupyter.widget-state+json": {
    "state": {
     "00a4ecb4f98248fbab8cc0ba8c2d624e": {
      "model_module": "@jupyter-widgets/controls",
      "model_module_version": "1.5.0",
      "model_name": "ProgressStyleModel",
      "state": {
       "_model_module": "@jupyter-widgets/controls",
       "_model_module_version": "1.5.0",
       "_model_name": "ProgressStyleModel",
       "_view_count": null,
       "_view_module": "@jupyter-widgets/base",
       "_view_module_version": "1.2.0",
       "_view_name": "StyleView",
       "bar_color": null,
       "description_width": ""
      }
     },
     "0c2de3de11384e17bec0d447326a909d": {
      "model_module": "@jupyter-widgets/base",
      "model_module_version": "1.2.0",
      "model_name": "LayoutModel",
      "state": {
       "_model_module": "@jupyter-widgets/base",
       "_model_module_version": "1.2.0",
       "_model_name": "LayoutModel",
       "_view_count": null,
       "_view_module": "@jupyter-widgets/base",
       "_view_module_version": "1.2.0",
       "_view_name": "LayoutView",
       "align_content": null,
       "align_items": null,
       "align_self": null,
       "border": null,
       "bottom": null,
       "display": null,
       "flex": null,
       "flex_flow": null,
       "grid_area": null,
       "grid_auto_columns": null,
       "grid_auto_flow": null,
       "grid_auto_rows": null,
       "grid_column": null,
       "grid_gap": null,
       "grid_row": null,
       "grid_template_areas": null,
       "grid_template_columns": null,
       "grid_template_rows": null,
       "height": null,
       "justify_content": null,
       "justify_items": null,
       "left": null,
       "margin": null,
       "max_height": null,
       "max_width": null,
       "min_height": null,
       "min_width": null,
       "object_fit": null,
       "object_position": null,
       "order": null,
       "overflow": null,
       "overflow_x": null,
       "overflow_y": null,
       "padding": null,
       "right": null,
       "top": null,
       "visibility": null,
       "width": null
      }
     },
     "0de43466431c41da97e8bd259fac082c": {
      "model_module": "@jupyter-widgets/controls",
      "model_module_version": "1.5.0",
      "model_name": "DescriptionStyleModel",
      "state": {
       "_model_module": "@jupyter-widgets/controls",
       "_model_module_version": "1.5.0",
       "_model_name": "DescriptionStyleModel",
       "_view_count": null,
       "_view_module": "@jupyter-widgets/base",
       "_view_module_version": "1.2.0",
       "_view_name": "StyleView",
       "description_width": ""
      }
     },
     "15ebc995f7e346b796eab70d99229c85": {
      "model_module": "@jupyter-widgets/controls",
      "model_module_version": "1.5.0",
      "model_name": "DescriptionStyleModel",
      "state": {
       "_model_module": "@jupyter-widgets/controls",
       "_model_module_version": "1.5.0",
       "_model_name": "DescriptionStyleModel",
       "_view_count": null,
       "_view_module": "@jupyter-widgets/base",
       "_view_module_version": "1.2.0",
       "_view_name": "StyleView",
       "description_width": ""
      }
     },
     "27f65181811c40848dbe49735dbbbf55": {
      "model_module": "@jupyter-widgets/base",
      "model_module_version": "1.2.0",
      "model_name": "LayoutModel",
      "state": {
       "_model_module": "@jupyter-widgets/base",
       "_model_module_version": "1.2.0",
       "_model_name": "LayoutModel",
       "_view_count": null,
       "_view_module": "@jupyter-widgets/base",
       "_view_module_version": "1.2.0",
       "_view_name": "LayoutView",
       "align_content": null,
       "align_items": null,
       "align_self": null,
       "border": null,
       "bottom": null,
       "display": null,
       "flex": null,
       "flex_flow": null,
       "grid_area": null,
       "grid_auto_columns": null,
       "grid_auto_flow": null,
       "grid_auto_rows": null,
       "grid_column": null,
       "grid_gap": null,
       "grid_row": null,
       "grid_template_areas": null,
       "grid_template_columns": null,
       "grid_template_rows": null,
       "height": null,
       "justify_content": null,
       "justify_items": null,
       "left": null,
       "margin": null,
       "max_height": null,
       "max_width": null,
       "min_height": null,
       "min_width": null,
       "object_fit": null,
       "object_position": null,
       "order": null,
       "overflow": null,
       "overflow_x": null,
       "overflow_y": null,
       "padding": null,
       "right": null,
       "top": null,
       "visibility": null,
       "width": null
      }
     },
     "3435da32bc7a4d6592951ade4614dd78": {
      "model_module": "@jupyter-widgets/base",
      "model_module_version": "1.2.0",
      "model_name": "LayoutModel",
      "state": {
       "_model_module": "@jupyter-widgets/base",
       "_model_module_version": "1.2.0",
       "_model_name": "LayoutModel",
       "_view_count": null,
       "_view_module": "@jupyter-widgets/base",
       "_view_module_version": "1.2.0",
       "_view_name": "LayoutView",
       "align_content": null,
       "align_items": null,
       "align_self": null,
       "border": null,
       "bottom": null,
       "display": null,
       "flex": null,
       "flex_flow": null,
       "grid_area": null,
       "grid_auto_columns": null,
       "grid_auto_flow": null,
       "grid_auto_rows": null,
       "grid_column": null,
       "grid_gap": null,
       "grid_row": null,
       "grid_template_areas": null,
       "grid_template_columns": null,
       "grid_template_rows": null,
       "height": null,
       "justify_content": null,
       "justify_items": null,
       "left": null,
       "margin": null,
       "max_height": null,
       "max_width": null,
       "min_height": null,
       "min_width": null,
       "object_fit": null,
       "object_position": null,
       "order": null,
       "overflow": null,
       "overflow_x": null,
       "overflow_y": null,
       "padding": null,
       "right": null,
       "top": null,
       "visibility": null,
       "width": null
      }
     },
     "3b7794e21a1948b2af5a66732826e257": {
      "model_module": "@jupyter-widgets/controls",
      "model_module_version": "1.5.0",
      "model_name": "FloatProgressModel",
      "state": {
       "_dom_classes": [],
       "_model_module": "@jupyter-widgets/controls",
       "_model_module_version": "1.5.0",
       "_model_name": "FloatProgressModel",
       "_view_count": null,
       "_view_module": "@jupyter-widgets/controls",
       "_view_module_version": "1.5.0",
       "_view_name": "ProgressView",
       "bar_style": "success",
       "description": "",
       "description_tooltip": null,
       "layout": "IPY_MODEL_e28394dc4c214087b5d245f83701a841",
       "max": 443.0,
       "min": 0.0,
       "orientation": "horizontal",
       "style": "IPY_MODEL_00a4ecb4f98248fbab8cc0ba8c2d624e",
       "value": 443.0
      }
     },
     "3cb46260ca5a42e1ba17c2d961de14c2": {
      "model_module": "@jupyter-widgets/controls",
      "model_module_version": "1.5.0",
      "model_name": "ProgressStyleModel",
      "state": {
       "_model_module": "@jupyter-widgets/controls",
       "_model_module_version": "1.5.0",
       "_model_name": "ProgressStyleModel",
       "_view_count": null,
       "_view_module": "@jupyter-widgets/base",
       "_view_module_version": "1.2.0",
       "_view_name": "StyleView",
       "bar_color": null,
       "description_width": ""
      }
     },
     "472a6eb226364028a5f20f9f9b958c23": {
      "model_module": "@jupyter-widgets/controls",
      "model_module_version": "1.5.0",
      "model_name": "HTMLModel",
      "state": {
       "_dom_classes": [],
       "_model_module": "@jupyter-widgets/controls",
       "_model_module_version": "1.5.0",
       "_model_name": "HTMLModel",
       "_view_count": null,
       "_view_module": "@jupyter-widgets/controls",
       "_view_module_version": "1.5.0",
       "_view_name": "HTMLView",
       "description": "",
       "description_tooltip": null,
       "layout": "IPY_MODEL_eda02747ab8c4934abcf2911d647c0fa",
       "placeholder": "​",
       "style": "IPY_MODEL_e0a0f029344e41e49badac00cf3e220c",
       "value": " 290/290 [00:00&lt;00:00, 11.0kB/s]"
      }
     },
     "489767059bdb41558fc61826880180ed": {
      "model_module": "@jupyter-widgets/base",
      "model_module_version": "1.2.0",
      "model_name": "LayoutModel",
      "state": {
       "_model_module": "@jupyter-widgets/base",
       "_model_module_version": "1.2.0",
       "_model_name": "LayoutModel",
       "_view_count": null,
       "_view_module": "@jupyter-widgets/base",
       "_view_module_version": "1.2.0",
       "_view_name": "LayoutView",
       "align_content": null,
       "align_items": null,
       "align_self": null,
       "border": null,
       "bottom": null,
       "display": null,
       "flex": null,
       "flex_flow": null,
       "grid_area": null,
       "grid_auto_columns": null,
       "grid_auto_flow": null,
       "grid_auto_rows": null,
       "grid_column": null,
       "grid_gap": null,
       "grid_row": null,
       "grid_template_areas": null,
       "grid_template_columns": null,
       "grid_template_rows": null,
       "height": null,
       "justify_content": null,
       "justify_items": null,
       "left": null,
       "margin": null,
       "max_height": null,
       "max_width": null,
       "min_height": null,
       "min_width": null,
       "object_fit": null,
       "object_position": null,
       "order": null,
       "overflow": null,
       "overflow_x": null,
       "overflow_y": null,
       "padding": null,
       "right": null,
       "top": null,
       "visibility": null,
       "width": null
      }
     },
     "4b48928b0ef94e8590ab4b85a64471c9": {
      "model_module": "@jupyter-widgets/controls",
      "model_module_version": "1.5.0",
      "model_name": "HBoxModel",
      "state": {
       "_dom_classes": [],
       "_model_module": "@jupyter-widgets/controls",
       "_model_module_version": "1.5.0",
       "_model_name": "HBoxModel",
       "_view_count": null,
       "_view_module": "@jupyter-widgets/controls",
       "_view_module_version": "1.5.0",
       "_view_name": "HBoxView",
       "box_style": "",
       "children": [
        "IPY_MODEL_8c3474cf7d08452da40bfc596e030f3b",
        "IPY_MODEL_dff88b7b735e434fbbb96acc4d90499a",
        "IPY_MODEL_60ac3f8b73e644faa8536821bcddd14c"
       ],
       "layout": "IPY_MODEL_de16df14824f452dba3a83dd669bb82c"
      }
     },
     "60ac3f8b73e644faa8536821bcddd14c": {
      "model_module": "@jupyter-widgets/controls",
      "model_module_version": "1.5.0",
      "model_name": "HTMLModel",
      "state": {
       "_dom_classes": [],
       "_model_module": "@jupyter-widgets/controls",
       "_model_module_version": "1.5.0",
       "_model_name": "HTMLModel",
       "_view_count": null,
       "_view_module": "@jupyter-widgets/controls",
       "_view_module_version": "1.5.0",
       "_view_name": "HTMLView",
       "description": "",
       "description_tooltip": null,
       "layout": "IPY_MODEL_f8dd0a04313c40fab1ff6ae5a45d11db",
       "placeholder": "​",
       "style": "IPY_MODEL_b07fd78fc5b144b6815807ad8bb487fc",
       "value": " 760k/760k [00:01&lt;00:00, 1.01MB/s]"
      }
     },
     "60f17b9bc40e4710ae0a5bf84ad276a0": {
      "model_module": "@jupyter-widgets/base",
      "model_module_version": "1.2.0",
      "model_name": "LayoutModel",
      "state": {
       "_model_module": "@jupyter-widgets/base",
       "_model_module_version": "1.2.0",
       "_model_name": "LayoutModel",
       "_view_count": null,
       "_view_module": "@jupyter-widgets/base",
       "_view_module_version": "1.2.0",
       "_view_name": "LayoutView",
       "align_content": null,
       "align_items": null,
       "align_self": null,
       "border": null,
       "bottom": null,
       "display": null,
       "flex": null,
       "flex_flow": null,
       "grid_area": null,
       "grid_auto_columns": null,
       "grid_auto_flow": null,
       "grid_auto_rows": null,
       "grid_column": null,
       "grid_gap": null,
       "grid_row": null,
       "grid_template_areas": null,
       "grid_template_columns": null,
       "grid_template_rows": null,
       "height": null,
       "justify_content": null,
       "justify_items": null,
       "left": null,
       "margin": null,
       "max_height": null,
       "max_width": null,
       "min_height": null,
       "min_width": null,
       "object_fit": null,
       "object_position": null,
       "order": null,
       "overflow": null,
       "overflow_x": null,
       "overflow_y": null,
       "padding": null,
       "right": null,
       "top": null,
       "visibility": null,
       "width": null
      }
     },
     "68e6385c1ac444dbb110aea1f7dd3a9e": {
      "model_module": "@jupyter-widgets/controls",
      "model_module_version": "1.5.0",
      "model_name": "DescriptionStyleModel",
      "state": {
       "_model_module": "@jupyter-widgets/controls",
       "_model_module_version": "1.5.0",
       "_model_name": "DescriptionStyleModel",
       "_view_count": null,
       "_view_module": "@jupyter-widgets/base",
       "_view_module_version": "1.2.0",
       "_view_name": "StyleView",
       "description_width": ""
      }
     },
     "6a24739ebf674d41b23ee70bb891761c": {
      "model_module": "@jupyter-widgets/controls",
      "model_module_version": "1.5.0",
      "model_name": "HTMLModel",
      "state": {
       "_dom_classes": [],
       "_model_module": "@jupyter-widgets/controls",
       "_model_module_version": "1.5.0",
       "_model_name": "HTMLModel",
       "_view_count": null,
       "_view_module": "@jupyter-widgets/controls",
       "_view_module_version": "1.5.0",
       "_view_name": "HTMLView",
       "description": "",
       "description_tooltip": null,
       "layout": "IPY_MODEL_27f65181811c40848dbe49735dbbbf55",
       "placeholder": "​",
       "style": "IPY_MODEL_15ebc995f7e346b796eab70d99229c85",
       "value": "Downloading: 100%"
      }
     },
     "78a03d1c14e04eda8609d1a89d0cd177": {
      "model_module": "@jupyter-widgets/controls",
      "model_module_version": "1.5.0",
      "model_name": "HBoxModel",
      "state": {
       "_dom_classes": [],
       "_model_module": "@jupyter-widgets/controls",
       "_model_module_version": "1.5.0",
       "_model_name": "HBoxModel",
       "_view_count": null,
       "_view_module": "@jupyter-widgets/controls",
       "_view_module_version": "1.5.0",
       "_view_name": "HBoxView",
       "box_style": "",
       "children": [
        "IPY_MODEL_6a24739ebf674d41b23ee70bb891761c",
        "IPY_MODEL_dd22f79eb3884d6793478e2b6f2974ee",
        "IPY_MODEL_472a6eb226364028a5f20f9f9b958c23"
       ],
       "layout": "IPY_MODEL_489767059bdb41558fc61826880180ed"
      }
     },
     "8c3474cf7d08452da40bfc596e030f3b": {
      "model_module": "@jupyter-widgets/controls",
      "model_module_version": "1.5.0",
      "model_name": "HTMLModel",
      "state": {
       "_dom_classes": [],
       "_model_module": "@jupyter-widgets/controls",
       "_model_module_version": "1.5.0",
       "_model_name": "HTMLModel",
       "_view_count": null,
       "_view_module": "@jupyter-widgets/controls",
       "_view_module_version": "1.5.0",
       "_view_name": "HTMLView",
       "description": "",
       "description_tooltip": null,
       "layout": "IPY_MODEL_0c2de3de11384e17bec0d447326a909d",
       "placeholder": "​",
       "style": "IPY_MODEL_0de43466431c41da97e8bd259fac082c",
       "value": "Downloading: 100%"
      }
     },
     "afc0ae0837e54ada8d9923153c5c7db4": {
      "model_module": "@jupyter-widgets/base",
      "model_module_version": "1.2.0",
      "model_name": "LayoutModel",
      "state": {
       "_model_module": "@jupyter-widgets/base",
       "_model_module_version": "1.2.0",
       "_model_name": "LayoutModel",
       "_view_count": null,
       "_view_module": "@jupyter-widgets/base",
       "_view_module_version": "1.2.0",
       "_view_name": "LayoutView",
       "align_content": null,
       "align_items": null,
       "align_self": null,
       "border": null,
       "bottom": null,
       "display": null,
       "flex": null,
       "flex_flow": null,
       "grid_area": null,
       "grid_auto_columns": null,
       "grid_auto_flow": null,
       "grid_auto_rows": null,
       "grid_column": null,
       "grid_gap": null,
       "grid_row": null,
       "grid_template_areas": null,
       "grid_template_columns": null,
       "grid_template_rows": null,
       "height": null,
       "justify_content": null,
       "justify_items": null,
       "left": null,
       "margin": null,
       "max_height": null,
       "max_width": null,
       "min_height": null,
       "min_width": null,
       "object_fit": null,
       "object_position": null,
       "order": null,
       "overflow": null,
       "overflow_x": null,
       "overflow_y": null,
       "padding": null,
       "right": null,
       "top": null,
       "visibility": null,
       "width": null
      }
     },
     "b07fd78fc5b144b6815807ad8bb487fc": {
      "model_module": "@jupyter-widgets/controls",
      "model_module_version": "1.5.0",
      "model_name": "DescriptionStyleModel",
      "state": {
       "_model_module": "@jupyter-widgets/controls",
       "_model_module_version": "1.5.0",
       "_model_name": "DescriptionStyleModel",
       "_view_count": null,
       "_view_module": "@jupyter-widgets/base",
       "_view_module_version": "1.2.0",
       "_view_name": "StyleView",
       "description_width": ""
      }
     },
     "b61d5332cbf94c88a837b66f0a6461d8": {
      "model_module": "@jupyter-widgets/controls",
      "model_module_version": "1.5.0",
      "model_name": "HBoxModel",
      "state": {
       "_dom_classes": [],
       "_model_module": "@jupyter-widgets/controls",
       "_model_module_version": "1.5.0",
       "_model_name": "HBoxModel",
       "_view_count": null,
       "_view_module": "@jupyter-widgets/controls",
       "_view_module_version": "1.5.0",
       "_view_name": "HBoxView",
       "box_style": "",
       "children": [
        "IPY_MODEL_d433cd49443c4f2f8b7aacd971e8ed58",
        "IPY_MODEL_3b7794e21a1948b2af5a66732826e257",
        "IPY_MODEL_fa26c7b635314985a8d9f5ec4e928582"
       ],
       "layout": "IPY_MODEL_3435da32bc7a4d6592951ade4614dd78"
      }
     },
     "c1f8557e18ff42b383b73136297a0405": {
      "model_module": "@jupyter-widgets/base",
      "model_module_version": "1.2.0",
      "model_name": "LayoutModel",
      "state": {
       "_model_module": "@jupyter-widgets/base",
       "_model_module_version": "1.2.0",
       "_model_name": "LayoutModel",
       "_view_count": null,
       "_view_module": "@jupyter-widgets/base",
       "_view_module_version": "1.2.0",
       "_view_name": "LayoutView",
       "align_content": null,
       "align_items": null,
       "align_self": null,
       "border": null,
       "bottom": null,
       "display": null,
       "flex": null,
       "flex_flow": null,
       "grid_area": null,
       "grid_auto_columns": null,
       "grid_auto_flow": null,
       "grid_auto_rows": null,
       "grid_column": null,
       "grid_gap": null,
       "grid_row": null,
       "grid_template_areas": null,
       "grid_template_columns": null,
       "grid_template_rows": null,
       "height": null,
       "justify_content": null,
       "justify_items": null,
       "left": null,
       "margin": null,
       "max_height": null,
       "max_width": null,
       "min_height": null,
       "min_width": null,
       "object_fit": null,
       "object_position": null,
       "order": null,
       "overflow": null,
       "overflow_x": null,
       "overflow_y": null,
       "padding": null,
       "right": null,
       "top": null,
       "visibility": null,
       "width": null
      }
     },
     "c7ccd855aa3c4996879a87f7f2d2eb88": {
      "model_module": "@jupyter-widgets/controls",
      "model_module_version": "1.5.0",
      "model_name": "DescriptionStyleModel",
      "state": {
       "_model_module": "@jupyter-widgets/controls",
       "_model_module_version": "1.5.0",
       "_model_name": "DescriptionStyleModel",
       "_view_count": null,
       "_view_module": "@jupyter-widgets/base",
       "_view_module_version": "1.2.0",
       "_view_name": "StyleView",
       "description_width": ""
      }
     },
     "d433cd49443c4f2f8b7aacd971e8ed58": {
      "model_module": "@jupyter-widgets/controls",
      "model_module_version": "1.5.0",
      "model_name": "HTMLModel",
      "state": {
       "_dom_classes": [],
       "_model_module": "@jupyter-widgets/controls",
       "_model_module_version": "1.5.0",
       "_model_name": "HTMLModel",
       "_view_count": null,
       "_view_module": "@jupyter-widgets/controls",
       "_view_module_version": "1.5.0",
       "_view_name": "HTMLView",
       "description": "",
       "description_tooltip": null,
       "layout": "IPY_MODEL_df90b6d894334c369652717587598461",
       "placeholder": "​",
       "style": "IPY_MODEL_68e6385c1ac444dbb110aea1f7dd3a9e",
       "value": "Downloading: 100%"
      }
     },
     "dd22f79eb3884d6793478e2b6f2974ee": {
      "model_module": "@jupyter-widgets/controls",
      "model_module_version": "1.5.0",
      "model_name": "FloatProgressModel",
      "state": {
       "_dom_classes": [],
       "_model_module": "@jupyter-widgets/controls",
       "_model_module_version": "1.5.0",
       "_model_name": "FloatProgressModel",
       "_view_count": null,
       "_view_module": "@jupyter-widgets/controls",
       "_view_module_version": "1.5.0",
       "_view_name": "ProgressView",
       "bar_style": "success",
       "description": "",
       "description_tooltip": null,
       "layout": "IPY_MODEL_60f17b9bc40e4710ae0a5bf84ad276a0",
       "max": 290.0,
       "min": 0.0,
       "orientation": "horizontal",
       "style": "IPY_MODEL_ed8c64a841094c6ebc95258d505527e4",
       "value": 290.0
      }
     },
     "de16df14824f452dba3a83dd669bb82c": {
      "model_module": "@jupyter-widgets/base",
      "model_module_version": "1.2.0",
      "model_name": "LayoutModel",
      "state": {
       "_model_module": "@jupyter-widgets/base",
       "_model_module_version": "1.2.0",
       "_model_name": "LayoutModel",
       "_view_count": null,
       "_view_module": "@jupyter-widgets/base",
       "_view_module_version": "1.2.0",
       "_view_name": "LayoutView",
       "align_content": null,
       "align_items": null,
       "align_self": null,
       "border": null,
       "bottom": null,
       "display": null,
       "flex": null,
       "flex_flow": null,
       "grid_area": null,
       "grid_auto_columns": null,
       "grid_auto_flow": null,
       "grid_auto_rows": null,
       "grid_column": null,
       "grid_gap": null,
       "grid_row": null,
       "grid_template_areas": null,
       "grid_template_columns": null,
       "grid_template_rows": null,
       "height": null,
       "justify_content": null,
       "justify_items": null,
       "left": null,
       "margin": null,
       "max_height": null,
       "max_width": null,
       "min_height": null,
       "min_width": null,
       "object_fit": null,
       "object_position": null,
       "order": null,
       "overflow": null,
       "overflow_x": null,
       "overflow_y": null,
       "padding": null,
       "right": null,
       "top": null,
       "visibility": null,
       "width": null
      }
     },
     "df90b6d894334c369652717587598461": {
      "model_module": "@jupyter-widgets/base",
      "model_module_version": "1.2.0",
      "model_name": "LayoutModel",
      "state": {
       "_model_module": "@jupyter-widgets/base",
       "_model_module_version": "1.2.0",
       "_model_name": "LayoutModel",
       "_view_count": null,
       "_view_module": "@jupyter-widgets/base",
       "_view_module_version": "1.2.0",
       "_view_name": "LayoutView",
       "align_content": null,
       "align_items": null,
       "align_self": null,
       "border": null,
       "bottom": null,
       "display": null,
       "flex": null,
       "flex_flow": null,
       "grid_area": null,
       "grid_auto_columns": null,
       "grid_auto_flow": null,
       "grid_auto_rows": null,
       "grid_column": null,
       "grid_gap": null,
       "grid_row": null,
       "grid_template_areas": null,
       "grid_template_columns": null,
       "grid_template_rows": null,
       "height": null,
       "justify_content": null,
       "justify_items": null,
       "left": null,
       "margin": null,
       "max_height": null,
       "max_width": null,
       "min_height": null,
       "min_width": null,
       "object_fit": null,
       "object_position": null,
       "order": null,
       "overflow": null,
       "overflow_x": null,
       "overflow_y": null,
       "padding": null,
       "right": null,
       "top": null,
       "visibility": null,
       "width": null
      }
     },
     "dff88b7b735e434fbbb96acc4d90499a": {
      "model_module": "@jupyter-widgets/controls",
      "model_module_version": "1.5.0",
      "model_name": "FloatProgressModel",
      "state": {
       "_dom_classes": [],
       "_model_module": "@jupyter-widgets/controls",
       "_model_module_version": "1.5.0",
       "_model_name": "FloatProgressModel",
       "_view_count": null,
       "_view_module": "@jupyter-widgets/controls",
       "_view_module_version": "1.5.0",
       "_view_name": "ProgressView",
       "bar_style": "success",
       "description": "",
       "description_tooltip": null,
       "layout": "IPY_MODEL_c1f8557e18ff42b383b73136297a0405",
       "max": 778744.0,
       "min": 0.0,
       "orientation": "horizontal",
       "style": "IPY_MODEL_3cb46260ca5a42e1ba17c2d961de14c2",
       "value": 778744.0
      }
     },
     "e0a0f029344e41e49badac00cf3e220c": {
      "model_module": "@jupyter-widgets/controls",
      "model_module_version": "1.5.0",
      "model_name": "DescriptionStyleModel",
      "state": {
       "_model_module": "@jupyter-widgets/controls",
       "_model_module_version": "1.5.0",
       "_model_name": "DescriptionStyleModel",
       "_view_count": null,
       "_view_module": "@jupyter-widgets/base",
       "_view_module_version": "1.2.0",
       "_view_name": "StyleView",
       "description_width": ""
      }
     },
     "e28394dc4c214087b5d245f83701a841": {
      "model_module": "@jupyter-widgets/base",
      "model_module_version": "1.2.0",
      "model_name": "LayoutModel",
      "state": {
       "_model_module": "@jupyter-widgets/base",
       "_model_module_version": "1.2.0",
       "_model_name": "LayoutModel",
       "_view_count": null,
       "_view_module": "@jupyter-widgets/base",
       "_view_module_version": "1.2.0",
       "_view_name": "LayoutView",
       "align_content": null,
       "align_items": null,
       "align_self": null,
       "border": null,
       "bottom": null,
       "display": null,
       "flex": null,
       "flex_flow": null,
       "grid_area": null,
       "grid_auto_columns": null,
       "grid_auto_flow": null,
       "grid_auto_rows": null,
       "grid_column": null,
       "grid_gap": null,
       "grid_row": null,
       "grid_template_areas": null,
       "grid_template_columns": null,
       "grid_template_rows": null,
       "height": null,
       "justify_content": null,
       "justify_items": null,
       "left": null,
       "margin": null,
       "max_height": null,
       "max_width": null,
       "min_height": null,
       "min_width": null,
       "object_fit": null,
       "object_position": null,
       "order": null,
       "overflow": null,
       "overflow_x": null,
       "overflow_y": null,
       "padding": null,
       "right": null,
       "top": null,
       "visibility": null,
       "width": null
      }
     },
     "ed8c64a841094c6ebc95258d505527e4": {
      "model_module": "@jupyter-widgets/controls",
      "model_module_version": "1.5.0",
      "model_name": "ProgressStyleModel",
      "state": {
       "_model_module": "@jupyter-widgets/controls",
       "_model_module_version": "1.5.0",
       "_model_name": "ProgressStyleModel",
       "_view_count": null,
       "_view_module": "@jupyter-widgets/base",
       "_view_module_version": "1.2.0",
       "_view_name": "StyleView",
       "bar_color": null,
       "description_width": ""
      }
     },
     "eda02747ab8c4934abcf2911d647c0fa": {
      "model_module": "@jupyter-widgets/base",
      "model_module_version": "1.2.0",
      "model_name": "LayoutModel",
      "state": {
       "_model_module": "@jupyter-widgets/base",
       "_model_module_version": "1.2.0",
       "_model_name": "LayoutModel",
       "_view_count": null,
       "_view_module": "@jupyter-widgets/base",
       "_view_module_version": "1.2.0",
       "_view_name": "LayoutView",
       "align_content": null,
       "align_items": null,
       "align_self": null,
       "border": null,
       "bottom": null,
       "display": null,
       "flex": null,
       "flex_flow": null,
       "grid_area": null,
       "grid_auto_columns": null,
       "grid_auto_flow": null,
       "grid_auto_rows": null,
       "grid_column": null,
       "grid_gap": null,
       "grid_row": null,
       "grid_template_areas": null,
       "grid_template_columns": null,
       "grid_template_rows": null,
       "height": null,
       "justify_content": null,
       "justify_items": null,
       "left": null,
       "margin": null,
       "max_height": null,
       "max_width": null,
       "min_height": null,
       "min_width": null,
       "object_fit": null,
       "object_position": null,
       "order": null,
       "overflow": null,
       "overflow_x": null,
       "overflow_y": null,
       "padding": null,
       "right": null,
       "top": null,
       "visibility": null,
       "width": null
      }
     },
     "f8dd0a04313c40fab1ff6ae5a45d11db": {
      "model_module": "@jupyter-widgets/base",
      "model_module_version": "1.2.0",
      "model_name": "LayoutModel",
      "state": {
       "_model_module": "@jupyter-widgets/base",
       "_model_module_version": "1.2.0",
       "_model_name": "LayoutModel",
       "_view_count": null,
       "_view_module": "@jupyter-widgets/base",
       "_view_module_version": "1.2.0",
       "_view_name": "LayoutView",
       "align_content": null,
       "align_items": null,
       "align_self": null,
       "border": null,
       "bottom": null,
       "display": null,
       "flex": null,
       "flex_flow": null,
       "grid_area": null,
       "grid_auto_columns": null,
       "grid_auto_flow": null,
       "grid_auto_rows": null,
       "grid_column": null,
       "grid_gap": null,
       "grid_row": null,
       "grid_template_areas": null,
       "grid_template_columns": null,
       "grid_template_rows": null,
       "height": null,
       "justify_content": null,
       "justify_items": null,
       "left": null,
       "margin": null,
       "max_height": null,
       "max_width": null,
       "min_height": null,
       "min_width": null,
       "object_fit": null,
       "object_position": null,
       "order": null,
       "overflow": null,
       "overflow_x": null,
       "overflow_y": null,
       "padding": null,
       "right": null,
       "top": null,
       "visibility": null,
       "width": null
      }
     },
     "fa26c7b635314985a8d9f5ec4e928582": {
      "model_module": "@jupyter-widgets/controls",
      "model_module_version": "1.5.0",
      "model_name": "HTMLModel",
      "state": {
       "_dom_classes": [],
       "_model_module": "@jupyter-widgets/controls",
       "_model_module_version": "1.5.0",
       "_model_name": "HTMLModel",
       "_view_count": null,
       "_view_module": "@jupyter-widgets/controls",
       "_view_module_version": "1.5.0",
       "_view_name": "HTMLView",
       "description": "",
       "description_tooltip": null,
       "layout": "IPY_MODEL_afc0ae0837e54ada8d9923153c5c7db4",
       "placeholder": "​",
       "style": "IPY_MODEL_c7ccd855aa3c4996879a87f7f2d2eb88",
       "value": " 443/443 [00:00&lt;00:00, 16.9kB/s]"
      }
     }
    },
    "version_major": 2,
    "version_minor": 0
   }
  }
 },
 "nbformat": 4,
 "nbformat_minor": 5
}
