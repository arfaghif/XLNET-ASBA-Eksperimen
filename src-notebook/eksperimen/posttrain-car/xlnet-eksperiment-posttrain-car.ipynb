{
 "cells": [
  {
   "cell_type": "code",
   "execution_count": 1,
   "id": "234da98c",
   "metadata": {
    "execution": {
     "iopub.execute_input": "2023-02-09T22:36:35.456675Z",
     "iopub.status.busy": "2023-02-09T22:36:35.456139Z",
     "iopub.status.idle": "2023-02-09T22:36:35.517529Z",
     "shell.execute_reply": "2023-02-09T22:36:35.516468Z"
    },
    "executionInfo": {
     "elapsed": 982,
     "status": "ok",
     "timestamp": 1580107791261,
     "user": {
      "displayName": "Shivam Panwar",
      "photoUrl": "",
      "userId": "00811775879175788799"
     },
     "user_tz": -330
    },
    "id": "kbPkR88PRcAI",
    "outputId": "568a85d1-af8a-44f4-d62a-614ef41a0be1",
    "papermill": {
     "duration": 0.073823,
     "end_time": "2023-02-09T22:36:35.520874",
     "exception": false,
     "start_time": "2023-02-09T22:36:35.447051",
     "status": "completed"
    },
    "tags": []
   },
   "outputs": [
    {
     "name": "stdout",
     "output_type": "stream",
     "text": [
      "/kaggle/input/finetune-model-airy-corpus/experimenttfrecords/corpus_info.json\n",
      "/kaggle/input/finetune-model-airy-corpus/experimenttfrecords/model/config.json\n",
      "/kaggle/input/finetune-model-airy-corpus/experimenttfrecords/model/model.ckpt.meta\n",
      "/kaggle/input/finetune-model-airy-corpus/experimenttfrecords/model/model.ckpt.index\n",
      "/kaggle/input/finetune-model-airy-corpus/experimenttfrecords/model/model.ckpt.data-00000-of-00001\n",
      "/kaggle/input/finetune-model-airy-corpus/experimenttfrecords/model/checkpoint\n",
      "/kaggle/input/finetune-model-airy-corpus/experimenttfrecords/model/pytorch_model/config.json\n",
      "/kaggle/input/finetune-model-airy-corpus/experimenttfrecords/model/pytorch_model/pytorch_model.bin\n",
      "/kaggle/input/finetune-model-airy-corpus/experimenttfrecords/tfrecords/record_info-train-0-0.bsz-8.seqlen-128.reuse-64.uni.alpha-6.beta-1.fnp-50.json\n",
      "/kaggle/input/finetune-model-airy-corpus/experimenttfrecords/tfrecords/train-0-0.bsz-8.seqlen-128.reuse-64.uni.alpha-6.beta-1.fnp-50.tfrecords\n",
      "/kaggle/input/finetune-model-any/c_experimenttfrecords/corpus_info.json\n",
      "/kaggle/input/finetune-model-any/c_experimenttfrecords/model/config.json\n",
      "/kaggle/input/finetune-model-any/c_experimenttfrecords/model/model.ckpt.meta\n",
      "/kaggle/input/finetune-model-any/c_experimenttfrecords/model/model.ckpt.index\n",
      "/kaggle/input/finetune-model-any/c_experimenttfrecords/model/model.ckpt.data-00000-of-00001\n",
      "/kaggle/input/finetune-model-any/c_experimenttfrecords/model/checkpoint\n",
      "/kaggle/input/finetune-model-any/c_experimenttfrecords/model/c_pytorch_model/config.json\n",
      "/kaggle/input/finetune-model-any/c_experimenttfrecords/model/c_pytorch_model/pytorch_model.bin\n",
      "/kaggle/input/finetune-model-any/c_experimenttfrecords/tfrecords/record_info-train-0-0.bsz-8.seqlen-128.reuse-64.uni.alpha-6.beta-1.fnp-50.json\n",
      "/kaggle/input/finetune-model-any/c_experimenttfrecords/tfrecords/train-0-0.bsz-8.seqlen-128.reuse-64.uni.alpha-6.beta-1.fnp-50.tfrecords\n",
      "/kaggle/input/asba-nlim/airy_test_nlim.csv\n",
      "/kaggle/input/asba-nlim/airy_test_nlim2.csv\n",
      "/kaggle/input/asba-nlim/rest_test_nlim.csv\n",
      "/kaggle/input/asba-nlim/car_train_nlim.csv\n",
      "/kaggle/input/asba-nlim/rest_train_nlim.csv\n",
      "/kaggle/input/asba-nlim/airy_train_nlim.csv\n",
      "/kaggle/input/asba-nlim/car_test_nlim.csv\n"
     ]
    }
   ],
   "source": [
    "import os\n",
    "for dirname, _, filenames in os.walk('/kaggle/input'):\n",
    "    for filename in filenames:\n",
    "        print(os.path.join(dirname, filename))"
   ]
  },
  {
   "cell_type": "code",
   "execution_count": 2,
   "id": "125adac3",
   "metadata": {
    "execution": {
     "iopub.execute_input": "2023-02-09T22:36:35.536000Z",
     "iopub.status.busy": "2023-02-09T22:36:35.534505Z",
     "iopub.status.idle": "2023-02-09T22:36:42.521060Z",
     "shell.execute_reply": "2023-02-09T22:36:42.518124Z"
    },
    "papermill": {
     "duration": 6.995644,
     "end_time": "2023-02-09T22:36:42.523223",
     "exception": false,
     "start_time": "2023-02-09T22:36:35.527579",
     "status": "completed"
    },
    "tags": []
   },
   "outputs": [
    {
     "name": "stdout",
     "output_type": "stream",
     "text": [
      "Found GPU at: /device:GPU:0\n"
     ]
    },
    {
     "name": "stderr",
     "output_type": "stream",
     "text": [
      "2023-02-09 22:36:40.065010: I tensorflow/core/platform/cpu_feature_guard.cc:142] This TensorFlow binary is optimized with oneAPI Deep Neural Network Library (oneDNN) to use the following CPU instructions in performance-critical operations:  AVX2 AVX512F FMA\n",
      "To enable them in other operations, rebuild TensorFlow with the appropriate compiler flags.\n",
      "2023-02-09 22:36:40.137083: I tensorflow/stream_executor/cuda/cuda_gpu_executor.cc:937] successful NUMA node read from SysFS had negative value (-1), but there must be at least one NUMA node, so returning NUMA node zero\n",
      "2023-02-09 22:36:40.249293: I tensorflow/stream_executor/cuda/cuda_gpu_executor.cc:937] successful NUMA node read from SysFS had negative value (-1), but there must be at least one NUMA node, so returning NUMA node zero\n",
      "2023-02-09 22:36:40.250162: I tensorflow/stream_executor/cuda/cuda_gpu_executor.cc:937] successful NUMA node read from SysFS had negative value (-1), but there must be at least one NUMA node, so returning NUMA node zero\n",
      "2023-02-09 22:36:42.507505: I tensorflow/stream_executor/cuda/cuda_gpu_executor.cc:937] successful NUMA node read from SysFS had negative value (-1), but there must be at least one NUMA node, so returning NUMA node zero\n",
      "2023-02-09 22:36:42.508370: I tensorflow/stream_executor/cuda/cuda_gpu_executor.cc:937] successful NUMA node read from SysFS had negative value (-1), but there must be at least one NUMA node, so returning NUMA node zero\n",
      "2023-02-09 22:36:42.509040: I tensorflow/stream_executor/cuda/cuda_gpu_executor.cc:937] successful NUMA node read from SysFS had negative value (-1), but there must be at least one NUMA node, so returning NUMA node zero\n",
      "2023-02-09 22:36:42.509630: I tensorflow/core/common_runtime/gpu/gpu_device.cc:1510] Created device /device:GPU:0 with 15401 MB memory:  -> device: 0, name: Tesla P100-PCIE-16GB, pci bus id: 0000:00:04.0, compute capability: 6.0\n"
     ]
    }
   ],
   "source": [
    "import tensorflow as tf\n",
    "\n",
    "device_name = tf.test.gpu_device_name()\n",
    "if device_name != '/device:GPU:0':\n",
    "  raise SystemError('GPU device not found')\n",
    "print('Found GPU at: {}'.format(device_name))"
   ]
  },
  {
   "cell_type": "markdown",
   "id": "4b50caf5",
   "metadata": {
    "papermill": {
     "duration": 0.006185,
     "end_time": "2023-02-09T22:36:42.535892",
     "exception": false,
     "start_time": "2023-02-09T22:36:42.529707",
     "status": "completed"
    },
    "tags": []
   },
   "source": [
    "### In the previous repository  we saved finetuned language model. Here we will csee how to use pretrained and finetuned language model for sequence classification and will compare them. "
   ]
  },
  {
   "cell_type": "code",
   "execution_count": 3,
   "id": "844d504a",
   "metadata": {
    "execution": {
     "iopub.execute_input": "2023-02-09T22:36:42.550608Z",
     "iopub.status.busy": "2023-02-09T22:36:42.550044Z",
     "iopub.status.idle": "2023-02-09T22:37:13.428298Z",
     "shell.execute_reply": "2023-02-09T22:37:13.427069Z"
    },
    "executionInfo": {
     "elapsed": 15259,
     "status": "ok",
     "timestamp": 1579507775275,
     "user": {
      "displayName": "Shivam Panwar",
      "photoUrl": "",
      "userId": "00811775879175788799"
     },
     "user_tz": -330
    },
    "id": "iT7RB9yvRn0j",
    "outputId": "90a65303-12cb-4a73-9edc-66b35ed022d5",
    "papermill": {
     "duration": 30.88885,
     "end_time": "2023-02-09T22:37:13.431161",
     "exception": false,
     "start_time": "2023-02-09T22:36:42.542311",
     "status": "completed"
    },
    "tags": []
   },
   "outputs": [
    {
     "name": "stdout",
     "output_type": "stream",
     "text": [
      "Requirement already satisfied: sentencepiece in /opt/conda/lib/python3.7/site-packages (0.1.97)\r\n",
      "\u001b[33mWARNING: Running pip as the 'root' user can result in broken permissions and conflicting behaviour with the system package manager. It is recommended to use a virtual environment instead: https://pip.pypa.io/warnings/venv\u001b[0m\u001b[33m\r\n",
      "\u001b[0mCollecting pytorch-transformers\r\n",
      "  Downloading pytorch_transformers-1.2.0-py3-none-any.whl (176 kB)\r\n",
      "\u001b[2K     \u001b[90m━━━━━━━━━━━━━━━━━━━━━━━━━━━━━━━━━━━━━━━\u001b[0m \u001b[32m176.4/176.4 kB\u001b[0m \u001b[31m1.1 MB/s\u001b[0m eta \u001b[36m0:00:00\u001b[0m\r\n",
      "\u001b[?25hRequirement already satisfied: torch>=1.0.0 in /opt/conda/lib/python3.7/site-packages (from pytorch-transformers) (1.11.0)\r\n",
      "Requirement already satisfied: boto3 in /opt/conda/lib/python3.7/site-packages (from pytorch-transformers) (1.26.54)\r\n",
      "Requirement already satisfied: numpy in /opt/conda/lib/python3.7/site-packages (from pytorch-transformers) (1.21.6)\r\n",
      "Requirement already satisfied: sacremoses in /opt/conda/lib/python3.7/site-packages (from pytorch-transformers) (0.0.53)\r\n",
      "Requirement already satisfied: regex in /opt/conda/lib/python3.7/site-packages (from pytorch-transformers) (2021.11.10)\r\n",
      "Requirement already satisfied: requests in /opt/conda/lib/python3.7/site-packages (from pytorch-transformers) (2.28.1)\r\n",
      "Requirement already satisfied: tqdm in /opt/conda/lib/python3.7/site-packages (from pytorch-transformers) (4.64.0)\r\n",
      "Requirement already satisfied: sentencepiece in /opt/conda/lib/python3.7/site-packages (from pytorch-transformers) (0.1.97)\r\n",
      "Requirement already satisfied: typing-extensions in /opt/conda/lib/python3.7/site-packages (from torch>=1.0.0->pytorch-transformers) (4.1.1)\r\n",
      "Requirement already satisfied: botocore<1.30.0,>=1.29.54 in /opt/conda/lib/python3.7/site-packages (from boto3->pytorch-transformers) (1.29.54)\r\n",
      "Requirement already satisfied: s3transfer<0.7.0,>=0.6.0 in /opt/conda/lib/python3.7/site-packages (from boto3->pytorch-transformers) (0.6.0)\r\n",
      "Requirement already satisfied: jmespath<2.0.0,>=0.7.1 in /opt/conda/lib/python3.7/site-packages (from boto3->pytorch-transformers) (1.0.1)\r\n",
      "Requirement already satisfied: charset-normalizer<3,>=2 in /opt/conda/lib/python3.7/site-packages (from requests->pytorch-transformers) (2.1.0)\r\n",
      "Requirement already satisfied: idna<4,>=2.5 in /opt/conda/lib/python3.7/site-packages (from requests->pytorch-transformers) (3.3)\r\n",
      "Requirement already satisfied: certifi>=2017.4.17 in /opt/conda/lib/python3.7/site-packages (from requests->pytorch-transformers) (2022.12.7)\r\n",
      "Requirement already satisfied: urllib3<1.27,>=1.21.1 in /opt/conda/lib/python3.7/site-packages (from requests->pytorch-transformers) (1.26.14)\r\n",
      "Requirement already satisfied: click in /opt/conda/lib/python3.7/site-packages (from sacremoses->pytorch-transformers) (8.1.3)\r\n",
      "Requirement already satisfied: joblib in /opt/conda/lib/python3.7/site-packages (from sacremoses->pytorch-transformers) (1.0.1)\r\n",
      "Requirement already satisfied: six in /opt/conda/lib/python3.7/site-packages (from sacremoses->pytorch-transformers) (1.15.0)\r\n",
      "Requirement already satisfied: python-dateutil<3.0.0,>=2.1 in /opt/conda/lib/python3.7/site-packages (from botocore<1.30.0,>=1.29.54->boto3->pytorch-transformers) (2.8.2)\r\n",
      "Requirement already satisfied: importlib-metadata in /opt/conda/lib/python3.7/site-packages (from click->sacremoses->pytorch-transformers) (6.0.0)\r\n",
      "Requirement already satisfied: zipp>=0.5 in /opt/conda/lib/python3.7/site-packages (from importlib-metadata->click->sacremoses->pytorch-transformers) (3.8.0)\r\n",
      "Installing collected packages: pytorch-transformers\r\n",
      "Successfully installed pytorch-transformers-1.2.0\r\n",
      "\u001b[33mWARNING: Running pip as the 'root' user can result in broken permissions and conflicting behaviour with the system package manager. It is recommended to use a virtual environment instead: https://pip.pypa.io/warnings/venv\u001b[0m\u001b[33m\r\n",
      "\u001b[0mRequirement already satisfied: transformers in /opt/conda/lib/python3.7/site-packages (4.20.1)\r\n",
      "Requirement already satisfied: huggingface-hub<1.0,>=0.1.0 in /opt/conda/lib/python3.7/site-packages (from transformers) (0.10.1)\r\n",
      "Requirement already satisfied: importlib-metadata in /opt/conda/lib/python3.7/site-packages (from transformers) (6.0.0)\r\n",
      "Requirement already satisfied: regex!=2019.12.17 in /opt/conda/lib/python3.7/site-packages (from transformers) (2021.11.10)\r\n",
      "Requirement already satisfied: filelock in /opt/conda/lib/python3.7/site-packages (from transformers) (3.7.1)\r\n",
      "Requirement already satisfied: requests in /opt/conda/lib/python3.7/site-packages (from transformers) (2.28.1)\r\n",
      "Requirement already satisfied: packaging>=20.0 in /opt/conda/lib/python3.7/site-packages (from transformers) (23.0)\r\n",
      "Requirement already satisfied: tqdm>=4.27 in /opt/conda/lib/python3.7/site-packages (from transformers) (4.64.0)\r\n",
      "Requirement already satisfied: tokenizers!=0.11.3,<0.13,>=0.11.1 in /opt/conda/lib/python3.7/site-packages (from transformers) (0.12.1)\r\n",
      "Requirement already satisfied: numpy>=1.17 in /opt/conda/lib/python3.7/site-packages (from transformers) (1.21.6)\r\n",
      "Requirement already satisfied: pyyaml>=5.1 in /opt/conda/lib/python3.7/site-packages (from transformers) (6.0)\r\n",
      "Requirement already satisfied: typing-extensions>=3.7.4.3 in /opt/conda/lib/python3.7/site-packages (from huggingface-hub<1.0,>=0.1.0->transformers) (4.1.1)\r\n",
      "Requirement already satisfied: zipp>=0.5 in /opt/conda/lib/python3.7/site-packages (from importlib-metadata->transformers) (3.8.0)\r\n",
      "Requirement already satisfied: urllib3<1.27,>=1.21.1 in /opt/conda/lib/python3.7/site-packages (from requests->transformers) (1.26.14)\r\n",
      "Requirement already satisfied: certifi>=2017.4.17 in /opt/conda/lib/python3.7/site-packages (from requests->transformers) (2022.12.7)\r\n",
      "Requirement already satisfied: idna<4,>=2.5 in /opt/conda/lib/python3.7/site-packages (from requests->transformers) (3.3)\r\n",
      "Requirement already satisfied: charset-normalizer<3,>=2 in /opt/conda/lib/python3.7/site-packages (from requests->transformers) (2.1.0)\r\n",
      "\u001b[33mWARNING: Running pip as the 'root' user can result in broken permissions and conflicting behaviour with the system package manager. It is recommended to use a virtual environment instead: https://pip.pypa.io/warnings/venv\u001b[0m\u001b[33m\r\n",
      "\u001b[0m"
     ]
    }
   ],
   "source": [
    "!pip install sentencepiece\n",
    "!pip install pytorch-transformers\n",
    "!pip install transformers\n"
   ]
  },
  {
   "cell_type": "code",
   "execution_count": 4,
   "id": "c4fae3d5",
   "metadata": {
    "execution": {
     "iopub.execute_input": "2023-02-09T22:37:13.448122Z",
     "iopub.status.busy": "2023-02-09T22:37:13.447123Z",
     "iopub.status.idle": "2023-02-09T22:37:17.689427Z",
     "shell.execute_reply": "2023-02-09T22:37:17.688190Z"
    },
    "executionInfo": {
     "elapsed": 48122,
     "status": "ok",
     "timestamp": 1579507808200,
     "user": {
      "displayName": "Shivam Panwar",
      "photoUrl": "",
      "userId": "00811775879175788799"
     },
     "user_tz": -330
    },
    "id": "emJNiU7IS_QM",
    "outputId": "fb3d1ffd-b293-4114-d765-14b1da489e02",
    "papermill": {
     "duration": 4.253787,
     "end_time": "2023-02-09T22:37:17.692406",
     "exception": false,
     "start_time": "2023-02-09T22:37:13.438619",
     "status": "completed"
    },
    "tags": []
   },
   "outputs": [],
   "source": [
    "import torch\n",
    "from torch.utils.data import TensorDataset, DataLoader, RandomSampler, SequentialSampler\n",
    "from keras.preprocessing.sequence import pad_sequences\n",
    "from sklearn.model_selection import train_test_split\n",
    "from sklearn.metrics import f1_score\n",
    "\n",
    "from pytorch_transformers import XLNetModel\n",
    "from transformers import XLNetForSequenceClassification, XLNetTokenizer, get_linear_schedule_with_warmup, AdamW\n",
    "\n",
    "from tqdm import tqdm, trange\n",
    "import pandas as pd\n",
    "import io\n",
    "import numpy as np\n",
    "from random import random\n",
    "import matplotlib.pyplot as plt\n",
    "%matplotlib inline"
   ]
  },
  {
   "cell_type": "code",
   "execution_count": 5,
   "id": "3cda6685",
   "metadata": {
    "execution": {
     "iopub.execute_input": "2023-02-09T22:37:17.711370Z",
     "iopub.status.busy": "2023-02-09T22:37:17.709729Z",
     "iopub.status.idle": "2023-02-09T22:37:20.316866Z",
     "shell.execute_reply": "2023-02-09T22:37:20.315947Z"
    },
    "executionInfo": {
     "elapsed": 48101,
     "status": "ok",
     "timestamp": 1579507808203,
     "user": {
      "displayName": "Shivam Panwar",
      "photoUrl": "",
      "userId": "00811775879175788799"
     },
     "user_tz": -330
    },
    "id": "SZaBvr9lTKwT",
    "outputId": "b41377ed-378c-49df-e683-daf8d7db015a",
    "papermill": {
     "duration": 2.618144,
     "end_time": "2023-02-09T22:37:20.318941",
     "exception": false,
     "start_time": "2023-02-09T22:37:17.700797",
     "status": "completed"
    },
    "tags": []
   },
   "outputs": [
    {
     "data": {
      "text/plain": [
       "'Tesla P100-PCIE-16GB'"
      ]
     },
     "execution_count": 5,
     "metadata": {},
     "output_type": "execute_result"
    }
   ],
   "source": [
    "device = torch.device(\"cuda\" if torch.cuda.is_available() else \"cpu\")\n",
    "n_gpu = torch.cuda.device_count()\n",
    "torch.cuda.get_device_name(0)"
   ]
  },
  {
   "cell_type": "code",
   "execution_count": 6,
   "id": "b65da517",
   "metadata": {
    "execution": {
     "iopub.execute_input": "2023-02-09T22:37:20.335886Z",
     "iopub.status.busy": "2023-02-09T22:37:20.335595Z",
     "iopub.status.idle": "2023-02-09T22:37:20.342884Z",
     "shell.execute_reply": "2023-02-09T22:37:20.342033Z"
    },
    "papermill": {
     "duration": 0.018282,
     "end_time": "2023-02-09T22:37:20.344795",
     "exception": false,
     "start_time": "2023-02-09T22:37:20.326513",
     "status": "completed"
    },
    "tags": []
   },
   "outputs": [],
   "source": [
    "def truncate_seq_pair(tokens_a, tokens_b, max_num_tokens):\n",
    "    \"\"\"Truncates a pair of sequences to a maximum sequence length. Lifted from Google's BERT repo.\"\"\"\n",
    "    while True:\n",
    "        total_length = len(tokens_a) + len(tokens_b)\n",
    "        if total_length <= max_num_tokens:\n",
    "            break\n",
    "\n",
    "        trunc_tokens = tokens_a if len(tokens_a) > len(tokens_b) else tokens_b\n",
    "        assert len(trunc_tokens) >= 1\n",
    "\n",
    "        # We want to sometimes truncate from the front and sometimes from the\n",
    "        # back to add more randomness and avoid biases.\n",
    "        if random() < 0.5:\n",
    "            del trunc_tokens[0]\n",
    "        else:\n",
    "            trunc_tokens.pop()"
   ]
  },
  {
   "cell_type": "code",
   "execution_count": 7,
   "id": "a620c999",
   "metadata": {
    "execution": {
     "iopub.execute_input": "2023-02-09T22:37:20.361131Z",
     "iopub.status.busy": "2023-02-09T22:37:20.360347Z",
     "iopub.status.idle": "2023-02-09T22:37:20.366799Z",
     "shell.execute_reply": "2023-02-09T22:37:20.365913Z"
    },
    "papermill": {
     "duration": 0.016537,
     "end_time": "2023-02-09T22:37:20.368733",
     "exception": false,
     "start_time": "2023-02-09T22:37:20.352196",
     "status": "completed"
    },
    "tags": []
   },
   "outputs": [],
   "source": [
    "def get_tokenized_texts_from(tokenizer, sentences_a, sentences_b, max_len):\n",
    "    tokenized_texts_a = [tokenizer.tokenize(sent) for sent in sentences_a]\n",
    "    tokenized_texts_b = [tokenizer.tokenize(sent) for sent in sentences_b]\n",
    "    tokenized_texts = []\n",
    "    for i in range (len(tokenized_texts_a)):\n",
    "        truncate_seq_pair(tokenized_texts_a[i], tokenized_texts_b[i], max_len-3)\n",
    "        tokens = tokenized_texts_a[i] + [\"<sep>\"] + tokenized_texts_b[i] + [\"<sep>\"] + [\"<cls>\"]\n",
    "        tokenized_texts.append(tokens)\n",
    "    return tokenized_texts"
   ]
  },
  {
   "cell_type": "code",
   "execution_count": 8,
   "id": "bc38e877",
   "metadata": {
    "execution": {
     "iopub.execute_input": "2023-02-09T22:37:20.385213Z",
     "iopub.status.busy": "2023-02-09T22:37:20.384452Z",
     "iopub.status.idle": "2023-02-09T22:37:20.417246Z",
     "shell.execute_reply": "2023-02-09T22:37:20.416409Z"
    },
    "id": "sy9__UqtTRzp",
    "papermill": {
     "duration": 0.043291,
     "end_time": "2023-02-09T22:37:20.419241",
     "exception": false,
     "start_time": "2023-02-09T22:37:20.375950",
     "status": "completed"
    },
    "tags": []
   },
   "outputs": [],
   "source": [
    "df = pd.read_csv(\"/kaggle/input/asba-nlim/car_train_nlim.csv\")\n",
    "df_test = pd.read_csv(\"/kaggle/input/asba-nlim/car_test_nlim.csv\")"
   ]
  },
  {
   "cell_type": "code",
   "execution_count": 9,
   "id": "4a57b30f",
   "metadata": {
    "execution": {
     "iopub.execute_input": "2023-02-09T22:37:20.435266Z",
     "iopub.status.busy": "2023-02-09T22:37:20.434824Z",
     "iopub.status.idle": "2023-02-09T22:37:20.440724Z",
     "shell.execute_reply": "2023-02-09T22:37:20.439776Z"
    },
    "executionInfo": {
     "elapsed": 49600,
     "status": "ok",
     "timestamp": 1579507809746,
     "user": {
      "displayName": "Shivam Panwar",
      "photoUrl": "",
      "userId": "00811775879175788799"
     },
     "user_tz": -330
    },
    "id": "L-76tmHxThz2",
    "outputId": "05e4deb0-a864-4685-8433-ec80bcd45ebb",
    "papermill": {
     "duration": 0.015851,
     "end_time": "2023-02-09T22:37:20.442596",
     "exception": false,
     "start_time": "2023-02-09T22:37:20.426745",
     "status": "completed"
    },
    "tags": []
   },
   "outputs": [
    {
     "data": {
      "text/plain": [
       "(1075, 3)"
      ]
     },
     "execution_count": 9,
     "metadata": {},
     "output_type": "execute_result"
    }
   ],
   "source": [
    "df.shape"
   ]
  },
  {
   "cell_type": "code",
   "execution_count": 10,
   "id": "219ea99f",
   "metadata": {
    "execution": {
     "iopub.execute_input": "2023-02-09T22:37:20.459126Z",
     "iopub.status.busy": "2023-02-09T22:37:20.458256Z",
     "iopub.status.idle": "2023-02-09T22:37:20.473026Z",
     "shell.execute_reply": "2023-02-09T22:37:20.472015Z"
    },
    "executionInfo": {
     "elapsed": 49581,
     "status": "ok",
     "timestamp": 1579507809747,
     "user": {
      "displayName": "Shivam Panwar",
      "photoUrl": "",
      "userId": "00811775879175788799"
     },
     "user_tz": -330
    },
    "id": "gnfnNijqTjDN",
    "outputId": "a321188c-6a3b-47ac-e1f5-87529e8ba977",
    "papermill": {
     "duration": 0.02518,
     "end_time": "2023-02-09T22:37:20.475099",
     "exception": false,
     "start_time": "2023-02-09T22:37:20.449919",
     "status": "completed"
    },
    "tags": []
   },
   "outputs": [
    {
     "data": {
      "text/html": [
       "<div>\n",
       "<style scoped>\n",
       "    .dataframe tbody tr th:only-of-type {\n",
       "        vertical-align: middle;\n",
       "    }\n",
       "\n",
       "    .dataframe tbody tr th {\n",
       "        vertical-align: top;\n",
       "    }\n",
       "\n",
       "    .dataframe thead th {\n",
       "        text-align: right;\n",
       "    }\n",
       "</style>\n",
       "<table border=\"1\" class=\"dataframe\">\n",
       "  <thead>\n",
       "    <tr style=\"text-align: right;\">\n",
       "      <th></th>\n",
       "      <th>text_a</th>\n",
       "      <th>text_b</th>\n",
       "      <th>label</th>\n",
       "    </tr>\n",
       "  </thead>\n",
       "  <tbody>\n",
       "    <tr>\n",
       "      <th>0</th>\n",
       "      <td>Saya memakai Honda Jazz GK5 tahun 2014 ( perta...</td>\n",
       "      <td>others</td>\n",
       "      <td>1</td>\n",
       "    </tr>\n",
       "    <tr>\n",
       "      <th>1</th>\n",
       "      <td>Avanza kenapa jadi boros bensin begini dah ah....</td>\n",
       "      <td>fuel</td>\n",
       "      <td>0</td>\n",
       "    </tr>\n",
       "    <tr>\n",
       "      <th>2</th>\n",
       "      <td>saran ku dan pengalaman ku , mending beli mobi...</td>\n",
       "      <td>fuel</td>\n",
       "      <td>1</td>\n",
       "    </tr>\n",
       "    <tr>\n",
       "      <th>3</th>\n",
       "      <td>saran ku dan pengalaman ku , mending beli mobi...</td>\n",
       "      <td>machine</td>\n",
       "      <td>1</td>\n",
       "    </tr>\n",
       "    <tr>\n",
       "      <th>4</th>\n",
       "      <td>Dari segi harga juga pajero lebih mahal 30 jut...</td>\n",
       "      <td>price</td>\n",
       "      <td>1</td>\n",
       "    </tr>\n",
       "  </tbody>\n",
       "</table>\n",
       "</div>"
      ],
      "text/plain": [
       "                                              text_a   text_b  label\n",
       "0  Saya memakai Honda Jazz GK5 tahun 2014 ( perta...   others      1\n",
       "1  Avanza kenapa jadi boros bensin begini dah ah....     fuel      0\n",
       "2  saran ku dan pengalaman ku , mending beli mobi...     fuel      1\n",
       "3  saran ku dan pengalaman ku , mending beli mobi...  machine      1\n",
       "4  Dari segi harga juga pajero lebih mahal 30 jut...    price      1"
      ]
     },
     "execution_count": 10,
     "metadata": {},
     "output_type": "execute_result"
    }
   ],
   "source": [
    "df.head()"
   ]
  },
  {
   "cell_type": "code",
   "execution_count": 11,
   "id": "e7964ac4",
   "metadata": {
    "execution": {
     "iopub.execute_input": "2023-02-09T22:37:20.491596Z",
     "iopub.status.busy": "2023-02-09T22:37:20.491297Z",
     "iopub.status.idle": "2023-02-09T22:37:20.500826Z",
     "shell.execute_reply": "2023-02-09T22:37:20.499308Z"
    },
    "papermill": {
     "duration": 0.020024,
     "end_time": "2023-02-09T22:37:20.502814",
     "exception": false,
     "start_time": "2023-02-09T22:37:20.482790",
     "status": "completed"
    },
    "tags": []
   },
   "outputs": [
    {
     "name": "stdout",
     "output_type": "stream",
     "text": [
      "Number of training sentences: 860\n",
      "\n",
      "Number of testing sentences: 215\n",
      "\n"
     ]
    }
   ],
   "source": [
    "df_train ,df_val = train_test_split(df, random_state=2018, test_size=0.2)\n",
    "\n",
    "print('Number of training sentences: {:,}\\n'.format(df_train.shape[0]))\n",
    "print('Number of testing sentences: {:,}\\n'.format(df_val.shape[0]))"
   ]
  },
  {
   "cell_type": "code",
   "execution_count": null,
   "id": "e8eb5503",
   "metadata": {
    "papermill": {
     "duration": 0.007562,
     "end_time": "2023-02-09T22:37:20.518109",
     "exception": false,
     "start_time": "2023-02-09T22:37:20.510547",
     "status": "completed"
    },
    "tags": []
   },
   "outputs": [],
   "source": []
  },
  {
   "cell_type": "code",
   "execution_count": 12,
   "id": "28c283d2",
   "metadata": {
    "execution": {
     "iopub.execute_input": "2023-02-09T22:37:20.535813Z",
     "iopub.status.busy": "2023-02-09T22:37:20.534911Z",
     "iopub.status.idle": "2023-02-09T22:37:20.539417Z",
     "shell.execute_reply": "2023-02-09T22:37:20.538548Z"
    },
    "id": "3RaQMymhUaO3",
    "papermill": {
     "duration": 0.015228,
     "end_time": "2023-02-09T22:37:20.541322",
     "exception": false,
     "start_time": "2023-02-09T22:37:20.526094",
     "status": "completed"
    },
    "tags": []
   },
   "outputs": [],
   "source": [
    "MAX_LEN = 128\n",
    "\n"
   ]
  },
  {
   "cell_type": "code",
   "execution_count": 13,
   "id": "2a726124",
   "metadata": {
    "execution": {
     "iopub.execute_input": "2023-02-09T22:37:20.558086Z",
     "iopub.status.busy": "2023-02-09T22:37:20.557789Z",
     "iopub.status.idle": "2023-02-09T22:37:20.564901Z",
     "shell.execute_reply": "2023-02-09T22:37:20.564041Z"
    },
    "papermill": {
     "duration": 0.017671,
     "end_time": "2023-02-09T22:37:20.566846",
     "exception": false,
     "start_time": "2023-02-09T22:37:20.549175",
     "status": "completed"
    },
    "tags": []
   },
   "outputs": [],
   "source": [
    "sentences_a_train = df_train.text_a.values\n",
    "sentences_b_train = df_train.text_b.values\n",
    "labels_train = df_train.label.values"
   ]
  },
  {
   "cell_type": "code",
   "execution_count": 14,
   "id": "7ebde937",
   "metadata": {
    "execution": {
     "iopub.execute_input": "2023-02-09T22:37:20.584875Z",
     "iopub.status.busy": "2023-02-09T22:37:20.583492Z",
     "iopub.status.idle": "2023-02-09T22:37:20.588748Z",
     "shell.execute_reply": "2023-02-09T22:37:20.587850Z"
    },
    "id": "-SrIkmJmUl1_",
    "papermill": {
     "duration": 0.016058,
     "end_time": "2023-02-09T22:37:20.590836",
     "exception": false,
     "start_time": "2023-02-09T22:37:20.574778",
     "status": "completed"
    },
    "tags": []
   },
   "outputs": [],
   "source": [
    "sentences_a_val = df_val.text_a.values\n",
    "sentences_b_val = df_val.text_b.values\n",
    "labels_val = df_val.label.values"
   ]
  },
  {
   "cell_type": "code",
   "execution_count": 15,
   "id": "4df4eb5d",
   "metadata": {
    "execution": {
     "iopub.execute_input": "2023-02-09T22:37:20.608681Z",
     "iopub.status.busy": "2023-02-09T22:37:20.607798Z",
     "iopub.status.idle": "2023-02-09T22:37:20.612974Z",
     "shell.execute_reply": "2023-02-09T22:37:20.612132Z"
    },
    "papermill": {
     "duration": 0.015885,
     "end_time": "2023-02-09T22:37:20.614882",
     "exception": false,
     "start_time": "2023-02-09T22:37:20.598997",
     "status": "completed"
    },
    "tags": []
   },
   "outputs": [],
   "source": [
    "sentences_a_test = df_test.text_a.values\n",
    "sentences_b_test = df_test.text_b.values\n",
    "labels_test = df_test.label.values"
   ]
  },
  {
   "cell_type": "code",
   "execution_count": 16,
   "id": "b3c939b4",
   "metadata": {
    "execution": {
     "iopub.execute_input": "2023-02-09T22:37:20.632290Z",
     "iopub.status.busy": "2023-02-09T22:37:20.631523Z",
     "iopub.status.idle": "2023-02-09T22:37:20.635572Z",
     "shell.execute_reply": "2023-02-09T22:37:20.634590Z"
    },
    "executionInfo": {
     "elapsed": 49527,
     "status": "ok",
     "timestamp": 1579507809750,
     "user": {
      "displayName": "Shivam Panwar",
      "photoUrl": "",
      "userId": "00811775879175788799"
     },
     "user_tz": -330
    },
    "id": "ndD9LjVxUqw9",
    "outputId": "7012554a-2fa3-4153-9fca-454dd151d7d3",
    "papermill": {
     "duration": 0.014792,
     "end_time": "2023-02-09T22:37:20.637517",
     "exception": false,
     "start_time": "2023-02-09T22:37:20.622725",
     "status": "completed"
    },
    "tags": []
   },
   "outputs": [],
   "source": [
    "# sentences[0]"
   ]
  },
  {
   "cell_type": "code",
   "execution_count": 17,
   "id": "78a630e2",
   "metadata": {
    "execution": {
     "iopub.execute_input": "2023-02-09T22:37:20.654703Z",
     "iopub.status.busy": "2023-02-09T22:37:20.654432Z",
     "iopub.status.idle": "2023-02-09T22:37:24.321511Z",
     "shell.execute_reply": "2023-02-09T22:37:24.320446Z"
    },
    "executionInfo": {
     "elapsed": 72729,
     "status": "ok",
     "timestamp": 1579507832981,
     "user": {
      "displayName": "Shivam Panwar",
      "photoUrl": "",
      "userId": "00811775879175788799"
     },
     "user_tz": -330
    },
    "id": "9w5oDR3gUuBQ",
    "outputId": "56517de2-ef2d-44b4-a4b0-382f2bdcf361",
    "papermill": {
     "duration": 3.678993,
     "end_time": "2023-02-09T22:37:24.324486",
     "exception": false,
     "start_time": "2023-02-09T22:37:20.645493",
     "status": "completed"
    },
    "tags": []
   },
   "outputs": [
    {
     "data": {
      "application/vnd.jupyter.widget-view+json": {
       "model_id": "1949c1905fcb49528e5452e428310594",
       "version_major": 2,
       "version_minor": 0
      },
      "text/plain": [
       "Downloading:   0%|          | 0.00/760k [00:00<?, ?B/s]"
      ]
     },
     "metadata": {},
     "output_type": "display_data"
    },
    {
     "data": {
      "application/vnd.jupyter.widget-view+json": {
       "model_id": "8c0c59f81ff146c687c538ea9412c1f1",
       "version_major": 2,
       "version_minor": 0
      },
      "text/plain": [
       "Downloading:   0%|          | 0.00/290 [00:00<?, ?B/s]"
      ]
     },
     "metadata": {},
     "output_type": "display_data"
    },
    {
     "data": {
      "application/vnd.jupyter.widget-view+json": {
       "model_id": "df3740ad288a484a9fa896a4d19883c7",
       "version_major": 2,
       "version_minor": 0
      },
      "text/plain": [
       "Downloading:   0%|          | 0.00/443 [00:00<?, ?B/s]"
      ]
     },
     "metadata": {},
     "output_type": "display_data"
    },
    {
     "name": "stdout",
     "output_type": "stream",
     "text": [
      "Tokenize the first sentence:\n",
      "['▁mobil', '▁ku', '▁', 'dai', 'hat', 'su', '▁x', 'e', 'nia', '▁ku', '▁i', 'rit', '▁,', '▁cocok', '▁banget', '▁buat', '▁keluarga', '▁indonesia', '▁dengan', '▁kursi', '▁7', '▁tambah', '▁lagi', '▁mesin', '▁handal', '▁', '(', '▁1', '.', '300', '▁cc', '▁', ')', '▁walau', '▁sudah', '▁sejak', '▁2009', '<sep>', '▁part', '<sep>', '<cls>']\n"
     ]
    }
   ],
   "source": [
    "tokenizer = XLNetTokenizer.from_pretrained('malay-huggingface/xlnet-base-bahasa-cased', do_lower_case=True)\n",
    "tokenized_texts_train = get_tokenized_texts_from(tokenizer, sentences_a_train, sentences_b_train, MAX_LEN)\n",
    "tokenized_texts_val = get_tokenized_texts_from(tokenizer, sentences_a_val, sentences_b_val, MAX_LEN)\n",
    "tokenized_texts_test = get_tokenized_texts_from(tokenizer, sentences_a_test, sentences_b_test, MAX_LEN)\n",
    "\n",
    "print (\"Tokenize the first sentence:\")\n",
    "print (tokenized_texts_train[0])"
   ]
  },
  {
   "cell_type": "code",
   "execution_count": 18,
   "id": "26c6b9e3",
   "metadata": {
    "execution": {
     "iopub.execute_input": "2023-02-09T22:37:24.344060Z",
     "iopub.status.busy": "2023-02-09T22:37:24.343744Z",
     "iopub.status.idle": "2023-02-09T22:37:24.398939Z",
     "shell.execute_reply": "2023-02-09T22:37:24.397877Z"
    },
    "papermill": {
     "duration": 0.067149,
     "end_time": "2023-02-09T22:37:24.401228",
     "exception": false,
     "start_time": "2023-02-09T22:37:24.334079",
     "status": "completed"
    },
    "tags": []
   },
   "outputs": [],
   "source": [
    "input_ids_train = [tokenizer.convert_tokens_to_ids(x) for x in tokenized_texts_train]\n",
    "input_ids_val = [tokenizer.convert_tokens_to_ids(x) for x in tokenized_texts_val]\n",
    "input_ids_test = [tokenizer.convert_tokens_to_ids(x) for x in tokenized_texts_test]"
   ]
  },
  {
   "cell_type": "code",
   "execution_count": 19,
   "id": "0834d367",
   "metadata": {
    "execution": {
     "iopub.execute_input": "2023-02-09T22:37:24.421550Z",
     "iopub.status.busy": "2023-02-09T22:37:24.420929Z",
     "iopub.status.idle": "2023-02-09T22:37:24.436994Z",
     "shell.execute_reply": "2023-02-09T22:37:24.436038Z"
    },
    "id": "5bR1ejqCU6hp",
    "papermill": {
     "duration": 0.028668,
     "end_time": "2023-02-09T22:37:24.439296",
     "exception": false,
     "start_time": "2023-02-09T22:37:24.410628",
     "status": "completed"
    },
    "tags": []
   },
   "outputs": [],
   "source": [
    "input_ids_train = pad_sequences(input_ids_train, maxlen=MAX_LEN, dtype=\"long\", truncating=\"post\", padding=\"post\")\n",
    "input_ids_val = pad_sequences(input_ids_val, maxlen=MAX_LEN, dtype=\"long\", truncating=\"post\", padding=\"post\")\n",
    "input_ids_test = pad_sequences(input_ids_test, maxlen=MAX_LEN, dtype=\"long\", truncating=\"post\", padding=\"post\")\n"
   ]
  },
  {
   "cell_type": "code",
   "execution_count": 20,
   "id": "c7b64016",
   "metadata": {
    "execution": {
     "iopub.execute_input": "2023-02-09T22:37:24.459349Z",
     "iopub.status.busy": "2023-02-09T22:37:24.458683Z",
     "iopub.status.idle": "2023-02-09T22:37:24.467574Z",
     "shell.execute_reply": "2023-02-09T22:37:24.466646Z"
    },
    "id": "WlVIq2q5VILC",
    "papermill": {
     "duration": 0.021313,
     "end_time": "2023-02-09T22:37:24.469719",
     "exception": false,
     "start_time": "2023-02-09T22:37:24.448406",
     "status": "completed"
    },
    "tags": []
   },
   "outputs": [],
   "source": [
    "tokenized_texts_test =pad_sequences(tokenized_texts_test, maxlen=MAX_LEN, dtype=object, truncating=\"post\", padding=\"post\")\n",
    "\n",
    "df_test['tokens'] = tokenized_texts_test.tolist()"
   ]
  },
  {
   "cell_type": "code",
   "execution_count": 21,
   "id": "707b46a4",
   "metadata": {
    "execution": {
     "iopub.execute_input": "2023-02-09T22:37:24.490025Z",
     "iopub.status.busy": "2023-02-09T22:37:24.489129Z",
     "iopub.status.idle": "2023-02-09T22:37:24.560919Z",
     "shell.execute_reply": "2023-02-09T22:37:24.559934Z"
    },
    "id": "7OpPXkQvVP4K",
    "papermill": {
     "duration": 0.08427,
     "end_time": "2023-02-09T22:37:24.563412",
     "exception": false,
     "start_time": "2023-02-09T22:37:24.479142",
     "status": "completed"
    },
    "tags": []
   },
   "outputs": [],
   "source": [
    "# Create attention masks\n",
    "attention_masks_train = []\n",
    "\n",
    "# Create a mask of 1s for each token followed by 0s for padding\n",
    "for seq in input_ids_train:\n",
    "  seq_mask_train = [float(i>0) for i in seq]\n",
    "  attention_masks_train.append(seq_mask_train)\n",
    "\n",
    "# Create attention masks\n",
    "attention_masks_val = []\n",
    "\n",
    "# Create a mask of 1s for each token followed by 0s for padding\n",
    "for seq in input_ids_val:\n",
    "  seq_mask_val = [float(i>0) for i in seq]\n",
    "  attention_masks_val.append(seq_mask_val)\n",
    "    \n",
    "attention_masks_test = []\n",
    "for seq in input_ids_test:\n",
    "  seq_mask_test = [float(i>0) for i in seq]\n",
    "  attention_masks_test.append(seq_mask_test)"
   ]
  },
  {
   "cell_type": "code",
   "execution_count": 22,
   "id": "9953a3fb",
   "metadata": {
    "execution": {
     "iopub.execute_input": "2023-02-09T22:37:24.582723Z",
     "iopub.status.busy": "2023-02-09T22:37:24.582424Z",
     "iopub.status.idle": "2023-02-09T22:37:24.596827Z",
     "shell.execute_reply": "2023-02-09T22:37:24.595863Z"
    },
    "id": "nn3hPYmYViHO",
    "papermill": {
     "duration": 0.02649,
     "end_time": "2023-02-09T22:37:24.598957",
     "exception": false,
     "start_time": "2023-02-09T22:37:24.572467",
     "status": "completed"
    },
    "tags": []
   },
   "outputs": [],
   "source": [
    "train_inputs = torch.tensor(input_ids_train)\n",
    "train_labels = torch.tensor(labels_train)\n",
    "train_masks = torch.tensor(attention_masks_train)\n",
    "\n",
    "val_inputs = torch.tensor(input_ids_val)\n",
    "val_labels = torch.tensor(labels_val)\n",
    "val_masks = torch.tensor(attention_masks_val)\n",
    "\n",
    "test_inputs = torch.tensor(input_ids_test)\n",
    "test_labels = torch.tensor(labels_test)\n",
    "test_masks = torch.tensor(attention_masks_test)"
   ]
  },
  {
   "cell_type": "code",
   "execution_count": 23,
   "id": "b2081000",
   "metadata": {
    "execution": {
     "iopub.execute_input": "2023-02-09T22:37:24.619795Z",
     "iopub.status.busy": "2023-02-09T22:37:24.618803Z",
     "iopub.status.idle": "2023-02-09T22:37:24.629173Z",
     "shell.execute_reply": "2023-02-09T22:37:24.628116Z"
    },
    "id": "wXDDYe7dVlCx",
    "papermill": {
     "duration": 0.02297,
     "end_time": "2023-02-09T22:37:24.631203",
     "exception": false,
     "start_time": "2023-02-09T22:37:24.608233",
     "status": "completed"
    },
    "tags": []
   },
   "outputs": [],
   "source": [
    "batch_size = 32\n",
    "train_data = TensorDataset(train_inputs, train_masks, train_labels)\n",
    "train_sampler = RandomSampler(train_data)\n",
    "train_dataloader = DataLoader(train_data, sampler=train_sampler, batch_size=batch_size)\n",
    "\n",
    "val_data = TensorDataset(val_inputs, val_masks, val_labels)\n",
    "val_sampler = SequentialSampler(val_data)\n",
    "val_dataloader = DataLoader(val_data, sampler=val_sampler, batch_size=batch_size)\n",
    "\n",
    "test_data = TensorDataset(test_inputs, test_masks, test_labels)\n",
    "test_sampler = SequentialSampler(test_data)\n",
    "test_dataloader = DataLoader(test_data, sampler=test_sampler, batch_size=batch_size)"
   ]
  },
  {
   "cell_type": "markdown",
   "id": "33910861",
   "metadata": {
    "id": "1zvvTbR8h66j",
    "papermill": {
     "duration": 0.00877,
     "end_time": "2023-02-09T22:37:24.648856",
     "exception": false,
     "start_time": "2023-02-09T22:37:24.640086",
     "status": "completed"
    },
    "tags": []
   },
   "source": [
    "Using **finetuned language model**"
   ]
  },
  {
   "cell_type": "code",
   "execution_count": 24,
   "id": "42e21cc7",
   "metadata": {
    "execution": {
     "iopub.execute_input": "2023-02-09T22:37:24.668501Z",
     "iopub.status.busy": "2023-02-09T22:37:24.667586Z",
     "iopub.status.idle": "2023-02-09T22:37:30.726073Z",
     "shell.execute_reply": "2023-02-09T22:37:30.725049Z"
    },
    "executionInfo": {
     "elapsed": 11108,
     "status": "ok",
     "timestamp": 1579510821941,
     "user": {
      "displayName": "Shivam Panwar",
      "photoUrl": "",
      "userId": "00811775879175788799"
     },
     "user_tz": -330
    },
    "id": "cVAGfSD5ojia",
    "outputId": "0685088f-ae9f-4654-9b58-029b531ac625",
    "papermill": {
     "duration": 6.070426,
     "end_time": "2023-02-09T22:37:30.728193",
     "exception": false,
     "start_time": "2023-02-09T22:37:24.657767",
     "status": "completed"
    },
    "tags": []
   },
   "outputs": [
    {
     "name": "stderr",
     "output_type": "stream",
     "text": [
      "Some weights of the model checkpoint at /kaggle/input/finetune-model-any/c_experimenttfrecords/model/c_pytorch_model were not used when initializing XLNetForSequenceClassification: ['lm_loss.weight', 'lm_loss.bias']\n",
      "- This IS expected if you are initializing XLNetForSequenceClassification from the checkpoint of a model trained on another task or with another architecture (e.g. initializing a BertForSequenceClassification model from a BertForPreTraining model).\n",
      "- This IS NOT expected if you are initializing XLNetForSequenceClassification from the checkpoint of a model that you expect to be exactly identical (initializing a BertForSequenceClassification model from a BertForSequenceClassification model).\n",
      "Some weights of XLNetForSequenceClassification were not initialized from the model checkpoint at /kaggle/input/finetune-model-any/c_experimenttfrecords/model/c_pytorch_model and are newly initialized: ['sequence_summary.summary.weight', 'logits_proj.bias', 'sequence_summary.summary.bias', 'logits_proj.weight']\n",
      "You should probably TRAIN this model on a down-stream task to be able to use it for predictions and inference.\n"
     ]
    },
    {
     "data": {
      "text/plain": [
       "XLNetForSequenceClassification(\n",
       "  (transformer): XLNetModel(\n",
       "    (word_embedding): Embedding(32000, 768)\n",
       "    (layer): ModuleList(\n",
       "      (0): XLNetLayer(\n",
       "        (rel_attn): XLNetRelativeAttention(\n",
       "          (layer_norm): LayerNorm((768,), eps=1e-12, elementwise_affine=True)\n",
       "          (dropout): Dropout(p=0.1, inplace=False)\n",
       "        )\n",
       "        (ff): XLNetFeedForward(\n",
       "          (layer_norm): LayerNorm((768,), eps=1e-12, elementwise_affine=True)\n",
       "          (layer_1): Linear(in_features=768, out_features=3072, bias=True)\n",
       "          (layer_2): Linear(in_features=3072, out_features=768, bias=True)\n",
       "          (dropout): Dropout(p=0.1, inplace=False)\n",
       "          (activation_function): GELUActivation()\n",
       "        )\n",
       "        (dropout): Dropout(p=0.1, inplace=False)\n",
       "      )\n",
       "      (1): XLNetLayer(\n",
       "        (rel_attn): XLNetRelativeAttention(\n",
       "          (layer_norm): LayerNorm((768,), eps=1e-12, elementwise_affine=True)\n",
       "          (dropout): Dropout(p=0.1, inplace=False)\n",
       "        )\n",
       "        (ff): XLNetFeedForward(\n",
       "          (layer_norm): LayerNorm((768,), eps=1e-12, elementwise_affine=True)\n",
       "          (layer_1): Linear(in_features=768, out_features=3072, bias=True)\n",
       "          (layer_2): Linear(in_features=3072, out_features=768, bias=True)\n",
       "          (dropout): Dropout(p=0.1, inplace=False)\n",
       "          (activation_function): GELUActivation()\n",
       "        )\n",
       "        (dropout): Dropout(p=0.1, inplace=False)\n",
       "      )\n",
       "      (2): XLNetLayer(\n",
       "        (rel_attn): XLNetRelativeAttention(\n",
       "          (layer_norm): LayerNorm((768,), eps=1e-12, elementwise_affine=True)\n",
       "          (dropout): Dropout(p=0.1, inplace=False)\n",
       "        )\n",
       "        (ff): XLNetFeedForward(\n",
       "          (layer_norm): LayerNorm((768,), eps=1e-12, elementwise_affine=True)\n",
       "          (layer_1): Linear(in_features=768, out_features=3072, bias=True)\n",
       "          (layer_2): Linear(in_features=3072, out_features=768, bias=True)\n",
       "          (dropout): Dropout(p=0.1, inplace=False)\n",
       "          (activation_function): GELUActivation()\n",
       "        )\n",
       "        (dropout): Dropout(p=0.1, inplace=False)\n",
       "      )\n",
       "      (3): XLNetLayer(\n",
       "        (rel_attn): XLNetRelativeAttention(\n",
       "          (layer_norm): LayerNorm((768,), eps=1e-12, elementwise_affine=True)\n",
       "          (dropout): Dropout(p=0.1, inplace=False)\n",
       "        )\n",
       "        (ff): XLNetFeedForward(\n",
       "          (layer_norm): LayerNorm((768,), eps=1e-12, elementwise_affine=True)\n",
       "          (layer_1): Linear(in_features=768, out_features=3072, bias=True)\n",
       "          (layer_2): Linear(in_features=3072, out_features=768, bias=True)\n",
       "          (dropout): Dropout(p=0.1, inplace=False)\n",
       "          (activation_function): GELUActivation()\n",
       "        )\n",
       "        (dropout): Dropout(p=0.1, inplace=False)\n",
       "      )\n",
       "      (4): XLNetLayer(\n",
       "        (rel_attn): XLNetRelativeAttention(\n",
       "          (layer_norm): LayerNorm((768,), eps=1e-12, elementwise_affine=True)\n",
       "          (dropout): Dropout(p=0.1, inplace=False)\n",
       "        )\n",
       "        (ff): XLNetFeedForward(\n",
       "          (layer_norm): LayerNorm((768,), eps=1e-12, elementwise_affine=True)\n",
       "          (layer_1): Linear(in_features=768, out_features=3072, bias=True)\n",
       "          (layer_2): Linear(in_features=3072, out_features=768, bias=True)\n",
       "          (dropout): Dropout(p=0.1, inplace=False)\n",
       "          (activation_function): GELUActivation()\n",
       "        )\n",
       "        (dropout): Dropout(p=0.1, inplace=False)\n",
       "      )\n",
       "      (5): XLNetLayer(\n",
       "        (rel_attn): XLNetRelativeAttention(\n",
       "          (layer_norm): LayerNorm((768,), eps=1e-12, elementwise_affine=True)\n",
       "          (dropout): Dropout(p=0.1, inplace=False)\n",
       "        )\n",
       "        (ff): XLNetFeedForward(\n",
       "          (layer_norm): LayerNorm((768,), eps=1e-12, elementwise_affine=True)\n",
       "          (layer_1): Linear(in_features=768, out_features=3072, bias=True)\n",
       "          (layer_2): Linear(in_features=3072, out_features=768, bias=True)\n",
       "          (dropout): Dropout(p=0.1, inplace=False)\n",
       "          (activation_function): GELUActivation()\n",
       "        )\n",
       "        (dropout): Dropout(p=0.1, inplace=False)\n",
       "      )\n",
       "      (6): XLNetLayer(\n",
       "        (rel_attn): XLNetRelativeAttention(\n",
       "          (layer_norm): LayerNorm((768,), eps=1e-12, elementwise_affine=True)\n",
       "          (dropout): Dropout(p=0.1, inplace=False)\n",
       "        )\n",
       "        (ff): XLNetFeedForward(\n",
       "          (layer_norm): LayerNorm((768,), eps=1e-12, elementwise_affine=True)\n",
       "          (layer_1): Linear(in_features=768, out_features=3072, bias=True)\n",
       "          (layer_2): Linear(in_features=3072, out_features=768, bias=True)\n",
       "          (dropout): Dropout(p=0.1, inplace=False)\n",
       "          (activation_function): GELUActivation()\n",
       "        )\n",
       "        (dropout): Dropout(p=0.1, inplace=False)\n",
       "      )\n",
       "      (7): XLNetLayer(\n",
       "        (rel_attn): XLNetRelativeAttention(\n",
       "          (layer_norm): LayerNorm((768,), eps=1e-12, elementwise_affine=True)\n",
       "          (dropout): Dropout(p=0.1, inplace=False)\n",
       "        )\n",
       "        (ff): XLNetFeedForward(\n",
       "          (layer_norm): LayerNorm((768,), eps=1e-12, elementwise_affine=True)\n",
       "          (layer_1): Linear(in_features=768, out_features=3072, bias=True)\n",
       "          (layer_2): Linear(in_features=3072, out_features=768, bias=True)\n",
       "          (dropout): Dropout(p=0.1, inplace=False)\n",
       "          (activation_function): GELUActivation()\n",
       "        )\n",
       "        (dropout): Dropout(p=0.1, inplace=False)\n",
       "      )\n",
       "      (8): XLNetLayer(\n",
       "        (rel_attn): XLNetRelativeAttention(\n",
       "          (layer_norm): LayerNorm((768,), eps=1e-12, elementwise_affine=True)\n",
       "          (dropout): Dropout(p=0.1, inplace=False)\n",
       "        )\n",
       "        (ff): XLNetFeedForward(\n",
       "          (layer_norm): LayerNorm((768,), eps=1e-12, elementwise_affine=True)\n",
       "          (layer_1): Linear(in_features=768, out_features=3072, bias=True)\n",
       "          (layer_2): Linear(in_features=3072, out_features=768, bias=True)\n",
       "          (dropout): Dropout(p=0.1, inplace=False)\n",
       "          (activation_function): GELUActivation()\n",
       "        )\n",
       "        (dropout): Dropout(p=0.1, inplace=False)\n",
       "      )\n",
       "      (9): XLNetLayer(\n",
       "        (rel_attn): XLNetRelativeAttention(\n",
       "          (layer_norm): LayerNorm((768,), eps=1e-12, elementwise_affine=True)\n",
       "          (dropout): Dropout(p=0.1, inplace=False)\n",
       "        )\n",
       "        (ff): XLNetFeedForward(\n",
       "          (layer_norm): LayerNorm((768,), eps=1e-12, elementwise_affine=True)\n",
       "          (layer_1): Linear(in_features=768, out_features=3072, bias=True)\n",
       "          (layer_2): Linear(in_features=3072, out_features=768, bias=True)\n",
       "          (dropout): Dropout(p=0.1, inplace=False)\n",
       "          (activation_function): GELUActivation()\n",
       "        )\n",
       "        (dropout): Dropout(p=0.1, inplace=False)\n",
       "      )\n",
       "      (10): XLNetLayer(\n",
       "        (rel_attn): XLNetRelativeAttention(\n",
       "          (layer_norm): LayerNorm((768,), eps=1e-12, elementwise_affine=True)\n",
       "          (dropout): Dropout(p=0.1, inplace=False)\n",
       "        )\n",
       "        (ff): XLNetFeedForward(\n",
       "          (layer_norm): LayerNorm((768,), eps=1e-12, elementwise_affine=True)\n",
       "          (layer_1): Linear(in_features=768, out_features=3072, bias=True)\n",
       "          (layer_2): Linear(in_features=3072, out_features=768, bias=True)\n",
       "          (dropout): Dropout(p=0.1, inplace=False)\n",
       "          (activation_function): GELUActivation()\n",
       "        )\n",
       "        (dropout): Dropout(p=0.1, inplace=False)\n",
       "      )\n",
       "      (11): XLNetLayer(\n",
       "        (rel_attn): XLNetRelativeAttention(\n",
       "          (layer_norm): LayerNorm((768,), eps=1e-12, elementwise_affine=True)\n",
       "          (dropout): Dropout(p=0.1, inplace=False)\n",
       "        )\n",
       "        (ff): XLNetFeedForward(\n",
       "          (layer_norm): LayerNorm((768,), eps=1e-12, elementwise_affine=True)\n",
       "          (layer_1): Linear(in_features=768, out_features=3072, bias=True)\n",
       "          (layer_2): Linear(in_features=3072, out_features=768, bias=True)\n",
       "          (dropout): Dropout(p=0.1, inplace=False)\n",
       "          (activation_function): GELUActivation()\n",
       "        )\n",
       "        (dropout): Dropout(p=0.1, inplace=False)\n",
       "      )\n",
       "    )\n",
       "    (dropout): Dropout(p=0.1, inplace=False)\n",
       "  )\n",
       "  (sequence_summary): SequenceSummary(\n",
       "    (summary): Linear(in_features=768, out_features=768, bias=True)\n",
       "    (activation): Tanh()\n",
       "    (first_dropout): Identity()\n",
       "    (last_dropout): Dropout(p=0.1, inplace=False)\n",
       "  )\n",
       "  (logits_proj): Linear(in_features=768, out_features=2, bias=True)\n",
       ")"
      ]
     },
     "execution_count": 24,
     "metadata": {},
     "output_type": "execute_result"
    }
   ],
   "source": [
    "# Load XLNEtForSequenceClassification, the pretrained XLNet model with a single linear classification layer on top. \n",
    "model = XLNetForSequenceClassification.from_pretrained('/kaggle/input/finetune-model-any/c_experimenttfrecords/model/c_pytorch_model', num_labels=2)\n",
    "model.cuda()"
   ]
  },
  {
   "cell_type": "code",
   "execution_count": 25,
   "id": "c9c223b0",
   "metadata": {
    "execution": {
     "iopub.execute_input": "2023-02-09T22:37:30.748305Z",
     "iopub.status.busy": "2023-02-09T22:37:30.747818Z",
     "iopub.status.idle": "2023-02-09T22:37:30.760371Z",
     "shell.execute_reply": "2023-02-09T22:37:30.759346Z"
    },
    "id": "ZJnZs3XXop-l",
    "papermill": {
     "duration": 0.02523,
     "end_time": "2023-02-09T22:37:30.762905",
     "exception": false,
     "start_time": "2023-02-09T22:37:30.737675",
     "status": "completed"
    },
    "tags": []
   },
   "outputs": [
    {
     "name": "stderr",
     "output_type": "stream",
     "text": [
      "/opt/conda/lib/python3.7/site-packages/transformers/optimization.py:310: FutureWarning: This implementation of AdamW is deprecated and will be removed in a future version. Use the PyTorch implementation torch.optim.AdamW instead, or set `no_deprecation_warning=True` to disable this warning\n",
      "  FutureWarning,\n"
     ]
    }
   ],
   "source": [
    "epochs = 25\n",
    "\n",
    "param_optimizer = list(model.named_parameters())\n",
    "no_decay = ['bias', 'gamma', 'beta']\n",
    "optimizer_grouped_parameters = [\n",
    "    {'params': [p for n, p in param_optimizer if not any(nd in n for nd in no_decay)],\n",
    "     'weight_decay_rate': 0.01},\n",
    "    {'params': [p for n, p in param_optimizer if any(nd in n for nd in no_decay)],\n",
    "     'weight_decay_rate': 0.0}\n",
    "]\n",
    "\n",
    "optimizer = AdamW(optimizer_grouped_parameters, lr=2e-5)\n",
    "total_steps = len(train_dataloader) * epochs\n",
    "scheduler = get_linear_schedule_with_warmup(\n",
    "  optimizer,\n",
    "  num_warmup_steps=0,\n",
    "  num_training_steps=total_steps\n",
    ")"
   ]
  },
  {
   "cell_type": "code",
   "execution_count": null,
   "id": "9f2076cf",
   "metadata": {
    "papermill": {
     "duration": 0.008995,
     "end_time": "2023-02-09T22:37:30.782690",
     "exception": false,
     "start_time": "2023-02-09T22:37:30.773695",
     "status": "completed"
    },
    "tags": []
   },
   "outputs": [],
   "source": []
  },
  {
   "cell_type": "markdown",
   "id": "19f6f521",
   "metadata": {
    "papermill": {
     "duration": 0.009374,
     "end_time": "2023-02-09T22:37:30.801393",
     "exception": false,
     "start_time": "2023-02-09T22:37:30.792019",
     "status": "completed"
    },
    "tags": []
   },
   "source": []
  },
  {
   "cell_type": "code",
   "execution_count": 26,
   "id": "4930920e",
   "metadata": {
    "execution": {
     "iopub.execute_input": "2023-02-09T22:37:30.821841Z",
     "iopub.status.busy": "2023-02-09T22:37:30.821011Z",
     "iopub.status.idle": "2023-02-09T22:37:30.834189Z",
     "shell.execute_reply": "2023-02-09T22:37:30.833321Z"
    },
    "executionInfo": {
     "elapsed": 2813457,
     "status": "ok",
     "timestamp": 1579513635379,
     "user": {
      "displayName": "Shivam Panwar",
      "photoUrl": "",
      "userId": "00811775879175788799"
     },
     "user_tz": -330
    },
    "id": "kAxSwesjpLvZ",
    "outputId": "4af04c7c-fa3d-4d09-98d6-643cb5c91a55",
    "papermill": {
     "duration": 0.025269,
     "end_time": "2023-02-09T22:37:30.836210",
     "exception": false,
     "start_time": "2023-02-09T22:37:30.810941",
     "status": "completed"
    },
    "tags": []
   },
   "outputs": [],
   "source": [
    "# Store our loss and accuracy for plotting\n",
    "def train_epoch(model, data_loader, optimizer, device, scheduler):\n",
    "  # Set our model to training mode (as opposed to evaluation mode)\n",
    "  model.train()\n",
    "  \n",
    "  # Tracking variables\n",
    "  tr_loss = 0\n",
    "  nb_tr_examples, nb_tr_steps = 0, 0\n",
    "  \n",
    "  # Train the data for one epoch\n",
    "  for step, batch in enumerate(train_dataloader):\n",
    "    # Add batch to GPU\n",
    "    batch = tuple(t.to(device) for t in batch)\n",
    "    # Unpack the inputs from our dataloader\n",
    "    b_input_ids, b_input_mask, b_labels = batch\n",
    "    # Clear out the gradients (by default they accumulate)\n",
    "    optimizer.zero_grad()\n",
    "    # Forward pass\n",
    "    outputs = model(b_input_ids, token_type_ids=None, attention_mask=b_input_mask, labels=b_labels)\n",
    "    loss = outputs[0]\n",
    "    logits = outputs[1]   \n",
    "    # Backward pass\n",
    "    loss.backward()\n",
    "    # Update parameters and take a step using the computed gradient\n",
    "    optimizer.step()\n",
    "    \n",
    "    \n",
    "    # Update tracking variables\n",
    "    tr_loss += loss.item()\n",
    "    nb_tr_examples += b_input_ids.size(0)\n",
    "    nb_tr_steps += 1\n",
    "  print(\"Train loss: {}\".format(tr_loss/nb_tr_steps))\n",
    "\n",
    "\n",
    "    "
   ]
  },
  {
   "cell_type": "code",
   "execution_count": 27,
   "id": "138f4cda",
   "metadata": {
    "execution": {
     "iopub.execute_input": "2023-02-09T22:37:30.856595Z",
     "iopub.status.busy": "2023-02-09T22:37:30.855655Z",
     "iopub.status.idle": "2023-02-09T22:37:30.863243Z",
     "shell.execute_reply": "2023-02-09T22:37:30.862385Z"
    },
    "papermill": {
     "duration": 0.01975,
     "end_time": "2023-02-09T22:37:30.865201",
     "exception": false,
     "start_time": "2023-02-09T22:37:30.845451",
     "status": "completed"
    },
    "tags": []
   },
   "outputs": [],
   "source": [
    "def eval_model(model, data_loader, device):\n",
    "    model = model.eval()\n",
    "    correct = 0\n",
    "    total = 0\n",
    "    predictions =[]\n",
    "    with torch.no_grad():\n",
    "        for i, batch in enumerate(data_loader):\n",
    "          batch = tuple(t.to(device) for t in batch)\n",
    "          # Unpack the inputs from our dataloader\n",
    "          b_input_ids, b_input_mask, b_labels = batch\n",
    "          # Forward pass\n",
    "          outputs = model(b_input_ids, token_type_ids=None, attention_mask=b_input_mask)\n",
    "          # print (outputs)\n",
    "          prediction = torch.argmax(outputs[0],dim=1)\n",
    "          predictions = predictions + prediction.tolist()\n",
    "          total += b_labels.size(0)\n",
    "          correct+=(prediction==b_labels).sum().item()\n",
    "    return correct / total, f1_score(labels_val, predictions, average='macro')"
   ]
  },
  {
   "cell_type": "code",
   "execution_count": 28,
   "id": "e760ca33",
   "metadata": {
    "execution": {
     "iopub.execute_input": "2023-02-09T22:37:30.885482Z",
     "iopub.status.busy": "2023-02-09T22:37:30.884567Z",
     "iopub.status.idle": "2023-02-09T22:43:24.764807Z",
     "shell.execute_reply": "2023-02-09T22:43:24.763718Z"
    },
    "papermill": {
     "duration": 353.892982,
     "end_time": "2023-02-09T22:43:24.767379",
     "exception": false,
     "start_time": "2023-02-09T22:37:30.874397",
     "status": "completed"
    },
    "tags": []
   },
   "outputs": [
    {
     "name": "stdout",
     "output_type": "stream",
     "text": [
      "Epoch 1/25\n",
      "----------\n",
      "Train loss: 0.5990785614207939\n",
      " Val accuracy 0.7023255813953488\n",
      " Val f1 0.412568306010929\n",
      "\n",
      "Epoch 2/25\n",
      "----------\n",
      "Train loss: 0.5325412717130449\n",
      " Val accuracy 0.8325581395348837\n",
      " Val f1 0.7717083529966966\n",
      "\n",
      "Epoch 3/25\n",
      "----------\n",
      "Train loss: 0.3786509434382121\n",
      " Val accuracy 0.8790697674418605\n",
      " Val f1 0.8392569588221763\n",
      "\n",
      "Epoch 4/25\n",
      "----------\n",
      "Train loss: 0.23163145214871125\n",
      " Val accuracy 0.9302325581395349\n",
      " Val f1 0.9145944228171924\n",
      "\n",
      "Epoch 5/25\n",
      "----------\n",
      "Train loss: 0.1282315778511542\n",
      " Val accuracy 0.9255813953488372\n",
      " Val f1 0.9075268817204301\n",
      "\n",
      "Epoch 6/25\n",
      "----------\n",
      "Train loss: 0.09825895664592584\n",
      " Val accuracy 0.9255813953488372\n",
      " Val f1 0.9075268817204301\n",
      "\n",
      "Epoch 7/25\n",
      "----------\n",
      "Train loss: 0.09636192868843123\n",
      " Val accuracy 0.9209302325581395\n",
      " Val f1 0.9022439755008158\n",
      "\n",
      "Epoch 8/25\n",
      "----------\n",
      "Train loss: 0.06699027381492434\n",
      " Val accuracy 0.9209302325581395\n",
      " Val f1 0.9012402388608176\n",
      "\n",
      "Epoch 9/25\n",
      "----------\n",
      "Train loss: 0.05533908245464166\n",
      " Val accuracy 0.9116279069767442\n",
      " Val f1 0.8884519811037384\n",
      "\n",
      "Epoch 10/25\n",
      "----------\n",
      "Train loss: 0.05861502873745782\n",
      " Val accuracy 0.9302325581395349\n",
      " Val f1 0.9137446842654257\n",
      "\n",
      "Epoch 11/25\n",
      "----------\n",
      "Train loss: 0.05988326632521219\n",
      " Val accuracy 0.9302325581395349\n",
      " Val f1 0.9137446842654257\n",
      "\n",
      "Epoch 12/25\n",
      "----------\n",
      "Train loss: 0.05493359609196583\n",
      " Val accuracy 0.9302325581395349\n",
      " Val f1 0.9128590342889569\n",
      "\n",
      "Epoch 13/25\n",
      "----------\n",
      "Train loss: 0.04955656391878923\n",
      " Val accuracy 0.9302325581395349\n",
      " Val f1 0.9128590342889569\n",
      "\n",
      "Epoch 14/25\n",
      "----------\n",
      "Train loss: 0.02587355764720727\n",
      " Val accuracy 0.9302325581395349\n",
      " Val f1 0.9128590342889569\n",
      "\n",
      "Epoch 15/25\n",
      "----------\n",
      "Train loss: 0.023799106569236353\n",
      " Val accuracy 0.9209302325581395\n",
      " Val f1 0.9012402388608176\n",
      "\n",
      "Epoch 16/25\n",
      "----------\n",
      "Train loss: 0.02250646440208786\n",
      " Val accuracy 0.9302325581395349\n",
      " Val f1 0.9128590342889569\n",
      "\n",
      "Epoch 17/25\n",
      "----------\n",
      "Train loss: 0.02917599308528696\n",
      " Val accuracy 0.9255813953488372\n",
      " Val f1 0.9065623641894827\n",
      "\n",
      "Epoch 18/25\n",
      "----------\n",
      "Train loss: 0.015375275328686391\n",
      " Val accuracy 0.9255813953488372\n",
      " Val f1 0.9075268817204301\n",
      "\n",
      "Epoch 19/25\n",
      "----------\n",
      "Train loss: 0.005643930473727071\n",
      " Val accuracy 0.9302325581395349\n",
      " Val f1 0.9137446842654257\n",
      "\n",
      "Epoch 20/25\n",
      "----------\n",
      "Train loss: 0.022281708997777767\n",
      " Val accuracy 0.9162790697674419\n",
      " Val f1 0.8980075901328273\n",
      "\n",
      "Epoch 21/25\n",
      "----------\n",
      "Train loss: 0.025103022219371742\n",
      " Val accuracy 0.9209302325581395\n",
      " Val f1 0.9050180608612042\n",
      "\n",
      "Epoch 22/25\n",
      "----------\n",
      "Train loss: 0.026638052437057788\n",
      " Val accuracy 0.9209302325581395\n",
      " Val f1 0.9041311475409837\n",
      "\n",
      "Epoch 23/25\n",
      "----------\n",
      "Train loss: 0.012015989886734772\n",
      " Val accuracy 0.9348837209302325\n",
      " Val f1 0.9198956780923995\n",
      "\n",
      "Epoch 24/25\n",
      "----------\n",
      "Train loss: 0.01719676100765355\n",
      " Val accuracy 0.9302325581395349\n",
      " Val f1 0.9154098360655738\n",
      "\n",
      "Epoch 25/25\n",
      "----------\n",
      "Train loss: 0.003188739743092339\n",
      " Val accuracy 0.9348837209302325\n",
      " Val f1 0.9190860215053764\n",
      "\n",
      " F1 Validation 0.9190860215053764\n"
     ]
    }
   ],
   "source": [
    "best_accuracy = 0\n",
    "best_f1 = 0\n",
    "\n",
    "# trange is a tqdm wrapper around the normal python range\n",
    "for epoch in range(epochs):\n",
    "    print(f'Epoch {epoch + 1}/{epochs}')\n",
    "    print('-' * 10)\n",
    "    \n",
    "    train_epoch(\n",
    "        model,\n",
    "        train_dataloader,     \n",
    "        optimizer, \n",
    "        device, \n",
    "        scheduler\n",
    "    )\n",
    "    \n",
    "    val_acc, val_f1 = eval_model(\n",
    "        model,\n",
    "        val_dataloader, \n",
    "        device\n",
    "    )\n",
    "    \n",
    "    print(f' Val accuracy {val_acc}')\n",
    "    print(f' Val f1 {val_f1}')\n",
    "    print()\n",
    "    if val_f1 > best_f1:\n",
    "        torch.save(model.state_dict(), '/kaggle/working/best_car_post-10-40_25epochs.ckpt')\n",
    "        best_f1 = val_f1\n",
    "\n",
    "print(f' F1 Validation {val_f1}')\n",
    "  \n",
    "torch.save(model.state_dict(), '/kaggle/working/last_car_post-10-40_25epochs.ckpt')\n",
    "  "
   ]
  }
 ],
 "metadata": {
  "kernelspec": {
   "display_name": "Python 3",
   "language": "python",
   "name": "python3"
  },
  "language_info": {
   "codemirror_mode": {
    "name": "ipython",
    "version": 3
   },
   "file_extension": ".py",
   "mimetype": "text/x-python",
   "name": "python",
   "nbconvert_exporter": "python",
   "pygments_lexer": "ipython3",
   "version": "3.7.12"
  },
  "papermill": {
   "default_parameters": {},
   "duration": 420.530215,
   "end_time": "2023-02-09T22:43:28.102190",
   "environment_variables": {},
   "exception": null,
   "input_path": "__notebook__.ipynb",
   "output_path": "__notebook__.ipynb",
   "parameters": {},
   "start_time": "2023-02-09T22:36:27.571975",
   "version": "2.3.4"
  },
  "widgets": {
   "application/vnd.jupyter.widget-state+json": {
    "state": {
     "09d95a75a42a493e9256e4cd2a13e054": {
      "model_module": "@jupyter-widgets/base",
      "model_module_version": "1.2.0",
      "model_name": "LayoutModel",
      "state": {
       "_model_module": "@jupyter-widgets/base",
       "_model_module_version": "1.2.0",
       "_model_name": "LayoutModel",
       "_view_count": null,
       "_view_module": "@jupyter-widgets/base",
       "_view_module_version": "1.2.0",
       "_view_name": "LayoutView",
       "align_content": null,
       "align_items": null,
       "align_self": null,
       "border": null,
       "bottom": null,
       "display": null,
       "flex": null,
       "flex_flow": null,
       "grid_area": null,
       "grid_auto_columns": null,
       "grid_auto_flow": null,
       "grid_auto_rows": null,
       "grid_column": null,
       "grid_gap": null,
       "grid_row": null,
       "grid_template_areas": null,
       "grid_template_columns": null,
       "grid_template_rows": null,
       "height": null,
       "justify_content": null,
       "justify_items": null,
       "left": null,
       "margin": null,
       "max_height": null,
       "max_width": null,
       "min_height": null,
       "min_width": null,
       "object_fit": null,
       "object_position": null,
       "order": null,
       "overflow": null,
       "overflow_x": null,
       "overflow_y": null,
       "padding": null,
       "right": null,
       "top": null,
       "visibility": null,
       "width": null
      }
     },
     "0c792576ec8b4846bd44de39573156f0": {
      "model_module": "@jupyter-widgets/controls",
      "model_module_version": "1.5.0",
      "model_name": "HTMLModel",
      "state": {
       "_dom_classes": [],
       "_model_module": "@jupyter-widgets/controls",
       "_model_module_version": "1.5.0",
       "_model_name": "HTMLModel",
       "_view_count": null,
       "_view_module": "@jupyter-widgets/controls",
       "_view_module_version": "1.5.0",
       "_view_name": "HTMLView",
       "description": "",
       "description_tooltip": null,
       "layout": "IPY_MODEL_b21c8cb094764acf9f6c116d3cd184f0",
       "placeholder": "​",
       "style": "IPY_MODEL_d20d870db6004726b6157ab750d2b711",
       "value": "Downloading: 100%"
      }
     },
     "1949c1905fcb49528e5452e428310594": {
      "model_module": "@jupyter-widgets/controls",
      "model_module_version": "1.5.0",
      "model_name": "HBoxModel",
      "state": {
       "_dom_classes": [],
       "_model_module": "@jupyter-widgets/controls",
       "_model_module_version": "1.5.0",
       "_model_name": "HBoxModel",
       "_view_count": null,
       "_view_module": "@jupyter-widgets/controls",
       "_view_module_version": "1.5.0",
       "_view_name": "HBoxView",
       "box_style": "",
       "children": [
        "IPY_MODEL_7e53131605bd4321ab2fba11d0f5be74",
        "IPY_MODEL_9926501d5ca24769b60b69052034b84a",
        "IPY_MODEL_37466dff88a9457eaab2bd309f57fbd6"
       ],
       "layout": "IPY_MODEL_7957061850c04333836e30640251d0fb"
      }
     },
     "1a9fe8265d814471a66035c06f192e05": {
      "model_module": "@jupyter-widgets/controls",
      "model_module_version": "1.5.0",
      "model_name": "HTMLModel",
      "state": {
       "_dom_classes": [],
       "_model_module": "@jupyter-widgets/controls",
       "_model_module_version": "1.5.0",
       "_model_name": "HTMLModel",
       "_view_count": null,
       "_view_module": "@jupyter-widgets/controls",
       "_view_module_version": "1.5.0",
       "_view_name": "HTMLView",
       "description": "",
       "description_tooltip": null,
       "layout": "IPY_MODEL_34f0a00e6c834a8d8569222a1cd85485",
       "placeholder": "​",
       "style": "IPY_MODEL_b6abefac29e249e4baa69f17a34a9f93",
       "value": "Downloading: 100%"
      }
     },
     "1eb5a9af861343d08fb7e960e9f988ea": {
      "model_module": "@jupyter-widgets/base",
      "model_module_version": "1.2.0",
      "model_name": "LayoutModel",
      "state": {
       "_model_module": "@jupyter-widgets/base",
       "_model_module_version": "1.2.0",
       "_model_name": "LayoutModel",
       "_view_count": null,
       "_view_module": "@jupyter-widgets/base",
       "_view_module_version": "1.2.0",
       "_view_name": "LayoutView",
       "align_content": null,
       "align_items": null,
       "align_self": null,
       "border": null,
       "bottom": null,
       "display": null,
       "flex": null,
       "flex_flow": null,
       "grid_area": null,
       "grid_auto_columns": null,
       "grid_auto_flow": null,
       "grid_auto_rows": null,
       "grid_column": null,
       "grid_gap": null,
       "grid_row": null,
       "grid_template_areas": null,
       "grid_template_columns": null,
       "grid_template_rows": null,
       "height": null,
       "justify_content": null,
       "justify_items": null,
       "left": null,
       "margin": null,
       "max_height": null,
       "max_width": null,
       "min_height": null,
       "min_width": null,
       "object_fit": null,
       "object_position": null,
       "order": null,
       "overflow": null,
       "overflow_x": null,
       "overflow_y": null,
       "padding": null,
       "right": null,
       "top": null,
       "visibility": null,
       "width": null
      }
     },
     "308a877fc4b54b77b402f46de1ccb40f": {
      "model_module": "@jupyter-widgets/controls",
      "model_module_version": "1.5.0",
      "model_name": "ProgressStyleModel",
      "state": {
       "_model_module": "@jupyter-widgets/controls",
       "_model_module_version": "1.5.0",
       "_model_name": "ProgressStyleModel",
       "_view_count": null,
       "_view_module": "@jupyter-widgets/base",
       "_view_module_version": "1.2.0",
       "_view_name": "StyleView",
       "bar_color": null,
       "description_width": ""
      }
     },
     "34f0a00e6c834a8d8569222a1cd85485": {
      "model_module": "@jupyter-widgets/base",
      "model_module_version": "1.2.0",
      "model_name": "LayoutModel",
      "state": {
       "_model_module": "@jupyter-widgets/base",
       "_model_module_version": "1.2.0",
       "_model_name": "LayoutModel",
       "_view_count": null,
       "_view_module": "@jupyter-widgets/base",
       "_view_module_version": "1.2.0",
       "_view_name": "LayoutView",
       "align_content": null,
       "align_items": null,
       "align_self": null,
       "border": null,
       "bottom": null,
       "display": null,
       "flex": null,
       "flex_flow": null,
       "grid_area": null,
       "grid_auto_columns": null,
       "grid_auto_flow": null,
       "grid_auto_rows": null,
       "grid_column": null,
       "grid_gap": null,
       "grid_row": null,
       "grid_template_areas": null,
       "grid_template_columns": null,
       "grid_template_rows": null,
       "height": null,
       "justify_content": null,
       "justify_items": null,
       "left": null,
       "margin": null,
       "max_height": null,
       "max_width": null,
       "min_height": null,
       "min_width": null,
       "object_fit": null,
       "object_position": null,
       "order": null,
       "overflow": null,
       "overflow_x": null,
       "overflow_y": null,
       "padding": null,
       "right": null,
       "top": null,
       "visibility": null,
       "width": null
      }
     },
     "3575875aaf104c7e9cfc2deb49e1c29f": {
      "model_module": "@jupyter-widgets/controls",
      "model_module_version": "1.5.0",
      "model_name": "FloatProgressModel",
      "state": {
       "_dom_classes": [],
       "_model_module": "@jupyter-widgets/controls",
       "_model_module_version": "1.5.0",
       "_model_name": "FloatProgressModel",
       "_view_count": null,
       "_view_module": "@jupyter-widgets/controls",
       "_view_module_version": "1.5.0",
       "_view_name": "ProgressView",
       "bar_style": "success",
       "description": "",
       "description_tooltip": null,
       "layout": "IPY_MODEL_aa4c6811efcc472b93fc02ba20fbbc9c",
       "max": 443.0,
       "min": 0.0,
       "orientation": "horizontal",
       "style": "IPY_MODEL_308a877fc4b54b77b402f46de1ccb40f",
       "value": 443.0
      }
     },
     "37466dff88a9457eaab2bd309f57fbd6": {
      "model_module": "@jupyter-widgets/controls",
      "model_module_version": "1.5.0",
      "model_name": "HTMLModel",
      "state": {
       "_dom_classes": [],
       "_model_module": "@jupyter-widgets/controls",
       "_model_module_version": "1.5.0",
       "_model_name": "HTMLModel",
       "_view_count": null,
       "_view_module": "@jupyter-widgets/controls",
       "_view_module_version": "1.5.0",
       "_view_name": "HTMLView",
       "description": "",
       "description_tooltip": null,
       "layout": "IPY_MODEL_09d95a75a42a493e9256e4cd2a13e054",
       "placeholder": "​",
       "style": "IPY_MODEL_e6d81b6485034f8c93d0240edef8d7df",
       "value": " 760k/760k [00:00&lt;00:00, 1.48MB/s]"
      }
     },
     "3814f7b77cca42e3b14f2e29d7743705": {
      "model_module": "@jupyter-widgets/base",
      "model_module_version": "1.2.0",
      "model_name": "LayoutModel",
      "state": {
       "_model_module": "@jupyter-widgets/base",
       "_model_module_version": "1.2.0",
       "_model_name": "LayoutModel",
       "_view_count": null,
       "_view_module": "@jupyter-widgets/base",
       "_view_module_version": "1.2.0",
       "_view_name": "LayoutView",
       "align_content": null,
       "align_items": null,
       "align_self": null,
       "border": null,
       "bottom": null,
       "display": null,
       "flex": null,
       "flex_flow": null,
       "grid_area": null,
       "grid_auto_columns": null,
       "grid_auto_flow": null,
       "grid_auto_rows": null,
       "grid_column": null,
       "grid_gap": null,
       "grid_row": null,
       "grid_template_areas": null,
       "grid_template_columns": null,
       "grid_template_rows": null,
       "height": null,
       "justify_content": null,
       "justify_items": null,
       "left": null,
       "margin": null,
       "max_height": null,
       "max_width": null,
       "min_height": null,
       "min_width": null,
       "object_fit": null,
       "object_position": null,
       "order": null,
       "overflow": null,
       "overflow_x": null,
       "overflow_y": null,
       "padding": null,
       "right": null,
       "top": null,
       "visibility": null,
       "width": null
      }
     },
     "3c3b359f5dde4b05a1c74b80c62dcf14": {
      "model_module": "@jupyter-widgets/controls",
      "model_module_version": "1.5.0",
      "model_name": "FloatProgressModel",
      "state": {
       "_dom_classes": [],
       "_model_module": "@jupyter-widgets/controls",
       "_model_module_version": "1.5.0",
       "_model_name": "FloatProgressModel",
       "_view_count": null,
       "_view_module": "@jupyter-widgets/controls",
       "_view_module_version": "1.5.0",
       "_view_name": "ProgressView",
       "bar_style": "success",
       "description": "",
       "description_tooltip": null,
       "layout": "IPY_MODEL_82e4f0ab83f14c5b98820df2cb2b242a",
       "max": 290.0,
       "min": 0.0,
       "orientation": "horizontal",
       "style": "IPY_MODEL_5539daa6f1df421b8133e1e8790b0080",
       "value": 290.0
      }
     },
     "5539daa6f1df421b8133e1e8790b0080": {
      "model_module": "@jupyter-widgets/controls",
      "model_module_version": "1.5.0",
      "model_name": "ProgressStyleModel",
      "state": {
       "_model_module": "@jupyter-widgets/controls",
       "_model_module_version": "1.5.0",
       "_model_name": "ProgressStyleModel",
       "_view_count": null,
       "_view_module": "@jupyter-widgets/base",
       "_view_module_version": "1.2.0",
       "_view_name": "StyleView",
       "bar_color": null,
       "description_width": ""
      }
     },
     "64b3cb9bc0774cc8a0ed45890a7c824c": {
      "model_module": "@jupyter-widgets/base",
      "model_module_version": "1.2.0",
      "model_name": "LayoutModel",
      "state": {
       "_model_module": "@jupyter-widgets/base",
       "_model_module_version": "1.2.0",
       "_model_name": "LayoutModel",
       "_view_count": null,
       "_view_module": "@jupyter-widgets/base",
       "_view_module_version": "1.2.0",
       "_view_name": "LayoutView",
       "align_content": null,
       "align_items": null,
       "align_self": null,
       "border": null,
       "bottom": null,
       "display": null,
       "flex": null,
       "flex_flow": null,
       "grid_area": null,
       "grid_auto_columns": null,
       "grid_auto_flow": null,
       "grid_auto_rows": null,
       "grid_column": null,
       "grid_gap": null,
       "grid_row": null,
       "grid_template_areas": null,
       "grid_template_columns": null,
       "grid_template_rows": null,
       "height": null,
       "justify_content": null,
       "justify_items": null,
       "left": null,
       "margin": null,
       "max_height": null,
       "max_width": null,
       "min_height": null,
       "min_width": null,
       "object_fit": null,
       "object_position": null,
       "order": null,
       "overflow": null,
       "overflow_x": null,
       "overflow_y": null,
       "padding": null,
       "right": null,
       "top": null,
       "visibility": null,
       "width": null
      }
     },
     "7957061850c04333836e30640251d0fb": {
      "model_module": "@jupyter-widgets/base",
      "model_module_version": "1.2.0",
      "model_name": "LayoutModel",
      "state": {
       "_model_module": "@jupyter-widgets/base",
       "_model_module_version": "1.2.0",
       "_model_name": "LayoutModel",
       "_view_count": null,
       "_view_module": "@jupyter-widgets/base",
       "_view_module_version": "1.2.0",
       "_view_name": "LayoutView",
       "align_content": null,
       "align_items": null,
       "align_self": null,
       "border": null,
       "bottom": null,
       "display": null,
       "flex": null,
       "flex_flow": null,
       "grid_area": null,
       "grid_auto_columns": null,
       "grid_auto_flow": null,
       "grid_auto_rows": null,
       "grid_column": null,
       "grid_gap": null,
       "grid_row": null,
       "grid_template_areas": null,
       "grid_template_columns": null,
       "grid_template_rows": null,
       "height": null,
       "justify_content": null,
       "justify_items": null,
       "left": null,
       "margin": null,
       "max_height": null,
       "max_width": null,
       "min_height": null,
       "min_width": null,
       "object_fit": null,
       "object_position": null,
       "order": null,
       "overflow": null,
       "overflow_x": null,
       "overflow_y": null,
       "padding": null,
       "right": null,
       "top": null,
       "visibility": null,
       "width": null
      }
     },
     "7e53131605bd4321ab2fba11d0f5be74": {
      "model_module": "@jupyter-widgets/controls",
      "model_module_version": "1.5.0",
      "model_name": "HTMLModel",
      "state": {
       "_dom_classes": [],
       "_model_module": "@jupyter-widgets/controls",
       "_model_module_version": "1.5.0",
       "_model_name": "HTMLModel",
       "_view_count": null,
       "_view_module": "@jupyter-widgets/controls",
       "_view_module_version": "1.5.0",
       "_view_name": "HTMLView",
       "description": "",
       "description_tooltip": null,
       "layout": "IPY_MODEL_3814f7b77cca42e3b14f2e29d7743705",
       "placeholder": "​",
       "style": "IPY_MODEL_acb1753ebe9f44b68658fd5876c52a3b",
       "value": "Downloading: 100%"
      }
     },
     "7f43b8b9045149efae874a8b33e74887": {
      "model_module": "@jupyter-widgets/controls",
      "model_module_version": "1.5.0",
      "model_name": "HTMLModel",
      "state": {
       "_dom_classes": [],
       "_model_module": "@jupyter-widgets/controls",
       "_model_module_version": "1.5.0",
       "_model_name": "HTMLModel",
       "_view_count": null,
       "_view_module": "@jupyter-widgets/controls",
       "_view_module_version": "1.5.0",
       "_view_name": "HTMLView",
       "description": "",
       "description_tooltip": null,
       "layout": "IPY_MODEL_873ffba83f50414ba7dfc64434691108",
       "placeholder": "​",
       "style": "IPY_MODEL_9346b3e2eec94433b5f5814564a99d33",
       "value": " 290/290 [00:00&lt;00:00, 11.1kB/s]"
      }
     },
     "82e4f0ab83f14c5b98820df2cb2b242a": {
      "model_module": "@jupyter-widgets/base",
      "model_module_version": "1.2.0",
      "model_name": "LayoutModel",
      "state": {
       "_model_module": "@jupyter-widgets/base",
       "_model_module_version": "1.2.0",
       "_model_name": "LayoutModel",
       "_view_count": null,
       "_view_module": "@jupyter-widgets/base",
       "_view_module_version": "1.2.0",
       "_view_name": "LayoutView",
       "align_content": null,
       "align_items": null,
       "align_self": null,
       "border": null,
       "bottom": null,
       "display": null,
       "flex": null,
       "flex_flow": null,
       "grid_area": null,
       "grid_auto_columns": null,
       "grid_auto_flow": null,
       "grid_auto_rows": null,
       "grid_column": null,
       "grid_gap": null,
       "grid_row": null,
       "grid_template_areas": null,
       "grid_template_columns": null,
       "grid_template_rows": null,
       "height": null,
       "justify_content": null,
       "justify_items": null,
       "left": null,
       "margin": null,
       "max_height": null,
       "max_width": null,
       "min_height": null,
       "min_width": null,
       "object_fit": null,
       "object_position": null,
       "order": null,
       "overflow": null,
       "overflow_x": null,
       "overflow_y": null,
       "padding": null,
       "right": null,
       "top": null,
       "visibility": null,
       "width": null
      }
     },
     "84989b1ecfa045029fedcd43cae7b807": {
      "model_module": "@jupyter-widgets/controls",
      "model_module_version": "1.5.0",
      "model_name": "ProgressStyleModel",
      "state": {
       "_model_module": "@jupyter-widgets/controls",
       "_model_module_version": "1.5.0",
       "_model_name": "ProgressStyleModel",
       "_view_count": null,
       "_view_module": "@jupyter-widgets/base",
       "_view_module_version": "1.2.0",
       "_view_name": "StyleView",
       "bar_color": null,
       "description_width": ""
      }
     },
     "873ffba83f50414ba7dfc64434691108": {
      "model_module": "@jupyter-widgets/base",
      "model_module_version": "1.2.0",
      "model_name": "LayoutModel",
      "state": {
       "_model_module": "@jupyter-widgets/base",
       "_model_module_version": "1.2.0",
       "_model_name": "LayoutModel",
       "_view_count": null,
       "_view_module": "@jupyter-widgets/base",
       "_view_module_version": "1.2.0",
       "_view_name": "LayoutView",
       "align_content": null,
       "align_items": null,
       "align_self": null,
       "border": null,
       "bottom": null,
       "display": null,
       "flex": null,
       "flex_flow": null,
       "grid_area": null,
       "grid_auto_columns": null,
       "grid_auto_flow": null,
       "grid_auto_rows": null,
       "grid_column": null,
       "grid_gap": null,
       "grid_row": null,
       "grid_template_areas": null,
       "grid_template_columns": null,
       "grid_template_rows": null,
       "height": null,
       "justify_content": null,
       "justify_items": null,
       "left": null,
       "margin": null,
       "max_height": null,
       "max_width": null,
       "min_height": null,
       "min_width": null,
       "object_fit": null,
       "object_position": null,
       "order": null,
       "overflow": null,
       "overflow_x": null,
       "overflow_y": null,
       "padding": null,
       "right": null,
       "top": null,
       "visibility": null,
       "width": null
      }
     },
     "8c0c59f81ff146c687c538ea9412c1f1": {
      "model_module": "@jupyter-widgets/controls",
      "model_module_version": "1.5.0",
      "model_name": "HBoxModel",
      "state": {
       "_dom_classes": [],
       "_model_module": "@jupyter-widgets/controls",
       "_model_module_version": "1.5.0",
       "_model_name": "HBoxModel",
       "_view_count": null,
       "_view_module": "@jupyter-widgets/controls",
       "_view_module_version": "1.5.0",
       "_view_name": "HBoxView",
       "box_style": "",
       "children": [
        "IPY_MODEL_1a9fe8265d814471a66035c06f192e05",
        "IPY_MODEL_3c3b359f5dde4b05a1c74b80c62dcf14",
        "IPY_MODEL_7f43b8b9045149efae874a8b33e74887"
       ],
       "layout": "IPY_MODEL_64b3cb9bc0774cc8a0ed45890a7c824c"
      }
     },
     "92fd83221a6f4b81954fd25b2dc801f3": {
      "model_module": "@jupyter-widgets/base",
      "model_module_version": "1.2.0",
      "model_name": "LayoutModel",
      "state": {
       "_model_module": "@jupyter-widgets/base",
       "_model_module_version": "1.2.0",
       "_model_name": "LayoutModel",
       "_view_count": null,
       "_view_module": "@jupyter-widgets/base",
       "_view_module_version": "1.2.0",
       "_view_name": "LayoutView",
       "align_content": null,
       "align_items": null,
       "align_self": null,
       "border": null,
       "bottom": null,
       "display": null,
       "flex": null,
       "flex_flow": null,
       "grid_area": null,
       "grid_auto_columns": null,
       "grid_auto_flow": null,
       "grid_auto_rows": null,
       "grid_column": null,
       "grid_gap": null,
       "grid_row": null,
       "grid_template_areas": null,
       "grid_template_columns": null,
       "grid_template_rows": null,
       "height": null,
       "justify_content": null,
       "justify_items": null,
       "left": null,
       "margin": null,
       "max_height": null,
       "max_width": null,
       "min_height": null,
       "min_width": null,
       "object_fit": null,
       "object_position": null,
       "order": null,
       "overflow": null,
       "overflow_x": null,
       "overflow_y": null,
       "padding": null,
       "right": null,
       "top": null,
       "visibility": null,
       "width": null
      }
     },
     "9346b3e2eec94433b5f5814564a99d33": {
      "model_module": "@jupyter-widgets/controls",
      "model_module_version": "1.5.0",
      "model_name": "DescriptionStyleModel",
      "state": {
       "_model_module": "@jupyter-widgets/controls",
       "_model_module_version": "1.5.0",
       "_model_name": "DescriptionStyleModel",
       "_view_count": null,
       "_view_module": "@jupyter-widgets/base",
       "_view_module_version": "1.2.0",
       "_view_name": "StyleView",
       "description_width": ""
      }
     },
     "9926501d5ca24769b60b69052034b84a": {
      "model_module": "@jupyter-widgets/controls",
      "model_module_version": "1.5.0",
      "model_name": "FloatProgressModel",
      "state": {
       "_dom_classes": [],
       "_model_module": "@jupyter-widgets/controls",
       "_model_module_version": "1.5.0",
       "_model_name": "FloatProgressModel",
       "_view_count": null,
       "_view_module": "@jupyter-widgets/controls",
       "_view_module_version": "1.5.0",
       "_view_name": "ProgressView",
       "bar_style": "success",
       "description": "",
       "description_tooltip": null,
       "layout": "IPY_MODEL_b6a0e65239b04f1bb1801a61490f170c",
       "max": 778744.0,
       "min": 0.0,
       "orientation": "horizontal",
       "style": "IPY_MODEL_84989b1ecfa045029fedcd43cae7b807",
       "value": 778744.0
      }
     },
     "aa4c6811efcc472b93fc02ba20fbbc9c": {
      "model_module": "@jupyter-widgets/base",
      "model_module_version": "1.2.0",
      "model_name": "LayoutModel",
      "state": {
       "_model_module": "@jupyter-widgets/base",
       "_model_module_version": "1.2.0",
       "_model_name": "LayoutModel",
       "_view_count": null,
       "_view_module": "@jupyter-widgets/base",
       "_view_module_version": "1.2.0",
       "_view_name": "LayoutView",
       "align_content": null,
       "align_items": null,
       "align_self": null,
       "border": null,
       "bottom": null,
       "display": null,
       "flex": null,
       "flex_flow": null,
       "grid_area": null,
       "grid_auto_columns": null,
       "grid_auto_flow": null,
       "grid_auto_rows": null,
       "grid_column": null,
       "grid_gap": null,
       "grid_row": null,
       "grid_template_areas": null,
       "grid_template_columns": null,
       "grid_template_rows": null,
       "height": null,
       "justify_content": null,
       "justify_items": null,
       "left": null,
       "margin": null,
       "max_height": null,
       "max_width": null,
       "min_height": null,
       "min_width": null,
       "object_fit": null,
       "object_position": null,
       "order": null,
       "overflow": null,
       "overflow_x": null,
       "overflow_y": null,
       "padding": null,
       "right": null,
       "top": null,
       "visibility": null,
       "width": null
      }
     },
     "acb1753ebe9f44b68658fd5876c52a3b": {
      "model_module": "@jupyter-widgets/controls",
      "model_module_version": "1.5.0",
      "model_name": "DescriptionStyleModel",
      "state": {
       "_model_module": "@jupyter-widgets/controls",
       "_model_module_version": "1.5.0",
       "_model_name": "DescriptionStyleModel",
       "_view_count": null,
       "_view_module": "@jupyter-widgets/base",
       "_view_module_version": "1.2.0",
       "_view_name": "StyleView",
       "description_width": ""
      }
     },
     "b21c8cb094764acf9f6c116d3cd184f0": {
      "model_module": "@jupyter-widgets/base",
      "model_module_version": "1.2.0",
      "model_name": "LayoutModel",
      "state": {
       "_model_module": "@jupyter-widgets/base",
       "_model_module_version": "1.2.0",
       "_model_name": "LayoutModel",
       "_view_count": null,
       "_view_module": "@jupyter-widgets/base",
       "_view_module_version": "1.2.0",
       "_view_name": "LayoutView",
       "align_content": null,
       "align_items": null,
       "align_self": null,
       "border": null,
       "bottom": null,
       "display": null,
       "flex": null,
       "flex_flow": null,
       "grid_area": null,
       "grid_auto_columns": null,
       "grid_auto_flow": null,
       "grid_auto_rows": null,
       "grid_column": null,
       "grid_gap": null,
       "grid_row": null,
       "grid_template_areas": null,
       "grid_template_columns": null,
       "grid_template_rows": null,
       "height": null,
       "justify_content": null,
       "justify_items": null,
       "left": null,
       "margin": null,
       "max_height": null,
       "max_width": null,
       "min_height": null,
       "min_width": null,
       "object_fit": null,
       "object_position": null,
       "order": null,
       "overflow": null,
       "overflow_x": null,
       "overflow_y": null,
       "padding": null,
       "right": null,
       "top": null,
       "visibility": null,
       "width": null
      }
     },
     "b6a0e65239b04f1bb1801a61490f170c": {
      "model_module": "@jupyter-widgets/base",
      "model_module_version": "1.2.0",
      "model_name": "LayoutModel",
      "state": {
       "_model_module": "@jupyter-widgets/base",
       "_model_module_version": "1.2.0",
       "_model_name": "LayoutModel",
       "_view_count": null,
       "_view_module": "@jupyter-widgets/base",
       "_view_module_version": "1.2.0",
       "_view_name": "LayoutView",
       "align_content": null,
       "align_items": null,
       "align_self": null,
       "border": null,
       "bottom": null,
       "display": null,
       "flex": null,
       "flex_flow": null,
       "grid_area": null,
       "grid_auto_columns": null,
       "grid_auto_flow": null,
       "grid_auto_rows": null,
       "grid_column": null,
       "grid_gap": null,
       "grid_row": null,
       "grid_template_areas": null,
       "grid_template_columns": null,
       "grid_template_rows": null,
       "height": null,
       "justify_content": null,
       "justify_items": null,
       "left": null,
       "margin": null,
       "max_height": null,
       "max_width": null,
       "min_height": null,
       "min_width": null,
       "object_fit": null,
       "object_position": null,
       "order": null,
       "overflow": null,
       "overflow_x": null,
       "overflow_y": null,
       "padding": null,
       "right": null,
       "top": null,
       "visibility": null,
       "width": null
      }
     },
     "b6abefac29e249e4baa69f17a34a9f93": {
      "model_module": "@jupyter-widgets/controls",
      "model_module_version": "1.5.0",
      "model_name": "DescriptionStyleModel",
      "state": {
       "_model_module": "@jupyter-widgets/controls",
       "_model_module_version": "1.5.0",
       "_model_name": "DescriptionStyleModel",
       "_view_count": null,
       "_view_module": "@jupyter-widgets/base",
       "_view_module_version": "1.2.0",
       "_view_name": "StyleView",
       "description_width": ""
      }
     },
     "b98a2393addb44b49443b5f2e46aa58c": {
      "model_module": "@jupyter-widgets/controls",
      "model_module_version": "1.5.0",
      "model_name": "HTMLModel",
      "state": {
       "_dom_classes": [],
       "_model_module": "@jupyter-widgets/controls",
       "_model_module_version": "1.5.0",
       "_model_name": "HTMLModel",
       "_view_count": null,
       "_view_module": "@jupyter-widgets/controls",
       "_view_module_version": "1.5.0",
       "_view_name": "HTMLView",
       "description": "",
       "description_tooltip": null,
       "layout": "IPY_MODEL_92fd83221a6f4b81954fd25b2dc801f3",
       "placeholder": "​",
       "style": "IPY_MODEL_dab19d4887ba407da71ee1315ba076bf",
       "value": " 443/443 [00:00&lt;00:00, 16.0kB/s]"
      }
     },
     "d20d870db6004726b6157ab750d2b711": {
      "model_module": "@jupyter-widgets/controls",
      "model_module_version": "1.5.0",
      "model_name": "DescriptionStyleModel",
      "state": {
       "_model_module": "@jupyter-widgets/controls",
       "_model_module_version": "1.5.0",
       "_model_name": "DescriptionStyleModel",
       "_view_count": null,
       "_view_module": "@jupyter-widgets/base",
       "_view_module_version": "1.2.0",
       "_view_name": "StyleView",
       "description_width": ""
      }
     },
     "dab19d4887ba407da71ee1315ba076bf": {
      "model_module": "@jupyter-widgets/controls",
      "model_module_version": "1.5.0",
      "model_name": "DescriptionStyleModel",
      "state": {
       "_model_module": "@jupyter-widgets/controls",
       "_model_module_version": "1.5.0",
       "_model_name": "DescriptionStyleModel",
       "_view_count": null,
       "_view_module": "@jupyter-widgets/base",
       "_view_module_version": "1.2.0",
       "_view_name": "StyleView",
       "description_width": ""
      }
     },
     "df3740ad288a484a9fa896a4d19883c7": {
      "model_module": "@jupyter-widgets/controls",
      "model_module_version": "1.5.0",
      "model_name": "HBoxModel",
      "state": {
       "_dom_classes": [],
       "_model_module": "@jupyter-widgets/controls",
       "_model_module_version": "1.5.0",
       "_model_name": "HBoxModel",
       "_view_count": null,
       "_view_module": "@jupyter-widgets/controls",
       "_view_module_version": "1.5.0",
       "_view_name": "HBoxView",
       "box_style": "",
       "children": [
        "IPY_MODEL_0c792576ec8b4846bd44de39573156f0",
        "IPY_MODEL_3575875aaf104c7e9cfc2deb49e1c29f",
        "IPY_MODEL_b98a2393addb44b49443b5f2e46aa58c"
       ],
       "layout": "IPY_MODEL_1eb5a9af861343d08fb7e960e9f988ea"
      }
     },
     "e6d81b6485034f8c93d0240edef8d7df": {
      "model_module": "@jupyter-widgets/controls",
      "model_module_version": "1.5.0",
      "model_name": "DescriptionStyleModel",
      "state": {
       "_model_module": "@jupyter-widgets/controls",
       "_model_module_version": "1.5.0",
       "_model_name": "DescriptionStyleModel",
       "_view_count": null,
       "_view_module": "@jupyter-widgets/base",
       "_view_module_version": "1.2.0",
       "_view_name": "StyleView",
       "description_width": ""
      }
     }
    },
    "version_major": 2,
    "version_minor": 0
   }
  }
 },
 "nbformat": 4,
 "nbformat_minor": 5
}
