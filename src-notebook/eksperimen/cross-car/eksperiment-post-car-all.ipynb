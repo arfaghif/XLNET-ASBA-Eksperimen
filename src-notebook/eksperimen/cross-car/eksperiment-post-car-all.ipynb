{
 "cells": [
  {
   "cell_type": "code",
   "execution_count": 1,
   "id": "74a97cd8",
   "metadata": {
    "execution": {
     "iopub.execute_input": "2023-02-10T00:48:39.952994Z",
     "iopub.status.busy": "2023-02-10T00:48:39.951925Z",
     "iopub.status.idle": "2023-02-10T00:48:40.018852Z",
     "shell.execute_reply": "2023-02-10T00:48:40.017864Z"
    },
    "executionInfo": {
     "elapsed": 982,
     "status": "ok",
     "timestamp": 1580107791261,
     "user": {
      "displayName": "Shivam Panwar",
      "photoUrl": "",
      "userId": "00811775879175788799"
     },
     "user_tz": -330
    },
    "id": "kbPkR88PRcAI",
    "outputId": "568a85d1-af8a-44f4-d62a-614ef41a0be1",
    "papermill": {
     "duration": 0.078414,
     "end_time": "2023-02-10T00:48:40.021767",
     "exception": false,
     "start_time": "2023-02-10T00:48:39.943353",
     "status": "completed"
    },
    "tags": []
   },
   "outputs": [
    {
     "name": "stdout",
     "output_type": "stream",
     "text": [
      "/kaggle/input/finetune-model-airy-corpus/experimenttfrecords/corpus_info.json\n",
      "/kaggle/input/finetune-model-airy-corpus/experimenttfrecords/model/config.json\n",
      "/kaggle/input/finetune-model-airy-corpus/experimenttfrecords/model/model.ckpt.meta\n",
      "/kaggle/input/finetune-model-airy-corpus/experimenttfrecords/model/model.ckpt.index\n",
      "/kaggle/input/finetune-model-airy-corpus/experimenttfrecords/model/model.ckpt.data-00000-of-00001\n",
      "/kaggle/input/finetune-model-airy-corpus/experimenttfrecords/model/checkpoint\n",
      "/kaggle/input/finetune-model-airy-corpus/experimenttfrecords/model/pytorch_model/config.json\n",
      "/kaggle/input/finetune-model-airy-corpus/experimenttfrecords/model/pytorch_model/pytorch_model.bin\n",
      "/kaggle/input/finetune-model-airy-corpus/experimenttfrecords/tfrecords/record_info-train-0-0.bsz-8.seqlen-128.reuse-64.uni.alpha-6.beta-1.fnp-50.json\n",
      "/kaggle/input/finetune-model-airy-corpus/experimenttfrecords/tfrecords/train-0-0.bsz-8.seqlen-128.reuse-64.uni.alpha-6.beta-1.fnp-50.tfrecords\n",
      "/kaggle/input/asba-nlim/airy_test_nlim.csv\n",
      "/kaggle/input/asba-nlim/airy_test_nlim2.csv\n",
      "/kaggle/input/asba-nlim/rest_test_nlim.csv\n",
      "/kaggle/input/asba-nlim/car_train_nlim.csv\n",
      "/kaggle/input/asba-nlim/rest_train_nlim.csv\n",
      "/kaggle/input/asba-nlim/airy_train_nlim.csv\n",
      "/kaggle/input/asba-nlim/car_test_nlim.csv\n",
      "/kaggle/input/finetune-model-any/all_experimenttfrecords/corpus_info.json\n",
      "/kaggle/input/finetune-model-any/all_experimenttfrecords/model/config.json\n",
      "/kaggle/input/finetune-model-any/all_experimenttfrecords/model/model.ckpt.meta\n",
      "/kaggle/input/finetune-model-any/all_experimenttfrecords/model/model.ckpt.index\n",
      "/kaggle/input/finetune-model-any/all_experimenttfrecords/model/model.ckpt.data-00000-of-00001\n",
      "/kaggle/input/finetune-model-any/all_experimenttfrecords/model/checkpoint\n",
      "/kaggle/input/finetune-model-any/all_experimenttfrecords/model/all_pytorch_model/config.json\n",
      "/kaggle/input/finetune-model-any/all_experimenttfrecords/model/all_pytorch_model/pytorch_model.bin\n",
      "/kaggle/input/finetune-model-any/all_experimenttfrecords/tfrecords/record_info-train-0-0.bsz-8.seqlen-128.reuse-64.uni.alpha-6.beta-1.fnp-50.json\n",
      "/kaggle/input/finetune-model-any/all_experimenttfrecords/tfrecords/train-0-0.bsz-8.seqlen-128.reuse-64.uni.alpha-6.beta-1.fnp-50.tfrecords\n"
     ]
    }
   ],
   "source": [
    "import os\n",
    "for dirname, _, filenames in os.walk('/kaggle/input'):\n",
    "    for filename in filenames:\n",
    "        print(os.path.join(dirname, filename))"
   ]
  },
  {
   "cell_type": "code",
   "execution_count": 2,
   "id": "0317481d",
   "metadata": {
    "execution": {
     "iopub.execute_input": "2023-02-10T00:48:40.035171Z",
     "iopub.status.busy": "2023-02-10T00:48:40.034843Z",
     "iopub.status.idle": "2023-02-10T00:48:47.066757Z",
     "shell.execute_reply": "2023-02-10T00:48:47.063356Z"
    },
    "papermill": {
     "duration": 7.040907,
     "end_time": "2023-02-10T00:48:47.068843",
     "exception": false,
     "start_time": "2023-02-10T00:48:40.027936",
     "status": "completed"
    },
    "tags": []
   },
   "outputs": [
    {
     "name": "stdout",
     "output_type": "stream",
     "text": [
      "Found GPU at: /device:GPU:0\n"
     ]
    },
    {
     "name": "stderr",
     "output_type": "stream",
     "text": [
      "2023-02-10 00:48:44.479025: I tensorflow/core/platform/cpu_feature_guard.cc:142] This TensorFlow binary is optimized with oneAPI Deep Neural Network Library (oneDNN) to use the following CPU instructions in performance-critical operations:  AVX2 AVX512F FMA\n",
      "To enable them in other operations, rebuild TensorFlow with the appropriate compiler flags.\n",
      "2023-02-10 00:48:44.553675: I tensorflow/stream_executor/cuda/cuda_gpu_executor.cc:937] successful NUMA node read from SysFS had negative value (-1), but there must be at least one NUMA node, so returning NUMA node zero\n",
      "2023-02-10 00:48:44.658379: I tensorflow/stream_executor/cuda/cuda_gpu_executor.cc:937] successful NUMA node read from SysFS had negative value (-1), but there must be at least one NUMA node, so returning NUMA node zero\n",
      "2023-02-10 00:48:44.659199: I tensorflow/stream_executor/cuda/cuda_gpu_executor.cc:937] successful NUMA node read from SysFS had negative value (-1), but there must be at least one NUMA node, so returning NUMA node zero\n",
      "2023-02-10 00:48:47.053133: I tensorflow/stream_executor/cuda/cuda_gpu_executor.cc:937] successful NUMA node read from SysFS had negative value (-1), but there must be at least one NUMA node, so returning NUMA node zero\n",
      "2023-02-10 00:48:47.053994: I tensorflow/stream_executor/cuda/cuda_gpu_executor.cc:937] successful NUMA node read from SysFS had negative value (-1), but there must be at least one NUMA node, so returning NUMA node zero\n",
      "2023-02-10 00:48:47.054663: I tensorflow/stream_executor/cuda/cuda_gpu_executor.cc:937] successful NUMA node read from SysFS had negative value (-1), but there must be at least one NUMA node, so returning NUMA node zero\n",
      "2023-02-10 00:48:47.055238: I tensorflow/core/common_runtime/gpu/gpu_device.cc:1510] Created device /device:GPU:0 with 15401 MB memory:  -> device: 0, name: Tesla P100-PCIE-16GB, pci bus id: 0000:00:04.0, compute capability: 6.0\n"
     ]
    }
   ],
   "source": [
    "import tensorflow as tf\n",
    "\n",
    "device_name = tf.test.gpu_device_name()\n",
    "if device_name != '/device:GPU:0':\n",
    "  raise SystemError('GPU device not found')\n",
    "print('Found GPU at: {}'.format(device_name))"
   ]
  },
  {
   "cell_type": "code",
   "execution_count": 3,
   "id": "d391302c",
   "metadata": {
    "execution": {
     "iopub.execute_input": "2023-02-10T00:48:47.083478Z",
     "iopub.status.busy": "2023-02-10T00:48:47.082636Z",
     "iopub.status.idle": "2023-02-10T00:49:17.342543Z",
     "shell.execute_reply": "2023-02-10T00:49:17.341383Z"
    },
    "executionInfo": {
     "elapsed": 15259,
     "status": "ok",
     "timestamp": 1579507775275,
     "user": {
      "displayName": "Shivam Panwar",
      "photoUrl": "",
      "userId": "00811775879175788799"
     },
     "user_tz": -330
    },
    "id": "iT7RB9yvRn0j",
    "outputId": "90a65303-12cb-4a73-9edc-66b35ed022d5",
    "papermill": {
     "duration": 30.269442,
     "end_time": "2023-02-10T00:49:17.344982",
     "exception": false,
     "start_time": "2023-02-10T00:48:47.075540",
     "status": "completed"
    },
    "tags": []
   },
   "outputs": [
    {
     "name": "stdout",
     "output_type": "stream",
     "text": [
      "Requirement already satisfied: sentencepiece in /opt/conda/lib/python3.7/site-packages (0.1.97)\r\n",
      "\u001b[33mWARNING: Running pip as the 'root' user can result in broken permissions and conflicting behaviour with the system package manager. It is recommended to use a virtual environment instead: https://pip.pypa.io/warnings/venv\u001b[0m\u001b[33m\r\n",
      "\u001b[0mCollecting pytorch-transformers\r\n",
      "  Downloading pytorch_transformers-1.2.0-py3-none-any.whl (176 kB)\r\n",
      "\u001b[2K     \u001b[90m━━━━━━━━━━━━━━━━━━━━━━━━━━━━━━━━━━━━━━━\u001b[0m \u001b[32m176.4/176.4 kB\u001b[0m \u001b[31m1.2 MB/s\u001b[0m eta \u001b[36m0:00:00\u001b[0m\r\n",
      "\u001b[?25hRequirement already satisfied: boto3 in /opt/conda/lib/python3.7/site-packages (from pytorch-transformers) (1.26.54)\r\n",
      "Requirement already satisfied: regex in /opt/conda/lib/python3.7/site-packages (from pytorch-transformers) (2021.11.10)\r\n",
      "Requirement already satisfied: requests in /opt/conda/lib/python3.7/site-packages (from pytorch-transformers) (2.28.1)\r\n",
      "Requirement already satisfied: numpy in /opt/conda/lib/python3.7/site-packages (from pytorch-transformers) (1.21.6)\r\n",
      "Requirement already satisfied: tqdm in /opt/conda/lib/python3.7/site-packages (from pytorch-transformers) (4.64.0)\r\n",
      "Requirement already satisfied: sacremoses in /opt/conda/lib/python3.7/site-packages (from pytorch-transformers) (0.0.53)\r\n",
      "Requirement already satisfied: sentencepiece in /opt/conda/lib/python3.7/site-packages (from pytorch-transformers) (0.1.97)\r\n",
      "Requirement already satisfied: torch>=1.0.0 in /opt/conda/lib/python3.7/site-packages (from pytorch-transformers) (1.11.0)\r\n",
      "Requirement already satisfied: typing-extensions in /opt/conda/lib/python3.7/site-packages (from torch>=1.0.0->pytorch-transformers) (4.1.1)\r\n",
      "Requirement already satisfied: jmespath<2.0.0,>=0.7.1 in /opt/conda/lib/python3.7/site-packages (from boto3->pytorch-transformers) (1.0.1)\r\n",
      "Requirement already satisfied: botocore<1.30.0,>=1.29.54 in /opt/conda/lib/python3.7/site-packages (from boto3->pytorch-transformers) (1.29.54)\r\n",
      "Requirement already satisfied: s3transfer<0.7.0,>=0.6.0 in /opt/conda/lib/python3.7/site-packages (from boto3->pytorch-transformers) (0.6.0)\r\n",
      "Requirement already satisfied: certifi>=2017.4.17 in /opt/conda/lib/python3.7/site-packages (from requests->pytorch-transformers) (2022.12.7)\r\n",
      "Requirement already satisfied: idna<4,>=2.5 in /opt/conda/lib/python3.7/site-packages (from requests->pytorch-transformers) (3.3)\r\n",
      "Requirement already satisfied: charset-normalizer<3,>=2 in /opt/conda/lib/python3.7/site-packages (from requests->pytorch-transformers) (2.1.0)\r\n",
      "Requirement already satisfied: urllib3<1.27,>=1.21.1 in /opt/conda/lib/python3.7/site-packages (from requests->pytorch-transformers) (1.26.14)\r\n",
      "Requirement already satisfied: joblib in /opt/conda/lib/python3.7/site-packages (from sacremoses->pytorch-transformers) (1.0.1)\r\n",
      "Requirement already satisfied: click in /opt/conda/lib/python3.7/site-packages (from sacremoses->pytorch-transformers) (8.1.3)\r\n",
      "Requirement already satisfied: six in /opt/conda/lib/python3.7/site-packages (from sacremoses->pytorch-transformers) (1.15.0)\r\n",
      "Requirement already satisfied: python-dateutil<3.0.0,>=2.1 in /opt/conda/lib/python3.7/site-packages (from botocore<1.30.0,>=1.29.54->boto3->pytorch-transformers) (2.8.2)\r\n",
      "Requirement already satisfied: importlib-metadata in /opt/conda/lib/python3.7/site-packages (from click->sacremoses->pytorch-transformers) (6.0.0)\r\n",
      "Requirement already satisfied: zipp>=0.5 in /opt/conda/lib/python3.7/site-packages (from importlib-metadata->click->sacremoses->pytorch-transformers) (3.8.0)\r\n",
      "Installing collected packages: pytorch-transformers\r\n",
      "Successfully installed pytorch-transformers-1.2.0\r\n",
      "\u001b[33mWARNING: Running pip as the 'root' user can result in broken permissions and conflicting behaviour with the system package manager. It is recommended to use a virtual environment instead: https://pip.pypa.io/warnings/venv\u001b[0m\u001b[33m\r\n",
      "\u001b[0mRequirement already satisfied: transformers in /opt/conda/lib/python3.7/site-packages (4.20.1)\r\n",
      "Requirement already satisfied: pyyaml>=5.1 in /opt/conda/lib/python3.7/site-packages (from transformers) (6.0)\r\n",
      "Requirement already satisfied: tqdm>=4.27 in /opt/conda/lib/python3.7/site-packages (from transformers) (4.64.0)\r\n",
      "Requirement already satisfied: numpy>=1.17 in /opt/conda/lib/python3.7/site-packages (from transformers) (1.21.6)\r\n",
      "Requirement already satisfied: filelock in /opt/conda/lib/python3.7/site-packages (from transformers) (3.7.1)\r\n",
      "Requirement already satisfied: requests in /opt/conda/lib/python3.7/site-packages (from transformers) (2.28.1)\r\n",
      "Requirement already satisfied: huggingface-hub<1.0,>=0.1.0 in /opt/conda/lib/python3.7/site-packages (from transformers) (0.10.1)\r\n",
      "Requirement already satisfied: importlib-metadata in /opt/conda/lib/python3.7/site-packages (from transformers) (6.0.0)\r\n",
      "Requirement already satisfied: regex!=2019.12.17 in /opt/conda/lib/python3.7/site-packages (from transformers) (2021.11.10)\r\n",
      "Requirement already satisfied: tokenizers!=0.11.3,<0.13,>=0.11.1 in /opt/conda/lib/python3.7/site-packages (from transformers) (0.12.1)\r\n",
      "Requirement already satisfied: packaging>=20.0 in /opt/conda/lib/python3.7/site-packages (from transformers) (23.0)\r\n",
      "Requirement already satisfied: typing-extensions>=3.7.4.3 in /opt/conda/lib/python3.7/site-packages (from huggingface-hub<1.0,>=0.1.0->transformers) (4.1.1)\r\n",
      "Requirement already satisfied: zipp>=0.5 in /opt/conda/lib/python3.7/site-packages (from importlib-metadata->transformers) (3.8.0)\r\n",
      "Requirement already satisfied: urllib3<1.27,>=1.21.1 in /opt/conda/lib/python3.7/site-packages (from requests->transformers) (1.26.14)\r\n",
      "Requirement already satisfied: charset-normalizer<3,>=2 in /opt/conda/lib/python3.7/site-packages (from requests->transformers) (2.1.0)\r\n",
      "Requirement already satisfied: idna<4,>=2.5 in /opt/conda/lib/python3.7/site-packages (from requests->transformers) (3.3)\r\n",
      "Requirement already satisfied: certifi>=2017.4.17 in /opt/conda/lib/python3.7/site-packages (from requests->transformers) (2022.12.7)\r\n",
      "\u001b[33mWARNING: Running pip as the 'root' user can result in broken permissions and conflicting behaviour with the system package manager. It is recommended to use a virtual environment instead: https://pip.pypa.io/warnings/venv\u001b[0m\u001b[33m\r\n",
      "\u001b[0m"
     ]
    }
   ],
   "source": [
    "!pip install sentencepiece\n",
    "!pip install pytorch-transformers\n",
    "!pip install transformers\n"
   ]
  },
  {
   "cell_type": "code",
   "execution_count": 4,
   "id": "4fcfc256",
   "metadata": {
    "execution": {
     "iopub.execute_input": "2023-02-10T00:49:17.360911Z",
     "iopub.status.busy": "2023-02-10T00:49:17.360557Z",
     "iopub.status.idle": "2023-02-10T00:49:21.342641Z",
     "shell.execute_reply": "2023-02-10T00:49:21.341499Z"
    },
    "executionInfo": {
     "elapsed": 48122,
     "status": "ok",
     "timestamp": 1579507808200,
     "user": {
      "displayName": "Shivam Panwar",
      "photoUrl": "",
      "userId": "00811775879175788799"
     },
     "user_tz": -330
    },
    "id": "emJNiU7IS_QM",
    "outputId": "fb3d1ffd-b293-4114-d765-14b1da489e02",
    "papermill": {
     "duration": 3.992739,
     "end_time": "2023-02-10T00:49:21.345099",
     "exception": false,
     "start_time": "2023-02-10T00:49:17.352360",
     "status": "completed"
    },
    "tags": []
   },
   "outputs": [],
   "source": [
    "import torch\n",
    "from torch.utils.data import TensorDataset, DataLoader, RandomSampler, SequentialSampler\n",
    "from keras.preprocessing.sequence import pad_sequences\n",
    "from sklearn.model_selection import train_test_split\n",
    "from sklearn.metrics import f1_score\n",
    "\n",
    "from pytorch_transformers import XLNetModel\n",
    "from transformers import XLNetForSequenceClassification, XLNetTokenizer, get_linear_schedule_with_warmup, AdamW\n",
    "\n",
    "from tqdm import tqdm, trange\n",
    "import pandas as pd\n",
    "import io\n",
    "import numpy as np\n",
    "from random import random\n",
    "import matplotlib.pyplot as plt\n",
    "%matplotlib inline"
   ]
  },
  {
   "cell_type": "code",
   "execution_count": 5,
   "id": "fcd38ea2",
   "metadata": {
    "execution": {
     "iopub.execute_input": "2023-02-10T00:49:21.360988Z",
     "iopub.status.busy": "2023-02-10T00:49:21.360676Z",
     "iopub.status.idle": "2023-02-10T00:49:23.947590Z",
     "shell.execute_reply": "2023-02-10T00:49:23.946587Z"
    },
    "executionInfo": {
     "elapsed": 48101,
     "status": "ok",
     "timestamp": 1579507808203,
     "user": {
      "displayName": "Shivam Panwar",
      "photoUrl": "",
      "userId": "00811775879175788799"
     },
     "user_tz": -330
    },
    "id": "SZaBvr9lTKwT",
    "outputId": "b41377ed-378c-49df-e683-daf8d7db015a",
    "papermill": {
     "duration": 2.597327,
     "end_time": "2023-02-10T00:49:23.949786",
     "exception": false,
     "start_time": "2023-02-10T00:49:21.352459",
     "status": "completed"
    },
    "tags": []
   },
   "outputs": [
    {
     "data": {
      "text/plain": [
       "'Tesla P100-PCIE-16GB'"
      ]
     },
     "execution_count": 5,
     "metadata": {},
     "output_type": "execute_result"
    }
   ],
   "source": [
    "device = torch.device(\"cuda\" if torch.cuda.is_available() else \"cpu\")\n",
    "n_gpu = torch.cuda.device_count()\n",
    "torch.cuda.get_device_name(0)"
   ]
  },
  {
   "cell_type": "code",
   "execution_count": 6,
   "id": "903bb7bc",
   "metadata": {
    "execution": {
     "iopub.execute_input": "2023-02-10T00:49:23.965597Z",
     "iopub.status.busy": "2023-02-10T00:49:23.965280Z",
     "iopub.status.idle": "2023-02-10T00:49:23.971376Z",
     "shell.execute_reply": "2023-02-10T00:49:23.970435Z"
    },
    "papermill": {
     "duration": 0.016201,
     "end_time": "2023-02-10T00:49:23.973376",
     "exception": false,
     "start_time": "2023-02-10T00:49:23.957175",
     "status": "completed"
    },
    "tags": []
   },
   "outputs": [],
   "source": [
    "def truncate_seq_pair(tokens_a, tokens_b, max_num_tokens):\n",
    "    \"\"\"Truncates a pair of sequences to a maximum sequence length. Lifted from Google's BERT repo.\"\"\"\n",
    "    while True:\n",
    "        total_length = len(tokens_a) + len(tokens_b)\n",
    "        if total_length <= max_num_tokens:\n",
    "            break\n",
    "\n",
    "        trunc_tokens = tokens_a if len(tokens_a) > len(tokens_b) else tokens_b\n",
    "        assert len(trunc_tokens) >= 1\n",
    "\n",
    "        # We want to sometimes truncate from the front and sometimes from the\n",
    "        # back to add more randomness and avoid biases.\n",
    "        if random() < 0.5:\n",
    "            del trunc_tokens[0]\n",
    "        else:\n",
    "            trunc_tokens.pop()"
   ]
  },
  {
   "cell_type": "code",
   "execution_count": 7,
   "id": "f903ba52",
   "metadata": {
    "execution": {
     "iopub.execute_input": "2023-02-10T00:49:23.988611Z",
     "iopub.status.busy": "2023-02-10T00:49:23.988330Z",
     "iopub.status.idle": "2023-02-10T00:49:23.994426Z",
     "shell.execute_reply": "2023-02-10T00:49:23.993477Z"
    },
    "papermill": {
     "duration": 0.015891,
     "end_time": "2023-02-10T00:49:23.996360",
     "exception": false,
     "start_time": "2023-02-10T00:49:23.980469",
     "status": "completed"
    },
    "tags": []
   },
   "outputs": [],
   "source": [
    "def get_tokenized_texts_from(tokenizer, sentences_a, sentences_b, max_len):\n",
    "    tokenized_texts_a = [tokenizer.tokenize(sent) for sent in sentences_a]\n",
    "    tokenized_texts_b = [tokenizer.tokenize(sent) for sent in sentences_b]\n",
    "    tokenized_texts = []\n",
    "    for i in range (len(tokenized_texts_a)):\n",
    "        truncate_seq_pair(tokenized_texts_a[i], tokenized_texts_b[i], max_len-3)\n",
    "        tokens = tokenized_texts_a[i] + [\"<sep>\"] + tokenized_texts_b[i] + [\"<sep>\"] + [\"<cls>\"]\n",
    "        tokenized_texts.append(tokens)\n",
    "    return tokenized_texts"
   ]
  },
  {
   "cell_type": "code",
   "execution_count": 8,
   "id": "b9443141",
   "metadata": {
    "execution": {
     "iopub.execute_input": "2023-02-10T00:49:24.012964Z",
     "iopub.status.busy": "2023-02-10T00:49:24.012269Z",
     "iopub.status.idle": "2023-02-10T00:49:24.040283Z",
     "shell.execute_reply": "2023-02-10T00:49:24.039450Z"
    },
    "id": "sy9__UqtTRzp",
    "papermill": {
     "duration": 0.037999,
     "end_time": "2023-02-10T00:49:24.042373",
     "exception": false,
     "start_time": "2023-02-10T00:49:24.004374",
     "status": "completed"
    },
    "tags": []
   },
   "outputs": [],
   "source": [
    "df = pd.read_csv(\"/kaggle/input/asba-nlim/car_train_nlim.csv\")\n",
    "df_test = pd.read_csv(\"/kaggle/input/asba-nlim/car_test_nlim.csv\")"
   ]
  },
  {
   "cell_type": "code",
   "execution_count": 9,
   "id": "41177005",
   "metadata": {
    "execution": {
     "iopub.execute_input": "2023-02-10T00:49:24.058428Z",
     "iopub.status.busy": "2023-02-10T00:49:24.057680Z",
     "iopub.status.idle": "2023-02-10T00:49:24.064097Z",
     "shell.execute_reply": "2023-02-10T00:49:24.063147Z"
    },
    "executionInfo": {
     "elapsed": 49600,
     "status": "ok",
     "timestamp": 1579507809746,
     "user": {
      "displayName": "Shivam Panwar",
      "photoUrl": "",
      "userId": "00811775879175788799"
     },
     "user_tz": -330
    },
    "id": "L-76tmHxThz2",
    "outputId": "05e4deb0-a864-4685-8433-ec80bcd45ebb",
    "papermill": {
     "duration": 0.016351,
     "end_time": "2023-02-10T00:49:24.066014",
     "exception": false,
     "start_time": "2023-02-10T00:49:24.049663",
     "status": "completed"
    },
    "tags": []
   },
   "outputs": [
    {
     "data": {
      "text/plain": [
       "(1075, 3)"
      ]
     },
     "execution_count": 9,
     "metadata": {},
     "output_type": "execute_result"
    }
   ],
   "source": [
    "df.shape"
   ]
  },
  {
   "cell_type": "code",
   "execution_count": 10,
   "id": "d83e8c38",
   "metadata": {
    "execution": {
     "iopub.execute_input": "2023-02-10T00:49:24.081941Z",
     "iopub.status.busy": "2023-02-10T00:49:24.081299Z",
     "iopub.status.idle": "2023-02-10T00:49:24.098017Z",
     "shell.execute_reply": "2023-02-10T00:49:24.097066Z"
    },
    "executionInfo": {
     "elapsed": 49581,
     "status": "ok",
     "timestamp": 1579507809747,
     "user": {
      "displayName": "Shivam Panwar",
      "photoUrl": "",
      "userId": "00811775879175788799"
     },
     "user_tz": -330
    },
    "id": "gnfnNijqTjDN",
    "outputId": "a321188c-6a3b-47ac-e1f5-87529e8ba977",
    "papermill": {
     "duration": 0.026725,
     "end_time": "2023-02-10T00:49:24.099994",
     "exception": false,
     "start_time": "2023-02-10T00:49:24.073269",
     "status": "completed"
    },
    "tags": []
   },
   "outputs": [
    {
     "data": {
      "text/html": [
       "<div>\n",
       "<style scoped>\n",
       "    .dataframe tbody tr th:only-of-type {\n",
       "        vertical-align: middle;\n",
       "    }\n",
       "\n",
       "    .dataframe tbody tr th {\n",
       "        vertical-align: top;\n",
       "    }\n",
       "\n",
       "    .dataframe thead th {\n",
       "        text-align: right;\n",
       "    }\n",
       "</style>\n",
       "<table border=\"1\" class=\"dataframe\">\n",
       "  <thead>\n",
       "    <tr style=\"text-align: right;\">\n",
       "      <th></th>\n",
       "      <th>text_a</th>\n",
       "      <th>text_b</th>\n",
       "      <th>label</th>\n",
       "    </tr>\n",
       "  </thead>\n",
       "  <tbody>\n",
       "    <tr>\n",
       "      <th>0</th>\n",
       "      <td>Saya memakai Honda Jazz GK5 tahun 2014 ( perta...</td>\n",
       "      <td>others</td>\n",
       "      <td>1</td>\n",
       "    </tr>\n",
       "    <tr>\n",
       "      <th>1</th>\n",
       "      <td>Avanza kenapa jadi boros bensin begini dah ah....</td>\n",
       "      <td>fuel</td>\n",
       "      <td>0</td>\n",
       "    </tr>\n",
       "    <tr>\n",
       "      <th>2</th>\n",
       "      <td>saran ku dan pengalaman ku , mending beli mobi...</td>\n",
       "      <td>fuel</td>\n",
       "      <td>1</td>\n",
       "    </tr>\n",
       "    <tr>\n",
       "      <th>3</th>\n",
       "      <td>saran ku dan pengalaman ku , mending beli mobi...</td>\n",
       "      <td>machine</td>\n",
       "      <td>1</td>\n",
       "    </tr>\n",
       "    <tr>\n",
       "      <th>4</th>\n",
       "      <td>Dari segi harga juga pajero lebih mahal 30 jut...</td>\n",
       "      <td>price</td>\n",
       "      <td>1</td>\n",
       "    </tr>\n",
       "  </tbody>\n",
       "</table>\n",
       "</div>"
      ],
      "text/plain": [
       "                                              text_a   text_b  label\n",
       "0  Saya memakai Honda Jazz GK5 tahun 2014 ( perta...   others      1\n",
       "1  Avanza kenapa jadi boros bensin begini dah ah....     fuel      0\n",
       "2  saran ku dan pengalaman ku , mending beli mobi...     fuel      1\n",
       "3  saran ku dan pengalaman ku , mending beli mobi...  machine      1\n",
       "4  Dari segi harga juga pajero lebih mahal 30 jut...    price      1"
      ]
     },
     "execution_count": 10,
     "metadata": {},
     "output_type": "execute_result"
    }
   ],
   "source": [
    "df.head()"
   ]
  },
  {
   "cell_type": "code",
   "execution_count": 11,
   "id": "113b2ecf",
   "metadata": {
    "execution": {
     "iopub.execute_input": "2023-02-10T00:49:24.117933Z",
     "iopub.status.busy": "2023-02-10T00:49:24.116343Z",
     "iopub.status.idle": "2023-02-10T00:49:24.127460Z",
     "shell.execute_reply": "2023-02-10T00:49:24.126240Z"
    },
    "papermill": {
     "duration": 0.022713,
     "end_time": "2023-02-10T00:49:24.130252",
     "exception": false,
     "start_time": "2023-02-10T00:49:24.107539",
     "status": "completed"
    },
    "tags": []
   },
   "outputs": [
    {
     "name": "stdout",
     "output_type": "stream",
     "text": [
      "Number of training sentences: 860\n",
      "\n",
      "Number of testing sentences: 215\n",
      "\n"
     ]
    }
   ],
   "source": [
    "df_train ,df_val = train_test_split(df, random_state=2018, test_size=0.2)\n",
    "\n",
    "print('Number of training sentences: {:,}\\n'.format(df_train.shape[0]))\n",
    "print('Number of testing sentences: {:,}\\n'.format(df_val.shape[0]))"
   ]
  },
  {
   "cell_type": "code",
   "execution_count": null,
   "id": "f428f062",
   "metadata": {
    "papermill": {
     "duration": 0.007934,
     "end_time": "2023-02-10T00:49:24.147177",
     "exception": false,
     "start_time": "2023-02-10T00:49:24.139243",
     "status": "completed"
    },
    "tags": []
   },
   "outputs": [],
   "source": []
  },
  {
   "cell_type": "code",
   "execution_count": 12,
   "id": "168f4752",
   "metadata": {
    "execution": {
     "iopub.execute_input": "2023-02-10T00:49:24.165113Z",
     "iopub.status.busy": "2023-02-10T00:49:24.164285Z",
     "iopub.status.idle": "2023-02-10T00:49:24.168662Z",
     "shell.execute_reply": "2023-02-10T00:49:24.167755Z"
    },
    "id": "3RaQMymhUaO3",
    "papermill": {
     "duration": 0.015448,
     "end_time": "2023-02-10T00:49:24.170804",
     "exception": false,
     "start_time": "2023-02-10T00:49:24.155356",
     "status": "completed"
    },
    "tags": []
   },
   "outputs": [],
   "source": [
    "MAX_LEN = 128\n",
    "\n"
   ]
  },
  {
   "cell_type": "code",
   "execution_count": 13,
   "id": "da250edf",
   "metadata": {
    "execution": {
     "iopub.execute_input": "2023-02-10T00:49:24.188876Z",
     "iopub.status.busy": "2023-02-10T00:49:24.187957Z",
     "iopub.status.idle": "2023-02-10T00:49:24.195486Z",
     "shell.execute_reply": "2023-02-10T00:49:24.194608Z"
    },
    "papermill": {
     "duration": 0.018493,
     "end_time": "2023-02-10T00:49:24.197546",
     "exception": false,
     "start_time": "2023-02-10T00:49:24.179053",
     "status": "completed"
    },
    "tags": []
   },
   "outputs": [],
   "source": [
    "sentences_a_train = df_train.text_a.values\n",
    "sentences_b_train = df_train.text_b.values\n",
    "labels_train = df_train.label.values"
   ]
  },
  {
   "cell_type": "code",
   "execution_count": 14,
   "id": "ed467e75",
   "metadata": {
    "execution": {
     "iopub.execute_input": "2023-02-10T00:49:24.215574Z",
     "iopub.status.busy": "2023-02-10T00:49:24.214668Z",
     "iopub.status.idle": "2023-02-10T00:49:24.220238Z",
     "shell.execute_reply": "2023-02-10T00:49:24.219259Z"
    },
    "id": "-SrIkmJmUl1_",
    "papermill": {
     "duration": 0.016608,
     "end_time": "2023-02-10T00:49:24.222278",
     "exception": false,
     "start_time": "2023-02-10T00:49:24.205670",
     "status": "completed"
    },
    "tags": []
   },
   "outputs": [],
   "source": [
    "sentences_a_val = df_val.text_a.values\n",
    "sentences_b_val = df_val.text_b.values\n",
    "labels_val = df_val.label.values"
   ]
  },
  {
   "cell_type": "code",
   "execution_count": 15,
   "id": "57733f5b",
   "metadata": {
    "execution": {
     "iopub.execute_input": "2023-02-10T00:49:24.240359Z",
     "iopub.status.busy": "2023-02-10T00:49:24.239543Z",
     "iopub.status.idle": "2023-02-10T00:49:24.244883Z",
     "shell.execute_reply": "2023-02-10T00:49:24.244001Z"
    },
    "papermill": {
     "duration": 0.016568,
     "end_time": "2023-02-10T00:49:24.247035",
     "exception": false,
     "start_time": "2023-02-10T00:49:24.230467",
     "status": "completed"
    },
    "tags": []
   },
   "outputs": [],
   "source": [
    "sentences_a_test = df_test.text_a.values\n",
    "sentences_b_test = df_test.text_b.values\n",
    "labels_test = df_test.label.values"
   ]
  },
  {
   "cell_type": "code",
   "execution_count": 16,
   "id": "68fdb30c",
   "metadata": {
    "execution": {
     "iopub.execute_input": "2023-02-10T00:49:24.265585Z",
     "iopub.status.busy": "2023-02-10T00:49:24.264668Z",
     "iopub.status.idle": "2023-02-10T00:49:24.269271Z",
     "shell.execute_reply": "2023-02-10T00:49:24.268145Z"
    },
    "executionInfo": {
     "elapsed": 49527,
     "status": "ok",
     "timestamp": 1579507809750,
     "user": {
      "displayName": "Shivam Panwar",
      "photoUrl": "",
      "userId": "00811775879175788799"
     },
     "user_tz": -330
    },
    "id": "ndD9LjVxUqw9",
    "outputId": "7012554a-2fa3-4153-9fca-454dd151d7d3",
    "papermill": {
     "duration": 0.016083,
     "end_time": "2023-02-10T00:49:24.271351",
     "exception": false,
     "start_time": "2023-02-10T00:49:24.255268",
     "status": "completed"
    },
    "tags": []
   },
   "outputs": [],
   "source": [
    "# sentences[0]"
   ]
  },
  {
   "cell_type": "code",
   "execution_count": 17,
   "id": "926535bb",
   "metadata": {
    "execution": {
     "iopub.execute_input": "2023-02-10T00:49:24.289836Z",
     "iopub.status.busy": "2023-02-10T00:49:24.288999Z",
     "iopub.status.idle": "2023-02-10T00:49:27.886704Z",
     "shell.execute_reply": "2023-02-10T00:49:27.885109Z"
    },
    "executionInfo": {
     "elapsed": 72729,
     "status": "ok",
     "timestamp": 1579507832981,
     "user": {
      "displayName": "Shivam Panwar",
      "photoUrl": "",
      "userId": "00811775879175788799"
     },
     "user_tz": -330
    },
    "id": "9w5oDR3gUuBQ",
    "outputId": "56517de2-ef2d-44b4-a4b0-382f2bdcf361",
    "papermill": {
     "duration": 3.60941,
     "end_time": "2023-02-10T00:49:27.889097",
     "exception": false,
     "start_time": "2023-02-10T00:49:24.279687",
     "status": "completed"
    },
    "tags": []
   },
   "outputs": [
    {
     "data": {
      "application/vnd.jupyter.widget-view+json": {
       "model_id": "e683215cfc10433babeb41d1cef36f88",
       "version_major": 2,
       "version_minor": 0
      },
      "text/plain": [
       "Downloading:   0%|          | 0.00/760k [00:00<?, ?B/s]"
      ]
     },
     "metadata": {},
     "output_type": "display_data"
    },
    {
     "data": {
      "application/vnd.jupyter.widget-view+json": {
       "model_id": "324e645026084f21b9874c3c5f934280",
       "version_major": 2,
       "version_minor": 0
      },
      "text/plain": [
       "Downloading:   0%|          | 0.00/290 [00:00<?, ?B/s]"
      ]
     },
     "metadata": {},
     "output_type": "display_data"
    },
    {
     "data": {
      "application/vnd.jupyter.widget-view+json": {
       "model_id": "a7940c23a47c43b0a3016f19d2131975",
       "version_major": 2,
       "version_minor": 0
      },
      "text/plain": [
       "Downloading:   0%|          | 0.00/443 [00:00<?, ?B/s]"
      ]
     },
     "metadata": {},
     "output_type": "display_data"
    },
    {
     "name": "stdout",
     "output_type": "stream",
     "text": [
      "Tokenize the first sentence:\n",
      "['▁mobil', '▁ku', '▁', 'dai', 'hat', 'su', '▁x', 'e', 'nia', '▁ku', '▁i', 'rit', '▁,', '▁cocok', '▁banget', '▁buat', '▁keluarga', '▁indonesia', '▁dengan', '▁kursi', '▁7', '▁tambah', '▁lagi', '▁mesin', '▁handal', '▁', '(', '▁1', '.', '300', '▁cc', '▁', ')', '▁walau', '▁sudah', '▁sejak', '▁2009', '<sep>', '▁part', '<sep>', '<cls>']\n"
     ]
    }
   ],
   "source": [
    "tokenizer = XLNetTokenizer.from_pretrained('malay-huggingface/xlnet-base-bahasa-cased', do_lower_case=True)\n",
    "tokenized_texts_train = get_tokenized_texts_from(tokenizer, sentences_a_train, sentences_b_train, MAX_LEN)\n",
    "tokenized_texts_val = get_tokenized_texts_from(tokenizer, sentences_a_val, sentences_b_val, MAX_LEN)\n",
    "tokenized_texts_test = get_tokenized_texts_from(tokenizer, sentences_a_test, sentences_b_test, MAX_LEN)\n",
    "\n",
    "print (\"Tokenize the first sentence:\")\n",
    "print (tokenized_texts_train[0])"
   ]
  },
  {
   "cell_type": "code",
   "execution_count": 18,
   "id": "0ef33382",
   "metadata": {
    "execution": {
     "iopub.execute_input": "2023-02-10T00:49:27.907496Z",
     "iopub.status.busy": "2023-02-10T00:49:27.907197Z",
     "iopub.status.idle": "2023-02-10T00:49:27.959814Z",
     "shell.execute_reply": "2023-02-10T00:49:27.958910Z"
    },
    "papermill": {
     "duration": 0.064051,
     "end_time": "2023-02-10T00:49:27.961965",
     "exception": false,
     "start_time": "2023-02-10T00:49:27.897914",
     "status": "completed"
    },
    "tags": []
   },
   "outputs": [],
   "source": [
    "input_ids_train = [tokenizer.convert_tokens_to_ids(x) for x in tokenized_texts_train]\n",
    "input_ids_val = [tokenizer.convert_tokens_to_ids(x) for x in tokenized_texts_val]\n",
    "input_ids_test = [tokenizer.convert_tokens_to_ids(x) for x in tokenized_texts_test]"
   ]
  },
  {
   "cell_type": "code",
   "execution_count": 19,
   "id": "280b47c8",
   "metadata": {
    "execution": {
     "iopub.execute_input": "2023-02-10T00:49:27.981552Z",
     "iopub.status.busy": "2023-02-10T00:49:27.979924Z",
     "iopub.status.idle": "2023-02-10T00:49:28.003203Z",
     "shell.execute_reply": "2023-02-10T00:49:28.002327Z"
    },
    "id": "5bR1ejqCU6hp",
    "papermill": {
     "duration": 0.034884,
     "end_time": "2023-02-10T00:49:28.005431",
     "exception": false,
     "start_time": "2023-02-10T00:49:27.970547",
     "status": "completed"
    },
    "tags": []
   },
   "outputs": [],
   "source": [
    "input_ids_train = pad_sequences(input_ids_train, maxlen=MAX_LEN, dtype=\"long\", truncating=\"post\", padding=\"post\")\n",
    "input_ids_val = pad_sequences(input_ids_val, maxlen=MAX_LEN, dtype=\"long\", truncating=\"post\", padding=\"post\")\n",
    "input_ids_test = pad_sequences(input_ids_test, maxlen=MAX_LEN, dtype=\"long\", truncating=\"post\", padding=\"post\")\n"
   ]
  },
  {
   "cell_type": "code",
   "execution_count": 20,
   "id": "4b69752d",
   "metadata": {
    "execution": {
     "iopub.execute_input": "2023-02-10T00:49:28.023906Z",
     "iopub.status.busy": "2023-02-10T00:49:28.023616Z",
     "iopub.status.idle": "2023-02-10T00:49:28.031151Z",
     "shell.execute_reply": "2023-02-10T00:49:28.030099Z"
    },
    "id": "WlVIq2q5VILC",
    "papermill": {
     "duration": 0.01914,
     "end_time": "2023-02-10T00:49:28.033464",
     "exception": false,
     "start_time": "2023-02-10T00:49:28.014324",
     "status": "completed"
    },
    "tags": []
   },
   "outputs": [],
   "source": [
    "tokenized_texts_test =pad_sequences(tokenized_texts_test, maxlen=MAX_LEN, dtype=object, truncating=\"post\", padding=\"post\")\n",
    "\n",
    "df_test['tokens'] = tokenized_texts_test.tolist()"
   ]
  },
  {
   "cell_type": "code",
   "execution_count": 21,
   "id": "6936b440",
   "metadata": {
    "execution": {
     "iopub.execute_input": "2023-02-10T00:49:28.051944Z",
     "iopub.status.busy": "2023-02-10T00:49:28.051670Z",
     "iopub.status.idle": "2023-02-10T00:49:28.119455Z",
     "shell.execute_reply": "2023-02-10T00:49:28.118568Z"
    },
    "id": "7OpPXkQvVP4K",
    "papermill": {
     "duration": 0.079786,
     "end_time": "2023-02-10T00:49:28.121717",
     "exception": false,
     "start_time": "2023-02-10T00:49:28.041931",
     "status": "completed"
    },
    "tags": []
   },
   "outputs": [],
   "source": [
    "# Create attention masks\n",
    "attention_masks_train = []\n",
    "\n",
    "# Create a mask of 1s for each token followed by 0s for padding\n",
    "for seq in input_ids_train:\n",
    "  seq_mask_train = [float(i>0) for i in seq]\n",
    "  attention_masks_train.append(seq_mask_train)\n",
    "\n",
    "# Create attention masks\n",
    "attention_masks_val = []\n",
    "\n",
    "# Create a mask of 1s for each token followed by 0s for padding\n",
    "for seq in input_ids_val:\n",
    "  seq_mask_val = [float(i>0) for i in seq]\n",
    "  attention_masks_val.append(seq_mask_val)\n",
    "    \n",
    "attention_masks_test = []\n",
    "for seq in input_ids_test:\n",
    "  seq_mask_test = [float(i>0) for i in seq]\n",
    "  attention_masks_test.append(seq_mask_test)"
   ]
  },
  {
   "cell_type": "code",
   "execution_count": 22,
   "id": "2e06321e",
   "metadata": {
    "execution": {
     "iopub.execute_input": "2023-02-10T00:49:28.140253Z",
     "iopub.status.busy": "2023-02-10T00:49:28.139979Z",
     "iopub.status.idle": "2023-02-10T00:49:28.153662Z",
     "shell.execute_reply": "2023-02-10T00:49:28.152766Z"
    },
    "id": "nn3hPYmYViHO",
    "papermill": {
     "duration": 0.025113,
     "end_time": "2023-02-10T00:49:28.155662",
     "exception": false,
     "start_time": "2023-02-10T00:49:28.130549",
     "status": "completed"
    },
    "tags": []
   },
   "outputs": [],
   "source": [
    "train_inputs = torch.tensor(input_ids_train)\n",
    "train_labels = torch.tensor(labels_train)\n",
    "train_masks = torch.tensor(attention_masks_train)\n",
    "\n",
    "val_inputs = torch.tensor(input_ids_val)\n",
    "val_labels = torch.tensor(labels_val)\n",
    "val_masks = torch.tensor(attention_masks_val)\n",
    "\n",
    "test_inputs = torch.tensor(input_ids_test)\n",
    "test_labels = torch.tensor(labels_test)\n",
    "test_masks = torch.tensor(attention_masks_test)"
   ]
  },
  {
   "cell_type": "code",
   "execution_count": 23,
   "id": "9a0650d1",
   "metadata": {
    "execution": {
     "iopub.execute_input": "2023-02-10T00:49:28.174786Z",
     "iopub.status.busy": "2023-02-10T00:49:28.174021Z",
     "iopub.status.idle": "2023-02-10T00:49:28.181271Z",
     "shell.execute_reply": "2023-02-10T00:49:28.180467Z"
    },
    "id": "wXDDYe7dVlCx",
    "papermill": {
     "duration": 0.018491,
     "end_time": "2023-02-10T00:49:28.183214",
     "exception": false,
     "start_time": "2023-02-10T00:49:28.164723",
     "status": "completed"
    },
    "tags": []
   },
   "outputs": [],
   "source": [
    "batch_size = 32\n",
    "train_data = TensorDataset(train_inputs, train_masks, train_labels)\n",
    "train_sampler = RandomSampler(train_data)\n",
    "train_dataloader = DataLoader(train_data, sampler=train_sampler, batch_size=batch_size)\n",
    "\n",
    "val_data = TensorDataset(val_inputs, val_masks, val_labels)\n",
    "val_sampler = SequentialSampler(val_data)\n",
    "val_dataloader = DataLoader(val_data, sampler=val_sampler, batch_size=batch_size)\n",
    "\n",
    "test_data = TensorDataset(test_inputs, test_masks, test_labels)\n",
    "test_sampler = SequentialSampler(test_data)\n",
    "test_dataloader = DataLoader(test_data, sampler=test_sampler, batch_size=batch_size)"
   ]
  },
  {
   "cell_type": "markdown",
   "id": "92f1e0a8",
   "metadata": {
    "id": "1zvvTbR8h66j",
    "papermill": {
     "duration": 0.00837,
     "end_time": "2023-02-10T00:49:28.200197",
     "exception": false,
     "start_time": "2023-02-10T00:49:28.191827",
     "status": "completed"
    },
    "tags": []
   },
   "source": [
    "Using **finetuned language model**"
   ]
  },
  {
   "cell_type": "code",
   "execution_count": 24,
   "id": "63d7b683",
   "metadata": {
    "execution": {
     "iopub.execute_input": "2023-02-10T00:49:28.219238Z",
     "iopub.status.busy": "2023-02-10T00:49:28.218484Z",
     "iopub.status.idle": "2023-02-10T00:49:34.449701Z",
     "shell.execute_reply": "2023-02-10T00:49:34.448625Z"
    },
    "executionInfo": {
     "elapsed": 11108,
     "status": "ok",
     "timestamp": 1579510821941,
     "user": {
      "displayName": "Shivam Panwar",
      "photoUrl": "",
      "userId": "00811775879175788799"
     },
     "user_tz": -330
    },
    "id": "cVAGfSD5ojia",
    "outputId": "0685088f-ae9f-4654-9b58-029b531ac625",
    "papermill": {
     "duration": 6.243758,
     "end_time": "2023-02-10T00:49:34.452685",
     "exception": false,
     "start_time": "2023-02-10T00:49:28.208927",
     "status": "completed"
    },
    "tags": []
   },
   "outputs": [
    {
     "name": "stderr",
     "output_type": "stream",
     "text": [
      "Some weights of the model checkpoint at /kaggle/input/finetune-model-any/all_experimenttfrecords/model/all_pytorch_model were not used when initializing XLNetForSequenceClassification: ['lm_loss.bias', 'lm_loss.weight']\n",
      "- This IS expected if you are initializing XLNetForSequenceClassification from the checkpoint of a model trained on another task or with another architecture (e.g. initializing a BertForSequenceClassification model from a BertForPreTraining model).\n",
      "- This IS NOT expected if you are initializing XLNetForSequenceClassification from the checkpoint of a model that you expect to be exactly identical (initializing a BertForSequenceClassification model from a BertForSequenceClassification model).\n",
      "Some weights of XLNetForSequenceClassification were not initialized from the model checkpoint at /kaggle/input/finetune-model-any/all_experimenttfrecords/model/all_pytorch_model and are newly initialized: ['logits_proj.bias', 'logits_proj.weight', 'sequence_summary.summary.weight', 'sequence_summary.summary.bias']\n",
      "You should probably TRAIN this model on a down-stream task to be able to use it for predictions and inference.\n"
     ]
    },
    {
     "data": {
      "text/plain": [
       "XLNetForSequenceClassification(\n",
       "  (transformer): XLNetModel(\n",
       "    (word_embedding): Embedding(32000, 768)\n",
       "    (layer): ModuleList(\n",
       "      (0): XLNetLayer(\n",
       "        (rel_attn): XLNetRelativeAttention(\n",
       "          (layer_norm): LayerNorm((768,), eps=1e-12, elementwise_affine=True)\n",
       "          (dropout): Dropout(p=0.1, inplace=False)\n",
       "        )\n",
       "        (ff): XLNetFeedForward(\n",
       "          (layer_norm): LayerNorm((768,), eps=1e-12, elementwise_affine=True)\n",
       "          (layer_1): Linear(in_features=768, out_features=3072, bias=True)\n",
       "          (layer_2): Linear(in_features=3072, out_features=768, bias=True)\n",
       "          (dropout): Dropout(p=0.1, inplace=False)\n",
       "          (activation_function): GELUActivation()\n",
       "        )\n",
       "        (dropout): Dropout(p=0.1, inplace=False)\n",
       "      )\n",
       "      (1): XLNetLayer(\n",
       "        (rel_attn): XLNetRelativeAttention(\n",
       "          (layer_norm): LayerNorm((768,), eps=1e-12, elementwise_affine=True)\n",
       "          (dropout): Dropout(p=0.1, inplace=False)\n",
       "        )\n",
       "        (ff): XLNetFeedForward(\n",
       "          (layer_norm): LayerNorm((768,), eps=1e-12, elementwise_affine=True)\n",
       "          (layer_1): Linear(in_features=768, out_features=3072, bias=True)\n",
       "          (layer_2): Linear(in_features=3072, out_features=768, bias=True)\n",
       "          (dropout): Dropout(p=0.1, inplace=False)\n",
       "          (activation_function): GELUActivation()\n",
       "        )\n",
       "        (dropout): Dropout(p=0.1, inplace=False)\n",
       "      )\n",
       "      (2): XLNetLayer(\n",
       "        (rel_attn): XLNetRelativeAttention(\n",
       "          (layer_norm): LayerNorm((768,), eps=1e-12, elementwise_affine=True)\n",
       "          (dropout): Dropout(p=0.1, inplace=False)\n",
       "        )\n",
       "        (ff): XLNetFeedForward(\n",
       "          (layer_norm): LayerNorm((768,), eps=1e-12, elementwise_affine=True)\n",
       "          (layer_1): Linear(in_features=768, out_features=3072, bias=True)\n",
       "          (layer_2): Linear(in_features=3072, out_features=768, bias=True)\n",
       "          (dropout): Dropout(p=0.1, inplace=False)\n",
       "          (activation_function): GELUActivation()\n",
       "        )\n",
       "        (dropout): Dropout(p=0.1, inplace=False)\n",
       "      )\n",
       "      (3): XLNetLayer(\n",
       "        (rel_attn): XLNetRelativeAttention(\n",
       "          (layer_norm): LayerNorm((768,), eps=1e-12, elementwise_affine=True)\n",
       "          (dropout): Dropout(p=0.1, inplace=False)\n",
       "        )\n",
       "        (ff): XLNetFeedForward(\n",
       "          (layer_norm): LayerNorm((768,), eps=1e-12, elementwise_affine=True)\n",
       "          (layer_1): Linear(in_features=768, out_features=3072, bias=True)\n",
       "          (layer_2): Linear(in_features=3072, out_features=768, bias=True)\n",
       "          (dropout): Dropout(p=0.1, inplace=False)\n",
       "          (activation_function): GELUActivation()\n",
       "        )\n",
       "        (dropout): Dropout(p=0.1, inplace=False)\n",
       "      )\n",
       "      (4): XLNetLayer(\n",
       "        (rel_attn): XLNetRelativeAttention(\n",
       "          (layer_norm): LayerNorm((768,), eps=1e-12, elementwise_affine=True)\n",
       "          (dropout): Dropout(p=0.1, inplace=False)\n",
       "        )\n",
       "        (ff): XLNetFeedForward(\n",
       "          (layer_norm): LayerNorm((768,), eps=1e-12, elementwise_affine=True)\n",
       "          (layer_1): Linear(in_features=768, out_features=3072, bias=True)\n",
       "          (layer_2): Linear(in_features=3072, out_features=768, bias=True)\n",
       "          (dropout): Dropout(p=0.1, inplace=False)\n",
       "          (activation_function): GELUActivation()\n",
       "        )\n",
       "        (dropout): Dropout(p=0.1, inplace=False)\n",
       "      )\n",
       "      (5): XLNetLayer(\n",
       "        (rel_attn): XLNetRelativeAttention(\n",
       "          (layer_norm): LayerNorm((768,), eps=1e-12, elementwise_affine=True)\n",
       "          (dropout): Dropout(p=0.1, inplace=False)\n",
       "        )\n",
       "        (ff): XLNetFeedForward(\n",
       "          (layer_norm): LayerNorm((768,), eps=1e-12, elementwise_affine=True)\n",
       "          (layer_1): Linear(in_features=768, out_features=3072, bias=True)\n",
       "          (layer_2): Linear(in_features=3072, out_features=768, bias=True)\n",
       "          (dropout): Dropout(p=0.1, inplace=False)\n",
       "          (activation_function): GELUActivation()\n",
       "        )\n",
       "        (dropout): Dropout(p=0.1, inplace=False)\n",
       "      )\n",
       "      (6): XLNetLayer(\n",
       "        (rel_attn): XLNetRelativeAttention(\n",
       "          (layer_norm): LayerNorm((768,), eps=1e-12, elementwise_affine=True)\n",
       "          (dropout): Dropout(p=0.1, inplace=False)\n",
       "        )\n",
       "        (ff): XLNetFeedForward(\n",
       "          (layer_norm): LayerNorm((768,), eps=1e-12, elementwise_affine=True)\n",
       "          (layer_1): Linear(in_features=768, out_features=3072, bias=True)\n",
       "          (layer_2): Linear(in_features=3072, out_features=768, bias=True)\n",
       "          (dropout): Dropout(p=0.1, inplace=False)\n",
       "          (activation_function): GELUActivation()\n",
       "        )\n",
       "        (dropout): Dropout(p=0.1, inplace=False)\n",
       "      )\n",
       "      (7): XLNetLayer(\n",
       "        (rel_attn): XLNetRelativeAttention(\n",
       "          (layer_norm): LayerNorm((768,), eps=1e-12, elementwise_affine=True)\n",
       "          (dropout): Dropout(p=0.1, inplace=False)\n",
       "        )\n",
       "        (ff): XLNetFeedForward(\n",
       "          (layer_norm): LayerNorm((768,), eps=1e-12, elementwise_affine=True)\n",
       "          (layer_1): Linear(in_features=768, out_features=3072, bias=True)\n",
       "          (layer_2): Linear(in_features=3072, out_features=768, bias=True)\n",
       "          (dropout): Dropout(p=0.1, inplace=False)\n",
       "          (activation_function): GELUActivation()\n",
       "        )\n",
       "        (dropout): Dropout(p=0.1, inplace=False)\n",
       "      )\n",
       "      (8): XLNetLayer(\n",
       "        (rel_attn): XLNetRelativeAttention(\n",
       "          (layer_norm): LayerNorm((768,), eps=1e-12, elementwise_affine=True)\n",
       "          (dropout): Dropout(p=0.1, inplace=False)\n",
       "        )\n",
       "        (ff): XLNetFeedForward(\n",
       "          (layer_norm): LayerNorm((768,), eps=1e-12, elementwise_affine=True)\n",
       "          (layer_1): Linear(in_features=768, out_features=3072, bias=True)\n",
       "          (layer_2): Linear(in_features=3072, out_features=768, bias=True)\n",
       "          (dropout): Dropout(p=0.1, inplace=False)\n",
       "          (activation_function): GELUActivation()\n",
       "        )\n",
       "        (dropout): Dropout(p=0.1, inplace=False)\n",
       "      )\n",
       "      (9): XLNetLayer(\n",
       "        (rel_attn): XLNetRelativeAttention(\n",
       "          (layer_norm): LayerNorm((768,), eps=1e-12, elementwise_affine=True)\n",
       "          (dropout): Dropout(p=0.1, inplace=False)\n",
       "        )\n",
       "        (ff): XLNetFeedForward(\n",
       "          (layer_norm): LayerNorm((768,), eps=1e-12, elementwise_affine=True)\n",
       "          (layer_1): Linear(in_features=768, out_features=3072, bias=True)\n",
       "          (layer_2): Linear(in_features=3072, out_features=768, bias=True)\n",
       "          (dropout): Dropout(p=0.1, inplace=False)\n",
       "          (activation_function): GELUActivation()\n",
       "        )\n",
       "        (dropout): Dropout(p=0.1, inplace=False)\n",
       "      )\n",
       "      (10): XLNetLayer(\n",
       "        (rel_attn): XLNetRelativeAttention(\n",
       "          (layer_norm): LayerNorm((768,), eps=1e-12, elementwise_affine=True)\n",
       "          (dropout): Dropout(p=0.1, inplace=False)\n",
       "        )\n",
       "        (ff): XLNetFeedForward(\n",
       "          (layer_norm): LayerNorm((768,), eps=1e-12, elementwise_affine=True)\n",
       "          (layer_1): Linear(in_features=768, out_features=3072, bias=True)\n",
       "          (layer_2): Linear(in_features=3072, out_features=768, bias=True)\n",
       "          (dropout): Dropout(p=0.1, inplace=False)\n",
       "          (activation_function): GELUActivation()\n",
       "        )\n",
       "        (dropout): Dropout(p=0.1, inplace=False)\n",
       "      )\n",
       "      (11): XLNetLayer(\n",
       "        (rel_attn): XLNetRelativeAttention(\n",
       "          (layer_norm): LayerNorm((768,), eps=1e-12, elementwise_affine=True)\n",
       "          (dropout): Dropout(p=0.1, inplace=False)\n",
       "        )\n",
       "        (ff): XLNetFeedForward(\n",
       "          (layer_norm): LayerNorm((768,), eps=1e-12, elementwise_affine=True)\n",
       "          (layer_1): Linear(in_features=768, out_features=3072, bias=True)\n",
       "          (layer_2): Linear(in_features=3072, out_features=768, bias=True)\n",
       "          (dropout): Dropout(p=0.1, inplace=False)\n",
       "          (activation_function): GELUActivation()\n",
       "        )\n",
       "        (dropout): Dropout(p=0.1, inplace=False)\n",
       "      )\n",
       "    )\n",
       "    (dropout): Dropout(p=0.1, inplace=False)\n",
       "  )\n",
       "  (sequence_summary): SequenceSummary(\n",
       "    (summary): Linear(in_features=768, out_features=768, bias=True)\n",
       "    (activation): Tanh()\n",
       "    (first_dropout): Identity()\n",
       "    (last_dropout): Dropout(p=0.1, inplace=False)\n",
       "  )\n",
       "  (logits_proj): Linear(in_features=768, out_features=2, bias=True)\n",
       ")"
      ]
     },
     "execution_count": 24,
     "metadata": {},
     "output_type": "execute_result"
    }
   ],
   "source": [
    "# Load XLNEtForSequenceClassification, the pretrained XLNet model with a single linear classification layer on top. \n",
    "model = XLNetForSequenceClassification.from_pretrained('/kaggle/input/finetune-model-any/all_experimenttfrecords/model/all_pytorch_model', num_labels=2)\n",
    "model.cuda()"
   ]
  },
  {
   "cell_type": "code",
   "execution_count": 25,
   "id": "126da629",
   "metadata": {
    "execution": {
     "iopub.execute_input": "2023-02-10T00:49:34.472303Z",
     "iopub.status.busy": "2023-02-10T00:49:34.472014Z",
     "iopub.status.idle": "2023-02-10T00:49:34.483145Z",
     "shell.execute_reply": "2023-02-10T00:49:34.482101Z"
    },
    "id": "ZJnZs3XXop-l",
    "papermill": {
     "duration": 0.023645,
     "end_time": "2023-02-10T00:49:34.485638",
     "exception": false,
     "start_time": "2023-02-10T00:49:34.461993",
     "status": "completed"
    },
    "tags": []
   },
   "outputs": [
    {
     "name": "stderr",
     "output_type": "stream",
     "text": [
      "/opt/conda/lib/python3.7/site-packages/transformers/optimization.py:310: FutureWarning: This implementation of AdamW is deprecated and will be removed in a future version. Use the PyTorch implementation torch.optim.AdamW instead, or set `no_deprecation_warning=True` to disable this warning\n",
      "  FutureWarning,\n"
     ]
    }
   ],
   "source": [
    "epochs = 8\n",
    "\n",
    "param_optimizer = list(model.named_parameters())\n",
    "no_decay = ['bias', 'gamma', 'beta']\n",
    "optimizer_grouped_parameters = [\n",
    "    {'params': [p for n, p in param_optimizer if not any(nd in n for nd in no_decay)],\n",
    "     'weight_decay_rate': 0.01},\n",
    "    {'params': [p for n, p in param_optimizer if any(nd in n for nd in no_decay)],\n",
    "     'weight_decay_rate': 0.0}\n",
    "]\n",
    "\n",
    "optimizer = AdamW(optimizer_grouped_parameters, lr=2e-5)\n",
    "total_steps = len(train_dataloader) * epochs\n",
    "scheduler = get_linear_schedule_with_warmup(\n",
    "  optimizer,\n",
    "  num_warmup_steps=0,\n",
    "  num_training_steps=total_steps\n",
    ")"
   ]
  },
  {
   "cell_type": "code",
   "execution_count": null,
   "id": "8c94fb37",
   "metadata": {
    "papermill": {
     "duration": 0.009113,
     "end_time": "2023-02-10T00:49:34.504270",
     "exception": false,
     "start_time": "2023-02-10T00:49:34.495157",
     "status": "completed"
    },
    "tags": []
   },
   "outputs": [],
   "source": []
  },
  {
   "cell_type": "markdown",
   "id": "04e7a86f",
   "metadata": {
    "papermill": {
     "duration": 0.008885,
     "end_time": "2023-02-10T00:49:34.522337",
     "exception": false,
     "start_time": "2023-02-10T00:49:34.513452",
     "status": "completed"
    },
    "tags": []
   },
   "source": []
  },
  {
   "cell_type": "code",
   "execution_count": 26,
   "id": "6e06857b",
   "metadata": {
    "execution": {
     "iopub.execute_input": "2023-02-10T00:49:34.542577Z",
     "iopub.status.busy": "2023-02-10T00:49:34.541776Z",
     "iopub.status.idle": "2023-02-10T00:49:34.555361Z",
     "shell.execute_reply": "2023-02-10T00:49:34.554499Z"
    },
    "executionInfo": {
     "elapsed": 2813457,
     "status": "ok",
     "timestamp": 1579513635379,
     "user": {
      "displayName": "Shivam Panwar",
      "photoUrl": "",
      "userId": "00811775879175788799"
     },
     "user_tz": -330
    },
    "id": "kAxSwesjpLvZ",
    "outputId": "4af04c7c-fa3d-4d09-98d6-643cb5c91a55",
    "papermill": {
     "duration": 0.025866,
     "end_time": "2023-02-10T00:49:34.557262",
     "exception": false,
     "start_time": "2023-02-10T00:49:34.531396",
     "status": "completed"
    },
    "tags": []
   },
   "outputs": [],
   "source": [
    "# Store our loss and accuracy for plotting\n",
    "def train_epoch(model, data_loader, optimizer, device, scheduler):\n",
    "  # Set our model to training mode (as opposed to evaluation mode)\n",
    "  model.train()\n",
    "  \n",
    "  # Tracking variables\n",
    "  tr_loss = 0\n",
    "  nb_tr_examples, nb_tr_steps = 0, 0\n",
    "  \n",
    "  # Train the data for one epoch\n",
    "  for step, batch in enumerate(train_dataloader):\n",
    "    # Add batch to GPU\n",
    "    batch = tuple(t.to(device) for t in batch)\n",
    "    # Unpack the inputs from our dataloader\n",
    "    b_input_ids, b_input_mask, b_labels = batch\n",
    "    # Clear out the gradients (by default they accumulate)\n",
    "    optimizer.zero_grad()\n",
    "    # Forward pass\n",
    "    outputs = model(b_input_ids, token_type_ids=None, attention_mask=b_input_mask, labels=b_labels)\n",
    "    loss = outputs[0]\n",
    "    logits = outputs[1]   \n",
    "    # Backward pass\n",
    "    loss.backward()\n",
    "    # Update parameters and take a step using the computed gradient\n",
    "    optimizer.step()\n",
    "    \n",
    "    \n",
    "    # Update tracking variables\n",
    "    tr_loss += loss.item()\n",
    "    nb_tr_examples += b_input_ids.size(0)\n",
    "    nb_tr_steps += 1\n",
    "  print(\"Train loss: {}\".format(tr_loss/nb_tr_steps))\n",
    "\n",
    "\n",
    "    "
   ]
  },
  {
   "cell_type": "code",
   "execution_count": 27,
   "id": "f2bd5134",
   "metadata": {
    "execution": {
     "iopub.execute_input": "2023-02-10T00:49:34.577792Z",
     "iopub.status.busy": "2023-02-10T00:49:34.576381Z",
     "iopub.status.idle": "2023-02-10T00:49:34.583566Z",
     "shell.execute_reply": "2023-02-10T00:49:34.582733Z"
    },
    "papermill": {
     "duration": 0.01895,
     "end_time": "2023-02-10T00:49:34.585498",
     "exception": false,
     "start_time": "2023-02-10T00:49:34.566548",
     "status": "completed"
    },
    "tags": []
   },
   "outputs": [],
   "source": [
    "def eval_model(model, data_loader, device):\n",
    "    model = model.eval()\n",
    "    correct = 0\n",
    "    total = 0\n",
    "    predictions =[]\n",
    "    with torch.no_grad():\n",
    "        for i, batch in enumerate(data_loader):\n",
    "          batch = tuple(t.to(device) for t in batch)\n",
    "          # Unpack the inputs from our dataloader\n",
    "          b_input_ids, b_input_mask, b_labels = batch\n",
    "          # Forward pass\n",
    "          outputs = model(b_input_ids, token_type_ids=None, attention_mask=b_input_mask)\n",
    "          # print (outputs)\n",
    "          prediction = torch.argmax(outputs[0],dim=1)\n",
    "          predictions = predictions + prediction.tolist()\n",
    "          total += b_labels.size(0)\n",
    "          correct+=(prediction==b_labels).sum().item()\n",
    "    return correct / total, f1_score(labels_val, predictions, average='macro')"
   ]
  },
  {
   "cell_type": "code",
   "execution_count": 28,
   "id": "cd42286b",
   "metadata": {
    "execution": {
     "iopub.execute_input": "2023-02-10T00:49:34.605562Z",
     "iopub.status.busy": "2023-02-10T00:49:34.605293Z",
     "iopub.status.idle": "2023-02-10T00:51:32.047369Z",
     "shell.execute_reply": "2023-02-10T00:51:32.046387Z"
    },
    "papermill": {
     "duration": 117.454666,
     "end_time": "2023-02-10T00:51:32.049869",
     "exception": false,
     "start_time": "2023-02-10T00:49:34.595203",
     "status": "completed"
    },
    "tags": []
   },
   "outputs": [
    {
     "name": "stdout",
     "output_type": "stream",
     "text": [
      "Epoch 1/8\n",
      "----------\n",
      "Train loss: 0.5719083393061603\n",
      " Val accuracy 0.7023255813953488\n",
      " Val f1 0.44101397465063374\n",
      "\n",
      "Epoch 2/8\n",
      "----------\n",
      "Train loss: 0.4787484959319786\n",
      " Val accuracy 0.8930232558139535\n",
      " Val f1 0.8748132958659274\n",
      "\n",
      "Epoch 3/8\n",
      "----------\n",
      "Train loss: 0.294578752859875\n",
      " Val accuracy 0.9348837209302325\n",
      " Val f1 0.9198956780923995\n",
      "\n",
      "Epoch 4/8\n",
      "----------\n",
      "Train loss: 0.18606108785779388\n",
      " Val accuracy 0.9116279069767442\n",
      " Val f1 0.8896214434326785\n",
      "\n",
      "Epoch 5/8\n",
      "----------\n",
      "Train loss: 0.13559825883971321\n",
      " Val accuracy 0.9209302325581395\n",
      " Val f1 0.9012402388608176\n",
      "\n",
      "Epoch 6/8\n",
      "----------\n",
      "Train loss: 0.11722275252557462\n",
      " Val accuracy 0.9069767441860465\n",
      " Val f1 0.881945969690314\n",
      "\n",
      "Epoch 7/8\n",
      "----------\n",
      "Train loss: 0.0921378955245018\n",
      " Val accuracy 0.9348837209302325\n",
      " Val f1 0.9221336920529801\n",
      "\n",
      "Epoch 8/8\n",
      "----------\n",
      "Train loss: 0.07007020246237516\n",
      " Val accuracy 0.9255813953488372\n",
      " Val f1 0.9084522035341708\n",
      "\n",
      " F1 Validation 0.9084522035341708\n"
     ]
    }
   ],
   "source": [
    "best_accuracy = 0\n",
    "best_f1 = 0\n",
    "\n",
    "# trange is a tqdm wrapper around the normal python range\n",
    "for epoch in range(epochs):\n",
    "    print(f'Epoch {epoch + 1}/{epochs}')\n",
    "    print('-' * 10)\n",
    "    \n",
    "    train_epoch(\n",
    "        model,\n",
    "        train_dataloader,     \n",
    "        optimizer, \n",
    "        device, \n",
    "        scheduler\n",
    "    )\n",
    "    \n",
    "    val_acc, val_f1 = eval_model(\n",
    "        model,\n",
    "        val_dataloader, \n",
    "        device\n",
    "    )\n",
    "    \n",
    "    print(f' Val accuracy {val_acc}')\n",
    "    print(f' Val f1 {val_f1}')\n",
    "    print()\n",
    "    if val_f1 > best_f1:\n",
    "        torch.save(model.state_dict(), '/kaggle/working/best_car_post_all.ckpt')\n",
    "        best_f1 = val_f1\n",
    "\n",
    "print(f' F1 Validation {val_f1}')\n",
    "  \n",
    "torch.save(model.state_dict(), '/kaggle/working/last_car_post-all.ckpt')\n",
    "  "
   ]
  }
 ],
 "metadata": {
  "kernelspec": {
   "display_name": "Python 3",
   "language": "python",
   "name": "python3"
  },
  "language_info": {
   "codemirror_mode": {
    "name": "ipython",
    "version": 3
   },
   "file_extension": ".py",
   "mimetype": "text/x-python",
   "name": "python",
   "nbconvert_exporter": "python",
   "pygments_lexer": "ipython3",
   "version": "3.7.12"
  },
  "papermill": {
   "default_parameters": {},
   "duration": 183.341197,
   "end_time": "2023-02-10T00:51:35.650133",
   "environment_variables": {},
   "exception": null,
   "input_path": "__notebook__.ipynb",
   "output_path": "__notebook__.ipynb",
   "parameters": {},
   "start_time": "2023-02-10T00:48:32.308936",
   "version": "2.3.4"
  },
  "widgets": {
   "application/vnd.jupyter.widget-state+json": {
    "state": {
     "0adcdc30c2a24069997236ed3d421ce2": {
      "model_module": "@jupyter-widgets/controls",
      "model_module_version": "1.5.0",
      "model_name": "FloatProgressModel",
      "state": {
       "_dom_classes": [],
       "_model_module": "@jupyter-widgets/controls",
       "_model_module_version": "1.5.0",
       "_model_name": "FloatProgressModel",
       "_view_count": null,
       "_view_module": "@jupyter-widgets/controls",
       "_view_module_version": "1.5.0",
       "_view_name": "ProgressView",
       "bar_style": "success",
       "description": "",
       "description_tooltip": null,
       "layout": "IPY_MODEL_723d558d558e4159a59465dc69908f3c",
       "max": 778744.0,
       "min": 0.0,
       "orientation": "horizontal",
       "style": "IPY_MODEL_cea9737e61a645f293d6c4ac807d36e7",
       "value": 778744.0
      }
     },
     "0e8f34be321c4df891aa5f89a06a16ed": {
      "model_module": "@jupyter-widgets/controls",
      "model_module_version": "1.5.0",
      "model_name": "FloatProgressModel",
      "state": {
       "_dom_classes": [],
       "_model_module": "@jupyter-widgets/controls",
       "_model_module_version": "1.5.0",
       "_model_name": "FloatProgressModel",
       "_view_count": null,
       "_view_module": "@jupyter-widgets/controls",
       "_view_module_version": "1.5.0",
       "_view_name": "ProgressView",
       "bar_style": "success",
       "description": "",
       "description_tooltip": null,
       "layout": "IPY_MODEL_10978d1b435a47d9b6d6294dd112a312",
       "max": 290.0,
       "min": 0.0,
       "orientation": "horizontal",
       "style": "IPY_MODEL_75678dfd1eeb4022959eb5b4c596cfb0",
       "value": 290.0
      }
     },
     "10978d1b435a47d9b6d6294dd112a312": {
      "model_module": "@jupyter-widgets/base",
      "model_module_version": "1.2.0",
      "model_name": "LayoutModel",
      "state": {
       "_model_module": "@jupyter-widgets/base",
       "_model_module_version": "1.2.0",
       "_model_name": "LayoutModel",
       "_view_count": null,
       "_view_module": "@jupyter-widgets/base",
       "_view_module_version": "1.2.0",
       "_view_name": "LayoutView",
       "align_content": null,
       "align_items": null,
       "align_self": null,
       "border": null,
       "bottom": null,
       "display": null,
       "flex": null,
       "flex_flow": null,
       "grid_area": null,
       "grid_auto_columns": null,
       "grid_auto_flow": null,
       "grid_auto_rows": null,
       "grid_column": null,
       "grid_gap": null,
       "grid_row": null,
       "grid_template_areas": null,
       "grid_template_columns": null,
       "grid_template_rows": null,
       "height": null,
       "justify_content": null,
       "justify_items": null,
       "left": null,
       "margin": null,
       "max_height": null,
       "max_width": null,
       "min_height": null,
       "min_width": null,
       "object_fit": null,
       "object_position": null,
       "order": null,
       "overflow": null,
       "overflow_x": null,
       "overflow_y": null,
       "padding": null,
       "right": null,
       "top": null,
       "visibility": null,
       "width": null
      }
     },
     "1c9ec7d6d0c544f1a36b29bbd06eca4d": {
      "model_module": "@jupyter-widgets/controls",
      "model_module_version": "1.5.0",
      "model_name": "HTMLModel",
      "state": {
       "_dom_classes": [],
       "_model_module": "@jupyter-widgets/controls",
       "_model_module_version": "1.5.0",
       "_model_name": "HTMLModel",
       "_view_count": null,
       "_view_module": "@jupyter-widgets/controls",
       "_view_module_version": "1.5.0",
       "_view_name": "HTMLView",
       "description": "",
       "description_tooltip": null,
       "layout": "IPY_MODEL_42c8108ff5864b63948448a71354b530",
       "placeholder": "​",
       "style": "IPY_MODEL_9be982b36cf8429da3a55fb746f50de1",
       "value": " 443/443 [00:00&lt;00:00, 17.5kB/s]"
      }
     },
     "1d1f029234db49259dcd863b208c7a7f": {
      "model_module": "@jupyter-widgets/base",
      "model_module_version": "1.2.0",
      "model_name": "LayoutModel",
      "state": {
       "_model_module": "@jupyter-widgets/base",
       "_model_module_version": "1.2.0",
       "_model_name": "LayoutModel",
       "_view_count": null,
       "_view_module": "@jupyter-widgets/base",
       "_view_module_version": "1.2.0",
       "_view_name": "LayoutView",
       "align_content": null,
       "align_items": null,
       "align_self": null,
       "border": null,
       "bottom": null,
       "display": null,
       "flex": null,
       "flex_flow": null,
       "grid_area": null,
       "grid_auto_columns": null,
       "grid_auto_flow": null,
       "grid_auto_rows": null,
       "grid_column": null,
       "grid_gap": null,
       "grid_row": null,
       "grid_template_areas": null,
       "grid_template_columns": null,
       "grid_template_rows": null,
       "height": null,
       "justify_content": null,
       "justify_items": null,
       "left": null,
       "margin": null,
       "max_height": null,
       "max_width": null,
       "min_height": null,
       "min_width": null,
       "object_fit": null,
       "object_position": null,
       "order": null,
       "overflow": null,
       "overflow_x": null,
       "overflow_y": null,
       "padding": null,
       "right": null,
       "top": null,
       "visibility": null,
       "width": null
      }
     },
     "1d39b878ddb749b4a1243aaed237d7c4": {
      "model_module": "@jupyter-widgets/base",
      "model_module_version": "1.2.0",
      "model_name": "LayoutModel",
      "state": {
       "_model_module": "@jupyter-widgets/base",
       "_model_module_version": "1.2.0",
       "_model_name": "LayoutModel",
       "_view_count": null,
       "_view_module": "@jupyter-widgets/base",
       "_view_module_version": "1.2.0",
       "_view_name": "LayoutView",
       "align_content": null,
       "align_items": null,
       "align_self": null,
       "border": null,
       "bottom": null,
       "display": null,
       "flex": null,
       "flex_flow": null,
       "grid_area": null,
       "grid_auto_columns": null,
       "grid_auto_flow": null,
       "grid_auto_rows": null,
       "grid_column": null,
       "grid_gap": null,
       "grid_row": null,
       "grid_template_areas": null,
       "grid_template_columns": null,
       "grid_template_rows": null,
       "height": null,
       "justify_content": null,
       "justify_items": null,
       "left": null,
       "margin": null,
       "max_height": null,
       "max_width": null,
       "min_height": null,
       "min_width": null,
       "object_fit": null,
       "object_position": null,
       "order": null,
       "overflow": null,
       "overflow_x": null,
       "overflow_y": null,
       "padding": null,
       "right": null,
       "top": null,
       "visibility": null,
       "width": null
      }
     },
     "2abbbbb875b84639af6c4c78ac861a28": {
      "model_module": "@jupyter-widgets/base",
      "model_module_version": "1.2.0",
      "model_name": "LayoutModel",
      "state": {
       "_model_module": "@jupyter-widgets/base",
       "_model_module_version": "1.2.0",
       "_model_name": "LayoutModel",
       "_view_count": null,
       "_view_module": "@jupyter-widgets/base",
       "_view_module_version": "1.2.0",
       "_view_name": "LayoutView",
       "align_content": null,
       "align_items": null,
       "align_self": null,
       "border": null,
       "bottom": null,
       "display": null,
       "flex": null,
       "flex_flow": null,
       "grid_area": null,
       "grid_auto_columns": null,
       "grid_auto_flow": null,
       "grid_auto_rows": null,
       "grid_column": null,
       "grid_gap": null,
       "grid_row": null,
       "grid_template_areas": null,
       "grid_template_columns": null,
       "grid_template_rows": null,
       "height": null,
       "justify_content": null,
       "justify_items": null,
       "left": null,
       "margin": null,
       "max_height": null,
       "max_width": null,
       "min_height": null,
       "min_width": null,
       "object_fit": null,
       "object_position": null,
       "order": null,
       "overflow": null,
       "overflow_x": null,
       "overflow_y": null,
       "padding": null,
       "right": null,
       "top": null,
       "visibility": null,
       "width": null
      }
     },
     "2f33511cb519453c968f753cbcf9cb6e": {
      "model_module": "@jupyter-widgets/controls",
      "model_module_version": "1.5.0",
      "model_name": "ProgressStyleModel",
      "state": {
       "_model_module": "@jupyter-widgets/controls",
       "_model_module_version": "1.5.0",
       "_model_name": "ProgressStyleModel",
       "_view_count": null,
       "_view_module": "@jupyter-widgets/base",
       "_view_module_version": "1.2.0",
       "_view_name": "StyleView",
       "bar_color": null,
       "description_width": ""
      }
     },
     "324e645026084f21b9874c3c5f934280": {
      "model_module": "@jupyter-widgets/controls",
      "model_module_version": "1.5.0",
      "model_name": "HBoxModel",
      "state": {
       "_dom_classes": [],
       "_model_module": "@jupyter-widgets/controls",
       "_model_module_version": "1.5.0",
       "_model_name": "HBoxModel",
       "_view_count": null,
       "_view_module": "@jupyter-widgets/controls",
       "_view_module_version": "1.5.0",
       "_view_name": "HBoxView",
       "box_style": "",
       "children": [
        "IPY_MODEL_9215142de98642f9add1f2610b32e51c",
        "IPY_MODEL_0e8f34be321c4df891aa5f89a06a16ed",
        "IPY_MODEL_d6f813142c414732b89baa491ebe2ead"
       ],
       "layout": "IPY_MODEL_b669eedf30694e70a54442304c342f7f"
      }
     },
     "331280ab3224463ea82b32d2089800e4": {
      "model_module": "@jupyter-widgets/controls",
      "model_module_version": "1.5.0",
      "model_name": "DescriptionStyleModel",
      "state": {
       "_model_module": "@jupyter-widgets/controls",
       "_model_module_version": "1.5.0",
       "_model_name": "DescriptionStyleModel",
       "_view_count": null,
       "_view_module": "@jupyter-widgets/base",
       "_view_module_version": "1.2.0",
       "_view_name": "StyleView",
       "description_width": ""
      }
     },
     "42c8108ff5864b63948448a71354b530": {
      "model_module": "@jupyter-widgets/base",
      "model_module_version": "1.2.0",
      "model_name": "LayoutModel",
      "state": {
       "_model_module": "@jupyter-widgets/base",
       "_model_module_version": "1.2.0",
       "_model_name": "LayoutModel",
       "_view_count": null,
       "_view_module": "@jupyter-widgets/base",
       "_view_module_version": "1.2.0",
       "_view_name": "LayoutView",
       "align_content": null,
       "align_items": null,
       "align_self": null,
       "border": null,
       "bottom": null,
       "display": null,
       "flex": null,
       "flex_flow": null,
       "grid_area": null,
       "grid_auto_columns": null,
       "grid_auto_flow": null,
       "grid_auto_rows": null,
       "grid_column": null,
       "grid_gap": null,
       "grid_row": null,
       "grid_template_areas": null,
       "grid_template_columns": null,
       "grid_template_rows": null,
       "height": null,
       "justify_content": null,
       "justify_items": null,
       "left": null,
       "margin": null,
       "max_height": null,
       "max_width": null,
       "min_height": null,
       "min_width": null,
       "object_fit": null,
       "object_position": null,
       "order": null,
       "overflow": null,
       "overflow_x": null,
       "overflow_y": null,
       "padding": null,
       "right": null,
       "top": null,
       "visibility": null,
       "width": null
      }
     },
     "6b8a487d1f004d9facbd5d20128ac6dd": {
      "model_module": "@jupyter-widgets/controls",
      "model_module_version": "1.5.0",
      "model_name": "DescriptionStyleModel",
      "state": {
       "_model_module": "@jupyter-widgets/controls",
       "_model_module_version": "1.5.0",
       "_model_name": "DescriptionStyleModel",
       "_view_count": null,
       "_view_module": "@jupyter-widgets/base",
       "_view_module_version": "1.2.0",
       "_view_name": "StyleView",
       "description_width": ""
      }
     },
     "723d558d558e4159a59465dc69908f3c": {
      "model_module": "@jupyter-widgets/base",
      "model_module_version": "1.2.0",
      "model_name": "LayoutModel",
      "state": {
       "_model_module": "@jupyter-widgets/base",
       "_model_module_version": "1.2.0",
       "_model_name": "LayoutModel",
       "_view_count": null,
       "_view_module": "@jupyter-widgets/base",
       "_view_module_version": "1.2.0",
       "_view_name": "LayoutView",
       "align_content": null,
       "align_items": null,
       "align_self": null,
       "border": null,
       "bottom": null,
       "display": null,
       "flex": null,
       "flex_flow": null,
       "grid_area": null,
       "grid_auto_columns": null,
       "grid_auto_flow": null,
       "grid_auto_rows": null,
       "grid_column": null,
       "grid_gap": null,
       "grid_row": null,
       "grid_template_areas": null,
       "grid_template_columns": null,
       "grid_template_rows": null,
       "height": null,
       "justify_content": null,
       "justify_items": null,
       "left": null,
       "margin": null,
       "max_height": null,
       "max_width": null,
       "min_height": null,
       "min_width": null,
       "object_fit": null,
       "object_position": null,
       "order": null,
       "overflow": null,
       "overflow_x": null,
       "overflow_y": null,
       "padding": null,
       "right": null,
       "top": null,
       "visibility": null,
       "width": null
      }
     },
     "75678dfd1eeb4022959eb5b4c596cfb0": {
      "model_module": "@jupyter-widgets/controls",
      "model_module_version": "1.5.0",
      "model_name": "ProgressStyleModel",
      "state": {
       "_model_module": "@jupyter-widgets/controls",
       "_model_module_version": "1.5.0",
       "_model_name": "ProgressStyleModel",
       "_view_count": null,
       "_view_module": "@jupyter-widgets/base",
       "_view_module_version": "1.2.0",
       "_view_name": "StyleView",
       "bar_color": null,
       "description_width": ""
      }
     },
     "75b5a73f4d444484ad830af95a2c1e7d": {
      "model_module": "@jupyter-widgets/controls",
      "model_module_version": "1.5.0",
      "model_name": "HTMLModel",
      "state": {
       "_dom_classes": [],
       "_model_module": "@jupyter-widgets/controls",
       "_model_module_version": "1.5.0",
       "_model_name": "HTMLModel",
       "_view_count": null,
       "_view_module": "@jupyter-widgets/controls",
       "_view_module_version": "1.5.0",
       "_view_name": "HTMLView",
       "description": "",
       "description_tooltip": null,
       "layout": "IPY_MODEL_b99e6901731144e2979d074b0c27b429",
       "placeholder": "​",
       "style": "IPY_MODEL_6b8a487d1f004d9facbd5d20128ac6dd",
       "value": "Downloading: 100%"
      }
     },
     "9215142de98642f9add1f2610b32e51c": {
      "model_module": "@jupyter-widgets/controls",
      "model_module_version": "1.5.0",
      "model_name": "HTMLModel",
      "state": {
       "_dom_classes": [],
       "_model_module": "@jupyter-widgets/controls",
       "_model_module_version": "1.5.0",
       "_model_name": "HTMLModel",
       "_view_count": null,
       "_view_module": "@jupyter-widgets/controls",
       "_view_module_version": "1.5.0",
       "_view_name": "HTMLView",
       "description": "",
       "description_tooltip": null,
       "layout": "IPY_MODEL_1d1f029234db49259dcd863b208c7a7f",
       "placeholder": "​",
       "style": "IPY_MODEL_d4de47f4a4ee4aa9b6d2b7dc43ebdee7",
       "value": "Downloading: 100%"
      }
     },
     "94587281e5f140678222a89e91fa2ec2": {
      "model_module": "@jupyter-widgets/controls",
      "model_module_version": "1.5.0",
      "model_name": "DescriptionStyleModel",
      "state": {
       "_model_module": "@jupyter-widgets/controls",
       "_model_module_version": "1.5.0",
       "_model_name": "DescriptionStyleModel",
       "_view_count": null,
       "_view_module": "@jupyter-widgets/base",
       "_view_module_version": "1.2.0",
       "_view_name": "StyleView",
       "description_width": ""
      }
     },
     "9be982b36cf8429da3a55fb746f50de1": {
      "model_module": "@jupyter-widgets/controls",
      "model_module_version": "1.5.0",
      "model_name": "DescriptionStyleModel",
      "state": {
       "_model_module": "@jupyter-widgets/controls",
       "_model_module_version": "1.5.0",
       "_model_name": "DescriptionStyleModel",
       "_view_count": null,
       "_view_module": "@jupyter-widgets/base",
       "_view_module_version": "1.2.0",
       "_view_name": "StyleView",
       "description_width": ""
      }
     },
     "a16f6ab1e5c5468d91151dd4b461186c": {
      "model_module": "@jupyter-widgets/controls",
      "model_module_version": "1.5.0",
      "model_name": "HTMLModel",
      "state": {
       "_dom_classes": [],
       "_model_module": "@jupyter-widgets/controls",
       "_model_module_version": "1.5.0",
       "_model_name": "HTMLModel",
       "_view_count": null,
       "_view_module": "@jupyter-widgets/controls",
       "_view_module_version": "1.5.0",
       "_view_name": "HTMLView",
       "description": "",
       "description_tooltip": null,
       "layout": "IPY_MODEL_fc1e6f9f345541b0be59badb032c3381",
       "placeholder": "​",
       "style": "IPY_MODEL_94587281e5f140678222a89e91fa2ec2",
       "value": "Downloading: 100%"
      }
     },
     "a7940c23a47c43b0a3016f19d2131975": {
      "model_module": "@jupyter-widgets/controls",
      "model_module_version": "1.5.0",
      "model_name": "HBoxModel",
      "state": {
       "_dom_classes": [],
       "_model_module": "@jupyter-widgets/controls",
       "_model_module_version": "1.5.0",
       "_model_name": "HBoxModel",
       "_view_count": null,
       "_view_module": "@jupyter-widgets/controls",
       "_view_module_version": "1.5.0",
       "_view_name": "HBoxView",
       "box_style": "",
       "children": [
        "IPY_MODEL_a16f6ab1e5c5468d91151dd4b461186c",
        "IPY_MODEL_b0564a6ecda849ffbb7b4055fc77e805",
        "IPY_MODEL_1c9ec7d6d0c544f1a36b29bbd06eca4d"
       ],
       "layout": "IPY_MODEL_1d39b878ddb749b4a1243aaed237d7c4"
      }
     },
     "b0564a6ecda849ffbb7b4055fc77e805": {
      "model_module": "@jupyter-widgets/controls",
      "model_module_version": "1.5.0",
      "model_name": "FloatProgressModel",
      "state": {
       "_dom_classes": [],
       "_model_module": "@jupyter-widgets/controls",
       "_model_module_version": "1.5.0",
       "_model_name": "FloatProgressModel",
       "_view_count": null,
       "_view_module": "@jupyter-widgets/controls",
       "_view_module_version": "1.5.0",
       "_view_name": "ProgressView",
       "bar_style": "success",
       "description": "",
       "description_tooltip": null,
       "layout": "IPY_MODEL_2abbbbb875b84639af6c4c78ac861a28",
       "max": 443.0,
       "min": 0.0,
       "orientation": "horizontal",
       "style": "IPY_MODEL_2f33511cb519453c968f753cbcf9cb6e",
       "value": 443.0
      }
     },
     "b669eedf30694e70a54442304c342f7f": {
      "model_module": "@jupyter-widgets/base",
      "model_module_version": "1.2.0",
      "model_name": "LayoutModel",
      "state": {
       "_model_module": "@jupyter-widgets/base",
       "_model_module_version": "1.2.0",
       "_model_name": "LayoutModel",
       "_view_count": null,
       "_view_module": "@jupyter-widgets/base",
       "_view_module_version": "1.2.0",
       "_view_name": "LayoutView",
       "align_content": null,
       "align_items": null,
       "align_self": null,
       "border": null,
       "bottom": null,
       "display": null,
       "flex": null,
       "flex_flow": null,
       "grid_area": null,
       "grid_auto_columns": null,
       "grid_auto_flow": null,
       "grid_auto_rows": null,
       "grid_column": null,
       "grid_gap": null,
       "grid_row": null,
       "grid_template_areas": null,
       "grid_template_columns": null,
       "grid_template_rows": null,
       "height": null,
       "justify_content": null,
       "justify_items": null,
       "left": null,
       "margin": null,
       "max_height": null,
       "max_width": null,
       "min_height": null,
       "min_width": null,
       "object_fit": null,
       "object_position": null,
       "order": null,
       "overflow": null,
       "overflow_x": null,
       "overflow_y": null,
       "padding": null,
       "right": null,
       "top": null,
       "visibility": null,
       "width": null
      }
     },
     "b99e6901731144e2979d074b0c27b429": {
      "model_module": "@jupyter-widgets/base",
      "model_module_version": "1.2.0",
      "model_name": "LayoutModel",
      "state": {
       "_model_module": "@jupyter-widgets/base",
       "_model_module_version": "1.2.0",
       "_model_name": "LayoutModel",
       "_view_count": null,
       "_view_module": "@jupyter-widgets/base",
       "_view_module_version": "1.2.0",
       "_view_name": "LayoutView",
       "align_content": null,
       "align_items": null,
       "align_self": null,
       "border": null,
       "bottom": null,
       "display": null,
       "flex": null,
       "flex_flow": null,
       "grid_area": null,
       "grid_auto_columns": null,
       "grid_auto_flow": null,
       "grid_auto_rows": null,
       "grid_column": null,
       "grid_gap": null,
       "grid_row": null,
       "grid_template_areas": null,
       "grid_template_columns": null,
       "grid_template_rows": null,
       "height": null,
       "justify_content": null,
       "justify_items": null,
       "left": null,
       "margin": null,
       "max_height": null,
       "max_width": null,
       "min_height": null,
       "min_width": null,
       "object_fit": null,
       "object_position": null,
       "order": null,
       "overflow": null,
       "overflow_x": null,
       "overflow_y": null,
       "padding": null,
       "right": null,
       "top": null,
       "visibility": null,
       "width": null
      }
     },
     "c245db34a98f4cdf931f5757f0e931a6": {
      "model_module": "@jupyter-widgets/base",
      "model_module_version": "1.2.0",
      "model_name": "LayoutModel",
      "state": {
       "_model_module": "@jupyter-widgets/base",
       "_model_module_version": "1.2.0",
       "_model_name": "LayoutModel",
       "_view_count": null,
       "_view_module": "@jupyter-widgets/base",
       "_view_module_version": "1.2.0",
       "_view_name": "LayoutView",
       "align_content": null,
       "align_items": null,
       "align_self": null,
       "border": null,
       "bottom": null,
       "display": null,
       "flex": null,
       "flex_flow": null,
       "grid_area": null,
       "grid_auto_columns": null,
       "grid_auto_flow": null,
       "grid_auto_rows": null,
       "grid_column": null,
       "grid_gap": null,
       "grid_row": null,
       "grid_template_areas": null,
       "grid_template_columns": null,
       "grid_template_rows": null,
       "height": null,
       "justify_content": null,
       "justify_items": null,
       "left": null,
       "margin": null,
       "max_height": null,
       "max_width": null,
       "min_height": null,
       "min_width": null,
       "object_fit": null,
       "object_position": null,
       "order": null,
       "overflow": null,
       "overflow_x": null,
       "overflow_y": null,
       "padding": null,
       "right": null,
       "top": null,
       "visibility": null,
       "width": null
      }
     },
     "cea9737e61a645f293d6c4ac807d36e7": {
      "model_module": "@jupyter-widgets/controls",
      "model_module_version": "1.5.0",
      "model_name": "ProgressStyleModel",
      "state": {
       "_model_module": "@jupyter-widgets/controls",
       "_model_module_version": "1.5.0",
       "_model_name": "ProgressStyleModel",
       "_view_count": null,
       "_view_module": "@jupyter-widgets/base",
       "_view_module_version": "1.2.0",
       "_view_name": "StyleView",
       "bar_color": null,
       "description_width": ""
      }
     },
     "d4de47f4a4ee4aa9b6d2b7dc43ebdee7": {
      "model_module": "@jupyter-widgets/controls",
      "model_module_version": "1.5.0",
      "model_name": "DescriptionStyleModel",
      "state": {
       "_model_module": "@jupyter-widgets/controls",
       "_model_module_version": "1.5.0",
       "_model_name": "DescriptionStyleModel",
       "_view_count": null,
       "_view_module": "@jupyter-widgets/base",
       "_view_module_version": "1.2.0",
       "_view_name": "StyleView",
       "description_width": ""
      }
     },
     "d5f30a4b14a54f3fa74b17d702de00e6": {
      "model_module": "@jupyter-widgets/base",
      "model_module_version": "1.2.0",
      "model_name": "LayoutModel",
      "state": {
       "_model_module": "@jupyter-widgets/base",
       "_model_module_version": "1.2.0",
       "_model_name": "LayoutModel",
       "_view_count": null,
       "_view_module": "@jupyter-widgets/base",
       "_view_module_version": "1.2.0",
       "_view_name": "LayoutView",
       "align_content": null,
       "align_items": null,
       "align_self": null,
       "border": null,
       "bottom": null,
       "display": null,
       "flex": null,
       "flex_flow": null,
       "grid_area": null,
       "grid_auto_columns": null,
       "grid_auto_flow": null,
       "grid_auto_rows": null,
       "grid_column": null,
       "grid_gap": null,
       "grid_row": null,
       "grid_template_areas": null,
       "grid_template_columns": null,
       "grid_template_rows": null,
       "height": null,
       "justify_content": null,
       "justify_items": null,
       "left": null,
       "margin": null,
       "max_height": null,
       "max_width": null,
       "min_height": null,
       "min_width": null,
       "object_fit": null,
       "object_position": null,
       "order": null,
       "overflow": null,
       "overflow_x": null,
       "overflow_y": null,
       "padding": null,
       "right": null,
       "top": null,
       "visibility": null,
       "width": null
      }
     },
     "d6f813142c414732b89baa491ebe2ead": {
      "model_module": "@jupyter-widgets/controls",
      "model_module_version": "1.5.0",
      "model_name": "HTMLModel",
      "state": {
       "_dom_classes": [],
       "_model_module": "@jupyter-widgets/controls",
       "_model_module_version": "1.5.0",
       "_model_name": "HTMLModel",
       "_view_count": null,
       "_view_module": "@jupyter-widgets/controls",
       "_view_module_version": "1.5.0",
       "_view_name": "HTMLView",
       "description": "",
       "description_tooltip": null,
       "layout": "IPY_MODEL_c245db34a98f4cdf931f5757f0e931a6",
       "placeholder": "​",
       "style": "IPY_MODEL_331280ab3224463ea82b32d2089800e4",
       "value": " 290/290 [00:00&lt;00:00, 11.3kB/s]"
      }
     },
     "d918ff6e3d0b419ca1389d16f81d1009": {
      "model_module": "@jupyter-widgets/controls",
      "model_module_version": "1.5.0",
      "model_name": "HTMLModel",
      "state": {
       "_dom_classes": [],
       "_model_module": "@jupyter-widgets/controls",
       "_model_module_version": "1.5.0",
       "_model_name": "HTMLModel",
       "_view_count": null,
       "_view_module": "@jupyter-widgets/controls",
       "_view_module_version": "1.5.0",
       "_view_name": "HTMLView",
       "description": "",
       "description_tooltip": null,
       "layout": "IPY_MODEL_fb87e31cb84c47ef8b420cb03da89545",
       "placeholder": "​",
       "style": "IPY_MODEL_e2a5baae880b45c6ac718b1b80ae4ab5",
       "value": " 760k/760k [00:00&lt;00:00, 1.42MB/s]"
      }
     },
     "e2a5baae880b45c6ac718b1b80ae4ab5": {
      "model_module": "@jupyter-widgets/controls",
      "model_module_version": "1.5.0",
      "model_name": "DescriptionStyleModel",
      "state": {
       "_model_module": "@jupyter-widgets/controls",
       "_model_module_version": "1.5.0",
       "_model_name": "DescriptionStyleModel",
       "_view_count": null,
       "_view_module": "@jupyter-widgets/base",
       "_view_module_version": "1.2.0",
       "_view_name": "StyleView",
       "description_width": ""
      }
     },
     "e683215cfc10433babeb41d1cef36f88": {
      "model_module": "@jupyter-widgets/controls",
      "model_module_version": "1.5.0",
      "model_name": "HBoxModel",
      "state": {
       "_dom_classes": [],
       "_model_module": "@jupyter-widgets/controls",
       "_model_module_version": "1.5.0",
       "_model_name": "HBoxModel",
       "_view_count": null,
       "_view_module": "@jupyter-widgets/controls",
       "_view_module_version": "1.5.0",
       "_view_name": "HBoxView",
       "box_style": "",
       "children": [
        "IPY_MODEL_75b5a73f4d444484ad830af95a2c1e7d",
        "IPY_MODEL_0adcdc30c2a24069997236ed3d421ce2",
        "IPY_MODEL_d918ff6e3d0b419ca1389d16f81d1009"
       ],
       "layout": "IPY_MODEL_d5f30a4b14a54f3fa74b17d702de00e6"
      }
     },
     "fb87e31cb84c47ef8b420cb03da89545": {
      "model_module": "@jupyter-widgets/base",
      "model_module_version": "1.2.0",
      "model_name": "LayoutModel",
      "state": {
       "_model_module": "@jupyter-widgets/base",
       "_model_module_version": "1.2.0",
       "_model_name": "LayoutModel",
       "_view_count": null,
       "_view_module": "@jupyter-widgets/base",
       "_view_module_version": "1.2.0",
       "_view_name": "LayoutView",
       "align_content": null,
       "align_items": null,
       "align_self": null,
       "border": null,
       "bottom": null,
       "display": null,
       "flex": null,
       "flex_flow": null,
       "grid_area": null,
       "grid_auto_columns": null,
       "grid_auto_flow": null,
       "grid_auto_rows": null,
       "grid_column": null,
       "grid_gap": null,
       "grid_row": null,
       "grid_template_areas": null,
       "grid_template_columns": null,
       "grid_template_rows": null,
       "height": null,
       "justify_content": null,
       "justify_items": null,
       "left": null,
       "margin": null,
       "max_height": null,
       "max_width": null,
       "min_height": null,
       "min_width": null,
       "object_fit": null,
       "object_position": null,
       "order": null,
       "overflow": null,
       "overflow_x": null,
       "overflow_y": null,
       "padding": null,
       "right": null,
       "top": null,
       "visibility": null,
       "width": null
      }
     },
     "fc1e6f9f345541b0be59badb032c3381": {
      "model_module": "@jupyter-widgets/base",
      "model_module_version": "1.2.0",
      "model_name": "LayoutModel",
      "state": {
       "_model_module": "@jupyter-widgets/base",
       "_model_module_version": "1.2.0",
       "_model_name": "LayoutModel",
       "_view_count": null,
       "_view_module": "@jupyter-widgets/base",
       "_view_module_version": "1.2.0",
       "_view_name": "LayoutView",
       "align_content": null,
       "align_items": null,
       "align_self": null,
       "border": null,
       "bottom": null,
       "display": null,
       "flex": null,
       "flex_flow": null,
       "grid_area": null,
       "grid_auto_columns": null,
       "grid_auto_flow": null,
       "grid_auto_rows": null,
       "grid_column": null,
       "grid_gap": null,
       "grid_row": null,
       "grid_template_areas": null,
       "grid_template_columns": null,
       "grid_template_rows": null,
       "height": null,
       "justify_content": null,
       "justify_items": null,
       "left": null,
       "margin": null,
       "max_height": null,
       "max_width": null,
       "min_height": null,
       "min_width": null,
       "object_fit": null,
       "object_position": null,
       "order": null,
       "overflow": null,
       "overflow_x": null,
       "overflow_y": null,
       "padding": null,
       "right": null,
       "top": null,
       "visibility": null,
       "width": null
      }
     }
    },
    "version_major": 2,
    "version_minor": 0
   }
  }
 },
 "nbformat": 4,
 "nbformat_minor": 5
}
