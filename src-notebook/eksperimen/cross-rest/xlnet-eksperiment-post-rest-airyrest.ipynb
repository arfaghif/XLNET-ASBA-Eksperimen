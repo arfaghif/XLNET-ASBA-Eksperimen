{
 "cells": [
  {
   "cell_type": "code",
   "execution_count": 1,
   "id": "7596194c",
   "metadata": {
    "execution": {
     "iopub.execute_input": "2023-02-10T00:06:00.141812Z",
     "iopub.status.busy": "2023-02-10T00:06:00.141213Z",
     "iopub.status.idle": "2023-02-10T00:06:00.234648Z",
     "shell.execute_reply": "2023-02-10T00:06:00.233500Z"
    },
    "executionInfo": {
     "elapsed": 982,
     "status": "ok",
     "timestamp": 1580107791261,
     "user": {
      "displayName": "Shivam Panwar",
      "photoUrl": "",
      "userId": "00811775879175788799"
     },
     "user_tz": -330
    },
    "id": "kbPkR88PRcAI",
    "outputId": "568a85d1-af8a-44f4-d62a-614ef41a0be1",
    "papermill": {
     "duration": 0.10802,
     "end_time": "2023-02-10T00:06:00.238943",
     "exception": false,
     "start_time": "2023-02-10T00:06:00.130923",
     "status": "completed"
    },
    "tags": []
   },
   "outputs": [
    {
     "name": "stdout",
     "output_type": "stream",
     "text": [
      "/kaggle/input/finetune-model-airy-corpus/experimenttfrecords/corpus_info.json\n",
      "/kaggle/input/finetune-model-airy-corpus/experimenttfrecords/model/config.json\n",
      "/kaggle/input/finetune-model-airy-corpus/experimenttfrecords/model/model.ckpt.meta\n",
      "/kaggle/input/finetune-model-airy-corpus/experimenttfrecords/model/model.ckpt.index\n",
      "/kaggle/input/finetune-model-airy-corpus/experimenttfrecords/model/model.ckpt.data-00000-of-00001\n",
      "/kaggle/input/finetune-model-airy-corpus/experimenttfrecords/model/checkpoint\n",
      "/kaggle/input/finetune-model-airy-corpus/experimenttfrecords/model/pytorch_model/config.json\n",
      "/kaggle/input/finetune-model-airy-corpus/experimenttfrecords/model/pytorch_model/pytorch_model.bin\n",
      "/kaggle/input/finetune-model-airy-corpus/experimenttfrecords/tfrecords/record_info-train-0-0.bsz-8.seqlen-128.reuse-64.uni.alpha-6.beta-1.fnp-50.json\n",
      "/kaggle/input/finetune-model-airy-corpus/experimenttfrecords/tfrecords/train-0-0.bsz-8.seqlen-128.reuse-64.uni.alpha-6.beta-1.fnp-50.tfrecords\n",
      "/kaggle/input/finetune-model-any/ar_experimenttfrecords/corpus_info.json\n",
      "/kaggle/input/finetune-model-any/ar_experimenttfrecords/model/config.json\n",
      "/kaggle/input/finetune-model-any/ar_experimenttfrecords/model/model.ckpt.meta\n",
      "/kaggle/input/finetune-model-any/ar_experimenttfrecords/model/model.ckpt.index\n",
      "/kaggle/input/finetune-model-any/ar_experimenttfrecords/model/model.ckpt.data-00000-of-00001\n",
      "/kaggle/input/finetune-model-any/ar_experimenttfrecords/model/checkpoint\n",
      "/kaggle/input/finetune-model-any/ar_experimenttfrecords/model/ar_pytorch_model/config.json\n",
      "/kaggle/input/finetune-model-any/ar_experimenttfrecords/model/ar_pytorch_model/pytorch_model.bin\n",
      "/kaggle/input/finetune-model-any/ar_experimenttfrecords/tfrecords/record_info-train-0-0.bsz-8.seqlen-128.reuse-64.uni.alpha-6.beta-1.fnp-50.json\n",
      "/kaggle/input/finetune-model-any/ar_experimenttfrecords/tfrecords/train-0-0.bsz-8.seqlen-128.reuse-64.uni.alpha-6.beta-1.fnp-50.tfrecords\n",
      "/kaggle/input/asba-nlim/airy_test_nlim.csv\n",
      "/kaggle/input/asba-nlim/airy_test_nlim2.csv\n",
      "/kaggle/input/asba-nlim/rest_test_nlim.csv\n",
      "/kaggle/input/asba-nlim/car_train_nlim.csv\n",
      "/kaggle/input/asba-nlim/rest_train_nlim.csv\n",
      "/kaggle/input/asba-nlim/airy_train_nlim.csv\n",
      "/kaggle/input/asba-nlim/car_test_nlim.csv\n"
     ]
    }
   ],
   "source": [
    "import os\n",
    "for dirname, _, filenames in os.walk('/kaggle/input'):\n",
    "    for filename in filenames:\n",
    "        print(os.path.join(dirname, filename))"
   ]
  },
  {
   "cell_type": "code",
   "execution_count": 2,
   "id": "2843a1dd",
   "metadata": {
    "execution": {
     "iopub.execute_input": "2023-02-10T00:06:00.259267Z",
     "iopub.status.busy": "2023-02-10T00:06:00.258262Z",
     "iopub.status.idle": "2023-02-10T00:06:06.512691Z",
     "shell.execute_reply": "2023-02-10T00:06:06.511086Z"
    },
    "papermill": {
     "duration": 6.266585,
     "end_time": "2023-02-10T00:06:06.515301",
     "exception": false,
     "start_time": "2023-02-10T00:06:00.248716",
     "status": "completed"
    },
    "tags": []
   },
   "outputs": [
    {
     "name": "stdout",
     "output_type": "stream",
     "text": [
      "Found GPU at: /device:GPU:0\n"
     ]
    },
    {
     "name": "stderr",
     "output_type": "stream",
     "text": [
      "2023-02-10 00:06:04.290889: I tensorflow/core/platform/cpu_feature_guard.cc:142] This TensorFlow binary is optimized with oneAPI Deep Neural Network Library (oneDNN) to use the following CPU instructions in performance-critical operations:  AVX2 AVX512F FMA\n",
      "To enable them in other operations, rebuild TensorFlow with the appropriate compiler flags.\n",
      "2023-02-10 00:06:04.356428: I tensorflow/stream_executor/cuda/cuda_gpu_executor.cc:937] successful NUMA node read from SysFS had negative value (-1), but there must be at least one NUMA node, so returning NUMA node zero\n",
      "2023-02-10 00:06:04.445536: I tensorflow/stream_executor/cuda/cuda_gpu_executor.cc:937] successful NUMA node read from SysFS had negative value (-1), but there must be at least one NUMA node, so returning NUMA node zero\n",
      "2023-02-10 00:06:04.446298: I tensorflow/stream_executor/cuda/cuda_gpu_executor.cc:937] successful NUMA node read from SysFS had negative value (-1), but there must be at least one NUMA node, so returning NUMA node zero\n",
      "2023-02-10 00:06:06.500661: I tensorflow/stream_executor/cuda/cuda_gpu_executor.cc:937] successful NUMA node read from SysFS had negative value (-1), but there must be at least one NUMA node, so returning NUMA node zero\n",
      "2023-02-10 00:06:06.501399: I tensorflow/stream_executor/cuda/cuda_gpu_executor.cc:937] successful NUMA node read from SysFS had negative value (-1), but there must be at least one NUMA node, so returning NUMA node zero\n",
      "2023-02-10 00:06:06.502076: I tensorflow/stream_executor/cuda/cuda_gpu_executor.cc:937] successful NUMA node read from SysFS had negative value (-1), but there must be at least one NUMA node, so returning NUMA node zero\n",
      "2023-02-10 00:06:06.502663: I tensorflow/core/common_runtime/gpu/gpu_device.cc:1510] Created device /device:GPU:0 with 15401 MB memory:  -> device: 0, name: Tesla P100-PCIE-16GB, pci bus id: 0000:00:04.0, compute capability: 6.0\n"
     ]
    }
   ],
   "source": [
    "import tensorflow as tf\n",
    "\n",
    "device_name = tf.test.gpu_device_name()\n",
    "if device_name != '/device:GPU:0':\n",
    "  raise SystemError('GPU device not found')\n",
    "print('Found GPU at: {}'.format(device_name))"
   ]
  },
  {
   "cell_type": "code",
   "execution_count": 3,
   "id": "aa88c820",
   "metadata": {
    "execution": {
     "iopub.execute_input": "2023-02-10T00:06:06.532523Z",
     "iopub.status.busy": "2023-02-10T00:06:06.531916Z",
     "iopub.status.idle": "2023-02-10T00:06:38.879212Z",
     "shell.execute_reply": "2023-02-10T00:06:38.878024Z"
    },
    "executionInfo": {
     "elapsed": 15259,
     "status": "ok",
     "timestamp": 1579507775275,
     "user": {
      "displayName": "Shivam Panwar",
      "photoUrl": "",
      "userId": "00811775879175788799"
     },
     "user_tz": -330
    },
    "id": "iT7RB9yvRn0j",
    "outputId": "90a65303-12cb-4a73-9edc-66b35ed022d5",
    "papermill": {
     "duration": 32.358776,
     "end_time": "2023-02-10T00:06:38.881704",
     "exception": false,
     "start_time": "2023-02-10T00:06:06.522928",
     "status": "completed"
    },
    "tags": []
   },
   "outputs": [
    {
     "name": "stdout",
     "output_type": "stream",
     "text": [
      "Requirement already satisfied: sentencepiece in /opt/conda/lib/python3.7/site-packages (0.1.97)\r\n",
      "\u001b[33mWARNING: Running pip as the 'root' user can result in broken permissions and conflicting behaviour with the system package manager. It is recommended to use a virtual environment instead: https://pip.pypa.io/warnings/venv\u001b[0m\u001b[33m\r\n",
      "\u001b[0mCollecting pytorch-transformers\r\n",
      "  Downloading pytorch_transformers-1.2.0-py3-none-any.whl (176 kB)\r\n",
      "\u001b[2K     \u001b[90m━━━━━━━━━━━━━━━━━━━━━━━━━━━━━━━━━━━━━\u001b[0m \u001b[32m176.4/176.4 kB\u001b[0m \u001b[31m342.2 kB/s\u001b[0m eta \u001b[36m0:00:00\u001b[0m\r\n",
      "\u001b[?25hRequirement already satisfied: boto3 in /opt/conda/lib/python3.7/site-packages (from pytorch-transformers) (1.26.54)\r\n",
      "Requirement already satisfied: sentencepiece in /opt/conda/lib/python3.7/site-packages (from pytorch-transformers) (0.1.97)\r\n",
      "Requirement already satisfied: numpy in /opt/conda/lib/python3.7/site-packages (from pytorch-transformers) (1.21.6)\r\n",
      "Requirement already satisfied: regex in /opt/conda/lib/python3.7/site-packages (from pytorch-transformers) (2021.11.10)\r\n",
      "Requirement already satisfied: sacremoses in /opt/conda/lib/python3.7/site-packages (from pytorch-transformers) (0.0.53)\r\n",
      "Requirement already satisfied: torch>=1.0.0 in /opt/conda/lib/python3.7/site-packages (from pytorch-transformers) (1.11.0)\r\n",
      "Requirement already satisfied: tqdm in /opt/conda/lib/python3.7/site-packages (from pytorch-transformers) (4.64.0)\r\n",
      "Requirement already satisfied: requests in /opt/conda/lib/python3.7/site-packages (from pytorch-transformers) (2.28.1)\r\n",
      "Requirement already satisfied: typing-extensions in /opt/conda/lib/python3.7/site-packages (from torch>=1.0.0->pytorch-transformers) (4.1.1)\r\n",
      "Requirement already satisfied: s3transfer<0.7.0,>=0.6.0 in /opt/conda/lib/python3.7/site-packages (from boto3->pytorch-transformers) (0.6.0)\r\n",
      "Requirement already satisfied: botocore<1.30.0,>=1.29.54 in /opt/conda/lib/python3.7/site-packages (from boto3->pytorch-transformers) (1.29.54)\r\n",
      "Requirement already satisfied: jmespath<2.0.0,>=0.7.1 in /opt/conda/lib/python3.7/site-packages (from boto3->pytorch-transformers) (1.0.1)\r\n",
      "Requirement already satisfied: certifi>=2017.4.17 in /opt/conda/lib/python3.7/site-packages (from requests->pytorch-transformers) (2022.12.7)\r\n",
      "Requirement already satisfied: idna<4,>=2.5 in /opt/conda/lib/python3.7/site-packages (from requests->pytorch-transformers) (3.3)\r\n",
      "Requirement already satisfied: charset-normalizer<3,>=2 in /opt/conda/lib/python3.7/site-packages (from requests->pytorch-transformers) (2.1.0)\r\n",
      "Requirement already satisfied: urllib3<1.27,>=1.21.1 in /opt/conda/lib/python3.7/site-packages (from requests->pytorch-transformers) (1.26.14)\r\n",
      "Requirement already satisfied: click in /opt/conda/lib/python3.7/site-packages (from sacremoses->pytorch-transformers) (8.1.3)\r\n",
      "Requirement already satisfied: joblib in /opt/conda/lib/python3.7/site-packages (from sacremoses->pytorch-transformers) (1.0.1)\r\n",
      "Requirement already satisfied: six in /opt/conda/lib/python3.7/site-packages (from sacremoses->pytorch-transformers) (1.15.0)\r\n",
      "Requirement already satisfied: python-dateutil<3.0.0,>=2.1 in /opt/conda/lib/python3.7/site-packages (from botocore<1.30.0,>=1.29.54->boto3->pytorch-transformers) (2.8.2)\r\n",
      "Requirement already satisfied: importlib-metadata in /opt/conda/lib/python3.7/site-packages (from click->sacremoses->pytorch-transformers) (6.0.0)\r\n",
      "Requirement already satisfied: zipp>=0.5 in /opt/conda/lib/python3.7/site-packages (from importlib-metadata->click->sacremoses->pytorch-transformers) (3.8.0)\r\n",
      "Installing collected packages: pytorch-transformers\r\n",
      "Successfully installed pytorch-transformers-1.2.0\r\n",
      "\u001b[33mWARNING: Running pip as the 'root' user can result in broken permissions and conflicting behaviour with the system package manager. It is recommended to use a virtual environment instead: https://pip.pypa.io/warnings/venv\u001b[0m\u001b[33m\r\n",
      "\u001b[0mRequirement already satisfied: transformers in /opt/conda/lib/python3.7/site-packages (4.20.1)\r\n",
      "Requirement already satisfied: packaging>=20.0 in /opt/conda/lib/python3.7/site-packages (from transformers) (23.0)\r\n",
      "Requirement already satisfied: pyyaml>=5.1 in /opt/conda/lib/python3.7/site-packages (from transformers) (6.0)\r\n",
      "Requirement already satisfied: requests in /opt/conda/lib/python3.7/site-packages (from transformers) (2.28.1)\r\n",
      "Requirement already satisfied: tokenizers!=0.11.3,<0.13,>=0.11.1 in /opt/conda/lib/python3.7/site-packages (from transformers) (0.12.1)\r\n",
      "Requirement already satisfied: regex!=2019.12.17 in /opt/conda/lib/python3.7/site-packages (from transformers) (2021.11.10)\r\n",
      "Requirement already satisfied: huggingface-hub<1.0,>=0.1.0 in /opt/conda/lib/python3.7/site-packages (from transformers) (0.10.1)\r\n",
      "Requirement already satisfied: numpy>=1.17 in /opt/conda/lib/python3.7/site-packages (from transformers) (1.21.6)\r\n",
      "Requirement already satisfied: filelock in /opt/conda/lib/python3.7/site-packages (from transformers) (3.7.1)\r\n",
      "Requirement already satisfied: importlib-metadata in /opt/conda/lib/python3.7/site-packages (from transformers) (6.0.0)\r\n",
      "Requirement already satisfied: tqdm>=4.27 in /opt/conda/lib/python3.7/site-packages (from transformers) (4.64.0)\r\n",
      "Requirement already satisfied: typing-extensions>=3.7.4.3 in /opt/conda/lib/python3.7/site-packages (from huggingface-hub<1.0,>=0.1.0->transformers) (4.1.1)\r\n",
      "Requirement already satisfied: zipp>=0.5 in /opt/conda/lib/python3.7/site-packages (from importlib-metadata->transformers) (3.8.0)\r\n",
      "Requirement already satisfied: charset-normalizer<3,>=2 in /opt/conda/lib/python3.7/site-packages (from requests->transformers) (2.1.0)\r\n",
      "Requirement already satisfied: certifi>=2017.4.17 in /opt/conda/lib/python3.7/site-packages (from requests->transformers) (2022.12.7)\r\n",
      "Requirement already satisfied: idna<4,>=2.5 in /opt/conda/lib/python3.7/site-packages (from requests->transformers) (3.3)\r\n",
      "Requirement already satisfied: urllib3<1.27,>=1.21.1 in /opt/conda/lib/python3.7/site-packages (from requests->transformers) (1.26.14)\r\n",
      "\u001b[33mWARNING: Running pip as the 'root' user can result in broken permissions and conflicting behaviour with the system package manager. It is recommended to use a virtual environment instead: https://pip.pypa.io/warnings/venv\u001b[0m\u001b[33m\r\n",
      "\u001b[0m"
     ]
    }
   ],
   "source": [
    "!pip install sentencepiece\n",
    "!pip install pytorch-transformers\n",
    "!pip install transformers\n"
   ]
  },
  {
   "cell_type": "code",
   "execution_count": 4,
   "id": "743e78be",
   "metadata": {
    "execution": {
     "iopub.execute_input": "2023-02-10T00:06:38.901449Z",
     "iopub.status.busy": "2023-02-10T00:06:38.900457Z",
     "iopub.status.idle": "2023-02-10T00:06:42.562715Z",
     "shell.execute_reply": "2023-02-10T00:06:42.561554Z"
    },
    "executionInfo": {
     "elapsed": 48122,
     "status": "ok",
     "timestamp": 1579507808200,
     "user": {
      "displayName": "Shivam Panwar",
      "photoUrl": "",
      "userId": "00811775879175788799"
     },
     "user_tz": -330
    },
    "id": "emJNiU7IS_QM",
    "outputId": "fb3d1ffd-b293-4114-d765-14b1da489e02",
    "papermill": {
     "duration": 3.675162,
     "end_time": "2023-02-10T00:06:42.565716",
     "exception": false,
     "start_time": "2023-02-10T00:06:38.890554",
     "status": "completed"
    },
    "tags": []
   },
   "outputs": [],
   "source": [
    "import torch\n",
    "from torch.utils.data import TensorDataset, DataLoader, RandomSampler, SequentialSampler\n",
    "from keras.preprocessing.sequence import pad_sequences\n",
    "from sklearn.model_selection import train_test_split\n",
    "from sklearn.metrics import f1_score\n",
    "\n",
    "from pytorch_transformers import XLNetModel\n",
    "from transformers import XLNetForSequenceClassification, XLNetTokenizer, get_linear_schedule_with_warmup, AdamW\n",
    "\n",
    "from tqdm import tqdm, trange\n",
    "import pandas as pd\n",
    "import io\n",
    "import numpy as np\n",
    "from random import random\n",
    "import matplotlib.pyplot as plt\n",
    "%matplotlib inline"
   ]
  },
  {
   "cell_type": "code",
   "execution_count": 5,
   "id": "401e6fd1",
   "metadata": {
    "execution": {
     "iopub.execute_input": "2023-02-10T00:06:42.586199Z",
     "iopub.status.busy": "2023-02-10T00:06:42.585871Z",
     "iopub.status.idle": "2023-02-10T00:06:44.983463Z",
     "shell.execute_reply": "2023-02-10T00:06:44.982522Z"
    },
    "executionInfo": {
     "elapsed": 48101,
     "status": "ok",
     "timestamp": 1579507808203,
     "user": {
      "displayName": "Shivam Panwar",
      "photoUrl": "",
      "userId": "00811775879175788799"
     },
     "user_tz": -330
    },
    "id": "SZaBvr9lTKwT",
    "outputId": "b41377ed-378c-49df-e683-daf8d7db015a",
    "papermill": {
     "duration": 2.410526,
     "end_time": "2023-02-10T00:06:44.985333",
     "exception": false,
     "start_time": "2023-02-10T00:06:42.574807",
     "status": "completed"
    },
    "tags": []
   },
   "outputs": [
    {
     "data": {
      "text/plain": [
       "'Tesla P100-PCIE-16GB'"
      ]
     },
     "execution_count": 5,
     "metadata": {},
     "output_type": "execute_result"
    }
   ],
   "source": [
    "device = torch.device(\"cuda\" if torch.cuda.is_available() else \"cpu\")\n",
    "n_gpu = torch.cuda.device_count()\n",
    "torch.cuda.get_device_name(0)"
   ]
  },
  {
   "cell_type": "code",
   "execution_count": 6,
   "id": "59068422",
   "metadata": {
    "execution": {
     "iopub.execute_input": "2023-02-10T00:06:45.005294Z",
     "iopub.status.busy": "2023-02-10T00:06:45.004969Z",
     "iopub.status.idle": "2023-02-10T00:06:45.011307Z",
     "shell.execute_reply": "2023-02-10T00:06:45.010208Z"
    },
    "papermill": {
     "duration": 0.018401,
     "end_time": "2023-02-10T00:06:45.013490",
     "exception": false,
     "start_time": "2023-02-10T00:06:44.995089",
     "status": "completed"
    },
    "tags": []
   },
   "outputs": [],
   "source": [
    "def truncate_seq_pair(tokens_a, tokens_b, max_num_tokens):\n",
    "    \"\"\"Truncates a pair of sequences to a maximum sequence length. Lifted from Google's BERT repo.\"\"\"\n",
    "    while True:\n",
    "        total_length = len(tokens_a) + len(tokens_b)\n",
    "        if total_length <= max_num_tokens:\n",
    "            break\n",
    "\n",
    "        trunc_tokens = tokens_a if len(tokens_a) > len(tokens_b) else tokens_b\n",
    "        assert len(trunc_tokens) >= 1\n",
    "\n",
    "        # We want to sometimes truncate from the front and sometimes from the\n",
    "        # back to add more randomness and avoid biases.\n",
    "        if random() < 0.5:\n",
    "            del trunc_tokens[0]\n",
    "        else:\n",
    "            trunc_tokens.pop()"
   ]
  },
  {
   "cell_type": "code",
   "execution_count": 7,
   "id": "457e405e",
   "metadata": {
    "execution": {
     "iopub.execute_input": "2023-02-10T00:06:45.033084Z",
     "iopub.status.busy": "2023-02-10T00:06:45.032204Z",
     "iopub.status.idle": "2023-02-10T00:06:45.038959Z",
     "shell.execute_reply": "2023-02-10T00:06:45.038144Z"
    },
    "papermill": {
     "duration": 0.019015,
     "end_time": "2023-02-10T00:06:45.041037",
     "exception": false,
     "start_time": "2023-02-10T00:06:45.022022",
     "status": "completed"
    },
    "tags": []
   },
   "outputs": [],
   "source": [
    "def get_tokenized_texts_from(tokenizer, sentences_a, sentences_b, max_len):\n",
    "    tokenized_texts_a = [tokenizer.tokenize(sent) for sent in sentences_a]\n",
    "    tokenized_texts_b = [tokenizer.tokenize(sent) for sent in sentences_b]\n",
    "    tokenized_texts = []\n",
    "    for i in range (len(tokenized_texts_a)):\n",
    "        truncate_seq_pair(tokenized_texts_a[i], tokenized_texts_b[i], max_len-3)\n",
    "        tokens = tokenized_texts_a[i] + [\"<sep>\"] + tokenized_texts_b[i] + [\"<sep>\"] + [\"<cls>\"]\n",
    "        tokenized_texts.append(tokens)\n",
    "    return tokenized_texts"
   ]
  },
  {
   "cell_type": "code",
   "execution_count": 8,
   "id": "f9c702c3",
   "metadata": {
    "execution": {
     "iopub.execute_input": "2023-02-10T00:06:45.059790Z",
     "iopub.status.busy": "2023-02-10T00:06:45.059268Z",
     "iopub.status.idle": "2023-02-10T00:06:45.088165Z",
     "shell.execute_reply": "2023-02-10T00:06:45.087358Z"
    },
    "id": "sy9__UqtTRzp",
    "papermill": {
     "duration": 0.040499,
     "end_time": "2023-02-10T00:06:45.090131",
     "exception": false,
     "start_time": "2023-02-10T00:06:45.049632",
     "status": "completed"
    },
    "tags": []
   },
   "outputs": [],
   "source": [
    "df = pd.read_csv(\"/kaggle/input/asba-nlim/rest_train_nlim.csv\")\n",
    "df_test = pd.read_csv(\"/kaggle/input/asba-nlim/rest_test_nlim.csv\")"
   ]
  },
  {
   "cell_type": "code",
   "execution_count": 9,
   "id": "fe521375",
   "metadata": {
    "execution": {
     "iopub.execute_input": "2023-02-10T00:06:45.108708Z",
     "iopub.status.busy": "2023-02-10T00:06:45.108444Z",
     "iopub.status.idle": "2023-02-10T00:06:45.114233Z",
     "shell.execute_reply": "2023-02-10T00:06:45.113377Z"
    },
    "executionInfo": {
     "elapsed": 49600,
     "status": "ok",
     "timestamp": 1579507809746,
     "user": {
      "displayName": "Shivam Panwar",
      "photoUrl": "",
      "userId": "00811775879175788799"
     },
     "user_tz": -330
    },
    "id": "L-76tmHxThz2",
    "outputId": "05e4deb0-a864-4685-8433-ec80bcd45ebb",
    "papermill": {
     "duration": 0.017058,
     "end_time": "2023-02-10T00:06:45.116115",
     "exception": false,
     "start_time": "2023-02-10T00:06:45.099057",
     "status": "completed"
    },
    "tags": []
   },
   "outputs": [
    {
     "data": {
      "text/plain": [
       "(1686, 3)"
      ]
     },
     "execution_count": 9,
     "metadata": {},
     "output_type": "execute_result"
    }
   ],
   "source": [
    "df.shape"
   ]
  },
  {
   "cell_type": "code",
   "execution_count": 10,
   "id": "695813bc",
   "metadata": {
    "execution": {
     "iopub.execute_input": "2023-02-10T00:06:45.135048Z",
     "iopub.status.busy": "2023-02-10T00:06:45.134201Z",
     "iopub.status.idle": "2023-02-10T00:06:45.148651Z",
     "shell.execute_reply": "2023-02-10T00:06:45.147664Z"
    },
    "executionInfo": {
     "elapsed": 49581,
     "status": "ok",
     "timestamp": 1579507809747,
     "user": {
      "displayName": "Shivam Panwar",
      "photoUrl": "",
      "userId": "00811775879175788799"
     },
     "user_tz": -330
    },
    "id": "gnfnNijqTjDN",
    "outputId": "a321188c-6a3b-47ac-e1f5-87529e8ba977",
    "papermill": {
     "duration": 0.026204,
     "end_time": "2023-02-10T00:06:45.150821",
     "exception": false,
     "start_time": "2023-02-10T00:06:45.124617",
     "status": "completed"
    },
    "tags": []
   },
   "outputs": [
    {
     "data": {
      "text/html": [
       "<div>\n",
       "<style scoped>\n",
       "    .dataframe tbody tr th:only-of-type {\n",
       "        vertical-align: middle;\n",
       "    }\n",
       "\n",
       "    .dataframe tbody tr th {\n",
       "        vertical-align: top;\n",
       "    }\n",
       "\n",
       "    .dataframe thead th {\n",
       "        text-align: right;\n",
       "    }\n",
       "</style>\n",
       "<table border=\"1\" class=\"dataframe\">\n",
       "  <thead>\n",
       "    <tr style=\"text-align: right;\">\n",
       "      <th></th>\n",
       "      <th>text_a</th>\n",
       "      <th>text_b</th>\n",
       "      <th>label</th>\n",
       "    </tr>\n",
       "  </thead>\n",
       "  <tbody>\n",
       "    <tr>\n",
       "      <th>0</th>\n",
       "      <td>ini tengah kota tetapi suasana iya tidak kalah...</td>\n",
       "      <td>place</td>\n",
       "      <td>1</td>\n",
       "    </tr>\n",
       "    <tr>\n",
       "      <th>1</th>\n",
       "      <td>saya suka makanannya .</td>\n",
       "      <td>food</td>\n",
       "      <td>1</td>\n",
       "    </tr>\n",
       "    <tr>\n",
       "      <th>2</th>\n",
       "      <td>harga memang agak mahal .</td>\n",
       "      <td>price</td>\n",
       "      <td>0</td>\n",
       "    </tr>\n",
       "    <tr>\n",
       "      <th>3</th>\n",
       "      <td>yang menjadi point utama dari restoran ini ada...</td>\n",
       "      <td>place</td>\n",
       "      <td>1</td>\n",
       "    </tr>\n",
       "    <tr>\n",
       "      <th>4</th>\n",
       "      <td>walau areanya tidak terlalu luas untuk resort .</td>\n",
       "      <td>place</td>\n",
       "      <td>0</td>\n",
       "    </tr>\n",
       "  </tbody>\n",
       "</table>\n",
       "</div>"
      ],
      "text/plain": [
       "                                              text_a text_b  label\n",
       "0  ini tengah kota tetapi suasana iya tidak kalah...  place      1\n",
       "1                             saya suka makanannya .   food      1\n",
       "2                          harga memang agak mahal .  price      0\n",
       "3  yang menjadi point utama dari restoran ini ada...  place      1\n",
       "4    walau areanya tidak terlalu luas untuk resort .  place      0"
      ]
     },
     "execution_count": 10,
     "metadata": {},
     "output_type": "execute_result"
    }
   ],
   "source": [
    "df.head()"
   ]
  },
  {
   "cell_type": "code",
   "execution_count": 11,
   "id": "14d3718e",
   "metadata": {
    "execution": {
     "iopub.execute_input": "2023-02-10T00:06:45.170208Z",
     "iopub.status.busy": "2023-02-10T00:06:45.169932Z",
     "iopub.status.idle": "2023-02-10T00:06:45.179262Z",
     "shell.execute_reply": "2023-02-10T00:06:45.178371Z"
    },
    "papermill": {
     "duration": 0.020979,
     "end_time": "2023-02-10T00:06:45.181238",
     "exception": false,
     "start_time": "2023-02-10T00:06:45.160259",
     "status": "completed"
    },
    "tags": []
   },
   "outputs": [
    {
     "name": "stdout",
     "output_type": "stream",
     "text": [
      "Number of training sentences: 1,348\n",
      "\n",
      "Number of testing sentences: 338\n",
      "\n"
     ]
    }
   ],
   "source": [
    "df_train ,df_val = train_test_split(df, random_state=2018, test_size=0.2)\n",
    "\n",
    "print('Number of training sentences: {:,}\\n'.format(df_train.shape[0]))\n",
    "print('Number of testing sentences: {:,}\\n'.format(df_val.shape[0]))"
   ]
  },
  {
   "cell_type": "code",
   "execution_count": null,
   "id": "1c7475a7",
   "metadata": {
    "papermill": {
     "duration": 0.009288,
     "end_time": "2023-02-10T00:06:45.199290",
     "exception": false,
     "start_time": "2023-02-10T00:06:45.190002",
     "status": "completed"
    },
    "tags": []
   },
   "outputs": [],
   "source": []
  },
  {
   "cell_type": "code",
   "execution_count": 12,
   "id": "2dcf0c89",
   "metadata": {
    "execution": {
     "iopub.execute_input": "2023-02-10T00:06:45.218693Z",
     "iopub.status.busy": "2023-02-10T00:06:45.217928Z",
     "iopub.status.idle": "2023-02-10T00:06:45.222359Z",
     "shell.execute_reply": "2023-02-10T00:06:45.221580Z"
    },
    "id": "3RaQMymhUaO3",
    "papermill": {
     "duration": 0.016369,
     "end_time": "2023-02-10T00:06:45.224427",
     "exception": false,
     "start_time": "2023-02-10T00:06:45.208058",
     "status": "completed"
    },
    "tags": []
   },
   "outputs": [],
   "source": [
    "MAX_LEN = 128\n",
    "\n"
   ]
  },
  {
   "cell_type": "code",
   "execution_count": 13,
   "id": "df3fe693",
   "metadata": {
    "execution": {
     "iopub.execute_input": "2023-02-10T00:06:45.243857Z",
     "iopub.status.busy": "2023-02-10T00:06:45.243071Z",
     "iopub.status.idle": "2023-02-10T00:06:45.250406Z",
     "shell.execute_reply": "2023-02-10T00:06:45.249581Z"
    },
    "papermill": {
     "duration": 0.019138,
     "end_time": "2023-02-10T00:06:45.252593",
     "exception": false,
     "start_time": "2023-02-10T00:06:45.233455",
     "status": "completed"
    },
    "tags": []
   },
   "outputs": [],
   "source": [
    "sentences_a_train = df_train.text_a.values\n",
    "sentences_b_train = df_train.text_b.values\n",
    "labels_train = df_train.label.values"
   ]
  },
  {
   "cell_type": "code",
   "execution_count": 14,
   "id": "ace5198a",
   "metadata": {
    "execution": {
     "iopub.execute_input": "2023-02-10T00:06:45.271957Z",
     "iopub.status.busy": "2023-02-10T00:06:45.271058Z",
     "iopub.status.idle": "2023-02-10T00:06:45.276382Z",
     "shell.execute_reply": "2023-02-10T00:06:45.275556Z"
    },
    "id": "-SrIkmJmUl1_",
    "papermill": {
     "duration": 0.01683,
     "end_time": "2023-02-10T00:06:45.278265",
     "exception": false,
     "start_time": "2023-02-10T00:06:45.261435",
     "status": "completed"
    },
    "tags": []
   },
   "outputs": [],
   "source": [
    "sentences_a_val = df_val.text_a.values\n",
    "sentences_b_val = df_val.text_b.values\n",
    "labels_val = df_val.label.values"
   ]
  },
  {
   "cell_type": "code",
   "execution_count": 15,
   "id": "f89e2bda",
   "metadata": {
    "execution": {
     "iopub.execute_input": "2023-02-10T00:06:45.297829Z",
     "iopub.status.busy": "2023-02-10T00:06:45.297075Z",
     "iopub.status.idle": "2023-02-10T00:06:45.301869Z",
     "shell.execute_reply": "2023-02-10T00:06:45.300926Z"
    },
    "papermill": {
     "duration": 0.016571,
     "end_time": "2023-02-10T00:06:45.303802",
     "exception": false,
     "start_time": "2023-02-10T00:06:45.287231",
     "status": "completed"
    },
    "tags": []
   },
   "outputs": [],
   "source": [
    "sentences_a_test = df_test.text_a.values\n",
    "sentences_b_test = df_test.text_b.values\n",
    "labels_test = df_test.label.values"
   ]
  },
  {
   "cell_type": "code",
   "execution_count": 16,
   "id": "a82c06e3",
   "metadata": {
    "execution": {
     "iopub.execute_input": "2023-02-10T00:06:45.324143Z",
     "iopub.status.busy": "2023-02-10T00:06:45.323448Z",
     "iopub.status.idle": "2023-02-10T00:06:45.327733Z",
     "shell.execute_reply": "2023-02-10T00:06:45.326728Z"
    },
    "executionInfo": {
     "elapsed": 49527,
     "status": "ok",
     "timestamp": 1579507809750,
     "user": {
      "displayName": "Shivam Panwar",
      "photoUrl": "",
      "userId": "00811775879175788799"
     },
     "user_tz": -330
    },
    "id": "ndD9LjVxUqw9",
    "outputId": "7012554a-2fa3-4153-9fca-454dd151d7d3",
    "papermill": {
     "duration": 0.016702,
     "end_time": "2023-02-10T00:06:45.329730",
     "exception": false,
     "start_time": "2023-02-10T00:06:45.313028",
     "status": "completed"
    },
    "tags": []
   },
   "outputs": [],
   "source": [
    "# sentences[0]"
   ]
  },
  {
   "cell_type": "code",
   "execution_count": 17,
   "id": "063307d5",
   "metadata": {
    "execution": {
     "iopub.execute_input": "2023-02-10T00:06:45.350839Z",
     "iopub.status.busy": "2023-02-10T00:06:45.349911Z",
     "iopub.status.idle": "2023-02-10T00:06:54.409910Z",
     "shell.execute_reply": "2023-02-10T00:06:54.408729Z"
    },
    "executionInfo": {
     "elapsed": 72729,
     "status": "ok",
     "timestamp": 1579507832981,
     "user": {
      "displayName": "Shivam Panwar",
      "photoUrl": "",
      "userId": "00811775879175788799"
     },
     "user_tz": -330
    },
    "id": "9w5oDR3gUuBQ",
    "outputId": "56517de2-ef2d-44b4-a4b0-382f2bdcf361",
    "papermill": {
     "duration": 9.073479,
     "end_time": "2023-02-10T00:06:54.412754",
     "exception": false,
     "start_time": "2023-02-10T00:06:45.339275",
     "status": "completed"
    },
    "tags": []
   },
   "outputs": [
    {
     "data": {
      "application/vnd.jupyter.widget-view+json": {
       "model_id": "768d41278edf44a2822a4fe133c8c7d2",
       "version_major": 2,
       "version_minor": 0
      },
      "text/plain": [
       "Downloading:   0%|          | 0.00/760k [00:00<?, ?B/s]"
      ]
     },
     "metadata": {},
     "output_type": "display_data"
    },
    {
     "data": {
      "application/vnd.jupyter.widget-view+json": {
       "model_id": "695f44a8b6ed4f8d867b69934835583f",
       "version_major": 2,
       "version_minor": 0
      },
      "text/plain": [
       "Downloading:   0%|          | 0.00/290 [00:00<?, ?B/s]"
      ]
     },
     "metadata": {},
     "output_type": "display_data"
    },
    {
     "data": {
      "application/vnd.jupyter.widget-view+json": {
       "model_id": "9066fece039d4900b4ecd9b65350d0be",
       "version_major": 2,
       "version_minor": 0
      },
      "text/plain": [
       "Downloading:   0%|          | 0.00/443 [00:00<?, ?B/s]"
      ]
     },
     "metadata": {},
     "output_type": "display_data"
    },
    {
     "name": "stdout",
     "output_type": "stream",
     "text": [
      "Tokenize the first sentence:\n",
      "['▁dengan', '▁harga', '▁yang', '▁tidak', '▁terlalu', '▁mahal', '▁,', '▁saya', '▁mendapatkan', '▁tender', 'lo', 'in', '▁steak', '▁yang', '▁lumayan', '▁besar', '▁dan', '▁sangat', '▁menge', 'nya', 'ng', 'kan', '▁', '.', '<sep>', '▁food', '<sep>', '<cls>']\n"
     ]
    }
   ],
   "source": [
    "tokenizer = XLNetTokenizer.from_pretrained('malay-huggingface/xlnet-base-bahasa-cased', do_lower_case=True)\n",
    "tokenized_texts_train = get_tokenized_texts_from(tokenizer, sentences_a_train, sentences_b_train, MAX_LEN)\n",
    "tokenized_texts_val = get_tokenized_texts_from(tokenizer, sentences_a_val, sentences_b_val, MAX_LEN)\n",
    "tokenized_texts_test = get_tokenized_texts_from(tokenizer, sentences_a_test, sentences_b_test, MAX_LEN)\n",
    "\n",
    "print (\"Tokenize the first sentence:\")\n",
    "print (tokenized_texts_train[0])"
   ]
  },
  {
   "cell_type": "code",
   "execution_count": 18,
   "id": "e8cbfabf",
   "metadata": {
    "execution": {
     "iopub.execute_input": "2023-02-10T00:06:54.435789Z",
     "iopub.status.busy": "2023-02-10T00:06:54.433932Z",
     "iopub.status.idle": "2023-02-10T00:06:54.496055Z",
     "shell.execute_reply": "2023-02-10T00:06:54.495034Z"
    },
    "papermill": {
     "duration": 0.075445,
     "end_time": "2023-02-10T00:06:54.498626",
     "exception": false,
     "start_time": "2023-02-10T00:06:54.423181",
     "status": "completed"
    },
    "tags": []
   },
   "outputs": [],
   "source": [
    "input_ids_train = [tokenizer.convert_tokens_to_ids(x) for x in tokenized_texts_train]\n",
    "input_ids_val = [tokenizer.convert_tokens_to_ids(x) for x in tokenized_texts_val]\n",
    "input_ids_test = [tokenizer.convert_tokens_to_ids(x) for x in tokenized_texts_test]"
   ]
  },
  {
   "cell_type": "code",
   "execution_count": 19,
   "id": "528e54eb",
   "metadata": {
    "execution": {
     "iopub.execute_input": "2023-02-10T00:06:54.519925Z",
     "iopub.status.busy": "2023-02-10T00:06:54.519220Z",
     "iopub.status.idle": "2023-02-10T00:06:54.532502Z",
     "shell.execute_reply": "2023-02-10T00:06:54.531576Z"
    },
    "id": "5bR1ejqCU6hp",
    "papermill": {
     "duration": 0.025938,
     "end_time": "2023-02-10T00:06:54.534545",
     "exception": false,
     "start_time": "2023-02-10T00:06:54.508607",
     "status": "completed"
    },
    "tags": []
   },
   "outputs": [],
   "source": [
    "input_ids_train = pad_sequences(input_ids_train, maxlen=MAX_LEN, dtype=\"long\", truncating=\"post\", padding=\"post\")\n",
    "input_ids_val = pad_sequences(input_ids_val, maxlen=MAX_LEN, dtype=\"long\", truncating=\"post\", padding=\"post\")\n",
    "input_ids_test = pad_sequences(input_ids_test, maxlen=MAX_LEN, dtype=\"long\", truncating=\"post\", padding=\"post\")\n"
   ]
  },
  {
   "cell_type": "code",
   "execution_count": 20,
   "id": "9088fb82",
   "metadata": {
    "execution": {
     "iopub.execute_input": "2023-02-10T00:06:54.554938Z",
     "iopub.status.busy": "2023-02-10T00:06:54.554575Z",
     "iopub.status.idle": "2023-02-10T00:06:54.563900Z",
     "shell.execute_reply": "2023-02-10T00:06:54.562818Z"
    },
    "id": "WlVIq2q5VILC",
    "papermill": {
     "duration": 0.021743,
     "end_time": "2023-02-10T00:06:54.565890",
     "exception": false,
     "start_time": "2023-02-10T00:06:54.544147",
     "status": "completed"
    },
    "tags": []
   },
   "outputs": [],
   "source": [
    "tokenized_texts_test =pad_sequences(tokenized_texts_test, maxlen=MAX_LEN, dtype=object, truncating=\"post\", padding=\"post\")\n",
    "\n",
    "df_test['tokens'] = tokenized_texts_test.tolist()"
   ]
  },
  {
   "cell_type": "code",
   "execution_count": null,
   "id": "67c996bd",
   "metadata": {
    "papermill": {
     "duration": 0.017726,
     "end_time": "2023-02-10T00:06:54.593250",
     "exception": false,
     "start_time": "2023-02-10T00:06:54.575524",
     "status": "completed"
    },
    "tags": []
   },
   "outputs": [],
   "source": []
  },
  {
   "cell_type": "code",
   "execution_count": null,
   "id": "ebe11b01",
   "metadata": {
    "papermill": {
     "duration": 0.009178,
     "end_time": "2023-02-10T00:06:54.616913",
     "exception": false,
     "start_time": "2023-02-10T00:06:54.607735",
     "status": "completed"
    },
    "tags": []
   },
   "outputs": [],
   "source": []
  },
  {
   "cell_type": "code",
   "execution_count": 21,
   "id": "90c33e0a",
   "metadata": {
    "execution": {
     "iopub.execute_input": "2023-02-10T00:06:54.637285Z",
     "iopub.status.busy": "2023-02-10T00:06:54.636852Z",
     "iopub.status.idle": "2023-02-10T00:06:54.744113Z",
     "shell.execute_reply": "2023-02-10T00:06:54.743105Z"
    },
    "id": "7OpPXkQvVP4K",
    "papermill": {
     "duration": 0.120515,
     "end_time": "2023-02-10T00:06:54.746749",
     "exception": false,
     "start_time": "2023-02-10T00:06:54.626234",
     "status": "completed"
    },
    "tags": []
   },
   "outputs": [],
   "source": [
    "# Create attention masks\n",
    "attention_masks_train = []\n",
    "\n",
    "# Create a mask of 1s for each token followed by 0s for padding\n",
    "for seq in input_ids_train:\n",
    "  seq_mask_train = [float(i>0) for i in seq]\n",
    "  attention_masks_train.append(seq_mask_train)\n",
    "\n",
    "# Create attention masks\n",
    "attention_masks_val = []\n",
    "\n",
    "# Create a mask of 1s for each token followed by 0s for padding\n",
    "for seq in input_ids_val:\n",
    "  seq_mask_val = [float(i>0) for i in seq]\n",
    "  attention_masks_val.append(seq_mask_val)\n",
    "    \n",
    "attention_masks_test = []\n",
    "for seq in input_ids_test:\n",
    "  seq_mask_test = [float(i>0) for i in seq]\n",
    "  attention_masks_test.append(seq_mask_test)"
   ]
  },
  {
   "cell_type": "code",
   "execution_count": 22,
   "id": "09af16b2",
   "metadata": {
    "execution": {
     "iopub.execute_input": "2023-02-10T00:06:54.768532Z",
     "iopub.status.busy": "2023-02-10T00:06:54.766859Z",
     "iopub.status.idle": "2023-02-10T00:06:54.784880Z",
     "shell.execute_reply": "2023-02-10T00:06:54.783958Z"
    },
    "id": "nn3hPYmYViHO",
    "papermill": {
     "duration": 0.030677,
     "end_time": "2023-02-10T00:06:54.787060",
     "exception": false,
     "start_time": "2023-02-10T00:06:54.756383",
     "status": "completed"
    },
    "tags": []
   },
   "outputs": [],
   "source": [
    "train_inputs = torch.tensor(input_ids_train)\n",
    "train_labels = torch.tensor(labels_train)\n",
    "train_masks = torch.tensor(attention_masks_train)\n",
    "\n",
    "val_inputs = torch.tensor(input_ids_val)\n",
    "val_labels = torch.tensor(labels_val)\n",
    "val_masks = torch.tensor(attention_masks_val)\n",
    "\n",
    "test_inputs = torch.tensor(input_ids_test)\n",
    "test_labels = torch.tensor(labels_test)\n",
    "test_masks = torch.tensor(attention_masks_test)"
   ]
  },
  {
   "cell_type": "code",
   "execution_count": 23,
   "id": "fa8ee35e",
   "metadata": {
    "execution": {
     "iopub.execute_input": "2023-02-10T00:06:54.807374Z",
     "iopub.status.busy": "2023-02-10T00:06:54.806553Z",
     "iopub.status.idle": "2023-02-10T00:06:54.813259Z",
     "shell.execute_reply": "2023-02-10T00:06:54.812432Z"
    },
    "id": "wXDDYe7dVlCx",
    "papermill": {
     "duration": 0.018772,
     "end_time": "2023-02-10T00:06:54.815252",
     "exception": false,
     "start_time": "2023-02-10T00:06:54.796480",
     "status": "completed"
    },
    "tags": []
   },
   "outputs": [],
   "source": [
    "batch_size = 32\n",
    "train_data = TensorDataset(train_inputs, train_masks, train_labels)\n",
    "train_sampler = RandomSampler(train_data)\n",
    "train_dataloader = DataLoader(train_data, sampler=train_sampler, batch_size=batch_size)\n",
    "\n",
    "val_data = TensorDataset(val_inputs, val_masks, val_labels)\n",
    "val_sampler = SequentialSampler(val_data)\n",
    "val_dataloader = DataLoader(val_data, sampler=val_sampler, batch_size=batch_size)\n",
    "\n",
    "test_data = TensorDataset(test_inputs, test_masks, test_labels)\n",
    "test_sampler = SequentialSampler(test_data)\n",
    "test_dataloader = DataLoader(test_data, sampler=test_sampler, batch_size=batch_size)"
   ]
  },
  {
   "cell_type": "markdown",
   "id": "f85a804a",
   "metadata": {
    "id": "1zvvTbR8h66j",
    "papermill": {
     "duration": 0.00895,
     "end_time": "2023-02-10T00:06:54.833452",
     "exception": false,
     "start_time": "2023-02-10T00:06:54.824502",
     "status": "completed"
    },
    "tags": []
   },
   "source": [
    "Using **finetuned language model**"
   ]
  },
  {
   "cell_type": "code",
   "execution_count": 24,
   "id": "92e5ec2d",
   "metadata": {
    "execution": {
     "iopub.execute_input": "2023-02-10T00:06:54.853561Z",
     "iopub.status.busy": "2023-02-10T00:06:54.852723Z",
     "iopub.status.idle": "2023-02-10T00:07:00.322128Z",
     "shell.execute_reply": "2023-02-10T00:07:00.321143Z"
    },
    "executionInfo": {
     "elapsed": 11108,
     "status": "ok",
     "timestamp": 1579510821941,
     "user": {
      "displayName": "Shivam Panwar",
      "photoUrl": "",
      "userId": "00811775879175788799"
     },
     "user_tz": -330
    },
    "id": "cVAGfSD5ojia",
    "outputId": "0685088f-ae9f-4654-9b58-029b531ac625",
    "papermill": {
     "duration": 5.481479,
     "end_time": "2023-02-10T00:07:00.324199",
     "exception": false,
     "start_time": "2023-02-10T00:06:54.842720",
     "status": "completed"
    },
    "tags": []
   },
   "outputs": [
    {
     "name": "stderr",
     "output_type": "stream",
     "text": [
      "Some weights of the model checkpoint at /kaggle/input/finetune-model-any/ar_experimenttfrecords/model/ar_pytorch_model were not used when initializing XLNetForSequenceClassification: ['lm_loss.bias', 'lm_loss.weight']\n",
      "- This IS expected if you are initializing XLNetForSequenceClassification from the checkpoint of a model trained on another task or with another architecture (e.g. initializing a BertForSequenceClassification model from a BertForPreTraining model).\n",
      "- This IS NOT expected if you are initializing XLNetForSequenceClassification from the checkpoint of a model that you expect to be exactly identical (initializing a BertForSequenceClassification model from a BertForSequenceClassification model).\n",
      "Some weights of XLNetForSequenceClassification were not initialized from the model checkpoint at /kaggle/input/finetune-model-any/ar_experimenttfrecords/model/ar_pytorch_model and are newly initialized: ['logits_proj.weight', 'logits_proj.bias', 'sequence_summary.summary.bias', 'sequence_summary.summary.weight']\n",
      "You should probably TRAIN this model on a down-stream task to be able to use it for predictions and inference.\n"
     ]
    },
    {
     "data": {
      "text/plain": [
       "XLNetForSequenceClassification(\n",
       "  (transformer): XLNetModel(\n",
       "    (word_embedding): Embedding(32000, 768)\n",
       "    (layer): ModuleList(\n",
       "      (0): XLNetLayer(\n",
       "        (rel_attn): XLNetRelativeAttention(\n",
       "          (layer_norm): LayerNorm((768,), eps=1e-12, elementwise_affine=True)\n",
       "          (dropout): Dropout(p=0.1, inplace=False)\n",
       "        )\n",
       "        (ff): XLNetFeedForward(\n",
       "          (layer_norm): LayerNorm((768,), eps=1e-12, elementwise_affine=True)\n",
       "          (layer_1): Linear(in_features=768, out_features=3072, bias=True)\n",
       "          (layer_2): Linear(in_features=3072, out_features=768, bias=True)\n",
       "          (dropout): Dropout(p=0.1, inplace=False)\n",
       "          (activation_function): GELUActivation()\n",
       "        )\n",
       "        (dropout): Dropout(p=0.1, inplace=False)\n",
       "      )\n",
       "      (1): XLNetLayer(\n",
       "        (rel_attn): XLNetRelativeAttention(\n",
       "          (layer_norm): LayerNorm((768,), eps=1e-12, elementwise_affine=True)\n",
       "          (dropout): Dropout(p=0.1, inplace=False)\n",
       "        )\n",
       "        (ff): XLNetFeedForward(\n",
       "          (layer_norm): LayerNorm((768,), eps=1e-12, elementwise_affine=True)\n",
       "          (layer_1): Linear(in_features=768, out_features=3072, bias=True)\n",
       "          (layer_2): Linear(in_features=3072, out_features=768, bias=True)\n",
       "          (dropout): Dropout(p=0.1, inplace=False)\n",
       "          (activation_function): GELUActivation()\n",
       "        )\n",
       "        (dropout): Dropout(p=0.1, inplace=False)\n",
       "      )\n",
       "      (2): XLNetLayer(\n",
       "        (rel_attn): XLNetRelativeAttention(\n",
       "          (layer_norm): LayerNorm((768,), eps=1e-12, elementwise_affine=True)\n",
       "          (dropout): Dropout(p=0.1, inplace=False)\n",
       "        )\n",
       "        (ff): XLNetFeedForward(\n",
       "          (layer_norm): LayerNorm((768,), eps=1e-12, elementwise_affine=True)\n",
       "          (layer_1): Linear(in_features=768, out_features=3072, bias=True)\n",
       "          (layer_2): Linear(in_features=3072, out_features=768, bias=True)\n",
       "          (dropout): Dropout(p=0.1, inplace=False)\n",
       "          (activation_function): GELUActivation()\n",
       "        )\n",
       "        (dropout): Dropout(p=0.1, inplace=False)\n",
       "      )\n",
       "      (3): XLNetLayer(\n",
       "        (rel_attn): XLNetRelativeAttention(\n",
       "          (layer_norm): LayerNorm((768,), eps=1e-12, elementwise_affine=True)\n",
       "          (dropout): Dropout(p=0.1, inplace=False)\n",
       "        )\n",
       "        (ff): XLNetFeedForward(\n",
       "          (layer_norm): LayerNorm((768,), eps=1e-12, elementwise_affine=True)\n",
       "          (layer_1): Linear(in_features=768, out_features=3072, bias=True)\n",
       "          (layer_2): Linear(in_features=3072, out_features=768, bias=True)\n",
       "          (dropout): Dropout(p=0.1, inplace=False)\n",
       "          (activation_function): GELUActivation()\n",
       "        )\n",
       "        (dropout): Dropout(p=0.1, inplace=False)\n",
       "      )\n",
       "      (4): XLNetLayer(\n",
       "        (rel_attn): XLNetRelativeAttention(\n",
       "          (layer_norm): LayerNorm((768,), eps=1e-12, elementwise_affine=True)\n",
       "          (dropout): Dropout(p=0.1, inplace=False)\n",
       "        )\n",
       "        (ff): XLNetFeedForward(\n",
       "          (layer_norm): LayerNorm((768,), eps=1e-12, elementwise_affine=True)\n",
       "          (layer_1): Linear(in_features=768, out_features=3072, bias=True)\n",
       "          (layer_2): Linear(in_features=3072, out_features=768, bias=True)\n",
       "          (dropout): Dropout(p=0.1, inplace=False)\n",
       "          (activation_function): GELUActivation()\n",
       "        )\n",
       "        (dropout): Dropout(p=0.1, inplace=False)\n",
       "      )\n",
       "      (5): XLNetLayer(\n",
       "        (rel_attn): XLNetRelativeAttention(\n",
       "          (layer_norm): LayerNorm((768,), eps=1e-12, elementwise_affine=True)\n",
       "          (dropout): Dropout(p=0.1, inplace=False)\n",
       "        )\n",
       "        (ff): XLNetFeedForward(\n",
       "          (layer_norm): LayerNorm((768,), eps=1e-12, elementwise_affine=True)\n",
       "          (layer_1): Linear(in_features=768, out_features=3072, bias=True)\n",
       "          (layer_2): Linear(in_features=3072, out_features=768, bias=True)\n",
       "          (dropout): Dropout(p=0.1, inplace=False)\n",
       "          (activation_function): GELUActivation()\n",
       "        )\n",
       "        (dropout): Dropout(p=0.1, inplace=False)\n",
       "      )\n",
       "      (6): XLNetLayer(\n",
       "        (rel_attn): XLNetRelativeAttention(\n",
       "          (layer_norm): LayerNorm((768,), eps=1e-12, elementwise_affine=True)\n",
       "          (dropout): Dropout(p=0.1, inplace=False)\n",
       "        )\n",
       "        (ff): XLNetFeedForward(\n",
       "          (layer_norm): LayerNorm((768,), eps=1e-12, elementwise_affine=True)\n",
       "          (layer_1): Linear(in_features=768, out_features=3072, bias=True)\n",
       "          (layer_2): Linear(in_features=3072, out_features=768, bias=True)\n",
       "          (dropout): Dropout(p=0.1, inplace=False)\n",
       "          (activation_function): GELUActivation()\n",
       "        )\n",
       "        (dropout): Dropout(p=0.1, inplace=False)\n",
       "      )\n",
       "      (7): XLNetLayer(\n",
       "        (rel_attn): XLNetRelativeAttention(\n",
       "          (layer_norm): LayerNorm((768,), eps=1e-12, elementwise_affine=True)\n",
       "          (dropout): Dropout(p=0.1, inplace=False)\n",
       "        )\n",
       "        (ff): XLNetFeedForward(\n",
       "          (layer_norm): LayerNorm((768,), eps=1e-12, elementwise_affine=True)\n",
       "          (layer_1): Linear(in_features=768, out_features=3072, bias=True)\n",
       "          (layer_2): Linear(in_features=3072, out_features=768, bias=True)\n",
       "          (dropout): Dropout(p=0.1, inplace=False)\n",
       "          (activation_function): GELUActivation()\n",
       "        )\n",
       "        (dropout): Dropout(p=0.1, inplace=False)\n",
       "      )\n",
       "      (8): XLNetLayer(\n",
       "        (rel_attn): XLNetRelativeAttention(\n",
       "          (layer_norm): LayerNorm((768,), eps=1e-12, elementwise_affine=True)\n",
       "          (dropout): Dropout(p=0.1, inplace=False)\n",
       "        )\n",
       "        (ff): XLNetFeedForward(\n",
       "          (layer_norm): LayerNorm((768,), eps=1e-12, elementwise_affine=True)\n",
       "          (layer_1): Linear(in_features=768, out_features=3072, bias=True)\n",
       "          (layer_2): Linear(in_features=3072, out_features=768, bias=True)\n",
       "          (dropout): Dropout(p=0.1, inplace=False)\n",
       "          (activation_function): GELUActivation()\n",
       "        )\n",
       "        (dropout): Dropout(p=0.1, inplace=False)\n",
       "      )\n",
       "      (9): XLNetLayer(\n",
       "        (rel_attn): XLNetRelativeAttention(\n",
       "          (layer_norm): LayerNorm((768,), eps=1e-12, elementwise_affine=True)\n",
       "          (dropout): Dropout(p=0.1, inplace=False)\n",
       "        )\n",
       "        (ff): XLNetFeedForward(\n",
       "          (layer_norm): LayerNorm((768,), eps=1e-12, elementwise_affine=True)\n",
       "          (layer_1): Linear(in_features=768, out_features=3072, bias=True)\n",
       "          (layer_2): Linear(in_features=3072, out_features=768, bias=True)\n",
       "          (dropout): Dropout(p=0.1, inplace=False)\n",
       "          (activation_function): GELUActivation()\n",
       "        )\n",
       "        (dropout): Dropout(p=0.1, inplace=False)\n",
       "      )\n",
       "      (10): XLNetLayer(\n",
       "        (rel_attn): XLNetRelativeAttention(\n",
       "          (layer_norm): LayerNorm((768,), eps=1e-12, elementwise_affine=True)\n",
       "          (dropout): Dropout(p=0.1, inplace=False)\n",
       "        )\n",
       "        (ff): XLNetFeedForward(\n",
       "          (layer_norm): LayerNorm((768,), eps=1e-12, elementwise_affine=True)\n",
       "          (layer_1): Linear(in_features=768, out_features=3072, bias=True)\n",
       "          (layer_2): Linear(in_features=3072, out_features=768, bias=True)\n",
       "          (dropout): Dropout(p=0.1, inplace=False)\n",
       "          (activation_function): GELUActivation()\n",
       "        )\n",
       "        (dropout): Dropout(p=0.1, inplace=False)\n",
       "      )\n",
       "      (11): XLNetLayer(\n",
       "        (rel_attn): XLNetRelativeAttention(\n",
       "          (layer_norm): LayerNorm((768,), eps=1e-12, elementwise_affine=True)\n",
       "          (dropout): Dropout(p=0.1, inplace=False)\n",
       "        )\n",
       "        (ff): XLNetFeedForward(\n",
       "          (layer_norm): LayerNorm((768,), eps=1e-12, elementwise_affine=True)\n",
       "          (layer_1): Linear(in_features=768, out_features=3072, bias=True)\n",
       "          (layer_2): Linear(in_features=3072, out_features=768, bias=True)\n",
       "          (dropout): Dropout(p=0.1, inplace=False)\n",
       "          (activation_function): GELUActivation()\n",
       "        )\n",
       "        (dropout): Dropout(p=0.1, inplace=False)\n",
       "      )\n",
       "    )\n",
       "    (dropout): Dropout(p=0.1, inplace=False)\n",
       "  )\n",
       "  (sequence_summary): SequenceSummary(\n",
       "    (summary): Linear(in_features=768, out_features=768, bias=True)\n",
       "    (activation): Tanh()\n",
       "    (first_dropout): Identity()\n",
       "    (last_dropout): Dropout(p=0.1, inplace=False)\n",
       "  )\n",
       "  (logits_proj): Linear(in_features=768, out_features=2, bias=True)\n",
       ")"
      ]
     },
     "execution_count": 24,
     "metadata": {},
     "output_type": "execute_result"
    }
   ],
   "source": [
    "# Load XLNEtForSequenceClassification, the pretrained XLNet model with a single linear classification layer on top. \n",
    "model = XLNetForSequenceClassification.from_pretrained('/kaggle/input/finetune-model-any/ar_experimenttfrecords/model/ar_pytorch_model', num_labels=2)\n",
    "model.cuda()"
   ]
  },
  {
   "cell_type": "code",
   "execution_count": 25,
   "id": "d7f58714",
   "metadata": {
    "execution": {
     "iopub.execute_input": "2023-02-10T00:07:00.345958Z",
     "iopub.status.busy": "2023-02-10T00:07:00.345011Z",
     "iopub.status.idle": "2023-02-10T00:07:00.357853Z",
     "shell.execute_reply": "2023-02-10T00:07:00.356778Z"
    },
    "id": "ZJnZs3XXop-l",
    "papermill": {
     "duration": 0.026299,
     "end_time": "2023-02-10T00:07:00.360446",
     "exception": false,
     "start_time": "2023-02-10T00:07:00.334147",
     "status": "completed"
    },
    "tags": []
   },
   "outputs": [
    {
     "name": "stderr",
     "output_type": "stream",
     "text": [
      "/opt/conda/lib/python3.7/site-packages/transformers/optimization.py:310: FutureWarning: This implementation of AdamW is deprecated and will be removed in a future version. Use the PyTorch implementation torch.optim.AdamW instead, or set `no_deprecation_warning=True` to disable this warning\n",
      "  FutureWarning,\n"
     ]
    }
   ],
   "source": [
    "epochs = 8\n",
    "\n",
    "param_optimizer = list(model.named_parameters())\n",
    "no_decay = ['bias', 'gamma', 'beta']\n",
    "optimizer_grouped_parameters = [\n",
    "    {'params': [p for n, p in param_optimizer if not any(nd in n for nd in no_decay)],\n",
    "     'weight_decay_rate': 0.01},\n",
    "    {'params': [p for n, p in param_optimizer if any(nd in n for nd in no_decay)],\n",
    "     'weight_decay_rate': 0.0}\n",
    "]\n",
    "\n",
    "optimizer = AdamW(optimizer_grouped_parameters, lr=2e-5)\n",
    "total_steps = len(train_dataloader) * epochs\n",
    "scheduler = get_linear_schedule_with_warmup(\n",
    "  optimizer,\n",
    "  num_warmup_steps=0,\n",
    "  num_training_steps=total_steps\n",
    ")"
   ]
  },
  {
   "cell_type": "markdown",
   "id": "99415325",
   "metadata": {
    "papermill": {
     "duration": 0.009562,
     "end_time": "2023-02-10T00:07:00.379784",
     "exception": false,
     "start_time": "2023-02-10T00:07:00.370222",
     "status": "completed"
    },
    "tags": []
   },
   "source": []
  },
  {
   "cell_type": "code",
   "execution_count": 26,
   "id": "2c3ff3a3",
   "metadata": {
    "execution": {
     "iopub.execute_input": "2023-02-10T00:07:00.402901Z",
     "iopub.status.busy": "2023-02-10T00:07:00.401125Z",
     "iopub.status.idle": "2023-02-10T00:07:00.419796Z",
     "shell.execute_reply": "2023-02-10T00:07:00.418831Z"
    },
    "executionInfo": {
     "elapsed": 2813457,
     "status": "ok",
     "timestamp": 1579513635379,
     "user": {
      "displayName": "Shivam Panwar",
      "photoUrl": "",
      "userId": "00811775879175788799"
     },
     "user_tz": -330
    },
    "id": "kAxSwesjpLvZ",
    "outputId": "4af04c7c-fa3d-4d09-98d6-643cb5c91a55",
    "papermill": {
     "duration": 0.031952,
     "end_time": "2023-02-10T00:07:00.422003",
     "exception": false,
     "start_time": "2023-02-10T00:07:00.390051",
     "status": "completed"
    },
    "tags": []
   },
   "outputs": [],
   "source": [
    "# Store our loss and accuracy for plotting\n",
    "def train_epoch(model, data_loader, optimizer, device, scheduler):\n",
    "  # Set our model to training mode (as opposed to evaluation mode)\n",
    "  model.train()\n",
    "  \n",
    "  # Tracking variables\n",
    "  tr_loss = 0\n",
    "  nb_tr_examples, nb_tr_steps = 0, 0\n",
    "  \n",
    "  # Train the data for one epoch\n",
    "  for step, batch in enumerate(train_dataloader):\n",
    "    # Add batch to GPU\n",
    "    batch = tuple(t.to(device) for t in batch)\n",
    "    # Unpack the inputs from our dataloader\n",
    "    b_input_ids, b_input_mask, b_labels = batch\n",
    "    # Clear out the gradients (by default they accumulate)\n",
    "    optimizer.zero_grad()\n",
    "    # Forward pass\n",
    "    outputs = model(b_input_ids, token_type_ids=None, attention_mask=b_input_mask, labels=b_labels)\n",
    "    loss = outputs[0]\n",
    "    logits = outputs[1]\n",
    "#     train_loss_set.append(loss.item())    \n",
    "    # Backward pass\n",
    "    loss.backward()\n",
    "    # Update parameters and take a step using the computed gradient\n",
    "    optimizer.step()\n",
    "    \n",
    "    \n",
    "    # Update tracking variables\n",
    "    tr_loss += loss.item()\n",
    "    nb_tr_examples += b_input_ids.size(0)\n",
    "    nb_tr_steps += 1\n",
    "  print(\"Train loss: {}\".format(tr_loss/nb_tr_steps))\n",
    "#     print(f'Train loss {train_loss} ')\n",
    "\n",
    "\n",
    "    "
   ]
  },
  {
   "cell_type": "code",
   "execution_count": 27,
   "id": "884e97e8",
   "metadata": {
    "execution": {
     "iopub.execute_input": "2023-02-10T00:07:00.442794Z",
     "iopub.status.busy": "2023-02-10T00:07:00.442476Z",
     "iopub.status.idle": "2023-02-10T00:07:00.450283Z",
     "shell.execute_reply": "2023-02-10T00:07:00.449382Z"
    },
    "papermill": {
     "duration": 0.020575,
     "end_time": "2023-02-10T00:07:00.452357",
     "exception": false,
     "start_time": "2023-02-10T00:07:00.431782",
     "status": "completed"
    },
    "tags": []
   },
   "outputs": [],
   "source": [
    "def eval_model(model, data_loader, device):\n",
    "    model = model.eval()\n",
    "    correct = 0\n",
    "    total = 0\n",
    "    predictions =[]\n",
    "    with torch.no_grad():\n",
    "        for i, batch in enumerate(data_loader):\n",
    "          batch = tuple(t.to(device) for t in batch)\n",
    "          # Unpack the inputs from our dataloader\n",
    "          b_input_ids, b_input_mask, b_labels = batch\n",
    "          # Forward pass\n",
    "          outputs = model(b_input_ids, token_type_ids=None, attention_mask=b_input_mask)\n",
    "          # print (outputs)\n",
    "          prediction = torch.argmax(outputs[0],dim=1)\n",
    "          predictions = predictions + prediction.tolist()\n",
    "          total += b_labels.size(0)\n",
    "          correct+=(prediction==b_labels).sum().item()\n",
    "    return correct / total, f1_score(labels_val, predictions, average='macro')"
   ]
  },
  {
   "cell_type": "code",
   "execution_count": 28,
   "id": "7f9102aa",
   "metadata": {
    "execution": {
     "iopub.execute_input": "2023-02-10T00:07:00.474527Z",
     "iopub.status.busy": "2023-02-10T00:07:00.472976Z",
     "iopub.status.idle": "2023-02-10T00:10:02.391839Z",
     "shell.execute_reply": "2023-02-10T00:10:02.390778Z"
    },
    "papermill": {
     "duration": 181.932024,
     "end_time": "2023-02-10T00:10:02.394296",
     "exception": false,
     "start_time": "2023-02-10T00:07:00.462272",
     "status": "completed"
    },
    "tags": []
   },
   "outputs": [
    {
     "name": "stdout",
     "output_type": "stream",
     "text": [
      "Epoch 1/8\n",
      "----------\n",
      "Train loss: 0.4767547478509504\n",
      " Val accuracy 0.849112426035503\n",
      " Val f1 0.7364341085271318\n",
      "\n",
      "Epoch 2/8\n",
      "----------\n",
      "Train loss: 0.28836256360938384\n",
      " Val accuracy 0.9349112426035503\n",
      " Val f1 0.875\n",
      "\n",
      "Epoch 3/8\n",
      "----------\n",
      "Train loss: 0.15781706658213637\n",
      " Val accuracy 0.9467455621301775\n",
      " Val f1 0.9142857142857144\n",
      "\n",
      "Epoch 4/8\n",
      "----------\n",
      "Train loss: 0.09103256892846075\n",
      " Val accuracy 0.9556213017751479\n",
      " Val f1 0.9245030154121063\n",
      "\n",
      "Epoch 5/8\n",
      "----------\n",
      "Train loss: 0.066911508340042\n",
      " Val accuracy 0.9644970414201184\n",
      " Val f1 0.9348538387407646\n",
      "\n",
      "Epoch 6/8\n",
      "----------\n",
      "Train loss: 0.053144237086133556\n",
      " Val accuracy 0.9556213017751479\n",
      " Val f1 0.9154365774330748\n",
      "\n",
      "Epoch 7/8\n",
      "----------\n",
      "Train loss: 0.0511464799245343\n",
      " Val accuracy 0.9585798816568047\n",
      " Val f1 0.9216815623965574\n",
      "\n",
      "Epoch 8/8\n",
      "----------\n",
      "Train loss: 0.05458589851163154\n",
      " Val accuracy 0.9644970414201184\n",
      " Val f1 0.9399893472214003\n",
      "\n",
      " F1 Validation 0.9399893472214003\n"
     ]
    }
   ],
   "source": [
    "best_accuracy = 0\n",
    "best_f1 = 0\n",
    "\n",
    "# trange is a tqdm wrapper around the normal python range\n",
    "for epoch in range(epochs):\n",
    "    print(f'Epoch {epoch + 1}/{epochs}')\n",
    "    print('-' * 10)\n",
    "    \n",
    "    train_epoch(\n",
    "        model,\n",
    "        train_dataloader,     \n",
    "        optimizer, \n",
    "        device, \n",
    "        scheduler\n",
    "    )\n",
    "    \n",
    "    val_acc, val_f1 = eval_model(\n",
    "        model,\n",
    "        val_dataloader, \n",
    "        device\n",
    "    )\n",
    "    \n",
    "    print(f' Val accuracy {val_acc}')\n",
    "    print(f' Val f1 {val_f1}')\n",
    "    print()\n",
    "    if val_f1 > best_f1:\n",
    "        torch.save(model.state_dict(), '/kaggle/working/best_rest_post_airy_rest.ckpt')\n",
    "        best_f1 = val_f1\n",
    "\n",
    "print(f' F1 Validation {val_f1}')\n",
    "\n",
    "torch.save(model.state_dict(), '/kaggle/working/last_rest_post_airy_rest.ckpt')\n",
    "  "
   ]
  }
 ],
 "metadata": {
  "kernelspec": {
   "display_name": "Python 3",
   "language": "python",
   "name": "python3"
  },
  "language_info": {
   "codemirror_mode": {
    "name": "ipython",
    "version": 3
   },
   "file_extension": ".py",
   "mimetype": "text/x-python",
   "name": "python",
   "nbconvert_exporter": "python",
   "pygments_lexer": "ipython3",
   "version": "3.7.12"
  },
  "papermill": {
   "default_parameters": {},
   "duration": 253.714111,
   "end_time": "2023-02-10T00:10:06.086567",
   "environment_variables": {},
   "exception": null,
   "input_path": "__notebook__.ipynb",
   "output_path": "__notebook__.ipynb",
   "parameters": {},
   "start_time": "2023-02-10T00:05:52.372456",
   "version": "2.3.4"
  },
  "widgets": {
   "application/vnd.jupyter.widget-state+json": {
    "state": {
     "0b05a3f827564bb6816373cb0e7e356a": {
      "model_module": "@jupyter-widgets/base",
      "model_module_version": "1.2.0",
      "model_name": "LayoutModel",
      "state": {
       "_model_module": "@jupyter-widgets/base",
       "_model_module_version": "1.2.0",
       "_model_name": "LayoutModel",
       "_view_count": null,
       "_view_module": "@jupyter-widgets/base",
       "_view_module_version": "1.2.0",
       "_view_name": "LayoutView",
       "align_content": null,
       "align_items": null,
       "align_self": null,
       "border": null,
       "bottom": null,
       "display": null,
       "flex": null,
       "flex_flow": null,
       "grid_area": null,
       "grid_auto_columns": null,
       "grid_auto_flow": null,
       "grid_auto_rows": null,
       "grid_column": null,
       "grid_gap": null,
       "grid_row": null,
       "grid_template_areas": null,
       "grid_template_columns": null,
       "grid_template_rows": null,
       "height": null,
       "justify_content": null,
       "justify_items": null,
       "left": null,
       "margin": null,
       "max_height": null,
       "max_width": null,
       "min_height": null,
       "min_width": null,
       "object_fit": null,
       "object_position": null,
       "order": null,
       "overflow": null,
       "overflow_x": null,
       "overflow_y": null,
       "padding": null,
       "right": null,
       "top": null,
       "visibility": null,
       "width": null
      }
     },
     "24b92b43770c430fb90d08089d3770a7": {
      "model_module": "@jupyter-widgets/controls",
      "model_module_version": "1.5.0",
      "model_name": "DescriptionStyleModel",
      "state": {
       "_model_module": "@jupyter-widgets/controls",
       "_model_module_version": "1.5.0",
       "_model_name": "DescriptionStyleModel",
       "_view_count": null,
       "_view_module": "@jupyter-widgets/base",
       "_view_module_version": "1.2.0",
       "_view_name": "StyleView",
       "description_width": ""
      }
     },
     "27e6b11e7c3e4f3c9f68bb9d43d494ea": {
      "model_module": "@jupyter-widgets/base",
      "model_module_version": "1.2.0",
      "model_name": "LayoutModel",
      "state": {
       "_model_module": "@jupyter-widgets/base",
       "_model_module_version": "1.2.0",
       "_model_name": "LayoutModel",
       "_view_count": null,
       "_view_module": "@jupyter-widgets/base",
       "_view_module_version": "1.2.0",
       "_view_name": "LayoutView",
       "align_content": null,
       "align_items": null,
       "align_self": null,
       "border": null,
       "bottom": null,
       "display": null,
       "flex": null,
       "flex_flow": null,
       "grid_area": null,
       "grid_auto_columns": null,
       "grid_auto_flow": null,
       "grid_auto_rows": null,
       "grid_column": null,
       "grid_gap": null,
       "grid_row": null,
       "grid_template_areas": null,
       "grid_template_columns": null,
       "grid_template_rows": null,
       "height": null,
       "justify_content": null,
       "justify_items": null,
       "left": null,
       "margin": null,
       "max_height": null,
       "max_width": null,
       "min_height": null,
       "min_width": null,
       "object_fit": null,
       "object_position": null,
       "order": null,
       "overflow": null,
       "overflow_x": null,
       "overflow_y": null,
       "padding": null,
       "right": null,
       "top": null,
       "visibility": null,
       "width": null
      }
     },
     "286eda2ec8aa402bba0a0e8dbcaaabf6": {
      "model_module": "@jupyter-widgets/controls",
      "model_module_version": "1.5.0",
      "model_name": "ProgressStyleModel",
      "state": {
       "_model_module": "@jupyter-widgets/controls",
       "_model_module_version": "1.5.0",
       "_model_name": "ProgressStyleModel",
       "_view_count": null,
       "_view_module": "@jupyter-widgets/base",
       "_view_module_version": "1.2.0",
       "_view_name": "StyleView",
       "bar_color": null,
       "description_width": ""
      }
     },
     "28d8813290f8480391da5af5f0396b05": {
      "model_module": "@jupyter-widgets/base",
      "model_module_version": "1.2.0",
      "model_name": "LayoutModel",
      "state": {
       "_model_module": "@jupyter-widgets/base",
       "_model_module_version": "1.2.0",
       "_model_name": "LayoutModel",
       "_view_count": null,
       "_view_module": "@jupyter-widgets/base",
       "_view_module_version": "1.2.0",
       "_view_name": "LayoutView",
       "align_content": null,
       "align_items": null,
       "align_self": null,
       "border": null,
       "bottom": null,
       "display": null,
       "flex": null,
       "flex_flow": null,
       "grid_area": null,
       "grid_auto_columns": null,
       "grid_auto_flow": null,
       "grid_auto_rows": null,
       "grid_column": null,
       "grid_gap": null,
       "grid_row": null,
       "grid_template_areas": null,
       "grid_template_columns": null,
       "grid_template_rows": null,
       "height": null,
       "justify_content": null,
       "justify_items": null,
       "left": null,
       "margin": null,
       "max_height": null,
       "max_width": null,
       "min_height": null,
       "min_width": null,
       "object_fit": null,
       "object_position": null,
       "order": null,
       "overflow": null,
       "overflow_x": null,
       "overflow_y": null,
       "padding": null,
       "right": null,
       "top": null,
       "visibility": null,
       "width": null
      }
     },
     "3736aa5396f045d4ab325f7c96ebec47": {
      "model_module": "@jupyter-widgets/base",
      "model_module_version": "1.2.0",
      "model_name": "LayoutModel",
      "state": {
       "_model_module": "@jupyter-widgets/base",
       "_model_module_version": "1.2.0",
       "_model_name": "LayoutModel",
       "_view_count": null,
       "_view_module": "@jupyter-widgets/base",
       "_view_module_version": "1.2.0",
       "_view_name": "LayoutView",
       "align_content": null,
       "align_items": null,
       "align_self": null,
       "border": null,
       "bottom": null,
       "display": null,
       "flex": null,
       "flex_flow": null,
       "grid_area": null,
       "grid_auto_columns": null,
       "grid_auto_flow": null,
       "grid_auto_rows": null,
       "grid_column": null,
       "grid_gap": null,
       "grid_row": null,
       "grid_template_areas": null,
       "grid_template_columns": null,
       "grid_template_rows": null,
       "height": null,
       "justify_content": null,
       "justify_items": null,
       "left": null,
       "margin": null,
       "max_height": null,
       "max_width": null,
       "min_height": null,
       "min_width": null,
       "object_fit": null,
       "object_position": null,
       "order": null,
       "overflow": null,
       "overflow_x": null,
       "overflow_y": null,
       "padding": null,
       "right": null,
       "top": null,
       "visibility": null,
       "width": null
      }
     },
     "3bba15c07e074a6393a7e93ec116fd70": {
      "model_module": "@jupyter-widgets/controls",
      "model_module_version": "1.5.0",
      "model_name": "FloatProgressModel",
      "state": {
       "_dom_classes": [],
       "_model_module": "@jupyter-widgets/controls",
       "_model_module_version": "1.5.0",
       "_model_name": "FloatProgressModel",
       "_view_count": null,
       "_view_module": "@jupyter-widgets/controls",
       "_view_module_version": "1.5.0",
       "_view_name": "ProgressView",
       "bar_style": "success",
       "description": "",
       "description_tooltip": null,
       "layout": "IPY_MODEL_e6527e3785c34ee791c2cdd6c661edfa",
       "max": 290.0,
       "min": 0.0,
       "orientation": "horizontal",
       "style": "IPY_MODEL_9a113161994e46d99fd73bbe8b352bc2",
       "value": 290.0
      }
     },
     "3bdf796cb5df40ef9d107ea1176c8b4e": {
      "model_module": "@jupyter-widgets/base",
      "model_module_version": "1.2.0",
      "model_name": "LayoutModel",
      "state": {
       "_model_module": "@jupyter-widgets/base",
       "_model_module_version": "1.2.0",
       "_model_name": "LayoutModel",
       "_view_count": null,
       "_view_module": "@jupyter-widgets/base",
       "_view_module_version": "1.2.0",
       "_view_name": "LayoutView",
       "align_content": null,
       "align_items": null,
       "align_self": null,
       "border": null,
       "bottom": null,
       "display": null,
       "flex": null,
       "flex_flow": null,
       "grid_area": null,
       "grid_auto_columns": null,
       "grid_auto_flow": null,
       "grid_auto_rows": null,
       "grid_column": null,
       "grid_gap": null,
       "grid_row": null,
       "grid_template_areas": null,
       "grid_template_columns": null,
       "grid_template_rows": null,
       "height": null,
       "justify_content": null,
       "justify_items": null,
       "left": null,
       "margin": null,
       "max_height": null,
       "max_width": null,
       "min_height": null,
       "min_width": null,
       "object_fit": null,
       "object_position": null,
       "order": null,
       "overflow": null,
       "overflow_x": null,
       "overflow_y": null,
       "padding": null,
       "right": null,
       "top": null,
       "visibility": null,
       "width": null
      }
     },
     "3c827fb7bf4b42f39ceb75daa4a976dd": {
      "model_module": "@jupyter-widgets/base",
      "model_module_version": "1.2.0",
      "model_name": "LayoutModel",
      "state": {
       "_model_module": "@jupyter-widgets/base",
       "_model_module_version": "1.2.0",
       "_model_name": "LayoutModel",
       "_view_count": null,
       "_view_module": "@jupyter-widgets/base",
       "_view_module_version": "1.2.0",
       "_view_name": "LayoutView",
       "align_content": null,
       "align_items": null,
       "align_self": null,
       "border": null,
       "bottom": null,
       "display": null,
       "flex": null,
       "flex_flow": null,
       "grid_area": null,
       "grid_auto_columns": null,
       "grid_auto_flow": null,
       "grid_auto_rows": null,
       "grid_column": null,
       "grid_gap": null,
       "grid_row": null,
       "grid_template_areas": null,
       "grid_template_columns": null,
       "grid_template_rows": null,
       "height": null,
       "justify_content": null,
       "justify_items": null,
       "left": null,
       "margin": null,
       "max_height": null,
       "max_width": null,
       "min_height": null,
       "min_width": null,
       "object_fit": null,
       "object_position": null,
       "order": null,
       "overflow": null,
       "overflow_x": null,
       "overflow_y": null,
       "padding": null,
       "right": null,
       "top": null,
       "visibility": null,
       "width": null
      }
     },
     "44b0f5cde6bd4a6dbad2c328271d771d": {
      "model_module": "@jupyter-widgets/base",
      "model_module_version": "1.2.0",
      "model_name": "LayoutModel",
      "state": {
       "_model_module": "@jupyter-widgets/base",
       "_model_module_version": "1.2.0",
       "_model_name": "LayoutModel",
       "_view_count": null,
       "_view_module": "@jupyter-widgets/base",
       "_view_module_version": "1.2.0",
       "_view_name": "LayoutView",
       "align_content": null,
       "align_items": null,
       "align_self": null,
       "border": null,
       "bottom": null,
       "display": null,
       "flex": null,
       "flex_flow": null,
       "grid_area": null,
       "grid_auto_columns": null,
       "grid_auto_flow": null,
       "grid_auto_rows": null,
       "grid_column": null,
       "grid_gap": null,
       "grid_row": null,
       "grid_template_areas": null,
       "grid_template_columns": null,
       "grid_template_rows": null,
       "height": null,
       "justify_content": null,
       "justify_items": null,
       "left": null,
       "margin": null,
       "max_height": null,
       "max_width": null,
       "min_height": null,
       "min_width": null,
       "object_fit": null,
       "object_position": null,
       "order": null,
       "overflow": null,
       "overflow_x": null,
       "overflow_y": null,
       "padding": null,
       "right": null,
       "top": null,
       "visibility": null,
       "width": null
      }
     },
     "4f544b522e4d4442acc7309093bd6169": {
      "model_module": "@jupyter-widgets/base",
      "model_module_version": "1.2.0",
      "model_name": "LayoutModel",
      "state": {
       "_model_module": "@jupyter-widgets/base",
       "_model_module_version": "1.2.0",
       "_model_name": "LayoutModel",
       "_view_count": null,
       "_view_module": "@jupyter-widgets/base",
       "_view_module_version": "1.2.0",
       "_view_name": "LayoutView",
       "align_content": null,
       "align_items": null,
       "align_self": null,
       "border": null,
       "bottom": null,
       "display": null,
       "flex": null,
       "flex_flow": null,
       "grid_area": null,
       "grid_auto_columns": null,
       "grid_auto_flow": null,
       "grid_auto_rows": null,
       "grid_column": null,
       "grid_gap": null,
       "grid_row": null,
       "grid_template_areas": null,
       "grid_template_columns": null,
       "grid_template_rows": null,
       "height": null,
       "justify_content": null,
       "justify_items": null,
       "left": null,
       "margin": null,
       "max_height": null,
       "max_width": null,
       "min_height": null,
       "min_width": null,
       "object_fit": null,
       "object_position": null,
       "order": null,
       "overflow": null,
       "overflow_x": null,
       "overflow_y": null,
       "padding": null,
       "right": null,
       "top": null,
       "visibility": null,
       "width": null
      }
     },
     "5f2f137bc6b54a90b7d64b5c85f3e71d": {
      "model_module": "@jupyter-widgets/controls",
      "model_module_version": "1.5.0",
      "model_name": "HTMLModel",
      "state": {
       "_dom_classes": [],
       "_model_module": "@jupyter-widgets/controls",
       "_model_module_version": "1.5.0",
       "_model_name": "HTMLModel",
       "_view_count": null,
       "_view_module": "@jupyter-widgets/controls",
       "_view_module_version": "1.5.0",
       "_view_name": "HTMLView",
       "description": "",
       "description_tooltip": null,
       "layout": "IPY_MODEL_44b0f5cde6bd4a6dbad2c328271d771d",
       "placeholder": "​",
       "style": "IPY_MODEL_672586837665460a97cda6b2747dbe39",
       "value": "Downloading: 100%"
      }
     },
     "672586837665460a97cda6b2747dbe39": {
      "model_module": "@jupyter-widgets/controls",
      "model_module_version": "1.5.0",
      "model_name": "DescriptionStyleModel",
      "state": {
       "_model_module": "@jupyter-widgets/controls",
       "_model_module_version": "1.5.0",
       "_model_name": "DescriptionStyleModel",
       "_view_count": null,
       "_view_module": "@jupyter-widgets/base",
       "_view_module_version": "1.2.0",
       "_view_name": "StyleView",
       "description_width": ""
      }
     },
     "695f44a8b6ed4f8d867b69934835583f": {
      "model_module": "@jupyter-widgets/controls",
      "model_module_version": "1.5.0",
      "model_name": "HBoxModel",
      "state": {
       "_dom_classes": [],
       "_model_module": "@jupyter-widgets/controls",
       "_model_module_version": "1.5.0",
       "_model_name": "HBoxModel",
       "_view_count": null,
       "_view_module": "@jupyter-widgets/controls",
       "_view_module_version": "1.5.0",
       "_view_name": "HBoxView",
       "box_style": "",
       "children": [
        "IPY_MODEL_eccbaa5d4ad14ddc815d140b63ee38e3",
        "IPY_MODEL_3bba15c07e074a6393a7e93ec116fd70",
        "IPY_MODEL_965ea051afe64ca1854119b50741f04a"
       ],
       "layout": "IPY_MODEL_0b05a3f827564bb6816373cb0e7e356a"
      }
     },
     "768d41278edf44a2822a4fe133c8c7d2": {
      "model_module": "@jupyter-widgets/controls",
      "model_module_version": "1.5.0",
      "model_name": "HBoxModel",
      "state": {
       "_dom_classes": [],
       "_model_module": "@jupyter-widgets/controls",
       "_model_module_version": "1.5.0",
       "_model_name": "HBoxModel",
       "_view_count": null,
       "_view_module": "@jupyter-widgets/controls",
       "_view_module_version": "1.5.0",
       "_view_name": "HBoxView",
       "box_style": "",
       "children": [
        "IPY_MODEL_5f2f137bc6b54a90b7d64b5c85f3e71d",
        "IPY_MODEL_9acb7c6303994db0b66a065f0ca889ed",
        "IPY_MODEL_9acb4658c468495796b814f64f533d4d"
       ],
       "layout": "IPY_MODEL_3736aa5396f045d4ab325f7c96ebec47"
      }
     },
     "8c916bd19f364ac9b6cd42e2226ef511": {
      "model_module": "@jupyter-widgets/base",
      "model_module_version": "1.2.0",
      "model_name": "LayoutModel",
      "state": {
       "_model_module": "@jupyter-widgets/base",
       "_model_module_version": "1.2.0",
       "_model_name": "LayoutModel",
       "_view_count": null,
       "_view_module": "@jupyter-widgets/base",
       "_view_module_version": "1.2.0",
       "_view_name": "LayoutView",
       "align_content": null,
       "align_items": null,
       "align_self": null,
       "border": null,
       "bottom": null,
       "display": null,
       "flex": null,
       "flex_flow": null,
       "grid_area": null,
       "grid_auto_columns": null,
       "grid_auto_flow": null,
       "grid_auto_rows": null,
       "grid_column": null,
       "grid_gap": null,
       "grid_row": null,
       "grid_template_areas": null,
       "grid_template_columns": null,
       "grid_template_rows": null,
       "height": null,
       "justify_content": null,
       "justify_items": null,
       "left": null,
       "margin": null,
       "max_height": null,
       "max_width": null,
       "min_height": null,
       "min_width": null,
       "object_fit": null,
       "object_position": null,
       "order": null,
       "overflow": null,
       "overflow_x": null,
       "overflow_y": null,
       "padding": null,
       "right": null,
       "top": null,
       "visibility": null,
       "width": null
      }
     },
     "9066fece039d4900b4ecd9b65350d0be": {
      "model_module": "@jupyter-widgets/controls",
      "model_module_version": "1.5.0",
      "model_name": "HBoxModel",
      "state": {
       "_dom_classes": [],
       "_model_module": "@jupyter-widgets/controls",
       "_model_module_version": "1.5.0",
       "_model_name": "HBoxModel",
       "_view_count": null,
       "_view_module": "@jupyter-widgets/controls",
       "_view_module_version": "1.5.0",
       "_view_name": "HBoxView",
       "box_style": "",
       "children": [
        "IPY_MODEL_dffa90f6fb5943238a1b593710f7e8f9",
        "IPY_MODEL_f1315f75629145029920dc75ca4865cc",
        "IPY_MODEL_982ff02e0d6d4714977ef4fe0ff4a73e"
       ],
       "layout": "IPY_MODEL_d8f5ddc8731d41e38466415e53ec859c"
      }
     },
     "965ea051afe64ca1854119b50741f04a": {
      "model_module": "@jupyter-widgets/controls",
      "model_module_version": "1.5.0",
      "model_name": "HTMLModel",
      "state": {
       "_dom_classes": [],
       "_model_module": "@jupyter-widgets/controls",
       "_model_module_version": "1.5.0",
       "_model_name": "HTMLModel",
       "_view_count": null,
       "_view_module": "@jupyter-widgets/controls",
       "_view_module_version": "1.5.0",
       "_view_name": "HTMLView",
       "description": "",
       "description_tooltip": null,
       "layout": "IPY_MODEL_28d8813290f8480391da5af5f0396b05",
       "placeholder": "​",
       "style": "IPY_MODEL_24b92b43770c430fb90d08089d3770a7",
       "value": " 290/290 [00:00&lt;00:00, 6.69kB/s]"
      }
     },
     "982ff02e0d6d4714977ef4fe0ff4a73e": {
      "model_module": "@jupyter-widgets/controls",
      "model_module_version": "1.5.0",
      "model_name": "HTMLModel",
      "state": {
       "_dom_classes": [],
       "_model_module": "@jupyter-widgets/controls",
       "_model_module_version": "1.5.0",
       "_model_name": "HTMLModel",
       "_view_count": null,
       "_view_module": "@jupyter-widgets/controls",
       "_view_module_version": "1.5.0",
       "_view_name": "HTMLView",
       "description": "",
       "description_tooltip": null,
       "layout": "IPY_MODEL_3bdf796cb5df40ef9d107ea1176c8b4e",
       "placeholder": "​",
       "style": "IPY_MODEL_f2826549f20248089e9b1a3fc4a73dc8",
       "value": " 443/443 [00:00&lt;00:00, 17.5kB/s]"
      }
     },
     "9a113161994e46d99fd73bbe8b352bc2": {
      "model_module": "@jupyter-widgets/controls",
      "model_module_version": "1.5.0",
      "model_name": "ProgressStyleModel",
      "state": {
       "_model_module": "@jupyter-widgets/controls",
       "_model_module_version": "1.5.0",
       "_model_name": "ProgressStyleModel",
       "_view_count": null,
       "_view_module": "@jupyter-widgets/base",
       "_view_module_version": "1.2.0",
       "_view_name": "StyleView",
       "bar_color": null,
       "description_width": ""
      }
     },
     "9acb4658c468495796b814f64f533d4d": {
      "model_module": "@jupyter-widgets/controls",
      "model_module_version": "1.5.0",
      "model_name": "HTMLModel",
      "state": {
       "_dom_classes": [],
       "_model_module": "@jupyter-widgets/controls",
       "_model_module_version": "1.5.0",
       "_model_name": "HTMLModel",
       "_view_count": null,
       "_view_module": "@jupyter-widgets/controls",
       "_view_module_version": "1.5.0",
       "_view_name": "HTMLView",
       "description": "",
       "description_tooltip": null,
       "layout": "IPY_MODEL_4f544b522e4d4442acc7309093bd6169",
       "placeholder": "​",
       "style": "IPY_MODEL_dcb5ed7ef08a4c32919d7086ca8bee64",
       "value": " 760k/760k [00:01&lt;00:00, 1.04MB/s]"
      }
     },
     "9acb7c6303994db0b66a065f0ca889ed": {
      "model_module": "@jupyter-widgets/controls",
      "model_module_version": "1.5.0",
      "model_name": "FloatProgressModel",
      "state": {
       "_dom_classes": [],
       "_model_module": "@jupyter-widgets/controls",
       "_model_module_version": "1.5.0",
       "_model_name": "FloatProgressModel",
       "_view_count": null,
       "_view_module": "@jupyter-widgets/controls",
       "_view_module_version": "1.5.0",
       "_view_name": "ProgressView",
       "bar_style": "success",
       "description": "",
       "description_tooltip": null,
       "layout": "IPY_MODEL_3c827fb7bf4b42f39ceb75daa4a976dd",
       "max": 778744.0,
       "min": 0.0,
       "orientation": "horizontal",
       "style": "IPY_MODEL_286eda2ec8aa402bba0a0e8dbcaaabf6",
       "value": 778744.0
      }
     },
     "a066f918d74b4a119b8f9aba603ced5d": {
      "model_module": "@jupyter-widgets/controls",
      "model_module_version": "1.5.0",
      "model_name": "DescriptionStyleModel",
      "state": {
       "_model_module": "@jupyter-widgets/controls",
       "_model_module_version": "1.5.0",
       "_model_name": "DescriptionStyleModel",
       "_view_count": null,
       "_view_module": "@jupyter-widgets/base",
       "_view_module_version": "1.2.0",
       "_view_name": "StyleView",
       "description_width": ""
      }
     },
     "d8f5ddc8731d41e38466415e53ec859c": {
      "model_module": "@jupyter-widgets/base",
      "model_module_version": "1.2.0",
      "model_name": "LayoutModel",
      "state": {
       "_model_module": "@jupyter-widgets/base",
       "_model_module_version": "1.2.0",
       "_model_name": "LayoutModel",
       "_view_count": null,
       "_view_module": "@jupyter-widgets/base",
       "_view_module_version": "1.2.0",
       "_view_name": "LayoutView",
       "align_content": null,
       "align_items": null,
       "align_self": null,
       "border": null,
       "bottom": null,
       "display": null,
       "flex": null,
       "flex_flow": null,
       "grid_area": null,
       "grid_auto_columns": null,
       "grid_auto_flow": null,
       "grid_auto_rows": null,
       "grid_column": null,
       "grid_gap": null,
       "grid_row": null,
       "grid_template_areas": null,
       "grid_template_columns": null,
       "grid_template_rows": null,
       "height": null,
       "justify_content": null,
       "justify_items": null,
       "left": null,
       "margin": null,
       "max_height": null,
       "max_width": null,
       "min_height": null,
       "min_width": null,
       "object_fit": null,
       "object_position": null,
       "order": null,
       "overflow": null,
       "overflow_x": null,
       "overflow_y": null,
       "padding": null,
       "right": null,
       "top": null,
       "visibility": null,
       "width": null
      }
     },
     "db0b364f0ce74d06a80b014cad03f975": {
      "model_module": "@jupyter-widgets/controls",
      "model_module_version": "1.5.0",
      "model_name": "DescriptionStyleModel",
      "state": {
       "_model_module": "@jupyter-widgets/controls",
       "_model_module_version": "1.5.0",
       "_model_name": "DescriptionStyleModel",
       "_view_count": null,
       "_view_module": "@jupyter-widgets/base",
       "_view_module_version": "1.2.0",
       "_view_name": "StyleView",
       "description_width": ""
      }
     },
     "dc4a9ce623d34fb6be18175a64d0b36b": {
      "model_module": "@jupyter-widgets/base",
      "model_module_version": "1.2.0",
      "model_name": "LayoutModel",
      "state": {
       "_model_module": "@jupyter-widgets/base",
       "_model_module_version": "1.2.0",
       "_model_name": "LayoutModel",
       "_view_count": null,
       "_view_module": "@jupyter-widgets/base",
       "_view_module_version": "1.2.0",
       "_view_name": "LayoutView",
       "align_content": null,
       "align_items": null,
       "align_self": null,
       "border": null,
       "bottom": null,
       "display": null,
       "flex": null,
       "flex_flow": null,
       "grid_area": null,
       "grid_auto_columns": null,
       "grid_auto_flow": null,
       "grid_auto_rows": null,
       "grid_column": null,
       "grid_gap": null,
       "grid_row": null,
       "grid_template_areas": null,
       "grid_template_columns": null,
       "grid_template_rows": null,
       "height": null,
       "justify_content": null,
       "justify_items": null,
       "left": null,
       "margin": null,
       "max_height": null,
       "max_width": null,
       "min_height": null,
       "min_width": null,
       "object_fit": null,
       "object_position": null,
       "order": null,
       "overflow": null,
       "overflow_x": null,
       "overflow_y": null,
       "padding": null,
       "right": null,
       "top": null,
       "visibility": null,
       "width": null
      }
     },
     "dcb5ed7ef08a4c32919d7086ca8bee64": {
      "model_module": "@jupyter-widgets/controls",
      "model_module_version": "1.5.0",
      "model_name": "DescriptionStyleModel",
      "state": {
       "_model_module": "@jupyter-widgets/controls",
       "_model_module_version": "1.5.0",
       "_model_name": "DescriptionStyleModel",
       "_view_count": null,
       "_view_module": "@jupyter-widgets/base",
       "_view_module_version": "1.2.0",
       "_view_name": "StyleView",
       "description_width": ""
      }
     },
     "dffa90f6fb5943238a1b593710f7e8f9": {
      "model_module": "@jupyter-widgets/controls",
      "model_module_version": "1.5.0",
      "model_name": "HTMLModel",
      "state": {
       "_dom_classes": [],
       "_model_module": "@jupyter-widgets/controls",
       "_model_module_version": "1.5.0",
       "_model_name": "HTMLModel",
       "_view_count": null,
       "_view_module": "@jupyter-widgets/controls",
       "_view_module_version": "1.5.0",
       "_view_name": "HTMLView",
       "description": "",
       "description_tooltip": null,
       "layout": "IPY_MODEL_8c916bd19f364ac9b6cd42e2226ef511",
       "placeholder": "​",
       "style": "IPY_MODEL_db0b364f0ce74d06a80b014cad03f975",
       "value": "Downloading: 100%"
      }
     },
     "e6527e3785c34ee791c2cdd6c661edfa": {
      "model_module": "@jupyter-widgets/base",
      "model_module_version": "1.2.0",
      "model_name": "LayoutModel",
      "state": {
       "_model_module": "@jupyter-widgets/base",
       "_model_module_version": "1.2.0",
       "_model_name": "LayoutModel",
       "_view_count": null,
       "_view_module": "@jupyter-widgets/base",
       "_view_module_version": "1.2.0",
       "_view_name": "LayoutView",
       "align_content": null,
       "align_items": null,
       "align_self": null,
       "border": null,
       "bottom": null,
       "display": null,
       "flex": null,
       "flex_flow": null,
       "grid_area": null,
       "grid_auto_columns": null,
       "grid_auto_flow": null,
       "grid_auto_rows": null,
       "grid_column": null,
       "grid_gap": null,
       "grid_row": null,
       "grid_template_areas": null,
       "grid_template_columns": null,
       "grid_template_rows": null,
       "height": null,
       "justify_content": null,
       "justify_items": null,
       "left": null,
       "margin": null,
       "max_height": null,
       "max_width": null,
       "min_height": null,
       "min_width": null,
       "object_fit": null,
       "object_position": null,
       "order": null,
       "overflow": null,
       "overflow_x": null,
       "overflow_y": null,
       "padding": null,
       "right": null,
       "top": null,
       "visibility": null,
       "width": null
      }
     },
     "e7154cbb3d1c4694af50724b41640886": {
      "model_module": "@jupyter-widgets/controls",
      "model_module_version": "1.5.0",
      "model_name": "ProgressStyleModel",
      "state": {
       "_model_module": "@jupyter-widgets/controls",
       "_model_module_version": "1.5.0",
       "_model_name": "ProgressStyleModel",
       "_view_count": null,
       "_view_module": "@jupyter-widgets/base",
       "_view_module_version": "1.2.0",
       "_view_name": "StyleView",
       "bar_color": null,
       "description_width": ""
      }
     },
     "eccbaa5d4ad14ddc815d140b63ee38e3": {
      "model_module": "@jupyter-widgets/controls",
      "model_module_version": "1.5.0",
      "model_name": "HTMLModel",
      "state": {
       "_dom_classes": [],
       "_model_module": "@jupyter-widgets/controls",
       "_model_module_version": "1.5.0",
       "_model_name": "HTMLModel",
       "_view_count": null,
       "_view_module": "@jupyter-widgets/controls",
       "_view_module_version": "1.5.0",
       "_view_name": "HTMLView",
       "description": "",
       "description_tooltip": null,
       "layout": "IPY_MODEL_27e6b11e7c3e4f3c9f68bb9d43d494ea",
       "placeholder": "​",
       "style": "IPY_MODEL_a066f918d74b4a119b8f9aba603ced5d",
       "value": "Downloading: 100%"
      }
     },
     "f1315f75629145029920dc75ca4865cc": {
      "model_module": "@jupyter-widgets/controls",
      "model_module_version": "1.5.0",
      "model_name": "FloatProgressModel",
      "state": {
       "_dom_classes": [],
       "_model_module": "@jupyter-widgets/controls",
       "_model_module_version": "1.5.0",
       "_model_name": "FloatProgressModel",
       "_view_count": null,
       "_view_module": "@jupyter-widgets/controls",
       "_view_module_version": "1.5.0",
       "_view_name": "ProgressView",
       "bar_style": "success",
       "description": "",
       "description_tooltip": null,
       "layout": "IPY_MODEL_dc4a9ce623d34fb6be18175a64d0b36b",
       "max": 443.0,
       "min": 0.0,
       "orientation": "horizontal",
       "style": "IPY_MODEL_e7154cbb3d1c4694af50724b41640886",
       "value": 443.0
      }
     },
     "f2826549f20248089e9b1a3fc4a73dc8": {
      "model_module": "@jupyter-widgets/controls",
      "model_module_version": "1.5.0",
      "model_name": "DescriptionStyleModel",
      "state": {
       "_model_module": "@jupyter-widgets/controls",
       "_model_module_version": "1.5.0",
       "_model_name": "DescriptionStyleModel",
       "_view_count": null,
       "_view_module": "@jupyter-widgets/base",
       "_view_module_version": "1.2.0",
       "_view_name": "StyleView",
       "description_width": ""
      }
     }
    },
    "version_major": 2,
    "version_minor": 0
   }
  }
 },
 "nbformat": 4,
 "nbformat_minor": 5
}
