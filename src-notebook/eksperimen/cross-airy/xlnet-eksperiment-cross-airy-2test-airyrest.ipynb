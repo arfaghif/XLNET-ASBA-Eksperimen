{
 "cells": [
  {
   "cell_type": "code",
   "execution_count": 1,
   "id": "eaabaaf8",
   "metadata": {
    "execution": {
     "iopub.execute_input": "2023-02-10T04:03:07.591863Z",
     "iopub.status.busy": "2023-02-10T04:03:07.591187Z",
     "iopub.status.idle": "2023-02-10T04:03:07.650478Z",
     "shell.execute_reply": "2023-02-10T04:03:07.649491Z"
    },
    "executionInfo": {
     "elapsed": 982,
     "status": "ok",
     "timestamp": 1580107791261,
     "user": {
      "displayName": "Shivam Panwar",
      "photoUrl": "",
      "userId": "00811775879175788799"
     },
     "user_tz": -330
    },
    "id": "kbPkR88PRcAI",
    "outputId": "568a85d1-af8a-44f4-d62a-614ef41a0be1",
    "papermill": {
     "duration": 0.072929,
     "end_time": "2023-02-10T04:03:07.653175",
     "exception": false,
     "start_time": "2023-02-10T04:03:07.580246",
     "status": "completed"
    },
    "tags": []
   },
   "outputs": [
    {
     "name": "stdout",
     "output_type": "stream",
     "text": [
      "/kaggle/input/finetune-model-airy-corpus/experimenttfrecords/corpus_info.json\n",
      "/kaggle/input/finetune-model-airy-corpus/experimenttfrecords/model/config.json\n",
      "/kaggle/input/finetune-model-airy-corpus/experimenttfrecords/model/model.ckpt.meta\n",
      "/kaggle/input/finetune-model-airy-corpus/experimenttfrecords/model/model.ckpt.index\n",
      "/kaggle/input/finetune-model-airy-corpus/experimenttfrecords/model/model.ckpt.data-00000-of-00001\n",
      "/kaggle/input/finetune-model-airy-corpus/experimenttfrecords/model/checkpoint\n",
      "/kaggle/input/finetune-model-airy-corpus/experimenttfrecords/model/pytorch_model/config.json\n",
      "/kaggle/input/finetune-model-airy-corpus/experimenttfrecords/model/pytorch_model/pytorch_model.bin\n",
      "/kaggle/input/finetune-model-airy-corpus/experimenttfrecords/tfrecords/record_info-train-0-0.bsz-8.seqlen-128.reuse-64.uni.alpha-6.beta-1.fnp-50.json\n",
      "/kaggle/input/finetune-model-airy-corpus/experimenttfrecords/tfrecords/train-0-0.bsz-8.seqlen-128.reuse-64.uni.alpha-6.beta-1.fnp-50.tfrecords\n",
      "/kaggle/input/finetune-model-any/ar_experimenttfrecords/corpus_info.json\n",
      "/kaggle/input/finetune-model-any/ar_experimenttfrecords/model/config.json\n",
      "/kaggle/input/finetune-model-any/ar_experimenttfrecords/model/model.ckpt.meta\n",
      "/kaggle/input/finetune-model-any/ar_experimenttfrecords/model/model.ckpt.index\n",
      "/kaggle/input/finetune-model-any/ar_experimenttfrecords/model/model.ckpt.data-00000-of-00001\n",
      "/kaggle/input/finetune-model-any/ar_experimenttfrecords/model/checkpoint\n",
      "/kaggle/input/finetune-model-any/ar_experimenttfrecords/model/ar_pytorch_model/config.json\n",
      "/kaggle/input/finetune-model-any/ar_experimenttfrecords/model/ar_pytorch_model/pytorch_model.bin\n",
      "/kaggle/input/finetune-model-any/ar_experimenttfrecords/tfrecords/record_info-train-0-0.bsz-8.seqlen-128.reuse-64.uni.alpha-6.beta-1.fnp-50.json\n",
      "/kaggle/input/finetune-model-any/ar_experimenttfrecords/tfrecords/train-0-0.bsz-8.seqlen-128.reuse-64.uni.alpha-6.beta-1.fnp-50.tfrecords\n",
      "/kaggle/input/asba-nlim/airy_test_nlim.csv\n",
      "/kaggle/input/asba-nlim/airy_test_nlim2.csv\n",
      "/kaggle/input/asba-nlim/rest_test_nlim.csv\n",
      "/kaggle/input/asba-nlim/car_train_nlim.csv\n",
      "/kaggle/input/asba-nlim/rest_train_nlim.csv\n",
      "/kaggle/input/asba-nlim/airy_train_nlim.csv\n",
      "/kaggle/input/asba-nlim/car_test_nlim.csv\n"
     ]
    }
   ],
   "source": [
    "import os\n",
    "for dirname, _, filenames in os.walk('/kaggle/input'):\n",
    "    for filename in filenames:\n",
    "        print(os.path.join(dirname, filename))"
   ]
  },
  {
   "cell_type": "code",
   "execution_count": 2,
   "id": "01b9f113",
   "metadata": {
    "execution": {
     "iopub.execute_input": "2023-02-10T04:03:07.672501Z",
     "iopub.status.busy": "2023-02-10T04:03:07.670840Z",
     "iopub.status.idle": "2023-02-10T04:03:14.565876Z",
     "shell.execute_reply": "2023-02-10T04:03:14.564767Z"
    },
    "papermill": {
     "duration": 6.906486,
     "end_time": "2023-02-10T04:03:14.568056",
     "exception": false,
     "start_time": "2023-02-10T04:03:07.661570",
     "status": "completed"
    },
    "tags": []
   },
   "outputs": [
    {
     "name": "stdout",
     "output_type": "stream",
     "text": [
      "Found GPU at: /device:GPU:0\n"
     ]
    },
    {
     "name": "stderr",
     "output_type": "stream",
     "text": [
      "2023-02-10 04:03:12.202440: I tensorflow/core/platform/cpu_feature_guard.cc:142] This TensorFlow binary is optimized with oneAPI Deep Neural Network Library (oneDNN) to use the following CPU instructions in performance-critical operations:  AVX2 AVX512F FMA\n",
      "To enable them in other operations, rebuild TensorFlow with the appropriate compiler flags.\n",
      "2023-02-10 04:03:12.275679: I tensorflow/stream_executor/cuda/cuda_gpu_executor.cc:937] successful NUMA node read from SysFS had negative value (-1), but there must be at least one NUMA node, so returning NUMA node zero\n",
      "2023-02-10 04:03:12.383844: I tensorflow/stream_executor/cuda/cuda_gpu_executor.cc:937] successful NUMA node read from SysFS had negative value (-1), but there must be at least one NUMA node, so returning NUMA node zero\n",
      "2023-02-10 04:03:12.384648: I tensorflow/stream_executor/cuda/cuda_gpu_executor.cc:937] successful NUMA node read from SysFS had negative value (-1), but there must be at least one NUMA node, so returning NUMA node zero\n",
      "2023-02-10 04:03:14.554979: I tensorflow/stream_executor/cuda/cuda_gpu_executor.cc:937] successful NUMA node read from SysFS had negative value (-1), but there must be at least one NUMA node, so returning NUMA node zero\n",
      "2023-02-10 04:03:14.555946: I tensorflow/stream_executor/cuda/cuda_gpu_executor.cc:937] successful NUMA node read from SysFS had negative value (-1), but there must be at least one NUMA node, so returning NUMA node zero\n",
      "2023-02-10 04:03:14.556627: I tensorflow/stream_executor/cuda/cuda_gpu_executor.cc:937] successful NUMA node read from SysFS had negative value (-1), but there must be at least one NUMA node, so returning NUMA node zero\n",
      "2023-02-10 04:03:14.557203: I tensorflow/core/common_runtime/gpu/gpu_device.cc:1510] Created device /device:GPU:0 with 15401 MB memory:  -> device: 0, name: Tesla P100-PCIE-16GB, pci bus id: 0000:00:04.0, compute capability: 6.0\n"
     ]
    }
   ],
   "source": [
    "import tensorflow as tf\n",
    "\n",
    "device_name = tf.test.gpu_device_name()\n",
    "if device_name != '/device:GPU:0':\n",
    "  raise SystemError('GPU device not found')\n",
    "print('Found GPU at: {}'.format(device_name))"
   ]
  },
  {
   "cell_type": "code",
   "execution_count": 3,
   "id": "1e5f81ef",
   "metadata": {
    "execution": {
     "iopub.execute_input": "2023-02-10T04:03:14.585438Z",
     "iopub.status.busy": "2023-02-10T04:03:14.584387Z",
     "iopub.status.idle": "2023-02-10T04:03:46.049339Z",
     "shell.execute_reply": "2023-02-10T04:03:46.048085Z"
    },
    "executionInfo": {
     "elapsed": 15259,
     "status": "ok",
     "timestamp": 1579507775275,
     "user": {
      "displayName": "Shivam Panwar",
      "photoUrl": "",
      "userId": "00811775879175788799"
     },
     "user_tz": -330
    },
    "id": "iT7RB9yvRn0j",
    "outputId": "90a65303-12cb-4a73-9edc-66b35ed022d5",
    "papermill": {
     "duration": 31.476043,
     "end_time": "2023-02-10T04:03:46.051935",
     "exception": false,
     "start_time": "2023-02-10T04:03:14.575892",
     "status": "completed"
    },
    "tags": []
   },
   "outputs": [
    {
     "name": "stdout",
     "output_type": "stream",
     "text": [
      "Requirement already satisfied: sentencepiece in /opt/conda/lib/python3.7/site-packages (0.1.97)\r\n",
      "\u001b[33mWARNING: Running pip as the 'root' user can result in broken permissions and conflicting behaviour with the system package manager. It is recommended to use a virtual environment instead: https://pip.pypa.io/warnings/venv\u001b[0m\u001b[33m\r\n",
      "\u001b[0mCollecting pytorch-transformers\r\n",
      "  Downloading pytorch_transformers-1.2.0-py3-none-any.whl (176 kB)\r\n",
      "\u001b[2K     \u001b[90m━━━━━━━━━━━━━━━━━━━━━━━━━━━━━━━━━━━━━━━\u001b[0m \u001b[32m176.4/176.4 kB\u001b[0m \u001b[31m1.2 MB/s\u001b[0m eta \u001b[36m0:00:00\u001b[0m\r\n",
      "\u001b[?25hRequirement already satisfied: sentencepiece in /opt/conda/lib/python3.7/site-packages (from pytorch-transformers) (0.1.97)\r\n",
      "Requirement already satisfied: sacremoses in /opt/conda/lib/python3.7/site-packages (from pytorch-transformers) (0.0.53)\r\n",
      "Requirement already satisfied: tqdm in /opt/conda/lib/python3.7/site-packages (from pytorch-transformers) (4.64.0)\r\n",
      "Requirement already satisfied: numpy in /opt/conda/lib/python3.7/site-packages (from pytorch-transformers) (1.21.6)\r\n",
      "Requirement already satisfied: torch>=1.0.0 in /opt/conda/lib/python3.7/site-packages (from pytorch-transformers) (1.11.0)\r\n",
      "Requirement already satisfied: regex in /opt/conda/lib/python3.7/site-packages (from pytorch-transformers) (2021.11.10)\r\n",
      "Requirement already satisfied: requests in /opt/conda/lib/python3.7/site-packages (from pytorch-transformers) (2.28.1)\r\n",
      "Requirement already satisfied: boto3 in /opt/conda/lib/python3.7/site-packages (from pytorch-transformers) (1.26.54)\r\n",
      "Requirement already satisfied: typing-extensions in /opt/conda/lib/python3.7/site-packages (from torch>=1.0.0->pytorch-transformers) (4.1.1)\r\n",
      "Requirement already satisfied: jmespath<2.0.0,>=0.7.1 in /opt/conda/lib/python3.7/site-packages (from boto3->pytorch-transformers) (1.0.1)\r\n",
      "Requirement already satisfied: s3transfer<0.7.0,>=0.6.0 in /opt/conda/lib/python3.7/site-packages (from boto3->pytorch-transformers) (0.6.0)\r\n",
      "Requirement already satisfied: botocore<1.30.0,>=1.29.54 in /opt/conda/lib/python3.7/site-packages (from boto3->pytorch-transformers) (1.29.54)\r\n",
      "Requirement already satisfied: idna<4,>=2.5 in /opt/conda/lib/python3.7/site-packages (from requests->pytorch-transformers) (3.3)\r\n",
      "Requirement already satisfied: urllib3<1.27,>=1.21.1 in /opt/conda/lib/python3.7/site-packages (from requests->pytorch-transformers) (1.26.14)\r\n",
      "Requirement already satisfied: charset-normalizer<3,>=2 in /opt/conda/lib/python3.7/site-packages (from requests->pytorch-transformers) (2.1.0)\r\n",
      "Requirement already satisfied: certifi>=2017.4.17 in /opt/conda/lib/python3.7/site-packages (from requests->pytorch-transformers) (2022.12.7)\r\n",
      "Requirement already satisfied: joblib in /opt/conda/lib/python3.7/site-packages (from sacremoses->pytorch-transformers) (1.0.1)\r\n",
      "Requirement already satisfied: click in /opt/conda/lib/python3.7/site-packages (from sacremoses->pytorch-transformers) (8.1.3)\r\n",
      "Requirement already satisfied: six in /opt/conda/lib/python3.7/site-packages (from sacremoses->pytorch-transformers) (1.15.0)\r\n",
      "Requirement already satisfied: python-dateutil<3.0.0,>=2.1 in /opt/conda/lib/python3.7/site-packages (from botocore<1.30.0,>=1.29.54->boto3->pytorch-transformers) (2.8.2)\r\n",
      "Requirement already satisfied: importlib-metadata in /opt/conda/lib/python3.7/site-packages (from click->sacremoses->pytorch-transformers) (6.0.0)\r\n",
      "Requirement already satisfied: zipp>=0.5 in /opt/conda/lib/python3.7/site-packages (from importlib-metadata->click->sacremoses->pytorch-transformers) (3.8.0)\r\n",
      "Installing collected packages: pytorch-transformers\r\n",
      "Successfully installed pytorch-transformers-1.2.0\r\n",
      "\u001b[33mWARNING: Running pip as the 'root' user can result in broken permissions and conflicting behaviour with the system package manager. It is recommended to use a virtual environment instead: https://pip.pypa.io/warnings/venv\u001b[0m\u001b[33m\r\n",
      "\u001b[0mRequirement already satisfied: transformers in /opt/conda/lib/python3.7/site-packages (4.20.1)\r\n",
      "Requirement already satisfied: numpy>=1.17 in /opt/conda/lib/python3.7/site-packages (from transformers) (1.21.6)\r\n",
      "Requirement already satisfied: importlib-metadata in /opt/conda/lib/python3.7/site-packages (from transformers) (6.0.0)\r\n",
      "Requirement already satisfied: packaging>=20.0 in /opt/conda/lib/python3.7/site-packages (from transformers) (23.0)\r\n",
      "Requirement already satisfied: huggingface-hub<1.0,>=0.1.0 in /opt/conda/lib/python3.7/site-packages (from transformers) (0.10.1)\r\n",
      "Requirement already satisfied: pyyaml>=5.1 in /opt/conda/lib/python3.7/site-packages (from transformers) (6.0)\r\n",
      "Requirement already satisfied: requests in /opt/conda/lib/python3.7/site-packages (from transformers) (2.28.1)\r\n",
      "Requirement already satisfied: tokenizers!=0.11.3,<0.13,>=0.11.1 in /opt/conda/lib/python3.7/site-packages (from transformers) (0.12.1)\r\n",
      "Requirement already satisfied: tqdm>=4.27 in /opt/conda/lib/python3.7/site-packages (from transformers) (4.64.0)\r\n",
      "Requirement already satisfied: filelock in /opt/conda/lib/python3.7/site-packages (from transformers) (3.7.1)\r\n",
      "Requirement already satisfied: regex!=2019.12.17 in /opt/conda/lib/python3.7/site-packages (from transformers) (2021.11.10)\r\n",
      "Requirement already satisfied: typing-extensions>=3.7.4.3 in /opt/conda/lib/python3.7/site-packages (from huggingface-hub<1.0,>=0.1.0->transformers) (4.1.1)\r\n",
      "Requirement already satisfied: zipp>=0.5 in /opt/conda/lib/python3.7/site-packages (from importlib-metadata->transformers) (3.8.0)\r\n",
      "Requirement already satisfied: urllib3<1.27,>=1.21.1 in /opt/conda/lib/python3.7/site-packages (from requests->transformers) (1.26.14)\r\n",
      "Requirement already satisfied: charset-normalizer<3,>=2 in /opt/conda/lib/python3.7/site-packages (from requests->transformers) (2.1.0)\r\n",
      "Requirement already satisfied: certifi>=2017.4.17 in /opt/conda/lib/python3.7/site-packages (from requests->transformers) (2022.12.7)\r\n",
      "Requirement already satisfied: idna<4,>=2.5 in /opt/conda/lib/python3.7/site-packages (from requests->transformers) (3.3)\r\n",
      "\u001b[33mWARNING: Running pip as the 'root' user can result in broken permissions and conflicting behaviour with the system package manager. It is recommended to use a virtual environment instead: https://pip.pypa.io/warnings/venv\u001b[0m\u001b[33m\r\n",
      "\u001b[0m"
     ]
    }
   ],
   "source": [
    "!pip install sentencepiece\n",
    "!pip install pytorch-transformers\n",
    "!pip install transformers\n"
   ]
  },
  {
   "cell_type": "code",
   "execution_count": 4,
   "id": "8699e78e",
   "metadata": {
    "execution": {
     "iopub.execute_input": "2023-02-10T04:03:46.072255Z",
     "iopub.status.busy": "2023-02-10T04:03:46.071170Z",
     "iopub.status.idle": "2023-02-10T04:03:50.040934Z",
     "shell.execute_reply": "2023-02-10T04:03:50.039561Z"
    },
    "executionInfo": {
     "elapsed": 48122,
     "status": "ok",
     "timestamp": 1579507808200,
     "user": {
      "displayName": "Shivam Panwar",
      "photoUrl": "",
      "userId": "00811775879175788799"
     },
     "user_tz": -330
    },
    "id": "emJNiU7IS_QM",
    "outputId": "fb3d1ffd-b293-4114-d765-14b1da489e02",
    "papermill": {
     "duration": 3.982519,
     "end_time": "2023-02-10T04:03:50.043455",
     "exception": false,
     "start_time": "2023-02-10T04:03:46.060936",
     "status": "completed"
    },
    "tags": []
   },
   "outputs": [],
   "source": [
    "import torch\n",
    "from torch.utils.data import TensorDataset, DataLoader, RandomSampler, SequentialSampler\n",
    "from keras.preprocessing.sequence import pad_sequences\n",
    "from sklearn.model_selection import train_test_split\n",
    "from sklearn.metrics import f1_score\n",
    "\n",
    "from pytorch_transformers import XLNetModel\n",
    "from transformers import XLNetForSequenceClassification, XLNetTokenizer, get_linear_schedule_with_warmup, AdamW\n",
    "\n",
    "from tqdm import tqdm, trange\n",
    "import pandas as pd\n",
    "import io\n",
    "import numpy as np\n",
    "from random import random\n",
    "import matplotlib.pyplot as plt\n",
    "%matplotlib inline"
   ]
  },
  {
   "cell_type": "code",
   "execution_count": 5,
   "id": "c99bc0e3",
   "metadata": {
    "execution": {
     "iopub.execute_input": "2023-02-10T04:03:50.063485Z",
     "iopub.status.busy": "2023-02-10T04:03:50.063142Z",
     "iopub.status.idle": "2023-02-10T04:03:52.737700Z",
     "shell.execute_reply": "2023-02-10T04:03:52.736539Z"
    },
    "executionInfo": {
     "elapsed": 48101,
     "status": "ok",
     "timestamp": 1579507808203,
     "user": {
      "displayName": "Shivam Panwar",
      "photoUrl": "",
      "userId": "00811775879175788799"
     },
     "user_tz": -330
    },
    "id": "SZaBvr9lTKwT",
    "outputId": "b41377ed-378c-49df-e683-daf8d7db015a",
    "papermill": {
     "duration": 2.688315,
     "end_time": "2023-02-10T04:03:52.740674",
     "exception": false,
     "start_time": "2023-02-10T04:03:50.052359",
     "status": "completed"
    },
    "tags": []
   },
   "outputs": [
    {
     "data": {
      "text/plain": [
       "'Tesla P100-PCIE-16GB'"
      ]
     },
     "execution_count": 5,
     "metadata": {},
     "output_type": "execute_result"
    }
   ],
   "source": [
    "device = torch.device(\"cuda\" if torch.cuda.is_available() else \"cpu\")\n",
    "n_gpu = torch.cuda.device_count()\n",
    "torch.cuda.get_device_name(0)"
   ]
  },
  {
   "cell_type": "code",
   "execution_count": 6,
   "id": "4adc06ea",
   "metadata": {
    "execution": {
     "iopub.execute_input": "2023-02-10T04:03:52.760806Z",
     "iopub.status.busy": "2023-02-10T04:03:52.760463Z",
     "iopub.status.idle": "2023-02-10T04:03:52.766882Z",
     "shell.execute_reply": "2023-02-10T04:03:52.765860Z"
    },
    "papermill": {
     "duration": 0.018514,
     "end_time": "2023-02-10T04:03:52.768919",
     "exception": false,
     "start_time": "2023-02-10T04:03:52.750405",
     "status": "completed"
    },
    "tags": []
   },
   "outputs": [],
   "source": [
    "def truncate_seq_pair(tokens_a, tokens_b, max_num_tokens):\n",
    "    \"\"\"Truncates a pair of sequences to a maximum sequence length. Lifted from Google's BERT repo.\"\"\"\n",
    "    while True:\n",
    "        total_length = len(tokens_a) + len(tokens_b)\n",
    "        if total_length <= max_num_tokens:\n",
    "            break\n",
    "\n",
    "        trunc_tokens = tokens_a if len(tokens_a) > len(tokens_b) else tokens_b\n",
    "        assert len(trunc_tokens) >= 1\n",
    "\n",
    "        # We want to sometimes truncate from the front and sometimes from the\n",
    "        # back to add more randomness and avoid biases.\n",
    "        if random() < 0.5:\n",
    "            del trunc_tokens[0]\n",
    "        else:\n",
    "            trunc_tokens.pop()"
   ]
  },
  {
   "cell_type": "code",
   "execution_count": 7,
   "id": "3d78a67c",
   "metadata": {
    "execution": {
     "iopub.execute_input": "2023-02-10T04:03:52.789255Z",
     "iopub.status.busy": "2023-02-10T04:03:52.787564Z",
     "iopub.status.idle": "2023-02-10T04:03:52.795691Z",
     "shell.execute_reply": "2023-02-10T04:03:52.794494Z"
    },
    "papermill": {
     "duration": 0.020364,
     "end_time": "2023-02-10T04:03:52.798291",
     "exception": false,
     "start_time": "2023-02-10T04:03:52.777927",
     "status": "completed"
    },
    "tags": []
   },
   "outputs": [],
   "source": [
    "def get_tokenized_texts_from(tokenizer, sentences_a, sentences_b, max_len):\n",
    "    tokenized_texts_a = [tokenizer.tokenize(sent) for sent in sentences_a]\n",
    "    tokenized_texts_b = [tokenizer.tokenize(sent) for sent in sentences_b]\n",
    "    tokenized_texts = []\n",
    "    for i in range (len(tokenized_texts_a)):\n",
    "        truncate_seq_pair(tokenized_texts_a[i], tokenized_texts_b[i], max_len-3)\n",
    "        tokens = tokenized_texts_a[i] + [\"<sep>\"] + tokenized_texts_b[i] + [\"<sep>\"] + [\"<cls>\"]\n",
    "        tokenized_texts.append(tokens)\n",
    "    return tokenized_texts"
   ]
  },
  {
   "cell_type": "code",
   "execution_count": 8,
   "id": "c72c2fdf",
   "metadata": {
    "execution": {
     "iopub.execute_input": "2023-02-10T04:03:52.817898Z",
     "iopub.status.busy": "2023-02-10T04:03:52.817542Z",
     "iopub.status.idle": "2023-02-10T04:03:52.936434Z",
     "shell.execute_reply": "2023-02-10T04:03:52.935401Z"
    },
    "id": "sy9__UqtTRzp",
    "papermill": {
     "duration": 0.131725,
     "end_time": "2023-02-10T04:03:52.938945",
     "exception": false,
     "start_time": "2023-02-10T04:03:52.807220",
     "status": "completed"
    },
    "tags": []
   },
   "outputs": [],
   "source": [
    "df = pd.read_csv(\"/kaggle/input/asba-nlim/airy_train_nlim.csv\")\n",
    "df_test1 = pd.read_csv(\"/kaggle/input/asba-nlim/airy_test_nlim.csv\")\n",
    "df_test2 = pd.read_csv(\"/kaggle/input/asba-nlim/airy_test_nlim2.csv\")"
   ]
  },
  {
   "cell_type": "code",
   "execution_count": 9,
   "id": "23da0f5b",
   "metadata": {
    "execution": {
     "iopub.execute_input": "2023-02-10T04:03:52.959326Z",
     "iopub.status.busy": "2023-02-10T04:03:52.958970Z",
     "iopub.status.idle": "2023-02-10T04:03:52.965540Z",
     "shell.execute_reply": "2023-02-10T04:03:52.964621Z"
    },
    "executionInfo": {
     "elapsed": 49600,
     "status": "ok",
     "timestamp": 1579507809746,
     "user": {
      "displayName": "Shivam Panwar",
      "photoUrl": "",
      "userId": "00811775879175788799"
     },
     "user_tz": -330
    },
    "id": "L-76tmHxThz2",
    "outputId": "05e4deb0-a864-4685-8433-ec80bcd45ebb",
    "papermill": {
     "duration": 0.018803,
     "end_time": "2023-02-10T04:03:52.967575",
     "exception": false,
     "start_time": "2023-02-10T04:03:52.948772",
     "status": "completed"
    },
    "tags": []
   },
   "outputs": [
    {
     "data": {
      "text/plain": [
       "(18476, 3)"
      ]
     },
     "execution_count": 9,
     "metadata": {},
     "output_type": "execute_result"
    }
   ],
   "source": [
    "df.shape"
   ]
  },
  {
   "cell_type": "code",
   "execution_count": 10,
   "id": "96acd1d5",
   "metadata": {
    "execution": {
     "iopub.execute_input": "2023-02-10T04:03:52.986888Z",
     "iopub.status.busy": "2023-02-10T04:03:52.986553Z",
     "iopub.status.idle": "2023-02-10T04:03:53.003166Z",
     "shell.execute_reply": "2023-02-10T04:03:53.002277Z"
    },
    "executionInfo": {
     "elapsed": 49581,
     "status": "ok",
     "timestamp": 1579507809747,
     "user": {
      "displayName": "Shivam Panwar",
      "photoUrl": "",
      "userId": "00811775879175788799"
     },
     "user_tz": -330
    },
    "id": "gnfnNijqTjDN",
    "outputId": "a321188c-6a3b-47ac-e1f5-87529e8ba977",
    "papermill": {
     "duration": 0.028776,
     "end_time": "2023-02-10T04:03:53.005439",
     "exception": false,
     "start_time": "2023-02-10T04:03:52.976663",
     "status": "completed"
    },
    "tags": []
   },
   "outputs": [
    {
     "data": {
      "text/html": [
       "<div>\n",
       "<style scoped>\n",
       "    .dataframe tbody tr th:only-of-type {\n",
       "        vertical-align: middle;\n",
       "    }\n",
       "\n",
       "    .dataframe tbody tr th {\n",
       "        vertical-align: top;\n",
       "    }\n",
       "\n",
       "    .dataframe thead th {\n",
       "        text-align: right;\n",
       "    }\n",
       "</style>\n",
       "<table border=\"1\" class=\"dataframe\">\n",
       "  <thead>\n",
       "    <tr style=\"text-align: right;\">\n",
       "      <th></th>\n",
       "      <th>text_a</th>\n",
       "      <th>text_b</th>\n",
       "      <th>label</th>\n",
       "    </tr>\n",
       "  </thead>\n",
       "  <tbody>\n",
       "    <tr>\n",
       "      <th>0</th>\n",
       "      <td>Kotor berdebu. Saya tdk berhenti bersin ketika...</td>\n",
       "      <td>wifi_P1</td>\n",
       "      <td>0</td>\n",
       "    </tr>\n",
       "    <tr>\n",
       "      <th>1</th>\n",
       "      <td>Kotor berdebu. Saya tdk berhenti bersin ketika...</td>\n",
       "      <td>kebersihan</td>\n",
       "      <td>0</td>\n",
       "    </tr>\n",
       "    <tr>\n",
       "      <th>2</th>\n",
       "      <td>kamar ada semutnya. kamar mandi bermasalah. bu...</td>\n",
       "      <td>kebersihan</td>\n",
       "      <td>0</td>\n",
       "    </tr>\n",
       "    <tr>\n",
       "      <th>3</th>\n",
       "      <td>Kamar mandi bau, airnya bau</td>\n",
       "      <td>bau_P1</td>\n",
       "      <td>0</td>\n",
       "    </tr>\n",
       "    <tr>\n",
       "      <th>4</th>\n",
       "      <td>tak sesuai espektasi, kamar sempit, pintu kama...</td>\n",
       "      <td>service</td>\n",
       "      <td>0</td>\n",
       "    </tr>\n",
       "  </tbody>\n",
       "</table>\n",
       "</div>"
      ],
      "text/plain": [
       "                                              text_a      text_b  label\n",
       "0  Kotor berdebu. Saya tdk berhenti bersin ketika...     wifi_P1      0\n",
       "1  Kotor berdebu. Saya tdk berhenti bersin ketika...  kebersihan      0\n",
       "2  kamar ada semutnya. kamar mandi bermasalah. bu...  kebersihan      0\n",
       "3                        Kamar mandi bau, airnya bau      bau_P1      0\n",
       "4  tak sesuai espektasi, kamar sempit, pintu kama...     service      0"
      ]
     },
     "execution_count": 10,
     "metadata": {},
     "output_type": "execute_result"
    }
   ],
   "source": [
    "df.head()"
   ]
  },
  {
   "cell_type": "code",
   "execution_count": 11,
   "id": "7e0d9a05",
   "metadata": {
    "execution": {
     "iopub.execute_input": "2023-02-10T04:03:53.024670Z",
     "iopub.status.busy": "2023-02-10T04:03:53.024351Z",
     "iopub.status.idle": "2023-02-10T04:03:53.037439Z",
     "shell.execute_reply": "2023-02-10T04:03:53.036502Z"
    },
    "papermill": {
     "duration": 0.025274,
     "end_time": "2023-02-10T04:03:53.039489",
     "exception": false,
     "start_time": "2023-02-10T04:03:53.014215",
     "status": "completed"
    },
    "tags": []
   },
   "outputs": [
    {
     "name": "stdout",
     "output_type": "stream",
     "text": [
      "Number of training sentences: 14,780\n",
      "\n",
      "Number of testing sentences: 3,696\n",
      "\n"
     ]
    }
   ],
   "source": [
    "df_train ,df_val = train_test_split(df, random_state=2018, test_size=0.2)\n",
    "\n",
    "print('Number of training sentences: {:,}\\n'.format(df_train.shape[0]))\n",
    "print('Number of testing sentences: {:,}\\n'.format(df_val.shape[0]))"
   ]
  },
  {
   "cell_type": "code",
   "execution_count": null,
   "id": "2f65b9dc",
   "metadata": {
    "papermill": {
     "duration": 0.010594,
     "end_time": "2023-02-10T04:03:53.058991",
     "exception": false,
     "start_time": "2023-02-10T04:03:53.048397",
     "status": "completed"
    },
    "tags": []
   },
   "outputs": [],
   "source": []
  },
  {
   "cell_type": "code",
   "execution_count": 12,
   "id": "e3e70023",
   "metadata": {
    "execution": {
     "iopub.execute_input": "2023-02-10T04:03:53.097703Z",
     "iopub.status.busy": "2023-02-10T04:03:53.096863Z",
     "iopub.status.idle": "2023-02-10T04:03:53.110505Z",
     "shell.execute_reply": "2023-02-10T04:03:53.104338Z"
    },
    "id": "3RaQMymhUaO3",
    "papermill": {
     "duration": 0.037899,
     "end_time": "2023-02-10T04:03:53.114843",
     "exception": false,
     "start_time": "2023-02-10T04:03:53.076944",
     "status": "completed"
    },
    "tags": []
   },
   "outputs": [],
   "source": [
    "MAX_LEN = 128\n",
    "\n"
   ]
  },
  {
   "cell_type": "code",
   "execution_count": 13,
   "id": "37945a42",
   "metadata": {
    "execution": {
     "iopub.execute_input": "2023-02-10T04:03:53.153726Z",
     "iopub.status.busy": "2023-02-10T04:03:53.153112Z",
     "iopub.status.idle": "2023-02-10T04:03:53.165114Z",
     "shell.execute_reply": "2023-02-10T04:03:53.163885Z"
    },
    "papermill": {
     "duration": 0.037585,
     "end_time": "2023-02-10T04:03:53.168893",
     "exception": false,
     "start_time": "2023-02-10T04:03:53.131308",
     "status": "completed"
    },
    "tags": []
   },
   "outputs": [],
   "source": [
    "sentences_a_train = df_train.text_a.values\n",
    "sentences_b_train = df_train.text_b.values\n",
    "labels_train = df_train.label.values"
   ]
  },
  {
   "cell_type": "code",
   "execution_count": 14,
   "id": "0d486529",
   "metadata": {
    "execution": {
     "iopub.execute_input": "2023-02-10T04:03:53.202241Z",
     "iopub.status.busy": "2023-02-10T04:03:53.201816Z",
     "iopub.status.idle": "2023-02-10T04:03:53.207540Z",
     "shell.execute_reply": "2023-02-10T04:03:53.206658Z"
    },
    "id": "-SrIkmJmUl1_",
    "papermill": {
     "duration": 0.026206,
     "end_time": "2023-02-10T04:03:53.212021",
     "exception": false,
     "start_time": "2023-02-10T04:03:53.185815",
     "status": "completed"
    },
    "tags": []
   },
   "outputs": [],
   "source": [
    "sentences_a_val = df_val.text_a.values\n",
    "sentences_b_val = df_val.text_b.values\n",
    "labels_val = df_val.label.values"
   ]
  },
  {
   "cell_type": "code",
   "execution_count": 15,
   "id": "1fbf3d19",
   "metadata": {
    "execution": {
     "iopub.execute_input": "2023-02-10T04:03:53.240792Z",
     "iopub.status.busy": "2023-02-10T04:03:53.240402Z",
     "iopub.status.idle": "2023-02-10T04:03:53.245853Z",
     "shell.execute_reply": "2023-02-10T04:03:53.245012Z"
    },
    "papermill": {
     "duration": 0.024272,
     "end_time": "2023-02-10T04:03:53.249995",
     "exception": false,
     "start_time": "2023-02-10T04:03:53.225723",
     "status": "completed"
    },
    "tags": []
   },
   "outputs": [],
   "source": [
    "sentences_a_test1 = df_test1.text_a.values\n",
    "sentences_b_test1 = df_test1.text_b.values\n",
    "labels_test1 = df_test1.label.values"
   ]
  },
  {
   "cell_type": "code",
   "execution_count": 16,
   "id": "c132d095",
   "metadata": {
    "execution": {
     "iopub.execute_input": "2023-02-10T04:03:53.278804Z",
     "iopub.status.busy": "2023-02-10T04:03:53.278355Z",
     "iopub.status.idle": "2023-02-10T04:03:53.284181Z",
     "shell.execute_reply": "2023-02-10T04:03:53.283373Z"
    },
    "papermill": {
     "duration": 0.025012,
     "end_time": "2023-02-10T04:03:53.288442",
     "exception": false,
     "start_time": "2023-02-10T04:03:53.263430",
     "status": "completed"
    },
    "tags": []
   },
   "outputs": [],
   "source": [
    "sentences_a_test2 = df_test2.text_a.values\n",
    "sentences_b_test2 = df_test2.text_b.values\n",
    "labels_test2 = df_test2.label.values"
   ]
  },
  {
   "cell_type": "code",
   "execution_count": 17,
   "id": "446b9a8e",
   "metadata": {
    "execution": {
     "iopub.execute_input": "2023-02-10T04:03:53.316587Z",
     "iopub.status.busy": "2023-02-10T04:03:53.316222Z",
     "iopub.status.idle": "2023-02-10T04:03:53.320373Z",
     "shell.execute_reply": "2023-02-10T04:03:53.319522Z"
    },
    "executionInfo": {
     "elapsed": 49527,
     "status": "ok",
     "timestamp": 1579507809750,
     "user": {
      "displayName": "Shivam Panwar",
      "photoUrl": "",
      "userId": "00811775879175788799"
     },
     "user_tz": -330
    },
    "id": "ndD9LjVxUqw9",
    "outputId": "7012554a-2fa3-4153-9fca-454dd151d7d3",
    "papermill": {
     "duration": 0.022367,
     "end_time": "2023-02-10T04:03:53.324383",
     "exception": false,
     "start_time": "2023-02-10T04:03:53.302016",
     "status": "completed"
    },
    "tags": []
   },
   "outputs": [],
   "source": [
    "# sentences[0]"
   ]
  },
  {
   "cell_type": "code",
   "execution_count": 18,
   "id": "1fa3ab3f",
   "metadata": {
    "execution": {
     "iopub.execute_input": "2023-02-10T04:03:53.352803Z",
     "iopub.status.busy": "2023-02-10T04:03:53.352390Z",
     "iopub.status.idle": "2023-02-10T04:04:05.883119Z",
     "shell.execute_reply": "2023-02-10T04:04:05.881056Z"
    },
    "executionInfo": {
     "elapsed": 72729,
     "status": "ok",
     "timestamp": 1579507832981,
     "user": {
      "displayName": "Shivam Panwar",
      "photoUrl": "",
      "userId": "00811775879175788799"
     },
     "user_tz": -330
    },
    "id": "9w5oDR3gUuBQ",
    "outputId": "56517de2-ef2d-44b4-a4b0-382f2bdcf361",
    "papermill": {
     "duration": 12.547697,
     "end_time": "2023-02-10T04:04:05.885584",
     "exception": false,
     "start_time": "2023-02-10T04:03:53.337887",
     "status": "completed"
    },
    "tags": []
   },
   "outputs": [
    {
     "data": {
      "application/vnd.jupyter.widget-view+json": {
       "model_id": "bdb081f1138549b9af1cacf5ffa79c2e",
       "version_major": 2,
       "version_minor": 0
      },
      "text/plain": [
       "Downloading:   0%|          | 0.00/760k [00:00<?, ?B/s]"
      ]
     },
     "metadata": {},
     "output_type": "display_data"
    },
    {
     "data": {
      "application/vnd.jupyter.widget-view+json": {
       "model_id": "74bcd555017e4999a13a49af4a13cb5e",
       "version_major": 2,
       "version_minor": 0
      },
      "text/plain": [
       "Downloading:   0%|          | 0.00/290 [00:00<?, ?B/s]"
      ]
     },
     "metadata": {},
     "output_type": "display_data"
    },
    {
     "data": {
      "application/vnd.jupyter.widget-view+json": {
       "model_id": "e56019b3a26247e29faf0b91afe61d1b",
       "version_major": 2,
       "version_minor": 0
      },
      "text/plain": [
       "Downloading:   0%|          | 0.00/443 [00:00<?, ?B/s]"
      ]
     },
     "metadata": {},
     "output_type": "display_data"
    },
    {
     "name": "stdout",
     "output_type": "stream",
     "text": [
      "Tokenize the first sentence:\n",
      "['▁staf', '▁hotel', '▁cacat', '▁', '.', '▁tidak', '▁ramah', '▁', '.', '▁air', '▁mati', '▁', '.', '▁toilet', '▁bau', '▁', '.', '▁jo', 'rok', '▁', '.', '▁cacat', '▁pokoknya', '<sep>', '▁bau', '_', 'p', '1', '<sep>', '<cls>']\n"
     ]
    }
   ],
   "source": [
    "tokenizer = XLNetTokenizer.from_pretrained('malay-huggingface/xlnet-base-bahasa-cased', do_lower_case=True)\n",
    "tokenized_texts_train = get_tokenized_texts_from(tokenizer, sentences_a_train, sentences_b_train, MAX_LEN)\n",
    "tokenized_texts_val = get_tokenized_texts_from(tokenizer, sentences_a_val, sentences_b_val, MAX_LEN)\n",
    "tokenized_texts_test1 = get_tokenized_texts_from(tokenizer, sentences_a_test1, sentences_b_test1, MAX_LEN)\n",
    "tokenized_texts_test2 = get_tokenized_texts_from(tokenizer, sentences_a_test2, sentences_b_test2, MAX_LEN)\n",
    "\n",
    "print (\"Tokenize the first sentence:\")\n",
    "print (tokenized_texts_train[0])"
   ]
  },
  {
   "cell_type": "code",
   "execution_count": 19,
   "id": "9e31a297",
   "metadata": {
    "execution": {
     "iopub.execute_input": "2023-02-10T04:04:05.908514Z",
     "iopub.status.busy": "2023-02-10T04:04:05.906916Z",
     "iopub.status.idle": "2023-02-10T04:04:07.236104Z",
     "shell.execute_reply": "2023-02-10T04:04:07.235067Z"
    },
    "papermill": {
     "duration": 1.342936,
     "end_time": "2023-02-10T04:04:07.238807",
     "exception": false,
     "start_time": "2023-02-10T04:04:05.895871",
     "status": "completed"
    },
    "tags": []
   },
   "outputs": [],
   "source": [
    "input_ids_train = [tokenizer.convert_tokens_to_ids(x) for x in tokenized_texts_train]\n",
    "input_ids_val = [tokenizer.convert_tokens_to_ids(x) for x in tokenized_texts_val]\n",
    "input_ids_test1 = [tokenizer.convert_tokens_to_ids(x) for x in tokenized_texts_test1]\n",
    "input_ids_test2 = [tokenizer.convert_tokens_to_ids(x) for x in tokenized_texts_test2]"
   ]
  },
  {
   "cell_type": "code",
   "execution_count": 20,
   "id": "dbbe01a8",
   "metadata": {
    "execution": {
     "iopub.execute_input": "2023-02-10T04:04:07.260408Z",
     "iopub.status.busy": "2023-02-10T04:04:07.258772Z",
     "iopub.status.idle": "2023-02-10T04:04:07.363286Z",
     "shell.execute_reply": "2023-02-10T04:04:07.362257Z"
    },
    "id": "5bR1ejqCU6hp",
    "papermill": {
     "duration": 0.117294,
     "end_time": "2023-02-10T04:04:07.365752",
     "exception": false,
     "start_time": "2023-02-10T04:04:07.248458",
     "status": "completed"
    },
    "tags": []
   },
   "outputs": [],
   "source": [
    "input_ids_train = pad_sequences(input_ids_train, maxlen=MAX_LEN, dtype=\"long\", truncating=\"post\", padding=\"post\")\n",
    "input_ids_val = pad_sequences(input_ids_val, maxlen=MAX_LEN, dtype=\"long\", truncating=\"post\", padding=\"post\")\n",
    "input_ids_test1 = pad_sequences(input_ids_test1, maxlen=MAX_LEN, dtype=\"long\", truncating=\"post\", padding=\"post\")\n",
    "input_ids_test2 = pad_sequences(input_ids_test2, maxlen=MAX_LEN, dtype=\"long\", truncating=\"post\", padding=\"post\")\n"
   ]
  },
  {
   "cell_type": "code",
   "execution_count": 21,
   "id": "8e909d1a",
   "metadata": {
    "execution": {
     "iopub.execute_input": "2023-02-10T04:04:07.386921Z",
     "iopub.status.busy": "2023-02-10T04:04:07.386561Z",
     "iopub.status.idle": "2023-02-10T04:04:07.401894Z",
     "shell.execute_reply": "2023-02-10T04:04:07.400761Z"
    },
    "id": "WlVIq2q5VILC",
    "papermill": {
     "duration": 0.028713,
     "end_time": "2023-02-10T04:04:07.404548",
     "exception": false,
     "start_time": "2023-02-10T04:04:07.375835",
     "status": "completed"
    },
    "tags": []
   },
   "outputs": [],
   "source": [
    "tokenized_texts_test1 =pad_sequences(tokenized_texts_test1, maxlen=MAX_LEN, dtype=object, truncating=\"post\", padding=\"post\")\n",
    "\n",
    "df_test1['tokens'] = tokenized_texts_test1.tolist()\n"
   ]
  },
  {
   "cell_type": "code",
   "execution_count": 22,
   "id": "c3fb954c",
   "metadata": {
    "execution": {
     "iopub.execute_input": "2023-02-10T04:04:07.428271Z",
     "iopub.status.busy": "2023-02-10T04:04:07.427934Z",
     "iopub.status.idle": "2023-02-10T04:04:07.467951Z",
     "shell.execute_reply": "2023-02-10T04:04:07.466720Z"
    },
    "papermill": {
     "duration": 0.056521,
     "end_time": "2023-02-10T04:04:07.470535",
     "exception": false,
     "start_time": "2023-02-10T04:04:07.414014",
     "status": "completed"
    },
    "tags": []
   },
   "outputs": [],
   "source": [
    "tokenized_texts_test2 =pad_sequences(tokenized_texts_test2, maxlen=MAX_LEN, dtype=object, truncating=\"post\", padding=\"post\")\n",
    "\n",
    "df_test2['tokens'] = tokenized_texts_test2.tolist()"
   ]
  },
  {
   "cell_type": "code",
   "execution_count": null,
   "id": "8c45a2dc",
   "metadata": {
    "papermill": {
     "duration": 0.010152,
     "end_time": "2023-02-10T04:04:07.491137",
     "exception": false,
     "start_time": "2023-02-10T04:04:07.480985",
     "status": "completed"
    },
    "tags": []
   },
   "outputs": [],
   "source": []
  },
  {
   "cell_type": "code",
   "execution_count": 23,
   "id": "9f3cda12",
   "metadata": {
    "execution": {
     "iopub.execute_input": "2023-02-10T04:04:07.512766Z",
     "iopub.status.busy": "2023-02-10T04:04:07.512375Z",
     "iopub.status.idle": "2023-02-10T04:04:08.815860Z",
     "shell.execute_reply": "2023-02-10T04:04:08.814668Z"
    },
    "id": "7OpPXkQvVP4K",
    "papermill": {
     "duration": 1.317024,
     "end_time": "2023-02-10T04:04:08.818346",
     "exception": false,
     "start_time": "2023-02-10T04:04:07.501322",
     "status": "completed"
    },
    "tags": []
   },
   "outputs": [],
   "source": [
    "# Create attention masks\n",
    "attention_masks_train = []\n",
    "\n",
    "# Create a mask of 1s for each token followed by 0s for padding\n",
    "for seq in input_ids_train:\n",
    "  seq_mask = [float(i>0) for i in seq]\n",
    "  attention_masks_train.append(seq_mask)\n",
    "\n",
    "# Create attention masks\n",
    "attention_masks_val = []\n",
    "\n",
    "# Create a mask of 1s for each token followed by 0s for padding\n",
    "for seq in input_ids_val:\n",
    "  seq_mask_val = [float(i>0) for i in seq]\n",
    "  attention_masks_val.append(seq_mask_val)\n",
    "    \n",
    "attention_masks_test1 = []\n",
    "for seq in input_ids_test1:\n",
    "  seq_mask_test1 = [float(i>0) for i in seq]\n",
    "  attention_masks_test1.append(seq_mask_test1)\n",
    "    \n",
    "attention_masks_test2 = []\n",
    "for seq in input_ids_test2:\n",
    "  seq_mask_test2 = [float(i>0) for i in seq]\n",
    "  attention_masks_test2.append(seq_mask_test2)"
   ]
  },
  {
   "cell_type": "code",
   "execution_count": 24,
   "id": "8064c373",
   "metadata": {
    "execution": {
     "iopub.execute_input": "2023-02-10T04:04:08.841173Z",
     "iopub.status.busy": "2023-02-10T04:04:08.840227Z",
     "iopub.status.idle": "2023-02-10T04:04:08.845243Z",
     "shell.execute_reply": "2023-02-10T04:04:08.844213Z"
    },
    "id": "VpoRzqBkVUIQ",
    "papermill": {
     "duration": 0.018275,
     "end_time": "2023-02-10T04:04:08.847345",
     "exception": false,
     "start_time": "2023-02-10T04:04:08.829070",
     "status": "completed"
    },
    "tags": []
   },
   "outputs": [],
   "source": [
    "\n",
    "\n",
    "#Use train_test_split to split our data into train and validation sets for training\n",
    "\n",
    "# train_inputs, validation_inputs, train_labels, validation_labels = train_test_split(input_ids, labels, \n",
    "#                                                             random_state=56, test_size=0.2)\n",
    "# train_masks, validation_masks, _, _ = train_test_split(attention_masks, input_ids,\n",
    "#                                              random_state=56, test_size=0.2)"
   ]
  },
  {
   "cell_type": "code",
   "execution_count": 25,
   "id": "fddd6b6b",
   "metadata": {
    "execution": {
     "iopub.execute_input": "2023-02-10T04:04:08.867457Z",
     "iopub.status.busy": "2023-02-10T04:04:08.867150Z",
     "iopub.status.idle": "2023-02-10T04:04:09.019068Z",
     "shell.execute_reply": "2023-02-10T04:04:09.017993Z"
    },
    "id": "nn3hPYmYViHO",
    "papermill": {
     "duration": 0.164795,
     "end_time": "2023-02-10T04:04:09.021720",
     "exception": false,
     "start_time": "2023-02-10T04:04:08.856925",
     "status": "completed"
    },
    "tags": []
   },
   "outputs": [],
   "source": [
    "train_inputs = torch.tensor(input_ids_train)\n",
    "train_labels = torch.tensor(labels_train)\n",
    "train_masks = torch.tensor(attention_masks_train)\n",
    "\n",
    "val_inputs = torch.tensor(input_ids_val)\n",
    "val_labels = torch.tensor(labels_val)\n",
    "val_masks = torch.tensor(attention_masks_val)\n",
    "\n",
    "test_inputs1 = torch.tensor(input_ids_test1)\n",
    "test_labels1 = torch.tensor(labels_test1)\n",
    "test_masks1 = torch.tensor(attention_masks_test1)\n",
    "\n",
    "test_inputs2 = torch.tensor(input_ids_test2)\n",
    "test_labels2 = torch.tensor(labels_test2)\n",
    "test_masks2 = torch.tensor(attention_masks_test2)"
   ]
  },
  {
   "cell_type": "code",
   "execution_count": 26,
   "id": "e2c356e2",
   "metadata": {
    "execution": {
     "iopub.execute_input": "2023-02-10T04:04:09.043523Z",
     "iopub.status.busy": "2023-02-10T04:04:09.043153Z",
     "iopub.status.idle": "2023-02-10T04:04:09.051798Z",
     "shell.execute_reply": "2023-02-10T04:04:09.050872Z"
    },
    "id": "wXDDYe7dVlCx",
    "papermill": {
     "duration": 0.021959,
     "end_time": "2023-02-10T04:04:09.053968",
     "exception": false,
     "start_time": "2023-02-10T04:04:09.032009",
     "status": "completed"
    },
    "tags": []
   },
   "outputs": [],
   "source": [
    "batch_size = 32\n",
    "train_data = TensorDataset(train_inputs, train_masks, train_labels)\n",
    "train_sampler = RandomSampler(train_data)\n",
    "train_dataloader = DataLoader(train_data, sampler=train_sampler, batch_size=batch_size)\n",
    "\n",
    "val_data = TensorDataset(val_inputs, val_masks, val_labels)\n",
    "val_sampler = SequentialSampler(val_data)\n",
    "val_dataloader = DataLoader(val_data, sampler=val_sampler, batch_size=batch_size)\n",
    "\n",
    "test_data1 = TensorDataset(test_inputs1, test_masks1, test_labels1)\n",
    "test_sampler1 = SequentialSampler(test_data1)\n",
    "test_dataloader1 = DataLoader(test_data1, sampler=test_sampler1, batch_size=batch_size)\n",
    "\n",
    "test_data2 = TensorDataset(test_inputs2, test_masks2, test_labels2)\n",
    "test_sampler2 = SequentialSampler(test_data2)\n",
    "test_dataloader2 = DataLoader(test_data2, sampler=test_sampler2, batch_size=batch_size)"
   ]
  },
  {
   "cell_type": "markdown",
   "id": "1224b197",
   "metadata": {
    "id": "1zvvTbR8h66j",
    "papermill": {
     "duration": 0.009836,
     "end_time": "2023-02-10T04:04:09.073370",
     "exception": false,
     "start_time": "2023-02-10T04:04:09.063534",
     "status": "completed"
    },
    "tags": []
   },
   "source": [
    "Using **finetuned language model**"
   ]
  },
  {
   "cell_type": "code",
   "execution_count": 27,
   "id": "130891d3",
   "metadata": {
    "execution": {
     "iopub.execute_input": "2023-02-10T04:04:09.096497Z",
     "iopub.status.busy": "2023-02-10T04:04:09.096069Z",
     "iopub.status.idle": "2023-02-10T04:04:14.445653Z",
     "shell.execute_reply": "2023-02-10T04:04:14.444540Z"
    },
    "executionInfo": {
     "elapsed": 11108,
     "status": "ok",
     "timestamp": 1579510821941,
     "user": {
      "displayName": "Shivam Panwar",
      "photoUrl": "",
      "userId": "00811775879175788799"
     },
     "user_tz": -330
    },
    "id": "cVAGfSD5ojia",
    "outputId": "0685088f-ae9f-4654-9b58-029b531ac625",
    "papermill": {
     "duration": 5.364293,
     "end_time": "2023-02-10T04:04:14.448009",
     "exception": false,
     "start_time": "2023-02-10T04:04:09.083716",
     "status": "completed"
    },
    "tags": []
   },
   "outputs": [
    {
     "name": "stderr",
     "output_type": "stream",
     "text": [
      "Some weights of the model checkpoint at /kaggle/input/finetune-model-any/ar_experimenttfrecords/model/ar_pytorch_model were not used when initializing XLNetForSequenceClassification: ['lm_loss.weight', 'lm_loss.bias']\n",
      "- This IS expected if you are initializing XLNetForSequenceClassification from the checkpoint of a model trained on another task or with another architecture (e.g. initializing a BertForSequenceClassification model from a BertForPreTraining model).\n",
      "- This IS NOT expected if you are initializing XLNetForSequenceClassification from the checkpoint of a model that you expect to be exactly identical (initializing a BertForSequenceClassification model from a BertForSequenceClassification model).\n",
      "Some weights of XLNetForSequenceClassification were not initialized from the model checkpoint at /kaggle/input/finetune-model-any/ar_experimenttfrecords/model/ar_pytorch_model and are newly initialized: ['sequence_summary.summary.weight', 'sequence_summary.summary.bias', 'logits_proj.weight', 'logits_proj.bias']\n",
      "You should probably TRAIN this model on a down-stream task to be able to use it for predictions and inference.\n"
     ]
    },
    {
     "data": {
      "text/plain": [
       "XLNetForSequenceClassification(\n",
       "  (transformer): XLNetModel(\n",
       "    (word_embedding): Embedding(32000, 768)\n",
       "    (layer): ModuleList(\n",
       "      (0): XLNetLayer(\n",
       "        (rel_attn): XLNetRelativeAttention(\n",
       "          (layer_norm): LayerNorm((768,), eps=1e-12, elementwise_affine=True)\n",
       "          (dropout): Dropout(p=0.1, inplace=False)\n",
       "        )\n",
       "        (ff): XLNetFeedForward(\n",
       "          (layer_norm): LayerNorm((768,), eps=1e-12, elementwise_affine=True)\n",
       "          (layer_1): Linear(in_features=768, out_features=3072, bias=True)\n",
       "          (layer_2): Linear(in_features=3072, out_features=768, bias=True)\n",
       "          (dropout): Dropout(p=0.1, inplace=False)\n",
       "          (activation_function): GELUActivation()\n",
       "        )\n",
       "        (dropout): Dropout(p=0.1, inplace=False)\n",
       "      )\n",
       "      (1): XLNetLayer(\n",
       "        (rel_attn): XLNetRelativeAttention(\n",
       "          (layer_norm): LayerNorm((768,), eps=1e-12, elementwise_affine=True)\n",
       "          (dropout): Dropout(p=0.1, inplace=False)\n",
       "        )\n",
       "        (ff): XLNetFeedForward(\n",
       "          (layer_norm): LayerNorm((768,), eps=1e-12, elementwise_affine=True)\n",
       "          (layer_1): Linear(in_features=768, out_features=3072, bias=True)\n",
       "          (layer_2): Linear(in_features=3072, out_features=768, bias=True)\n",
       "          (dropout): Dropout(p=0.1, inplace=False)\n",
       "          (activation_function): GELUActivation()\n",
       "        )\n",
       "        (dropout): Dropout(p=0.1, inplace=False)\n",
       "      )\n",
       "      (2): XLNetLayer(\n",
       "        (rel_attn): XLNetRelativeAttention(\n",
       "          (layer_norm): LayerNorm((768,), eps=1e-12, elementwise_affine=True)\n",
       "          (dropout): Dropout(p=0.1, inplace=False)\n",
       "        )\n",
       "        (ff): XLNetFeedForward(\n",
       "          (layer_norm): LayerNorm((768,), eps=1e-12, elementwise_affine=True)\n",
       "          (layer_1): Linear(in_features=768, out_features=3072, bias=True)\n",
       "          (layer_2): Linear(in_features=3072, out_features=768, bias=True)\n",
       "          (dropout): Dropout(p=0.1, inplace=False)\n",
       "          (activation_function): GELUActivation()\n",
       "        )\n",
       "        (dropout): Dropout(p=0.1, inplace=False)\n",
       "      )\n",
       "      (3): XLNetLayer(\n",
       "        (rel_attn): XLNetRelativeAttention(\n",
       "          (layer_norm): LayerNorm((768,), eps=1e-12, elementwise_affine=True)\n",
       "          (dropout): Dropout(p=0.1, inplace=False)\n",
       "        )\n",
       "        (ff): XLNetFeedForward(\n",
       "          (layer_norm): LayerNorm((768,), eps=1e-12, elementwise_affine=True)\n",
       "          (layer_1): Linear(in_features=768, out_features=3072, bias=True)\n",
       "          (layer_2): Linear(in_features=3072, out_features=768, bias=True)\n",
       "          (dropout): Dropout(p=0.1, inplace=False)\n",
       "          (activation_function): GELUActivation()\n",
       "        )\n",
       "        (dropout): Dropout(p=0.1, inplace=False)\n",
       "      )\n",
       "      (4): XLNetLayer(\n",
       "        (rel_attn): XLNetRelativeAttention(\n",
       "          (layer_norm): LayerNorm((768,), eps=1e-12, elementwise_affine=True)\n",
       "          (dropout): Dropout(p=0.1, inplace=False)\n",
       "        )\n",
       "        (ff): XLNetFeedForward(\n",
       "          (layer_norm): LayerNorm((768,), eps=1e-12, elementwise_affine=True)\n",
       "          (layer_1): Linear(in_features=768, out_features=3072, bias=True)\n",
       "          (layer_2): Linear(in_features=3072, out_features=768, bias=True)\n",
       "          (dropout): Dropout(p=0.1, inplace=False)\n",
       "          (activation_function): GELUActivation()\n",
       "        )\n",
       "        (dropout): Dropout(p=0.1, inplace=False)\n",
       "      )\n",
       "      (5): XLNetLayer(\n",
       "        (rel_attn): XLNetRelativeAttention(\n",
       "          (layer_norm): LayerNorm((768,), eps=1e-12, elementwise_affine=True)\n",
       "          (dropout): Dropout(p=0.1, inplace=False)\n",
       "        )\n",
       "        (ff): XLNetFeedForward(\n",
       "          (layer_norm): LayerNorm((768,), eps=1e-12, elementwise_affine=True)\n",
       "          (layer_1): Linear(in_features=768, out_features=3072, bias=True)\n",
       "          (layer_2): Linear(in_features=3072, out_features=768, bias=True)\n",
       "          (dropout): Dropout(p=0.1, inplace=False)\n",
       "          (activation_function): GELUActivation()\n",
       "        )\n",
       "        (dropout): Dropout(p=0.1, inplace=False)\n",
       "      )\n",
       "      (6): XLNetLayer(\n",
       "        (rel_attn): XLNetRelativeAttention(\n",
       "          (layer_norm): LayerNorm((768,), eps=1e-12, elementwise_affine=True)\n",
       "          (dropout): Dropout(p=0.1, inplace=False)\n",
       "        )\n",
       "        (ff): XLNetFeedForward(\n",
       "          (layer_norm): LayerNorm((768,), eps=1e-12, elementwise_affine=True)\n",
       "          (layer_1): Linear(in_features=768, out_features=3072, bias=True)\n",
       "          (layer_2): Linear(in_features=3072, out_features=768, bias=True)\n",
       "          (dropout): Dropout(p=0.1, inplace=False)\n",
       "          (activation_function): GELUActivation()\n",
       "        )\n",
       "        (dropout): Dropout(p=0.1, inplace=False)\n",
       "      )\n",
       "      (7): XLNetLayer(\n",
       "        (rel_attn): XLNetRelativeAttention(\n",
       "          (layer_norm): LayerNorm((768,), eps=1e-12, elementwise_affine=True)\n",
       "          (dropout): Dropout(p=0.1, inplace=False)\n",
       "        )\n",
       "        (ff): XLNetFeedForward(\n",
       "          (layer_norm): LayerNorm((768,), eps=1e-12, elementwise_affine=True)\n",
       "          (layer_1): Linear(in_features=768, out_features=3072, bias=True)\n",
       "          (layer_2): Linear(in_features=3072, out_features=768, bias=True)\n",
       "          (dropout): Dropout(p=0.1, inplace=False)\n",
       "          (activation_function): GELUActivation()\n",
       "        )\n",
       "        (dropout): Dropout(p=0.1, inplace=False)\n",
       "      )\n",
       "      (8): XLNetLayer(\n",
       "        (rel_attn): XLNetRelativeAttention(\n",
       "          (layer_norm): LayerNorm((768,), eps=1e-12, elementwise_affine=True)\n",
       "          (dropout): Dropout(p=0.1, inplace=False)\n",
       "        )\n",
       "        (ff): XLNetFeedForward(\n",
       "          (layer_norm): LayerNorm((768,), eps=1e-12, elementwise_affine=True)\n",
       "          (layer_1): Linear(in_features=768, out_features=3072, bias=True)\n",
       "          (layer_2): Linear(in_features=3072, out_features=768, bias=True)\n",
       "          (dropout): Dropout(p=0.1, inplace=False)\n",
       "          (activation_function): GELUActivation()\n",
       "        )\n",
       "        (dropout): Dropout(p=0.1, inplace=False)\n",
       "      )\n",
       "      (9): XLNetLayer(\n",
       "        (rel_attn): XLNetRelativeAttention(\n",
       "          (layer_norm): LayerNorm((768,), eps=1e-12, elementwise_affine=True)\n",
       "          (dropout): Dropout(p=0.1, inplace=False)\n",
       "        )\n",
       "        (ff): XLNetFeedForward(\n",
       "          (layer_norm): LayerNorm((768,), eps=1e-12, elementwise_affine=True)\n",
       "          (layer_1): Linear(in_features=768, out_features=3072, bias=True)\n",
       "          (layer_2): Linear(in_features=3072, out_features=768, bias=True)\n",
       "          (dropout): Dropout(p=0.1, inplace=False)\n",
       "          (activation_function): GELUActivation()\n",
       "        )\n",
       "        (dropout): Dropout(p=0.1, inplace=False)\n",
       "      )\n",
       "      (10): XLNetLayer(\n",
       "        (rel_attn): XLNetRelativeAttention(\n",
       "          (layer_norm): LayerNorm((768,), eps=1e-12, elementwise_affine=True)\n",
       "          (dropout): Dropout(p=0.1, inplace=False)\n",
       "        )\n",
       "        (ff): XLNetFeedForward(\n",
       "          (layer_norm): LayerNorm((768,), eps=1e-12, elementwise_affine=True)\n",
       "          (layer_1): Linear(in_features=768, out_features=3072, bias=True)\n",
       "          (layer_2): Linear(in_features=3072, out_features=768, bias=True)\n",
       "          (dropout): Dropout(p=0.1, inplace=False)\n",
       "          (activation_function): GELUActivation()\n",
       "        )\n",
       "        (dropout): Dropout(p=0.1, inplace=False)\n",
       "      )\n",
       "      (11): XLNetLayer(\n",
       "        (rel_attn): XLNetRelativeAttention(\n",
       "          (layer_norm): LayerNorm((768,), eps=1e-12, elementwise_affine=True)\n",
       "          (dropout): Dropout(p=0.1, inplace=False)\n",
       "        )\n",
       "        (ff): XLNetFeedForward(\n",
       "          (layer_norm): LayerNorm((768,), eps=1e-12, elementwise_affine=True)\n",
       "          (layer_1): Linear(in_features=768, out_features=3072, bias=True)\n",
       "          (layer_2): Linear(in_features=3072, out_features=768, bias=True)\n",
       "          (dropout): Dropout(p=0.1, inplace=False)\n",
       "          (activation_function): GELUActivation()\n",
       "        )\n",
       "        (dropout): Dropout(p=0.1, inplace=False)\n",
       "      )\n",
       "    )\n",
       "    (dropout): Dropout(p=0.1, inplace=False)\n",
       "  )\n",
       "  (sequence_summary): SequenceSummary(\n",
       "    (summary): Linear(in_features=768, out_features=768, bias=True)\n",
       "    (activation): Tanh()\n",
       "    (first_dropout): Identity()\n",
       "    (last_dropout): Dropout(p=0.1, inplace=False)\n",
       "  )\n",
       "  (logits_proj): Linear(in_features=768, out_features=2, bias=True)\n",
       ")"
      ]
     },
     "execution_count": 27,
     "metadata": {},
     "output_type": "execute_result"
    }
   ],
   "source": [
    "# Load XLNEtForSequenceClassification, the pretrained XLNet model with a single linear classification layer on top. \n",
    "model = XLNetForSequenceClassification.from_pretrained('/kaggle/input/finetune-model-any/ar_experimenttfrecords/model/ar_pytorch_model', num_labels=2)\n",
    "model.cuda()"
   ]
  },
  {
   "cell_type": "code",
   "execution_count": 28,
   "id": "aa73f4c3",
   "metadata": {
    "execution": {
     "iopub.execute_input": "2023-02-10T04:04:14.469929Z",
     "iopub.status.busy": "2023-02-10T04:04:14.469562Z",
     "iopub.status.idle": "2023-02-10T04:04:14.482475Z",
     "shell.execute_reply": "2023-02-10T04:04:14.481267Z"
    },
    "id": "ZJnZs3XXop-l",
    "papermill": {
     "duration": 0.026505,
     "end_time": "2023-02-10T04:04:14.484660",
     "exception": false,
     "start_time": "2023-02-10T04:04:14.458155",
     "status": "completed"
    },
    "tags": []
   },
   "outputs": [
    {
     "name": "stderr",
     "output_type": "stream",
     "text": [
      "/opt/conda/lib/python3.7/site-packages/transformers/optimization.py:310: FutureWarning: This implementation of AdamW is deprecated and will be removed in a future version. Use the PyTorch implementation torch.optim.AdamW instead, or set `no_deprecation_warning=True` to disable this warning\n",
      "  FutureWarning,\n"
     ]
    }
   ],
   "source": [
    "epochs = 8\n",
    "\n",
    "param_optimizer = list(model.named_parameters())\n",
    "no_decay = ['bias', 'gamma', 'beta']\n",
    "optimizer_grouped_parameters = [\n",
    "    {'params': [p for n, p in param_optimizer if not any(nd in n for nd in no_decay)],\n",
    "     'weight_decay_rate': 0.01},\n",
    "    {'params': [p for n, p in param_optimizer if any(nd in n for nd in no_decay)],\n",
    "     'weight_decay_rate': 0.0}\n",
    "]\n",
    "\n",
    "optimizer = AdamW(optimizer_grouped_parameters, lr=2e-5)\n",
    "total_steps = len(train_dataloader) * epochs\n",
    "scheduler = get_linear_schedule_with_warmup(\n",
    "  optimizer,\n",
    "  num_warmup_steps=0,\n",
    "  num_training_steps=total_steps\n",
    ")"
   ]
  },
  {
   "cell_type": "code",
   "execution_count": 29,
   "id": "1ffc1a9d",
   "metadata": {
    "execution": {
     "iopub.execute_input": "2023-02-10T04:04:14.505888Z",
     "iopub.status.busy": "2023-02-10T04:04:14.505551Z",
     "iopub.status.idle": "2023-02-10T04:04:14.514431Z",
     "shell.execute_reply": "2023-02-10T04:04:14.513602Z"
    },
    "executionInfo": {
     "elapsed": 2813457,
     "status": "ok",
     "timestamp": 1579513635379,
     "user": {
      "displayName": "Shivam Panwar",
      "photoUrl": "",
      "userId": "00811775879175788799"
     },
     "user_tz": -330
    },
    "id": "kAxSwesjpLvZ",
    "outputId": "4af04c7c-fa3d-4d09-98d6-643cb5c91a55",
    "papermill": {
     "duration": 0.021522,
     "end_time": "2023-02-10T04:04:14.516353",
     "exception": false,
     "start_time": "2023-02-10T04:04:14.494831",
     "status": "completed"
    },
    "tags": []
   },
   "outputs": [],
   "source": [
    "# Store our loss and accuracy for plotting\n",
    "def train_epoch(model, data_loader, optimizer, device, scheduler):\n",
    "  # Set our model to training mode (as opposed to evaluation mode)\n",
    "  model.train()\n",
    "  \n",
    "  # Tracking variables\n",
    "  tr_loss = 0\n",
    "  nb_tr_examples, nb_tr_steps = 0, 0\n",
    "  \n",
    "  # Train the data for one epoch\n",
    "  for step, batch in enumerate(train_dataloader):\n",
    "    # Add batch to GPU\n",
    "    batch = tuple(t.to(device) for t in batch)\n",
    "    # Unpack the inputs from our dataloader\n",
    "    b_input_ids, b_input_mask, b_labels = batch\n",
    "    # Clear out the gradients (by default they accumulate)\n",
    "    optimizer.zero_grad()\n",
    "    # Forward pass\n",
    "    outputs = model(b_input_ids, token_type_ids=None, attention_mask=b_input_mask, labels=b_labels)\n",
    "    loss = outputs[0]\n",
    "    logits = outputs[1]\n",
    "#     train_loss_set.append(loss.item())    \n",
    "    # Backward pass\n",
    "    loss.backward()\n",
    "    # Update parameters and take a step using the computed gradient\n",
    "    optimizer.step()\n",
    "    \n",
    "    \n",
    "    # Update tracking variables\n",
    "    tr_loss += loss.item()\n",
    "    nb_tr_examples += b_input_ids.size(0)\n",
    "    nb_tr_steps += 1\n",
    "  print(\"Train loss: {}\".format(tr_loss/nb_tr_steps))\n",
    "#     print(f'Train loss {train_loss} ')\n",
    "\n",
    "\n",
    "    "
   ]
  },
  {
   "cell_type": "code",
   "execution_count": 30,
   "id": "bdc79a5c",
   "metadata": {
    "execution": {
     "iopub.execute_input": "2023-02-10T04:04:14.537513Z",
     "iopub.status.busy": "2023-02-10T04:04:14.536699Z",
     "iopub.status.idle": "2023-02-10T04:04:14.544119Z",
     "shell.execute_reply": "2023-02-10T04:04:14.543194Z"
    },
    "papermill": {
     "duration": 0.020057,
     "end_time": "2023-02-10T04:04:14.546170",
     "exception": false,
     "start_time": "2023-02-10T04:04:14.526113",
     "status": "completed"
    },
    "tags": []
   },
   "outputs": [],
   "source": [
    "def eval_model(model, data_loader, device):\n",
    "    model = model.eval()\n",
    "    correct = 0\n",
    "    total = 0\n",
    "    predictions =[]\n",
    "    with torch.no_grad():\n",
    "        for i, batch in enumerate(data_loader):\n",
    "          batch = tuple(t.to(device) for t in batch)\n",
    "          # Unpack the inputs from our dataloader\n",
    "          b_input_ids, b_input_mask, b_labels = batch\n",
    "          # Forward pass\n",
    "          outputs = model(b_input_ids, token_type_ids=None, attention_mask=b_input_mask)\n",
    "          # print (outputs)\n",
    "          prediction = torch.argmax(outputs[0],dim=1)\n",
    "          predictions = predictions + prediction.tolist()\n",
    "          total += b_labels.size(0)\n",
    "          correct+=(prediction==b_labels).sum().item()\n",
    "    return correct / total, f1_score(labels_val, predictions, average='macro')"
   ]
  },
  {
   "cell_type": "code",
   "execution_count": null,
   "id": "73748164",
   "metadata": {
    "papermill": {
     "duration": 0.009824,
     "end_time": "2023-02-10T04:04:14.566075",
     "exception": false,
     "start_time": "2023-02-10T04:04:14.556251",
     "status": "completed"
    },
    "tags": []
   },
   "outputs": [],
   "source": []
  },
  {
   "cell_type": "code",
   "execution_count": 31,
   "id": "6b5e8a53",
   "metadata": {
    "execution": {
     "iopub.execute_input": "2023-02-10T04:04:14.587713Z",
     "iopub.status.busy": "2023-02-10T04:04:14.587301Z",
     "iopub.status.idle": "2023-02-10T04:36:05.653333Z",
     "shell.execute_reply": "2023-02-10T04:36:05.652330Z"
    },
    "papermill": {
     "duration": 1911.080119,
     "end_time": "2023-02-10T04:36:05.656242",
     "exception": false,
     "start_time": "2023-02-10T04:04:14.576123",
     "status": "completed"
    },
    "tags": []
   },
   "outputs": [
    {
     "name": "stdout",
     "output_type": "stream",
     "text": [
      "Epoch 1/8\n",
      "----------\n",
      "Train loss: 0.26870704283413693\n",
      " Val accuracy 0.9412878787878788\n",
      " Val f1 0.912861394846533\n",
      "\n",
      "Epoch 2/8\n",
      "----------\n",
      "Train loss: 0.12264858845226241\n",
      " Val accuracy 0.9623917748917749\n",
      " Val f1 0.9447874854900892\n",
      "\n",
      "Epoch 3/8\n",
      "----------\n",
      "Train loss: 0.07523380705302589\n",
      " Val accuracy 0.963474025974026\n",
      " Val f1 0.9466152362914537\n",
      "\n",
      "Epoch 4/8\n",
      "----------\n",
      "Train loss: 0.05793131641903489\n",
      " Val accuracy 0.9680735930735931\n",
      " Val f1 0.9527241744876522\n",
      "\n",
      "Epoch 5/8\n",
      "----------\n",
      "Train loss: 0.04459053869646454\n",
      " Val accuracy 0.9702380952380952\n",
      " Val f1 0.9556037587419842\n",
      "\n",
      "Epoch 6/8\n",
      "----------\n",
      "Train loss: 0.03697225427178432\n",
      " Val accuracy 0.9696969696969697\n",
      " Val f1 0.9547545972036411\n",
      "\n",
      "Epoch 7/8\n",
      "----------\n",
      "Train loss: 0.03107659478505667\n",
      " Val accuracy 0.9732142857142857\n",
      " Val f1 0.9596487283202508\n",
      "\n",
      "Epoch 8/8\n",
      "----------\n",
      "Train loss: 0.030155058825959036\n",
      " Val accuracy 0.9678030303030303\n",
      " Val f1 0.9525182265327015\n",
      "\n",
      " F1 Validation 0.9525182265327015\n"
     ]
    }
   ],
   "source": [
    "best_accuracy = 0\n",
    "best_f1 = 0\n",
    "\n",
    "# trange is a tqdm wrapper around the normal python range\n",
    "for epoch in range(epochs):\n",
    "    print(f'Epoch {epoch + 1}/{epochs}')\n",
    "    print('-' * 10)\n",
    "    \n",
    "    train_epoch(\n",
    "        model,\n",
    "        train_dataloader,     \n",
    "        optimizer, \n",
    "        device, \n",
    "        scheduler\n",
    "    )\n",
    "    \n",
    "    val_acc, val_f1 = eval_model(\n",
    "        model,\n",
    "        val_dataloader, \n",
    "        device\n",
    "    )\n",
    "    \n",
    "    print(f' Val accuracy {val_acc}')\n",
    "    print(f' Val f1 {val_f1}')\n",
    "    print()\n",
    "    if val_f1 > best_f1:\n",
    "        torch.save(model.state_dict(), '/kaggle/working/airy_post_airy_rest.ckpt')\n",
    "        best_f1 = val_f1\n",
    "\n",
    "print(f' F1 Validation {val_f1}')\n",
    "  "
   ]
  }
 ],
 "metadata": {
  "kernelspec": {
   "display_name": "Python 3",
   "language": "python",
   "name": "python3"
  },
  "language_info": {
   "codemirror_mode": {
    "name": "ipython",
    "version": 3
   },
   "file_extension": ".py",
   "mimetype": "text/x-python",
   "name": "python",
   "nbconvert_exporter": "python",
   "pygments_lexer": "ipython3",
   "version": "3.7.12"
  },
  "papermill": {
   "default_parameters": {},
   "duration": 1989.187954,
   "end_time": "2023-02-10T04:36:08.821401",
   "environment_variables": {},
   "exception": null,
   "input_path": "__notebook__.ipynb",
   "output_path": "__notebook__.ipynb",
   "parameters": {},
   "start_time": "2023-02-10T04:02:59.633447",
   "version": "2.3.4"
  },
  "widgets": {
   "application/vnd.jupyter.widget-state+json": {
    "state": {
     "043463601bcb491db5b13d0337230472": {
      "model_module": "@jupyter-widgets/controls",
      "model_module_version": "1.5.0",
      "model_name": "HTMLModel",
      "state": {
       "_dom_classes": [],
       "_model_module": "@jupyter-widgets/controls",
       "_model_module_version": "1.5.0",
       "_model_name": "HTMLModel",
       "_view_count": null,
       "_view_module": "@jupyter-widgets/controls",
       "_view_module_version": "1.5.0",
       "_view_name": "HTMLView",
       "description": "",
       "description_tooltip": null,
       "layout": "IPY_MODEL_3a660982344d4c70bfd03d19b7ffd7e4",
       "placeholder": "​",
       "style": "IPY_MODEL_930c318939f0495aaf433bc22383ba79",
       "value": " 290/290 [00:00&lt;00:00, 9.94kB/s]"
      }
     },
     "0ae4728482bc4f0aacc7b5a8d87520e7": {
      "model_module": "@jupyter-widgets/base",
      "model_module_version": "1.2.0",
      "model_name": "LayoutModel",
      "state": {
       "_model_module": "@jupyter-widgets/base",
       "_model_module_version": "1.2.0",
       "_model_name": "LayoutModel",
       "_view_count": null,
       "_view_module": "@jupyter-widgets/base",
       "_view_module_version": "1.2.0",
       "_view_name": "LayoutView",
       "align_content": null,
       "align_items": null,
       "align_self": null,
       "border": null,
       "bottom": null,
       "display": null,
       "flex": null,
       "flex_flow": null,
       "grid_area": null,
       "grid_auto_columns": null,
       "grid_auto_flow": null,
       "grid_auto_rows": null,
       "grid_column": null,
       "grid_gap": null,
       "grid_row": null,
       "grid_template_areas": null,
       "grid_template_columns": null,
       "grid_template_rows": null,
       "height": null,
       "justify_content": null,
       "justify_items": null,
       "left": null,
       "margin": null,
       "max_height": null,
       "max_width": null,
       "min_height": null,
       "min_width": null,
       "object_fit": null,
       "object_position": null,
       "order": null,
       "overflow": null,
       "overflow_x": null,
       "overflow_y": null,
       "padding": null,
       "right": null,
       "top": null,
       "visibility": null,
       "width": null
      }
     },
     "1b64690c2f524faa9edae16325bc6446": {
      "model_module": "@jupyter-widgets/controls",
      "model_module_version": "1.5.0",
      "model_name": "FloatProgressModel",
      "state": {
       "_dom_classes": [],
       "_model_module": "@jupyter-widgets/controls",
       "_model_module_version": "1.5.0",
       "_model_name": "FloatProgressModel",
       "_view_count": null,
       "_view_module": "@jupyter-widgets/controls",
       "_view_module_version": "1.5.0",
       "_view_name": "ProgressView",
       "bar_style": "success",
       "description": "",
       "description_tooltip": null,
       "layout": "IPY_MODEL_c76cd3a35c554b2cbeed467c0721ec02",
       "max": 443.0,
       "min": 0.0,
       "orientation": "horizontal",
       "style": "IPY_MODEL_7bcd2b12dec342c0bb180bc57734f132",
       "value": 443.0
      }
     },
     "33027fcd10fd4980b7fde8610e7bb545": {
      "model_module": "@jupyter-widgets/controls",
      "model_module_version": "1.5.0",
      "model_name": "DescriptionStyleModel",
      "state": {
       "_model_module": "@jupyter-widgets/controls",
       "_model_module_version": "1.5.0",
       "_model_name": "DescriptionStyleModel",
       "_view_count": null,
       "_view_module": "@jupyter-widgets/base",
       "_view_module_version": "1.2.0",
       "_view_name": "StyleView",
       "description_width": ""
      }
     },
     "3a660982344d4c70bfd03d19b7ffd7e4": {
      "model_module": "@jupyter-widgets/base",
      "model_module_version": "1.2.0",
      "model_name": "LayoutModel",
      "state": {
       "_model_module": "@jupyter-widgets/base",
       "_model_module_version": "1.2.0",
       "_model_name": "LayoutModel",
       "_view_count": null,
       "_view_module": "@jupyter-widgets/base",
       "_view_module_version": "1.2.0",
       "_view_name": "LayoutView",
       "align_content": null,
       "align_items": null,
       "align_self": null,
       "border": null,
       "bottom": null,
       "display": null,
       "flex": null,
       "flex_flow": null,
       "grid_area": null,
       "grid_auto_columns": null,
       "grid_auto_flow": null,
       "grid_auto_rows": null,
       "grid_column": null,
       "grid_gap": null,
       "grid_row": null,
       "grid_template_areas": null,
       "grid_template_columns": null,
       "grid_template_rows": null,
       "height": null,
       "justify_content": null,
       "justify_items": null,
       "left": null,
       "margin": null,
       "max_height": null,
       "max_width": null,
       "min_height": null,
       "min_width": null,
       "object_fit": null,
       "object_position": null,
       "order": null,
       "overflow": null,
       "overflow_x": null,
       "overflow_y": null,
       "padding": null,
       "right": null,
       "top": null,
       "visibility": null,
       "width": null
      }
     },
     "3ae89a98dd7d418bb39585d7e48cc056": {
      "model_module": "@jupyter-widgets/base",
      "model_module_version": "1.2.0",
      "model_name": "LayoutModel",
      "state": {
       "_model_module": "@jupyter-widgets/base",
       "_model_module_version": "1.2.0",
       "_model_name": "LayoutModel",
       "_view_count": null,
       "_view_module": "@jupyter-widgets/base",
       "_view_module_version": "1.2.0",
       "_view_name": "LayoutView",
       "align_content": null,
       "align_items": null,
       "align_self": null,
       "border": null,
       "bottom": null,
       "display": null,
       "flex": null,
       "flex_flow": null,
       "grid_area": null,
       "grid_auto_columns": null,
       "grid_auto_flow": null,
       "grid_auto_rows": null,
       "grid_column": null,
       "grid_gap": null,
       "grid_row": null,
       "grid_template_areas": null,
       "grid_template_columns": null,
       "grid_template_rows": null,
       "height": null,
       "justify_content": null,
       "justify_items": null,
       "left": null,
       "margin": null,
       "max_height": null,
       "max_width": null,
       "min_height": null,
       "min_width": null,
       "object_fit": null,
       "object_position": null,
       "order": null,
       "overflow": null,
       "overflow_x": null,
       "overflow_y": null,
       "padding": null,
       "right": null,
       "top": null,
       "visibility": null,
       "width": null
      }
     },
     "415cde004daf4e1fbd1537e8221ea144": {
      "model_module": "@jupyter-widgets/controls",
      "model_module_version": "1.5.0",
      "model_name": "FloatProgressModel",
      "state": {
       "_dom_classes": [],
       "_model_module": "@jupyter-widgets/controls",
       "_model_module_version": "1.5.0",
       "_model_name": "FloatProgressModel",
       "_view_count": null,
       "_view_module": "@jupyter-widgets/controls",
       "_view_module_version": "1.5.0",
       "_view_name": "ProgressView",
       "bar_style": "success",
       "description": "",
       "description_tooltip": null,
       "layout": "IPY_MODEL_cb0a746052764d4a9a3178f355995aeb",
       "max": 290.0,
       "min": 0.0,
       "orientation": "horizontal",
       "style": "IPY_MODEL_a3564c03892848e091075087f1d45caa",
       "value": 290.0
      }
     },
     "47a2c5c7372c4dfe9e94462a8727311f": {
      "model_module": "@jupyter-widgets/controls",
      "model_module_version": "1.5.0",
      "model_name": "HTMLModel",
      "state": {
       "_dom_classes": [],
       "_model_module": "@jupyter-widgets/controls",
       "_model_module_version": "1.5.0",
       "_model_name": "HTMLModel",
       "_view_count": null,
       "_view_module": "@jupyter-widgets/controls",
       "_view_module_version": "1.5.0",
       "_view_name": "HTMLView",
       "description": "",
       "description_tooltip": null,
       "layout": "IPY_MODEL_b342db2206cb46248054202fd2c7e9c1",
       "placeholder": "​",
       "style": "IPY_MODEL_85fd2d2cef284fc5b564f1f734d36146",
       "value": " 760k/760k [00:00&lt;00:00, 1.82MB/s]"
      }
     },
     "68b7d74e23824665ade94c80a488f22c": {
      "model_module": "@jupyter-widgets/controls",
      "model_module_version": "1.5.0",
      "model_name": "DescriptionStyleModel",
      "state": {
       "_model_module": "@jupyter-widgets/controls",
       "_model_module_version": "1.5.0",
       "_model_name": "DescriptionStyleModel",
       "_view_count": null,
       "_view_module": "@jupyter-widgets/base",
       "_view_module_version": "1.2.0",
       "_view_name": "StyleView",
       "description_width": ""
      }
     },
     "74bcd555017e4999a13a49af4a13cb5e": {
      "model_module": "@jupyter-widgets/controls",
      "model_module_version": "1.5.0",
      "model_name": "HBoxModel",
      "state": {
       "_dom_classes": [],
       "_model_module": "@jupyter-widgets/controls",
       "_model_module_version": "1.5.0",
       "_model_name": "HBoxModel",
       "_view_count": null,
       "_view_module": "@jupyter-widgets/controls",
       "_view_module_version": "1.5.0",
       "_view_name": "HBoxView",
       "box_style": "",
       "children": [
        "IPY_MODEL_f03b97a6edaf40628b91e92c0e2ed213",
        "IPY_MODEL_415cde004daf4e1fbd1537e8221ea144",
        "IPY_MODEL_043463601bcb491db5b13d0337230472"
       ],
       "layout": "IPY_MODEL_3ae89a98dd7d418bb39585d7e48cc056"
      }
     },
     "796d7e52720f47a0abea1da003b0bff5": {
      "model_module": "@jupyter-widgets/base",
      "model_module_version": "1.2.0",
      "model_name": "LayoutModel",
      "state": {
       "_model_module": "@jupyter-widgets/base",
       "_model_module_version": "1.2.0",
       "_model_name": "LayoutModel",
       "_view_count": null,
       "_view_module": "@jupyter-widgets/base",
       "_view_module_version": "1.2.0",
       "_view_name": "LayoutView",
       "align_content": null,
       "align_items": null,
       "align_self": null,
       "border": null,
       "bottom": null,
       "display": null,
       "flex": null,
       "flex_flow": null,
       "grid_area": null,
       "grid_auto_columns": null,
       "grid_auto_flow": null,
       "grid_auto_rows": null,
       "grid_column": null,
       "grid_gap": null,
       "grid_row": null,
       "grid_template_areas": null,
       "grid_template_columns": null,
       "grid_template_rows": null,
       "height": null,
       "justify_content": null,
       "justify_items": null,
       "left": null,
       "margin": null,
       "max_height": null,
       "max_width": null,
       "min_height": null,
       "min_width": null,
       "object_fit": null,
       "object_position": null,
       "order": null,
       "overflow": null,
       "overflow_x": null,
       "overflow_y": null,
       "padding": null,
       "right": null,
       "top": null,
       "visibility": null,
       "width": null
      }
     },
     "7bcd2b12dec342c0bb180bc57734f132": {
      "model_module": "@jupyter-widgets/controls",
      "model_module_version": "1.5.0",
      "model_name": "ProgressStyleModel",
      "state": {
       "_model_module": "@jupyter-widgets/controls",
       "_model_module_version": "1.5.0",
       "_model_name": "ProgressStyleModel",
       "_view_count": null,
       "_view_module": "@jupyter-widgets/base",
       "_view_module_version": "1.2.0",
       "_view_name": "StyleView",
       "bar_color": null,
       "description_width": ""
      }
     },
     "85fd2d2cef284fc5b564f1f734d36146": {
      "model_module": "@jupyter-widgets/controls",
      "model_module_version": "1.5.0",
      "model_name": "DescriptionStyleModel",
      "state": {
       "_model_module": "@jupyter-widgets/controls",
       "_model_module_version": "1.5.0",
       "_model_name": "DescriptionStyleModel",
       "_view_count": null,
       "_view_module": "@jupyter-widgets/base",
       "_view_module_version": "1.2.0",
       "_view_name": "StyleView",
       "description_width": ""
      }
     },
     "930c318939f0495aaf433bc22383ba79": {
      "model_module": "@jupyter-widgets/controls",
      "model_module_version": "1.5.0",
      "model_name": "DescriptionStyleModel",
      "state": {
       "_model_module": "@jupyter-widgets/controls",
       "_model_module_version": "1.5.0",
       "_model_name": "DescriptionStyleModel",
       "_view_count": null,
       "_view_module": "@jupyter-widgets/base",
       "_view_module_version": "1.2.0",
       "_view_name": "StyleView",
       "description_width": ""
      }
     },
     "a3564c03892848e091075087f1d45caa": {
      "model_module": "@jupyter-widgets/controls",
      "model_module_version": "1.5.0",
      "model_name": "ProgressStyleModel",
      "state": {
       "_model_module": "@jupyter-widgets/controls",
       "_model_module_version": "1.5.0",
       "_model_name": "ProgressStyleModel",
       "_view_count": null,
       "_view_module": "@jupyter-widgets/base",
       "_view_module_version": "1.2.0",
       "_view_name": "StyleView",
       "bar_color": null,
       "description_width": ""
      }
     },
     "a4b6f513666348f2a46577c3d7727164": {
      "model_module": "@jupyter-widgets/controls",
      "model_module_version": "1.5.0",
      "model_name": "HTMLModel",
      "state": {
       "_dom_classes": [],
       "_model_module": "@jupyter-widgets/controls",
       "_model_module_version": "1.5.0",
       "_model_name": "HTMLModel",
       "_view_count": null,
       "_view_module": "@jupyter-widgets/controls",
       "_view_module_version": "1.5.0",
       "_view_name": "HTMLView",
       "description": "",
       "description_tooltip": null,
       "layout": "IPY_MODEL_0ae4728482bc4f0aacc7b5a8d87520e7",
       "placeholder": "​",
       "style": "IPY_MODEL_33027fcd10fd4980b7fde8610e7bb545",
       "value": "Downloading: 100%"
      }
     },
     "a658b8ceeee3427292e8586bbdc0d24a": {
      "model_module": "@jupyter-widgets/controls",
      "model_module_version": "1.5.0",
      "model_name": "DescriptionStyleModel",
      "state": {
       "_model_module": "@jupyter-widgets/controls",
       "_model_module_version": "1.5.0",
       "_model_name": "DescriptionStyleModel",
       "_view_count": null,
       "_view_module": "@jupyter-widgets/base",
       "_view_module_version": "1.2.0",
       "_view_name": "StyleView",
       "description_width": ""
      }
     },
     "a681e3c024b84beaa0623cb755dd7844": {
      "model_module": "@jupyter-widgets/base",
      "model_module_version": "1.2.0",
      "model_name": "LayoutModel",
      "state": {
       "_model_module": "@jupyter-widgets/base",
       "_model_module_version": "1.2.0",
       "_model_name": "LayoutModel",
       "_view_count": null,
       "_view_module": "@jupyter-widgets/base",
       "_view_module_version": "1.2.0",
       "_view_name": "LayoutView",
       "align_content": null,
       "align_items": null,
       "align_self": null,
       "border": null,
       "bottom": null,
       "display": null,
       "flex": null,
       "flex_flow": null,
       "grid_area": null,
       "grid_auto_columns": null,
       "grid_auto_flow": null,
       "grid_auto_rows": null,
       "grid_column": null,
       "grid_gap": null,
       "grid_row": null,
       "grid_template_areas": null,
       "grid_template_columns": null,
       "grid_template_rows": null,
       "height": null,
       "justify_content": null,
       "justify_items": null,
       "left": null,
       "margin": null,
       "max_height": null,
       "max_width": null,
       "min_height": null,
       "min_width": null,
       "object_fit": null,
       "object_position": null,
       "order": null,
       "overflow": null,
       "overflow_x": null,
       "overflow_y": null,
       "padding": null,
       "right": null,
       "top": null,
       "visibility": null,
       "width": null
      }
     },
     "a9497e852d4b445fabe16c00bd65e6bc": {
      "model_module": "@jupyter-widgets/base",
      "model_module_version": "1.2.0",
      "model_name": "LayoutModel",
      "state": {
       "_model_module": "@jupyter-widgets/base",
       "_model_module_version": "1.2.0",
       "_model_name": "LayoutModel",
       "_view_count": null,
       "_view_module": "@jupyter-widgets/base",
       "_view_module_version": "1.2.0",
       "_view_name": "LayoutView",
       "align_content": null,
       "align_items": null,
       "align_self": null,
       "border": null,
       "bottom": null,
       "display": null,
       "flex": null,
       "flex_flow": null,
       "grid_area": null,
       "grid_auto_columns": null,
       "grid_auto_flow": null,
       "grid_auto_rows": null,
       "grid_column": null,
       "grid_gap": null,
       "grid_row": null,
       "grid_template_areas": null,
       "grid_template_columns": null,
       "grid_template_rows": null,
       "height": null,
       "justify_content": null,
       "justify_items": null,
       "left": null,
       "margin": null,
       "max_height": null,
       "max_width": null,
       "min_height": null,
       "min_width": null,
       "object_fit": null,
       "object_position": null,
       "order": null,
       "overflow": null,
       "overflow_x": null,
       "overflow_y": null,
       "padding": null,
       "right": null,
       "top": null,
       "visibility": null,
       "width": null
      }
     },
     "b342db2206cb46248054202fd2c7e9c1": {
      "model_module": "@jupyter-widgets/base",
      "model_module_version": "1.2.0",
      "model_name": "LayoutModel",
      "state": {
       "_model_module": "@jupyter-widgets/base",
       "_model_module_version": "1.2.0",
       "_model_name": "LayoutModel",
       "_view_count": null,
       "_view_module": "@jupyter-widgets/base",
       "_view_module_version": "1.2.0",
       "_view_name": "LayoutView",
       "align_content": null,
       "align_items": null,
       "align_self": null,
       "border": null,
       "bottom": null,
       "display": null,
       "flex": null,
       "flex_flow": null,
       "grid_area": null,
       "grid_auto_columns": null,
       "grid_auto_flow": null,
       "grid_auto_rows": null,
       "grid_column": null,
       "grid_gap": null,
       "grid_row": null,
       "grid_template_areas": null,
       "grid_template_columns": null,
       "grid_template_rows": null,
       "height": null,
       "justify_content": null,
       "justify_items": null,
       "left": null,
       "margin": null,
       "max_height": null,
       "max_width": null,
       "min_height": null,
       "min_width": null,
       "object_fit": null,
       "object_position": null,
       "order": null,
       "overflow": null,
       "overflow_x": null,
       "overflow_y": null,
       "padding": null,
       "right": null,
       "top": null,
       "visibility": null,
       "width": null
      }
     },
     "b855d0c64c964ec6b8ccfe2c22b88eb8": {
      "model_module": "@jupyter-widgets/controls",
      "model_module_version": "1.5.0",
      "model_name": "HTMLModel",
      "state": {
       "_dom_classes": [],
       "_model_module": "@jupyter-widgets/controls",
       "_model_module_version": "1.5.0",
       "_model_name": "HTMLModel",
       "_view_count": null,
       "_view_module": "@jupyter-widgets/controls",
       "_view_module_version": "1.5.0",
       "_view_name": "HTMLView",
       "description": "",
       "description_tooltip": null,
       "layout": "IPY_MODEL_d5caf7b87b1b4d4cbb73937001c66216",
       "placeholder": "​",
       "style": "IPY_MODEL_d230b35b3b154d8fba10d780b9874851",
       "value": " 443/443 [00:00&lt;00:00, 16.4kB/s]"
      }
     },
     "bdb081f1138549b9af1cacf5ffa79c2e": {
      "model_module": "@jupyter-widgets/controls",
      "model_module_version": "1.5.0",
      "model_name": "HBoxModel",
      "state": {
       "_dom_classes": [],
       "_model_module": "@jupyter-widgets/controls",
       "_model_module_version": "1.5.0",
       "_model_name": "HBoxModel",
       "_view_count": null,
       "_view_module": "@jupyter-widgets/controls",
       "_view_module_version": "1.5.0",
       "_view_name": "HBoxView",
       "box_style": "",
       "children": [
        "IPY_MODEL_a4b6f513666348f2a46577c3d7727164",
        "IPY_MODEL_fe14e0144cda4235a41ce908b74d6692",
        "IPY_MODEL_47a2c5c7372c4dfe9e94462a8727311f"
       ],
       "layout": "IPY_MODEL_a681e3c024b84beaa0623cb755dd7844"
      }
     },
     "c76cd3a35c554b2cbeed467c0721ec02": {
      "model_module": "@jupyter-widgets/base",
      "model_module_version": "1.2.0",
      "model_name": "LayoutModel",
      "state": {
       "_model_module": "@jupyter-widgets/base",
       "_model_module_version": "1.2.0",
       "_model_name": "LayoutModel",
       "_view_count": null,
       "_view_module": "@jupyter-widgets/base",
       "_view_module_version": "1.2.0",
       "_view_name": "LayoutView",
       "align_content": null,
       "align_items": null,
       "align_self": null,
       "border": null,
       "bottom": null,
       "display": null,
       "flex": null,
       "flex_flow": null,
       "grid_area": null,
       "grid_auto_columns": null,
       "grid_auto_flow": null,
       "grid_auto_rows": null,
       "grid_column": null,
       "grid_gap": null,
       "grid_row": null,
       "grid_template_areas": null,
       "grid_template_columns": null,
       "grid_template_rows": null,
       "height": null,
       "justify_content": null,
       "justify_items": null,
       "left": null,
       "margin": null,
       "max_height": null,
       "max_width": null,
       "min_height": null,
       "min_width": null,
       "object_fit": null,
       "object_position": null,
       "order": null,
       "overflow": null,
       "overflow_x": null,
       "overflow_y": null,
       "padding": null,
       "right": null,
       "top": null,
       "visibility": null,
       "width": null
      }
     },
     "caf1b156906140338bb0034d4db80cdd": {
      "model_module": "@jupyter-widgets/base",
      "model_module_version": "1.2.0",
      "model_name": "LayoutModel",
      "state": {
       "_model_module": "@jupyter-widgets/base",
       "_model_module_version": "1.2.0",
       "_model_name": "LayoutModel",
       "_view_count": null,
       "_view_module": "@jupyter-widgets/base",
       "_view_module_version": "1.2.0",
       "_view_name": "LayoutView",
       "align_content": null,
       "align_items": null,
       "align_self": null,
       "border": null,
       "bottom": null,
       "display": null,
       "flex": null,
       "flex_flow": null,
       "grid_area": null,
       "grid_auto_columns": null,
       "grid_auto_flow": null,
       "grid_auto_rows": null,
       "grid_column": null,
       "grid_gap": null,
       "grid_row": null,
       "grid_template_areas": null,
       "grid_template_columns": null,
       "grid_template_rows": null,
       "height": null,
       "justify_content": null,
       "justify_items": null,
       "left": null,
       "margin": null,
       "max_height": null,
       "max_width": null,
       "min_height": null,
       "min_width": null,
       "object_fit": null,
       "object_position": null,
       "order": null,
       "overflow": null,
       "overflow_x": null,
       "overflow_y": null,
       "padding": null,
       "right": null,
       "top": null,
       "visibility": null,
       "width": null
      }
     },
     "cb0a746052764d4a9a3178f355995aeb": {
      "model_module": "@jupyter-widgets/base",
      "model_module_version": "1.2.0",
      "model_name": "LayoutModel",
      "state": {
       "_model_module": "@jupyter-widgets/base",
       "_model_module_version": "1.2.0",
       "_model_name": "LayoutModel",
       "_view_count": null,
       "_view_module": "@jupyter-widgets/base",
       "_view_module_version": "1.2.0",
       "_view_name": "LayoutView",
       "align_content": null,
       "align_items": null,
       "align_self": null,
       "border": null,
       "bottom": null,
       "display": null,
       "flex": null,
       "flex_flow": null,
       "grid_area": null,
       "grid_auto_columns": null,
       "grid_auto_flow": null,
       "grid_auto_rows": null,
       "grid_column": null,
       "grid_gap": null,
       "grid_row": null,
       "grid_template_areas": null,
       "grid_template_columns": null,
       "grid_template_rows": null,
       "height": null,
       "justify_content": null,
       "justify_items": null,
       "left": null,
       "margin": null,
       "max_height": null,
       "max_width": null,
       "min_height": null,
       "min_width": null,
       "object_fit": null,
       "object_position": null,
       "order": null,
       "overflow": null,
       "overflow_x": null,
       "overflow_y": null,
       "padding": null,
       "right": null,
       "top": null,
       "visibility": null,
       "width": null
      }
     },
     "d230b35b3b154d8fba10d780b9874851": {
      "model_module": "@jupyter-widgets/controls",
      "model_module_version": "1.5.0",
      "model_name": "DescriptionStyleModel",
      "state": {
       "_model_module": "@jupyter-widgets/controls",
       "_model_module_version": "1.5.0",
       "_model_name": "DescriptionStyleModel",
       "_view_count": null,
       "_view_module": "@jupyter-widgets/base",
       "_view_module_version": "1.2.0",
       "_view_name": "StyleView",
       "description_width": ""
      }
     },
     "d5caf7b87b1b4d4cbb73937001c66216": {
      "model_module": "@jupyter-widgets/base",
      "model_module_version": "1.2.0",
      "model_name": "LayoutModel",
      "state": {
       "_model_module": "@jupyter-widgets/base",
       "_model_module_version": "1.2.0",
       "_model_name": "LayoutModel",
       "_view_count": null,
       "_view_module": "@jupyter-widgets/base",
       "_view_module_version": "1.2.0",
       "_view_name": "LayoutView",
       "align_content": null,
       "align_items": null,
       "align_self": null,
       "border": null,
       "bottom": null,
       "display": null,
       "flex": null,
       "flex_flow": null,
       "grid_area": null,
       "grid_auto_columns": null,
       "grid_auto_flow": null,
       "grid_auto_rows": null,
       "grid_column": null,
       "grid_gap": null,
       "grid_row": null,
       "grid_template_areas": null,
       "grid_template_columns": null,
       "grid_template_rows": null,
       "height": null,
       "justify_content": null,
       "justify_items": null,
       "left": null,
       "margin": null,
       "max_height": null,
       "max_width": null,
       "min_height": null,
       "min_width": null,
       "object_fit": null,
       "object_position": null,
       "order": null,
       "overflow": null,
       "overflow_x": null,
       "overflow_y": null,
       "padding": null,
       "right": null,
       "top": null,
       "visibility": null,
       "width": null
      }
     },
     "da177951f5d94f1ebdd10ab53673321d": {
      "model_module": "@jupyter-widgets/base",
      "model_module_version": "1.2.0",
      "model_name": "LayoutModel",
      "state": {
       "_model_module": "@jupyter-widgets/base",
       "_model_module_version": "1.2.0",
       "_model_name": "LayoutModel",
       "_view_count": null,
       "_view_module": "@jupyter-widgets/base",
       "_view_module_version": "1.2.0",
       "_view_name": "LayoutView",
       "align_content": null,
       "align_items": null,
       "align_self": null,
       "border": null,
       "bottom": null,
       "display": null,
       "flex": null,
       "flex_flow": null,
       "grid_area": null,
       "grid_auto_columns": null,
       "grid_auto_flow": null,
       "grid_auto_rows": null,
       "grid_column": null,
       "grid_gap": null,
       "grid_row": null,
       "grid_template_areas": null,
       "grid_template_columns": null,
       "grid_template_rows": null,
       "height": null,
       "justify_content": null,
       "justify_items": null,
       "left": null,
       "margin": null,
       "max_height": null,
       "max_width": null,
       "min_height": null,
       "min_width": null,
       "object_fit": null,
       "object_position": null,
       "order": null,
       "overflow": null,
       "overflow_x": null,
       "overflow_y": null,
       "padding": null,
       "right": null,
       "top": null,
       "visibility": null,
       "width": null
      }
     },
     "e56019b3a26247e29faf0b91afe61d1b": {
      "model_module": "@jupyter-widgets/controls",
      "model_module_version": "1.5.0",
      "model_name": "HBoxModel",
      "state": {
       "_dom_classes": [],
       "_model_module": "@jupyter-widgets/controls",
       "_model_module_version": "1.5.0",
       "_model_name": "HBoxModel",
       "_view_count": null,
       "_view_module": "@jupyter-widgets/controls",
       "_view_module_version": "1.5.0",
       "_view_name": "HBoxView",
       "box_style": "",
       "children": [
        "IPY_MODEL_fd7b2530d24d4cd3b1dcb887b7d17cb9",
        "IPY_MODEL_1b64690c2f524faa9edae16325bc6446",
        "IPY_MODEL_b855d0c64c964ec6b8ccfe2c22b88eb8"
       ],
       "layout": "IPY_MODEL_a9497e852d4b445fabe16c00bd65e6bc"
      }
     },
     "e6ffa1ff4829467e9d2a779af849d28a": {
      "model_module": "@jupyter-widgets/controls",
      "model_module_version": "1.5.0",
      "model_name": "ProgressStyleModel",
      "state": {
       "_model_module": "@jupyter-widgets/controls",
       "_model_module_version": "1.5.0",
       "_model_name": "ProgressStyleModel",
       "_view_count": null,
       "_view_module": "@jupyter-widgets/base",
       "_view_module_version": "1.2.0",
       "_view_name": "StyleView",
       "bar_color": null,
       "description_width": ""
      }
     },
     "f03b97a6edaf40628b91e92c0e2ed213": {
      "model_module": "@jupyter-widgets/controls",
      "model_module_version": "1.5.0",
      "model_name": "HTMLModel",
      "state": {
       "_dom_classes": [],
       "_model_module": "@jupyter-widgets/controls",
       "_model_module_version": "1.5.0",
       "_model_name": "HTMLModel",
       "_view_count": null,
       "_view_module": "@jupyter-widgets/controls",
       "_view_module_version": "1.5.0",
       "_view_name": "HTMLView",
       "description": "",
       "description_tooltip": null,
       "layout": "IPY_MODEL_caf1b156906140338bb0034d4db80cdd",
       "placeholder": "​",
       "style": "IPY_MODEL_a658b8ceeee3427292e8586bbdc0d24a",
       "value": "Downloading: 100%"
      }
     },
     "fd7b2530d24d4cd3b1dcb887b7d17cb9": {
      "model_module": "@jupyter-widgets/controls",
      "model_module_version": "1.5.0",
      "model_name": "HTMLModel",
      "state": {
       "_dom_classes": [],
       "_model_module": "@jupyter-widgets/controls",
       "_model_module_version": "1.5.0",
       "_model_name": "HTMLModel",
       "_view_count": null,
       "_view_module": "@jupyter-widgets/controls",
       "_view_module_version": "1.5.0",
       "_view_name": "HTMLView",
       "description": "",
       "description_tooltip": null,
       "layout": "IPY_MODEL_da177951f5d94f1ebdd10ab53673321d",
       "placeholder": "​",
       "style": "IPY_MODEL_68b7d74e23824665ade94c80a488f22c",
       "value": "Downloading: 100%"
      }
     },
     "fe14e0144cda4235a41ce908b74d6692": {
      "model_module": "@jupyter-widgets/controls",
      "model_module_version": "1.5.0",
      "model_name": "FloatProgressModel",
      "state": {
       "_dom_classes": [],
       "_model_module": "@jupyter-widgets/controls",
       "_model_module_version": "1.5.0",
       "_model_name": "FloatProgressModel",
       "_view_count": null,
       "_view_module": "@jupyter-widgets/controls",
       "_view_module_version": "1.5.0",
       "_view_name": "ProgressView",
       "bar_style": "success",
       "description": "",
       "description_tooltip": null,
       "layout": "IPY_MODEL_796d7e52720f47a0abea1da003b0bff5",
       "max": 778744.0,
       "min": 0.0,
       "orientation": "horizontal",
       "style": "IPY_MODEL_e6ffa1ff4829467e9d2a779af849d28a",
       "value": 778744.0
      }
     }
    },
    "version_major": 2,
    "version_minor": 0
   }
  }
 },
 "nbformat": 4,
 "nbformat_minor": 5
}
